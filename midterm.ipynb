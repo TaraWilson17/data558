{
 "cells": [
  {
   "cell_type": "markdown",
   "metadata": {},
   "source": [
    "## <center> Take-home Midterm </center>\n",
    "<center> Tara Wilson </center>\n",
    "<center> DATA 558 </center>\n",
    "<center> May 9, 2019 </center>"
   ]
  },
  {
   "cell_type": "code",
   "execution_count": 20,
   "metadata": {},
   "outputs": [],
   "source": [
    "# imports\n",
    "import math\n",
    "import pandas as pd\n",
    "import numpy as np\n",
    "import matplotlib.pyplot as plt\n",
    "from sklearn import preprocessing\n",
    "from scipy.linalg import eigh\n",
    "from sklearn.linear_model import LogisticRegression\n",
    "from sklearn.model_selection import train_test_split\n",
    "import warnings\n",
    "import copy \n",
    "import os\n",
    "warnings.filterwarnings('ignore')"
   ]
  },
  {
   "cell_type": "markdown",
   "metadata": {},
   "source": [
    "### Exercise 1"
   ]
  },
  {
   "cell_type": "markdown",
   "metadata": {},
   "source": [
    "**In this exercise, you will implement in Python a first version of your own $l_2^2$-regularized binary logistic regression with ρ-logistic loss. You will write your own codes for all functions: accelerated gradient algorithm,  $l_2^2$-regularized binary logistic regression with ρ-logistic loss, leave-one-out cross-validation, and hold-out cross-validation.The  $l_2^2$-regularized binary logistic regression with ρ-logistic loss is a supervised binary classification method, similar to  $l_2^2$-regularized binary logistic regression.**\n",
    "\n",
    "$min F(\\beta) := \\frac{1}{n} \\sum_{i=1}^{n} \\frac{1}{\\rho} log(1 + exp(-\\rho y_ix_i^T\\beta)) +  \\lambda ||\\beta||_2^2$  \n",
    "\n",
    "**You know now by heart the accelerated gradient algorithm, so no need to recall it here.**"
   ]
  },
  {
   "cell_type": "markdown",
   "metadata": {},
   "source": [
    "**Compute the gradient $\\nabla F(\\beta)$ of $F$.**"
   ]
  },
  {
   "cell_type": "markdown",
   "metadata": {},
   "source": [
    "To calculate the gradient we will take the derivative of $F$ with respect to $\\beta$,   \n",
    "$F'(\\beta) := \\frac{\\partial}{\\partial \\beta} \\frac{1}{n} \\sum_{i=1}^{n} \\frac{1}{\\rho} log(1 + exp(-\\rho y_ix_i^T\\beta)) + \\frac{\\partial}{\\partial \\beta} \\lambda ||\\beta||_2^2$\n",
    "\n",
    "Since the $\\frac{1}{n} \\sum_{i=1}^{n} \\frac{1}{\\rho}$ terms are constants in terms of the derivative we can rearrange:  \n",
    "$F'(\\beta) := \\frac{1}{n} \\sum_{i=1}^{n} \\frac{1}{\\rho} \\frac{\\partial}{\\partial \\beta} log(1 + exp(-\\rho y_ix_i^T\\beta)) + \\frac{\\partial}{\\partial \\beta} \\lambda ||\\beta||_2^2$\n",
    "\n",
    "I will start by breaking the derivitive into 2 sections:  \n",
    "$h'(\\beta) = \\frac{\\partial}{\\partial \\beta}  \\frac{1}{\\rho} log(1 + exp(-\\rho y_ix_i^T\\beta))$  \n",
    "$g'(\\beta) = \\frac{\\partial}{\\partial \\beta} \\lambda ||\\beta||_2^2$   \n",
    "\n",
    "---\n",
    "\n",
    "We will start again with the derivative of h where we will need to apply the chain rule where $h(\\beta) = f(m(j(\\beta)))$: \n",
    "In our case, $f = log(...)$, $m = 1 + exp(...)$, and $j = -\\rho y_i x_i^T\\beta$ and we want to solve for $j(x)*m'(j(x))*f'(m(j(x))$.  \n",
    "\n",
    "Starting with $j(x)$ and pulling out the terms that are constants ($\\rho y$) with respect to $\\beta$ and then applying the fact that $\\frac{\\partial}{\\partial x} (a^Tx) = a$:  \n",
    "$j'(\\beta) = \\frac{\\partial}{\\partial \\beta} -\\rho y_i x_i^T\\beta = -\\rho y_ix_i$  \n",
    "\n",
    "Now for $m'(j(x))$:  \n",
    "$m'(j(\\beta)) = \\frac{\\partial}{\\partial \\beta} 1 + \\exp(-\\rho y_ix_i^T\\beta) = exp(-\\rho y_i x_i^T\\beta)$\n",
    "\n",
    "For the last term $f'(m(j(x))$ we have:  \n",
    "$f'(m(j(\\beta) = \\frac{\\partial}{\\partial \\beta} \\log(1 + \\exp(-\\rho y_i x_i^T\\beta)) = \\frac{1}{1+\\exp(-\\rho y_ix_i^T\\beta)}$  \n",
    "\n",
    "Putting this all back together we have the derivative of the first term:  \n",
    "$h'(\\beta) = (-\\rho y_ix_i)(exp(-\\rho y_ix_i^T\\beta)(\\frac {1}{1+ \\exp (-\\rho y_ix_i^T\\beta)}) = \\frac {-\\rho y_ix_iexp(-\\rho y_ix_i^T\\beta)}{1+ \\exp (-\\rho y_ix_i^T\\beta)}$  \n",
    "\n",
    "---\n",
    "\n",
    "Finally, solving for the derivative ofthe second term:  \n",
    "$g'(\\beta) = \\frac{\\partial}{\\partial \\beta} \\lambda ||\\beta||_2^2 = \\lambda \\beta^T \\beta$  \n",
    "We know the identity $\\frac{\\partial x^TAx}{\\partial x} = (A + A^T)x$ and can apply this to our formula with $x = \\beta$ and $A = $Identity matrix:  \n",
    "$g'(\\beta) = \\lambda \\frac{\\partial \\beta^T Id \\beta}{\\partial x} = \\lambda (Id^T + Id)\\beta$  \n",
    "We know the Identity matrix is just a diagonal of ones and the transpose is the same so summing these gives us a matrix with a diagonal of 2's:  \n",
    "$g'(\\beta) = \\lambda 2Id * \\beta = 2\\lambda \\beta$\n",
    "\n",
    "---\n",
    "\n",
    "Putting these together we arrive at the gradient of F:  \n",
    "$\\nabla F = \\frac{1}{n} \\sum_{i=1}^{n} \\frac{1}{\\rho} \\frac {-\\rho y_ix_iexp(-\\rho y_ix_i^T\\beta)}{1+ \\exp (-\\rho y_ix_i^T\\beta)} + 2 \\lambda \\beta$   \n",
    "The rho terms inside the summation will simply and we get our final result as:  \n",
    "$\\nabla F = \\frac{1}{n} \\sum_{i=1}^{n} \\frac {-y_ix_iexp(-\\rho y_ix_i^T\\beta)}{1+ \\exp (-\\rho y_ix_i^T\\beta)} + 2 \\lambda \\beta$  "
   ]
  },
  {
   "cell_type": "markdown",
   "metadata": {},
   "source": [
    "**Consider the `Spam` dataset from *The Elements of Statistical Learning*. Standardize the data,\n",
    "if you have not done so already. Be sure to use the training and test splits from the website.\n",
    "You can find the link to the train/test split here: `https://web.stanford.edu/~hastie/ElemStatLearn/data.html`**"
   ]
  },
  {
   "cell_type": "code",
   "execution_count": 5,
   "metadata": {},
   "outputs": [
    {
     "name": "stdout",
     "output_type": "stream",
     "text": [
      "X_train shape:  (3065, 57)\n",
      "X_test shape:  (1536, 57)\n",
      "y_train shape:  (3065, 1)\n",
      "y_test shape:  (1536, 1)\n"
     ]
    }
   ],
   "source": [
    "spam = pd.read_csv(\"https://web.stanford.edu/~hastie/ElemStatLearn/datasets/spam.data\", sep=\" \", na_values=\"?\", header=None)\n",
    "spam = spam.dropna()\n",
    "\n",
    "trainTestInd = pd.read_csv(\"https://web.stanford.edu/~hastie/ElemStatLearn/datasets/spam.traintest\", sep= \" \", header=None)\n",
    "spam = np.hstack((spam, trainTestInd))\n",
    "\n",
    "# seperate train and test using website indicator\n",
    "trainSpam = spam[spam[:,-1] == 0]\n",
    "testSpam = spam[spam[:,-1] == 1]\n",
    "\n",
    "# grab X values\n",
    "X_train = trainSpam[:, 0:57]\n",
    "X_test = testSpam[:, 0:57]\n",
    "\n",
    "# grab y values, replace 0's and 1's with -1's and 1's\n",
    "y_train = (trainSpam[:,-2])\n",
    "y_train = y_train.reshape((len(y_train), 1))\n",
    "y_train[y_train == 0] = -1\n",
    "y_test = testSpam[:,-2]\n",
    "y_test = y_test.reshape((len(y_test), 1))\n",
    "y_test[y_test == 0] = -1\n",
    "\n",
    "print(\"X_train shape: \", X_train.shape)\n",
    "print(\"X_test shape: \", X_test.shape)\n",
    "print(\"y_train shape: \", y_train.shape)\n",
    "print(\"y_test shape: \", y_test.shape)\n",
    "\n",
    "\n",
    "# standardizing X by subtracting the mean of the predictors and dividing by their standard deviation\n",
    "scaler = preprocessing.StandardScaler().fit(X_train)\n",
    "X_train = scaler.transform(X_train)\n",
    "X_test = scaler.transform(X_test)"
   ]
  },
  {
   "cell_type": "markdown",
   "metadata": {},
   "source": [
    "**Write a function *myrhologistic* that implements the accelerated gradient algorithm to train $l_2^2$-regularized binary logistic regression with ρ-logistic loss. The function takes as input the initial step-size for the backtracking rule, the ε for the stopping criterion based on the norm of the gradient of the objective, and the value of ρ.**"
   ]
  },
  {
   "cell_type": "code",
   "execution_count": 6,
   "metadata": {},
   "outputs": [],
   "source": [
    "def myrhologistic(X, y, stepSize, targetAccuracy, rho, lamb):\n",
    "    \"\"\"\n",
    "    Implements accelerated gradient descent algorithm with backtracking\n",
    "    for l-2 regularized binary logistic regression with p-logistic loss\n",
    "    Inputs:\n",
    "        - X: matrix of X values\n",
    "        - y: vector of associated outcomes\n",
    "        - stepSize: initial step size\n",
    "        - targetAccuracy: target accuracy value for algorithm\n",
    "        - rho: factor for logistic loss\n",
    "        - lambda: scalar multiplicative factor for regularization penalty\n",
    "    Outputs:\n",
    "        - betas: vector of improved betas after final iteration\n",
    "        - objs: vector of objective values for each iteration\n",
    "    \"\"\"\n",
    "    beta = np.zeros((X.shape[1], 1))\n",
    "    theta = np.zeros((X.shape[1], 1))\n",
    "    objs = [computeobj(X, y, beta, rho, lamb)]\n",
    "    betas = [beta]\n",
    "    grad = computegrad(X, y, beta, rho, lamb)\n",
    "    t = 0\n",
    "    while (np.linalg.norm(grad) > targetAccuracy):\n",
    "        stepSize = backtracking(X, y, beta, stepSize, rho, lamb)\n",
    "        betaOld = copy.copy(beta)\n",
    "        beta = theta - stepSize * computegrad(X, y, theta, rho, lamb)\n",
    "        theta = beta + (t/(t+3))*(beta - betaOld)\n",
    "        betas.append(beta) # saves current beta values\n",
    "        obj = computeobj(X, y, beta, rho, lamb)\n",
    "        objs.append(obj) # saves current objective value\n",
    "        grad = computegrad(X, y, beta, rho, lamb)\n",
    "        t += 1\n",
    "    return np.array(betas), np.array(objs)"
   ]
  },
  {
   "cell_type": "code",
   "execution_count": 7,
   "metadata": {},
   "outputs": [],
   "source": [
    "def computegrad(X, y, beta, rho, lamb):\n",
    "    \"\"\"\n",
    "    Computes the gradient for the fast gradient algorithm\n",
    "    Inputs:\n",
    "        - X: matrix of X values\n",
    "        - y: vector of associated outcomes\n",
    "        - beta: vector of beta constants\n",
    "        - lambda: scalar multiplicative factor for regularization penalty (optional, defaults to 0.05)\n",
    "    Outputs:\n",
    "        - vector gradient for passed in parameters\n",
    "    \"\"\"\n",
    "    n = len(X)\n",
    "    summation = 0\n",
    "    for i in range(0, X.shape[0]):\n",
    "        xi = X[i,:]\n",
    "        yi = y[i]\n",
    "        expTerm = ((np.exp(-rho * yi * (xi.T).dot(beta))) / (1 + (np.exp(-rho * yi * (xi.T).dot(beta)))))\n",
    "        summation += yi * xi * expTerm\n",
    "    summation = summation.reshape(summation.shape[0], 1)\n",
    "    return ((-1/n) * summation + (2*lamb*beta).reshape(summation.shape[0],1))"
   ]
  },
  {
   "cell_type": "code",
   "execution_count": 8,
   "metadata": {},
   "outputs": [],
   "source": [
    "def computeobj(X, y, beta, rho, lamb):\n",
    "    \"\"\"\n",
    "    Computes the objective for ridge regression problem\n",
    "    Inputs:\n",
    "        - X: matrix of X values\n",
    "        - y: vector of associated outcomes\n",
    "        - beta: vector of beta constants\n",
    "        - lambda: scalar multiplicative factor for regularization penalty (optional, defaults to 0.05)\n",
    "    Outputs:\n",
    "        - objective for passed in parameters\n",
    "    \"\"\"\n",
    "    n = len(X)\n",
    "    summation = 0\n",
    "    for i in range(0, n):\n",
    "        xi = X[i,:]\n",
    "        yi = y[i]\n",
    "        x = -rho*yi*xi.T.dot(beta)\n",
    "        logTerm = np.log(1 + np.exp(x))\n",
    "#         if(x > 0): # avoids over or under flow errors\n",
    "#             a = x + 1\n",
    "#             logTerm = a + np.log(np.exp(-a) + np.exp(x-a))\n",
    "#         else:\n",
    "#             logTerm = np.log(1 + np.exp(x))\n",
    "        summation = summation + logTerm\n",
    "    return ((1/(n * rho)) * summation + (lamb * np.sum(beta**2)))[0]"
   ]
  },
  {
   "cell_type": "code",
   "execution_count": 9,
   "metadata": {},
   "outputs": [],
   "source": [
    "def backtracking(X, y, beta, eta, rho, lamb, alpha = 0.5, gamma=0.8):\n",
    "    \"\"\"\n",
    "    Implements backtracking rule\n",
    "    Inputs:\n",
    "        - X: matrix of X values\n",
    "        - y: vector of associated outcomes\n",
    "        - beta: vector of beta constants\n",
    "        - eta: initial step size\n",
    "        - alpha: constant used to define sufficinet decrease condition\n",
    "        - gamma: constant to scale step size by until condition met         \n",
    "    Outputs:\n",
    "        - step size\n",
    "    \"\"\"\n",
    "    grad = computegrad(X, y, beta, rho, lamb)  # calculates the gradient at current beta\n",
    "    conditionMet = False # tracks when we find the backtracked step size\n",
    "    while not conditionMet: \n",
    "        if computeobj(X, y, beta - eta*grad, rho, lamb) < (computeobj(X, y, beta, rho, lamb) - alpha*eta*np.linalg.norm(grad)**2):\n",
    "            conditionMet = True\n",
    "        else:\n",
    "            eta = eta * gamma            \n",
    "    return eta"
   ]
  },
  {
   "cell_type": "markdown",
   "metadata": {},
   "source": [
    "**Train your $l_2^2$-regularized binary logistic regression with ρ-logistic loss with ρ = 2 and ε = 10−3\n",
    "on the the Spam dataset for the λ = 1. Report your misclassification error for this value of λ.**"
   ]
  },
  {
   "cell_type": "code",
   "execution_count": 10,
   "metadata": {},
   "outputs": [],
   "source": [
    "# set constants\n",
    "rho = 2\n",
    "epsilon = 0.001\n",
    "lamb = 1\n",
    "\n",
    "# calculate starting step size\n",
    "n = len(X_train)\n",
    "eq = (1/n * X_train.T.dot(X_train))\n",
    "eigenVals = eigh(eq)[0]\n",
    "initialStepSize = 1 / (max(eigenVals) + lamb)\n",
    "\n",
    "# train algorithm\n",
    "trainBetas, trainObjs = myrhologistic(X_train, y_train, initialStepSize, epsilon, rho, lamb)"
   ]
  },
  {
   "cell_type": "code",
   "execution_count": 11,
   "metadata": {},
   "outputs": [
    {
     "data": {
      "image/png": "[encoded data removed]",
      "text/plain": [
       "<Figure size 432x288 with 1 Axes>"
      ]
     },
     "metadata": {
      "needs_background": "light"
     },
     "output_type": "display_data"
    }
   ],
   "source": [
    "# plot objective values to verify they are decreasing properly\n",
    "plt.plot(trainObjs, color = \"purple\")\n",
    "plt.ylabel(\"Objective values\")\n",
    "plt.xlabel(\"Iterations\")\n",
    "plt.title(\"Objective Value vs Iteration Counter\")\n",
    "plt.show()"
   ]
  },
  {
   "cell_type": "markdown",
   "metadata": {},
   "source": [
    "Here we see the objective value is decreasing as the number of iterations increase as we would expect. The function looks like it converges around 13 iterations which is pretty quickly."
   ]
  },
  {
   "cell_type": "code",
   "execution_count": 12,
   "metadata": {},
   "outputs": [],
   "source": [
    "def calcMisclassificationError(X, y, betas):\n",
    "    \"\"\"\n",
    "    Calculates the misclassification error for a binary response variable\n",
    "    Inputs:\n",
    "        - X: matrix of X values\n",
    "        - y: vector of associated outcomes, binary\n",
    "        - betas: coefficients that correspond to X values\n",
    "    Outputs:\n",
    "        - misclassifications: ratio of incorrect values / total values for all betas\n",
    "    \"\"\"\n",
    "    misclassifications = np.zeros((betas.shape[0], 1))\n",
    "    for b in range(betas.shape[0]):\n",
    "        betaVals = betas[b]\n",
    "        incorrect = 0\n",
    "        for i in range(X.shape[0]):\n",
    "            prediction = np.sum(np.dot(X[i], betaVals))\n",
    "            if(prediction > 0): # maps the 0 and 1 values to -1 and 1\n",
    "                prediction = 1\n",
    "            else:\n",
    "                prediction = -1\n",
    "            if(prediction != y[i]):\n",
    "                incorrect +=1\n",
    "        misclassifications[b,:] = (incorrect / X.shape[0])\n",
    "    return misclassifications"
   ]
  },
  {
   "cell_type": "code",
   "execution_count": 13,
   "metadata": {},
   "outputs": [
    {
     "data": {
      "image/png": "[encoded data removed]",
      "text/plain": [
       "<Figure size 432x288 with 1 Axes>"
      ]
     },
     "metadata": {
      "needs_background": "light"
     },
     "output_type": "display_data"
    }
   ],
   "source": [
    "# calculate misclassification error\n",
    "trainMisclassification = calcMisclassificationError(X_train, y_train, trainBetas)\n",
    "\n",
    "# plot misclassification error\n",
    "plt.plot(trainMisclassification, color = \"red\")\n",
    "plt.ylabel(\"Misclassification Rate\")\n",
    "plt.xlabel(\"Iterations\")\n",
    "plt.title(\"Training Data Misclassification Rates vs Iteration Counter\")\n",
    "plt.show()"
   ]
  },
  {
   "cell_type": "markdown",
   "metadata": {},
   "source": [
    "The misclassification rate lowers as the number of iterations increases which is also expected behavior since our function should be optimizing for the ideal beta coefficients for our function. The rate seems to even out around .1, which is 10% misclassification. This seems reasonable, especially considering we are using a non-optimized lambda value of 1."
   ]
  },
  {
   "cell_type": "markdown",
   "metadata": {},
   "source": [
    "**Write a function *crossval* that implements leave-one-out cross-validation and hold-out crossvalidation. You may either write a function that implements each variant separately depending on the case, or write a general cross-validation function that can be instantiated in each case.**"
   ]
  },
  {
   "cell_type": "code",
   "execution_count": null,
   "metadata": {},
   "outputs": [],
   "source": [
    "def leaveOneOutCrossValidation(X, y, lambdas, epsilon, rho):\n",
    "    optimizedLamb = 0\n",
    "    misclassificationRate = 1\n",
    "    for lamb in lambdas:  \n",
    "        n = len(X_train)\n",
    "        eq = (1/n * X_train.T.dot(X_train))\n",
    "        eigenVals = eigh(eq)[0]\n",
    "        initialStepSize = 1 / (max(eigenVals) + lamb)\n",
    "        modelBetas, modelObjs = myrhologistic(X_train, y_train, initialStepSize, epsilon, rho, lamb)\n",
    "        modelMisclassification = calcMisclassificationError(X_test, y_test, modelBetas)\n",
    "        if(modelMisclassification[-1] < misclassificationRate):\n",
    "            misclassificationRate = modelMisclassification[-1]\n",
    "            optimizedLamb = lamb\n",
    "    return optimizedLamb"
   ]
  },
  {
   "cell_type": "code",
   "execution_count": 14,
   "metadata": {},
   "outputs": [],
   "source": [
    "def holdOutCrossValidation(X, y, lambdas, epsilon, rho):\n",
    "    X_train, X_test, y_train, y_test = train_test_split(X, y, test_size=0.2)\n",
    "    optimizedLamb = 0\n",
    "    misclassificationRate = 1\n",
    "    for lamb in lambdas:  \n",
    "        n = len(X_train)\n",
    "        eq = (1/n * X_train.T.dot(X_train))\n",
    "        eigenVals = eigh(eq)[0]\n",
    "        initialStepSize = 1 / (max(eigenVals) + lamb)\n",
    "        modelBetas, modelObjs = myrhologistic(X_train, y_train, initialStepSize, epsilon, rho, lamb)\n",
    "        modelMisclassification = calcMisclassificationError(X_test, y_test, modelBetas)\n",
    "        if(modelMisclassification[-1] < misclassificationRate):\n",
    "            misclassificationRate = modelMisclassification[-1]\n",
    "            optimizedLamb = lamb\n",
    "    return optimizedLamb"
   ]
  },
  {
   "cell_type": "markdown",
   "metadata": {},
   "source": [
    "**Find the optimal value of λ using leave-one-out cross-validation. Find the optimal value of λ\n",
    "using hold-out cross-validation with a 80%/20% split for the training set/testing set. Report\n",
    "your misclassification errors for the two values of λ found.**"
   ]
  },
  {
   "cell_type": "code",
   "execution_count": 15,
   "metadata": {},
   "outputs": [],
   "source": [
    "# leave one out cross validation\n",
    "lambdas = [0.0001, 0.001, 0.01, 0.1, 1, 10, 100]\n",
    "lOOLamb = 2\n",
    "#lOOLamb = crossval(type = \"leave-one-out\")\n",
    "\n",
    "# find starting step size for new lambda from leave one out cross validation\n",
    "n = len(X_train)\n",
    "eq = (1/n * X_train.T.dot(X_train))\n",
    "eigenVals = eigh(eq)[0]\n",
    "lOOInitialStepSize = 1 / (max(eigenVals) + lOOLamb)\n",
    "\n",
    "# train algorithm\n",
    "lOOBetas, lOOObjs = myrhologistic(X_train, y_train, lOOInitialStepSize, epsilon, rho, lOOLamb)"
   ]
  },
  {
   "cell_type": "code",
   "execution_count": 16,
   "metadata": {},
   "outputs": [],
   "source": [
    "# hold out cross validation\n",
    "lambdas = [0.0001, 0.001, 0.01, 0.1, 1, 10, 100]\n",
    "hOLamb = holdOutCrossValidation(X_train, y_train, lambdas, 0.001, 2)\n",
    "\n",
    "# find starting step size for new lambda from hold out cross validation\n",
    "n = len(X_train)\n",
    "eq = (1/n * X_train.T.dot(X_train))\n",
    "eigenVals = eigh(eq)[0]\n",
    "hOInitialStepSize = 1 / (max(eigenVals) + hOLamb)\n",
    "\n",
    "# train algorithm\n",
    "hOBetas, hOObjs = myrhologistic(X_train, y_train, hOInitialStepSize, epsilon, rho, hOLamb)"
   ]
  },
  {
   "cell_type": "code",
   "execution_count": 17,
   "metadata": {},
   "outputs": [
    {
     "data": {
      "image/png": "[encoded data removed]",
      "text/plain": [
       "<Figure size 432x288 with 1 Axes>"
      ]
     },
     "metadata": {
      "needs_background": "light"
     },
     "output_type": "display_data"
    }
   ],
   "source": [
    "# plot objective values\n",
    "plt.plot(lOOObjs, color = \"red\")\n",
    "plt.plot(hOObjs, color = \"purple\")\n",
    "plt.ylabel(\"Objective values\")\n",
    "plt.xlabel(\"Iterations\")\n",
    "plt.title(\"Objective Value vs Iteration Counter\")\n",
    "plt.legend([\"Lambda from Leave One Out Cross Validation\", \"Lambda from Hold Out Cross Validation\"])\n",
    "plt.show()"
   ]
  },
  {
   "cell_type": "code",
   "execution_count": 18,
   "metadata": {},
   "outputs": [
    {
     "data": {
      "image/png": "[encoded data removed]",
      "text/plain": [
       "<Figure size 432x288 with 1 Axes>"
      ]
     },
     "metadata": {
      "needs_background": "light"
     },
     "output_type": "display_data"
    }
   ],
   "source": [
    "# calculate misclassification error on training set\n",
    "lOOMisclassification = calcMisclassificationError(X_train, y_train, lOOBetas)\n",
    "hOMisclassification = calcMisclassificationError(X_train, y_train, hOBetas)\n",
    "        \n",
    "# plot misclassification curves\n",
    "plt.plot(lOOMisclassification, color = \"red\")\n",
    "plt.plot(hOMisclassification, color = \"purple\")\n",
    "plt.ylabel(\"Misclassification Rate\")\n",
    "plt.xlabel(\"Iterations\")\n",
    "plt.title(\"Training Data Misclassification Rates vs Iteration Counter with Optimal Lambda\")\n",
    "plt.legend([\"Lambda from Leave One Out Cross Validation\", \"Lambda from Hold Out Cross Validation\"])\n",
    "plt.show()"
   ]
  },
  {
   "cell_type": "markdown",
   "metadata": {},
   "source": [
    "### Data Competition Project"
   ]
  },
  {
   "cell_type": "code",
   "execution_count": 21,
   "metadata": {},
   "outputs": [
    {
     "name": "stdout",
     "output_type": "stream",
     "text": [
      "Number of images in x_train: 1000\n",
      "Dimension of features: 4096\n"
     ]
    }
   ],
   "source": [
    "data_dir = \"../Kaggle/data_competition1_files\"\n",
    "\n",
    "x_train_unfiltered = np.load(os.path.join(data_dir, 'train_features.npy'))\n",
    "y_train_unfiltered = np.load(os.path.join(data_dir, 'train_labels.npy'))\n",
    "x_test_unfiltered = np.load(os.path.join(data_dir, 'val_features.npy'))\n",
    "y_test_unfiltered = np.load(os.path.join(data_dir, 'val_labels.npy'))\n",
    "\n",
    "kaggleTest = np.load(os.path.join(data_dir, 'test_features.npy'))\n",
    "\n",
    "# filter testing data to two classes: 4, 7\n",
    "x_train = np.zeros((1000, x_train_unfiltered.shape[1]))\n",
    "y_train = np.zeros((1000, 1))\n",
    "index = 0\n",
    "for i in range(y_train_unfiltered.shape[0]):\n",
    "    if(y_train_unfiltered[i] == 4 or y_train_unfiltered[i] == 7):\n",
    "        x_train[index, :] = x_train_unfiltered[i].T\n",
    "        y_train[index, :] = y_train_unfiltered[i]\n",
    "        index += 1\n",
    "\n",
    "y_train[y_train == 4] = -1\n",
    "y_train[y_train == 7] = 1\n",
    "\n",
    "# filter testing data to two classes: 4, 7\n",
    "x_test = np.zeros((200, x_test_unfiltered.shape[1]))\n",
    "y_test = np.zeros((200, 1))\n",
    "index = 0\n",
    "\n",
    "for i in range(y_test_unfiltered.shape[0]):\n",
    "    if(y_test_unfiltered[i] == 4 or y_test_unfiltered[i] == 7):\n",
    "        x_test[index, :] = x_test_unfiltered[i].T\n",
    "        y_test[index, :] = y_test_unfiltered[i]\n",
    "        index += 1\n",
    "\n",
    "# reset y data to -1 and 1 to fit machine learning standards\n",
    "y_test[y_test == 4] = -1\n",
    "y_test[y_test == 7] = 1\n",
    "\n",
    "# check dimensions\n",
    "print(\"Number of images in x_train:\", x_train.shape[0])\n",
    "print(\"Dimension of features:\", x_train.shape[1])\n",
    "\n",
    "# standardize x values\n",
    "xScaler = preprocessing.StandardScaler()\n",
    "X_train = xScaler.fit_transform(x_train)\n",
    "X_test = xScaler.transform(x_test)"
   ]
  },
  {
   "cell_type": "markdown",
   "metadata": {},
   "source": [
    "**Pick two classes of your choice from the dataset. Train a classifier using $l_2^2$-regularized binary\n",
    "logistic regression with ρ-logistic loss on the training set using your own accelerated gradient\n",
    "algorithm with ρ = 2, ε = 10−3, and λ = 1. Be sure to use the features you previously generated with the provided script rather than the raw image features. Plot, with different colors, the misclassification error on the training set and on the validation set vs iterations.**"
   ]
  },
  {
   "cell_type": "code",
   "execution_count": 22,
   "metadata": {},
   "outputs": [],
   "source": [
    "# set constants\n",
    "rho = 2\n",
    "epsilon = .001\n",
    "lamb = 1\n",
    "\n",
    "# calculate starting step size for training data\n",
    "n = len(X_train)\n",
    "eq = (1/n * X_train.T.dot(X_train))\n",
    "eigenVals = eigh(eq)[0]\n",
    "kaggleTrainInitialStepSize = 1 / (max(eigenVals) + lamb)\n",
    "\n",
    "# train algorithm with training data\n",
    "kaggleTrainBetas, kaggleTrainObjs = myrhologistic(X_train, y_train, kaggleTrainInitialStepSize, epsilon, rho, lamb)"
   ]
  },
  {
   "cell_type": "code",
   "execution_count": 23,
   "metadata": {},
   "outputs": [],
   "source": [
    "# calculate starting step size for validation data\n",
    "n = len(X_test)\n",
    "eq = (1/n * X_test.T.dot(X_test))\n",
    "eigenVals = eigh(eq)[0]\n",
    "kaggleTestInitialStepSize = 1 / (max(eigenVals) + lamb)\n",
    "\n",
    "# train algorithm with training data\n",
    "kaggleTestBetas, kaggleTestObjs = myrhologistic(X_test, y_test, kaggleTestInitialStepSize, epsilon, rho, lamb)"
   ]
  },
  {
   "cell_type": "code",
   "execution_count": 25,
   "metadata": {},
   "outputs": [
    {
     "data": {
      "image/png": "[encoded data removed]",
      "text/plain": [
       "<Figure size 432x288 with 1 Axes>"
      ]
     },
     "metadata": {
      "needs_background": "light"
     },
     "output_type": "display_data"
    }
   ],
   "source": [
    "# plot objective values to verify they are decreasing properly\n",
    "plt.plot(kaggleTrainObjs, color = \"purple\")\n",
    "plt.plot(kaggleTestObjs, color = \"red\")\n",
    "plt.ylabel(\"Objective values\")\n",
    "plt.xlabel(\"Iterations\")\n",
    "plt.legend([\"Training Data\", \"Validation Data\"])\n",
    "plt.title(\"Objective Values vs Iteration Counter\")\n",
    "plt.show()"
   ]
  },
  {
   "cell_type": "code",
   "execution_count": null,
   "metadata": {},
   "outputs": [],
   "source": [
    "TALK ABOUT THiS??"
   ]
  },
  {
   "cell_type": "code",
   "execution_count": 30,
   "metadata": {},
   "outputs": [],
   "source": [
    "def calcKaggleMisclassificationError(X, y, betas):\n",
    "    \"\"\"\n",
    "    Calculates the misclassification error for a 0-9 response variable\n",
    "    Inputs:\n",
    "        - X: matrix of X values\n",
    "        - y: vector of associated outcomes, 0-9\n",
    "        - betas: coefficients that correspond to X values\n",
    "    Outputs:\n",
    "        - misclassifications: ratio of incorrect values / total values for all betas\n",
    "    \"\"\"\n",
    "    misclassifications = np.zeros((betas.shape[0], 1))\n",
    "    for b in range(betas.shape[0]):\n",
    "        betaVals = betas[b]\n",
    "        incorrect = 0\n",
    "        for i in range(X.shape[0]):\n",
    "            prediction = np.sum(np.dot(X[i], betaVals))\n",
    "            if(prediction > 0):\n",
    "                prediction = 1\n",
    "            else:\n",
    "                prediction = -1\n",
    "            if(prediction != y[i]):\n",
    "                incorrect +=1\n",
    "        misclassifications[b,:] = (incorrect / X.shape[0])\n",
    "    return misclassifications"
   ]
  },
  {
   "cell_type": "code",
   "execution_count": 31,
   "metadata": {},
   "outputs": [
    {
     "data": {
      "image/png": "[encoded data removed]",
      "text/plain": [
       "<Figure size 432x288 with 1 Axes>"
      ]
     },
     "metadata": {
      "needs_background": "light"
     },
     "output_type": "display_data"
    }
   ],
   "source": [
    "# calculate misclassification errors\n",
    "kaggleTrainMisclassification = calcKaggleMisclassificationError(X_train, y_train, kaggleTrainBetas)\n",
    "kaggleTestMisclassification = calcKaggleMisclassificationError(X_test, y_test, kaggleTestBetas)\n",
    "\n",
    "# plot misclassification error\n",
    "plt.plot(kaggleTrainMisclassification, color = \"purple\")\n",
    "plt.plot(kaggleTestMisclassification, color = \"red\")\n",
    "plt.ylabel(\"Misclassification Rate\")\n",
    "plt.xlabel(\"Iterations\")\n",
    "plt.title(\"Misclassification Rates vs Iteration Counter\")\n",
    "plt.legend([\"Training Data\", \"Validation Data\"])\n",
    "plt.show()"
   ]
  },
  {
   "cell_type": "code",
   "execution_count": null,
   "metadata": {},
   "outputs": [],
   "source": [
    "TALK ABOUT THIS!!"
   ]
  },
  {
   "cell_type": "markdown",
   "metadata": {},
   "source": [
    "**Find the value of the regularization parameter λ using using leave-one-out cross-validation. Find the value of the regularization parameter λ using using hold-out cross-validation. Train a classifier using $l_2^2$-regularized binary logistic regression with ρ-logistic loss on the training set using your own accelerated gradient algorithm with that value of λ found by hold-out cross-validation. Plot, with different colors, the misclassification error on the training set and on the validation set vs. iterations.**"
   ]
  },
  {
   "cell_type": "code",
   "execution_count": 32,
   "metadata": {},
   "outputs": [],
   "source": [
    "# leave one out cross validation\n",
    "lambdas = [0.0001, 0.001, 0.01, 0.1, 1, 10, 100]\n",
    "lOOLamb = 2\n",
    "#lOOLamb = crossval(type = \"leave-one-out\")\n",
    "\n",
    "# find starting step size for new lambda from leave one out cross validation\n",
    "n = len(X_train)\n",
    "eq = (1/n * X_train.T.dot(X_train))\n",
    "eigenVals = eigh(eq)[0]\n",
    "lOOInitialStepSize = 1 / (max(eigenVals) + lOOLamb)\n",
    "\n",
    "# train algorithm\n",
    "lOOBetas, lOOObjs = myrhologistic(X_train, y_train, lOOInitialStepSize, epsilon, rho, lOOLamb)"
   ]
  },
  {
   "cell_type": "code",
   "execution_count": 33,
   "metadata": {},
   "outputs": [],
   "source": [
    "# hold out cross validation\n",
    "lambdas = [0.0001, 0.001, 0.01, 0.1, 1, 10, 100]\n",
    "hOLamb = holdOutCrossValidation(X_train, y_train, lambdas, 0.001, 2)\n",
    "\n",
    "# find starting step size for new lambda from hold out cross validation\n",
    "n = len(X_train)\n",
    "eq = (1/n * X_train.T.dot(X_train))\n",
    "eigenVals = eigh(eq)[0]\n",
    "hOInitialStepSize = 1 / (max(eigenVals) + hOLamb)\n",
    "\n",
    "# train algorithm\n",
    "hOBetas, hOObjs = myrhologistic(X_train, y_train, hOInitialStepSize, epsilon, rho, hOLamb)"
   ]
  },
  {
   "cell_type": "code",
   "execution_count": 34,
   "metadata": {},
   "outputs": [
    {
     "data": {
      "image/png": "[encoded data removed]",
      "text/plain": [
       "<Figure size 432x288 with 1 Axes>"
      ]
     },
     "metadata": {
      "needs_background": "light"
     },
     "output_type": "display_data"
    }
   ],
   "source": [
    "# plot objective values\n",
    "plt.plot(lOOObjs, color = \"red\")\n",
    "plt.plot(hOObjs, color = \"purple\")\n",
    "plt.ylabel(\"Objective values\")\n",
    "plt.xlabel(\"Iterations\")\n",
    "plt.title(\"Objective Value vs Iteration Counter\")\n",
    "plt.legend([\"Lambda from Leave One Out Cross Validation\", \"Lambda from Hold Out Cross Validation\"])\n",
    "plt.show()"
   ]
  },
  {
   "cell_type": "code",
   "execution_count": 37,
   "metadata": {},
   "outputs": [
    {
     "data": {
      "image/png": "[encoded data removed]",
      "text/plain": [
       "<Figure size 432x288 with 1 Axes>"
      ]
     },
     "metadata": {
      "needs_background": "light"
     },
     "output_type": "display_data"
    }
   ],
   "source": [
    "# calculate misclassification error on training set\n",
    "hOTrainMisclassification = calcMisclassificationError(X_train, y_train, hOBetas)\n",
    "hOTestMisclassification = calcMisclassificationError(X_test, y_test, hOBetas)\n",
    "        \n",
    "# plot misclassification curves\n",
    "plt.plot(hOTrainMisclassification, color = \"red\")\n",
    "plt.plot(hOTestMisclassification, color = \"purple\")\n",
    "plt.ylabel(\"Misclassification Rate\")\n",
    "plt.xlabel(\"Iterations\")\n",
    "plt.title(\"Training Data Misclassification Rates vs Iteration Counter with Optimal Lambda\")\n",
    "plt.legend([\"Train Data\", \"Validation Data\"])\n",
    "plt.show()"
   ]
  },
  {
   "cell_type": "markdown",
   "metadata": {},
   "source": [
    "**Consider all pairs of classes from the dataset. For each pair of classes, train a classifier using\n",
    "a $l_2^2$-regularized binary logistic regression with ρ-logistic loss on the training set comprising\n",
    "only the data-points for that pair of classes using your own fast gradient algorithm. For each pair of classes, find the value of the regularization parameter λ using hold-out cross-validation on the training set comprising only the data-points for that pair of classes.**"
   ]
  },
  {
   "cell_type": "code",
   "execution_count": null,
   "metadata": {},
   "outputs": [],
   "source": [
    "def getData(label1, label2):\n",
    "    x_train = np.zeros((1000, x_train_unfiltered.shape[1]))\n",
    "    y_train = np.zeros((1000, 1))\n",
    "    index = 0\n",
    "    for i in range(y_train_unfiltered.shape[0]):\n",
    "        if(y_train_unfiltered[i] == label1 or y_train_unfiltered[i] == label2):\n",
    "            x_train[index, :] = x_train_unfiltered[i].T\n",
    "            y_train[index, :] = y_train_unfiltered[i]\n",
    "            index += 1\n",
    "\n",
    "    y_train[y_train == label1] = -1\n",
    "    y_train[y_train == label2] = 1\n",
    "\n",
    "    x_test = np.zeros((200, x_test_unfiltered.shape[1]))\n",
    "    y_test = np.zeros((200, 1))\n",
    "    index = 0\n",
    "\n",
    "    for i in range(y_test_unfiltered.shape[0]):\n",
    "        if(y_test_unfiltered[i] == label1 or y_test_unfiltered[i] == label1):\n",
    "            x_test[index, :] = x_test_unfiltered[i].T\n",
    "            y_test[index, :] = y_test_unfiltered[i]\n",
    "            index += 1\n",
    "\n",
    "    # reset y data to -1 and 1 to fit machine learning standards\n",
    "    y_test[y_test == label1] = -1\n",
    "    y_test[y_test == label1] = 1\n",
    "\n",
    "    # standardize x values\n",
    "    xScaler = preprocessing.StandardScaler()\n",
    "    X_train = xScaler.fit_transform(x_train)\n",
    "    X_test = xScaler.transform(x_test)\n",
    "    return X_train, X_test, y_train, y_test"
   ]
  },
  {
   "cell_type": "code",
   "execution_count": null,
   "metadata": {},
   "outputs": [],
   "source": [
    "def getPairwiseLambdas():\n",
    "    lambdas = np.zeros((10, 10))\n",
    "    #lambdaVals = [0.0001, 0.001, 0.01, 0.1, 1, 10, 100]\n",
    "    lambdaVals = [0.0001, 0.001, 0.01, 0.1, 1]\n",
    "    for i in range (0, 10):\n",
    "        for j in range (i + 1, 10):\n",
    "            X_train, X_test, y_train, y_test = getData(i, j)\n",
    "            hOLamb = holdOutCrossValidation(X_train, y_train, lambdaVals, 0.001, 2)\n",
    "            lambdas[i,j] = hOLamb\n",
    "    return lambdas\n",
    "\n",
    "getPairwiseLambdas()\n",
    "lambdas = getPairwiseLambdas()\n",
    "lambdas"
   ]
  },
  {
   "cell_type": "markdown",
   "metadata": {},
   "source": [
    "**Write a function that for any new data point predicts its label. To do this, you will perform the following: input the data point into each classifier (for each pair of classes) you trained above. Record the class predicted by each classifier. Then your prediction for this data point is the most frequently predicted class. If there is a tie, randomly choose between the tied classes. Report the misclassification error on the validation set and test set. Report the precision/recall on the validation set.**"
   ]
  },
  {
   "cell_type": "code",
   "execution_count": null,
   "metadata": {},
   "outputs": [],
   "source": [
    "def predictLabel():"
   ]
  }
 ],
 "metadata": {
  "kernelspec": {
   "display_name": "Python 3",
   "language": "python",
   "name": "python3"
  },
  "language_info": {
   "codemirror_mode": {
    "name": "ipython",
    "version": 3
   },
   "file_extension": ".py",
   "mimetype": "text/x-python",
   "name": "python",
   "nbconvert_exporter": "python",
   "pygments_lexer": "ipython3",
   "version": "3.7.3"
  }
 },
 "nbformat": 4,
 "nbformat_minor": 2
}
