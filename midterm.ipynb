{
 "cells": [
  {
   "cell_type": "markdown",
   "metadata": {},
   "source": [
    "## <center> Take-home Midterm </center>\n",
    "<center> Tara Wilson </center>\n",
    "<center> DATA 558 </center>\n",
    "<center> May 9, 2019 </center>"
   ]
  },
  {
   "cell_type": "code",
   "execution_count": 1,
   "metadata": {},
   "outputs": [],
   "source": [
    "# imports\n",
    "import math\n",
    "import pandas as pd\n",
    "import numpy as np\n",
    "import matplotlib.pyplot as plt\n",
    "from sklearn import preprocessing\n",
    "from scipy.linalg import eigh\n",
    "from sklearn.linear_model import LogisticRegression\n",
    "from sklearn.model_selection import train_test_split\n",
    "from statistics import mean\n",
    "from collections import Counter\n",
    "import warnings\n",
    "import copy \n",
    "import os\n",
    "warnings.filterwarnings('ignore')"
   ]
  },
  {
   "cell_type": "markdown",
   "metadata": {},
   "source": [
    "### Exercise 1"
   ]
  },
  {
   "cell_type": "markdown",
   "metadata": {},
   "source": [
    "**In this exercise, you will implement in Python a first version of your own $l_2^2$-regularized binary logistic regression with ρ-logistic loss. You will write your own codes for all functions: accelerated gradient algorithm,  $l_2^2$-regularized binary logistic regression with ρ-logistic loss, leave-one-out cross-validation, and hold-out cross-validation.The  $l_2^2$-regularized binary logistic regression with ρ-logistic loss is a supervised binary classification method, similar to  $l_2^2$-regularized binary logistic regression.**\n",
    "\n",
    "$min F(\\beta) := \\frac{1}{n} \\sum_{i=1}^{n} \\frac{1}{\\rho} log(1 + exp(-\\rho y_ix_i^T\\beta)) +  \\lambda ||\\beta||_2^2$  \n",
    "\n",
    "**You know now by heart the accelerated gradient algorithm, so no need to recall it here.**"
   ]
  },
  {
   "cell_type": "markdown",
   "metadata": {},
   "source": [
    "**Compute the gradient $\\nabla F(\\beta)$ of $F$.**"
   ]
  },
  {
   "cell_type": "markdown",
   "metadata": {},
   "source": [
    "To calculate the gradient we will take the derivative of $F$ with respect to $\\beta$,   \n",
    "$F'(\\beta) := \\frac{\\partial}{\\partial \\beta} \\frac{1}{n} \\sum_{i=1}^{n} \\frac{1}{\\rho} log(1 + exp(-\\rho y_ix_i^T\\beta)) + \\frac{\\partial}{\\partial \\beta} \\lambda ||\\beta||_2^2$\n",
    "\n",
    "Since the $\\frac{1}{n} \\sum_{i=1}^{n} \\frac{1}{\\rho}$ terms are constants in terms of the derivative we can rearrange:  \n",
    "$F'(\\beta) := \\frac{1}{n} \\sum_{i=1}^{n} \\frac{1}{\\rho} \\frac{\\partial}{\\partial \\beta} log(1 + exp(-\\rho y_ix_i^T\\beta)) + \\frac{\\partial}{\\partial \\beta} \\lambda ||\\beta||_2^2$\n",
    "\n",
    "I will start by breaking the derivitive into 2 sections:  \n",
    "$h'(\\beta) = \\frac{\\partial}{\\partial \\beta}  \\frac{1}{\\rho} log(1 + exp(-\\rho y_ix_i^T\\beta))$  \n",
    "$g'(\\beta) = \\frac{\\partial}{\\partial \\beta} \\lambda ||\\beta||_2^2$   \n",
    "\n",
    "---\n",
    "\n",
    "We will start again with the derivative of h where we will need to apply the chain rule where $h(\\beta) = f(m(j(\\beta)))$: \n",
    "In our case, $f = log(...)$, $m = 1 + exp(...)$, and $j = -\\rho y_i x_i^T\\beta$ and we want to solve for $j(x)*m'(j(x))*f'(m(j(x))$.  \n",
    "\n",
    "Starting with $j(x)$ and pulling out the terms that are constants ($\\rho y$) with respect to $\\beta$ and then applying the fact that $\\frac{\\partial}{\\partial x} (a^Tx) = a$:  \n",
    "$j'(\\beta) = \\frac{\\partial}{\\partial \\beta} -\\rho y_i x_i^T\\beta = -\\rho y_ix_i$  \n",
    "\n",
    "Now for $m'(j(x))$:  \n",
    "$m'(j(\\beta)) = \\frac{\\partial}{\\partial \\beta} 1 + \\exp(-\\rho y_ix_i^T\\beta) = exp(-\\rho y_i x_i^T\\beta)$\n",
    "\n",
    "For the last term $f'(m(j(x))$ we have:  \n",
    "$f'(m(j(\\beta) = \\frac{\\partial}{\\partial \\beta} \\log(1 + \\exp(-\\rho y_i x_i^T\\beta)) = \\frac{1}{1+\\exp(-\\rho y_ix_i^T\\beta)}$  \n",
    "\n",
    "Putting this all back together we have the derivative of the first term:  \n",
    "$h'(\\beta) = (-\\rho y_ix_i)(exp(-\\rho y_ix_i^T\\beta)(\\frac {1}{1+ \\exp (-\\rho y_ix_i^T\\beta)}) = \\frac {-\\rho y_ix_iexp(-\\rho y_ix_i^T\\beta)}{1+ \\exp (-\\rho y_ix_i^T\\beta)}$  \n",
    "\n",
    "---\n",
    "\n",
    "Finally, solving for the derivative ofthe second term:  \n",
    "$g'(\\beta) = \\frac{\\partial}{\\partial \\beta} \\lambda ||\\beta||_2^2 = \\lambda \\beta^T \\beta$  \n",
    "We know the identity $\\frac{\\partial x^TAx}{\\partial x} = (A + A^T)x$ and can apply this to our formula with $x = \\beta$ and $A = $Identity matrix:  \n",
    "$g'(\\beta) = \\lambda \\frac{\\partial \\beta^T Id \\beta}{\\partial x} = \\lambda (Id^T + Id)\\beta$  \n",
    "We know the Identity matrix is just a diagonal of ones and the transpose is the same so summing these gives us a matrix with a diagonal of 2's:  \n",
    "$g'(\\beta) = \\lambda 2Id * \\beta = 2\\lambda \\beta$\n",
    "\n",
    "---\n",
    "\n",
    "Putting these together we arrive at the gradient of F:  \n",
    "$\\nabla F = \\frac{1}{n} \\sum_{i=1}^{n} \\frac{1}{\\rho} \\frac {-\\rho y_ix_iexp(-\\rho y_ix_i^T\\beta)}{1+ \\exp (-\\rho y_ix_i^T\\beta)} + 2 \\lambda \\beta$   \n",
    "The rho terms inside the summation will simplify and we get our final result as:  \n",
    "$\\nabla F = \\frac{1}{n} \\sum_{i=1}^{n} \\frac {-y_ix_iexp(-\\rho y_ix_i^T\\beta)}{1+ \\exp (-\\rho y_ix_i^T\\beta)} + 2 \\lambda \\beta$  "
   ]
  },
  {
   "cell_type": "markdown",
   "metadata": {},
   "source": [
    "**Consider the `Spam` dataset from *The Elements of Statistical Learning*. Standardize the data,\n",
    "if you have not done so already. Be sure to use the training and test splits from the website.\n",
    "You can find the link to the train/test split here: `https://web.stanford.edu/~hastie/ElemStatLearn/data.html`**"
   ]
  },
  {
   "cell_type": "code",
   "execution_count": 2,
   "metadata": {},
   "outputs": [
    {
     "name": "stdout",
     "output_type": "stream",
     "text": [
      "X_train shape:  (3065, 57)\n",
      "X_test shape:  (1536, 57)\n",
      "y_train shape:  (3065, 1)\n",
      "y_test shape:  (1536, 1)\n"
     ]
    }
   ],
   "source": [
    "# read in Spam data\n",
    "spam = pd.read_csv(\"https://web.stanford.edu/~hastie/ElemStatLearn/datasets/spam.data\", sep=\" \", na_values=\"?\", header=None)\n",
    "spam = spam.dropna()\n",
    "\n",
    "# bring in train test split from website\n",
    "trainTestInd = pd.read_csv(\"https://web.stanford.edu/~hastie/ElemStatLearn/datasets/spam.traintest\", sep= \" \", header=None)\n",
    "spam = np.hstack((spam, trainTestInd))\n",
    "\n",
    "# seperate train and test using website indicator\n",
    "trainSpam = spam[spam[:,-1] == 0]\n",
    "testSpam = spam[spam[:,-1] == 1]\n",
    "\n",
    "# grab X values\n",
    "X_train = trainSpam[:, 0:57]\n",
    "X_test = testSpam[:, 0:57]\n",
    "\n",
    "# grab y values, replace 0's and 1's with -1's and 1's\n",
    "y_train = (trainSpam[:,-2])\n",
    "y_train = y_train.reshape((len(y_train), 1))\n",
    "y_train[y_train == 0] = -1\n",
    "y_test = testSpam[:,-2]\n",
    "y_test = y_test.reshape((len(y_test), 1))\n",
    "y_test[y_test == 0] = -1\n",
    "\n",
    "print(\"X_train shape: \", X_train.shape)\n",
    "print(\"X_test shape: \", X_test.shape)\n",
    "print(\"y_train shape: \", y_train.shape)\n",
    "print(\"y_test shape: \", y_test.shape)\n",
    "\n",
    "# standardizing X by subtracting the mean of the predictors and dividing by their standard deviation\n",
    "scaler = preprocessing.StandardScaler().fit(X_train)\n",
    "X_train = scaler.transform(X_train)\n",
    "X_test = scaler.transform(X_test)"
   ]
  },
  {
   "cell_type": "markdown",
   "metadata": {},
   "source": [
    "**Write a function *myrhologistic* that implements the accelerated gradient algorithm to train $l_2^2$-regularized binary logistic regression with ρ-logistic loss. The function takes as input the initial step-size for the backtracking rule, the ε for the stopping criterion based on the norm of the gradient of the objective, and the value of ρ.**"
   ]
  },
  {
   "cell_type": "code",
   "execution_count": 3,
   "metadata": {},
   "outputs": [],
   "source": [
    "def myrhologistic(X, y, stepSize, targetAccuracy, rho, lamb):\n",
    "    \"\"\"\n",
    "    Implements accelerated gradient descent algorithm with backtracking\n",
    "    for l-2 regularized binary logistic regression with p-logistic loss\n",
    "    Inputs:\n",
    "        - X: matrix of X values\n",
    "        - y: vector of associated outcomes\n",
    "        - stepSize: initial step size\n",
    "        - targetAccuracy: target accuracy value for algorithm\n",
    "        - rho: factor for logistic loss\n",
    "        - lambda: scalar multiplicative factor for regularization penalty\n",
    "    Outputs:\n",
    "        - betas: vector of improved betas after each iteration\n",
    "        - objs: vector of objective values for each iteration\n",
    "    \"\"\"\n",
    "    beta = np.zeros((X.shape[1], 1))\n",
    "    theta = np.zeros((X.shape[1], 1))\n",
    "    objs = [computeobj(X, y, beta, rho, lamb)]\n",
    "    betas = [beta]\n",
    "    grad = computegrad(X, y, beta, rho, lamb)\n",
    "    t = 0\n",
    "    while (np.linalg.norm(grad) > targetAccuracy):\n",
    "        stepSize = backtracking(X, y, beta, stepSize, rho, lamb)\n",
    "        betaOld = copy.copy(beta)\n",
    "        beta = theta - stepSize * computegrad(X, y, theta, rho, lamb)\n",
    "        theta = beta + (t/(t+3))*(beta - betaOld)\n",
    "        betas.append(beta) # saves current beta values\n",
    "        obj = computeobj(X, y, beta, rho, lamb)\n",
    "        objs.append(obj) # saves current objective value\n",
    "        grad = computegrad(X, y, beta, rho, lamb)\n",
    "        t += 1\n",
    "    return np.array(betas), np.array(objs)"
   ]
  },
  {
   "cell_type": "code",
   "execution_count": 4,
   "metadata": {},
   "outputs": [],
   "source": [
    "def computegrad(X, y, beta, rho, lamb):\n",
    "    \"\"\"\n",
    "    Computes the gradient for the fast gradient algorithm\n",
    "    Inputs:\n",
    "        - X: matrix of X values\n",
    "        - y: vector of associated outcomes\n",
    "        - beta: vector of beta constants\n",
    "        - rho: value of rho-logistic loss parameter\n",
    "        - lambda: scalar multiplicative factor for regularization penalty\n",
    "    Outputs:\n",
    "        - vector of gradient for passed in parameters\n",
    "    \"\"\"\n",
    "    n = len(X)\n",
    "    summation = 0\n",
    "    for i in range(0, X.shape[0]):\n",
    "        xi = X[i,:]\n",
    "        yi = y[i]\n",
    "        expTerm = ((np.exp(-rho * yi * (xi.T).dot(beta))) / (1 + (np.exp(-rho * yi * (xi.T).dot(beta)))))\n",
    "        summation += yi * xi * expTerm\n",
    "    summation = summation.reshape(summation.shape[0], 1)\n",
    "    return ((-1/n) * summation + (2*lamb*beta).reshape(summation.shape[0],1))"
   ]
  },
  {
   "cell_type": "code",
   "execution_count": 5,
   "metadata": {},
   "outputs": [],
   "source": [
    "def computeobj(X, y, beta, rho, lamb):\n",
    "    \"\"\"\n",
    "    Computes the objective for rho logistic loss problem\n",
    "    Inputs:\n",
    "        - X: matrix of X values\n",
    "        - y: vector of associated outcomes\n",
    "        - beta: vector of beta constants\n",
    "        - rho: value of rho-logistic loss parameter\n",
    "        - lambda: scalar multiplicative factor for regularization penalty\n",
    "    Outputs:\n",
    "        - objective for passed in parameters\n",
    "    \"\"\"\n",
    "    n = len(X)\n",
    "    summation = 0\n",
    "    for i in range(0, n):\n",
    "        xi = X[i,:]\n",
    "        yi = y[i]\n",
    "        x = -rho*yi*xi.T.dot(beta)\n",
    "        logTerm = np.log(1 + np.exp(x))\n",
    "        summation = summation + logTerm\n",
    "    return ((1/(n * rho)) * summation + (lamb * np.sum(beta**2)))[0]"
   ]
  },
  {
   "cell_type": "code",
   "execution_count": 6,
   "metadata": {},
   "outputs": [],
   "source": [
    "def backtracking(X, y, beta, eta, rho, lamb, alpha = 0.5, gamma=0.8):\n",
    "    \"\"\"\n",
    "    Implements backtracking rule\n",
    "    Inputs:\n",
    "        - X: matrix of X values\n",
    "        - y: vector of associated outcomes\n",
    "        - beta: vector of beta constants\n",
    "        - eta: initial step size\n",
    "        - rho: value of rho-logistic loss parameter\n",
    "        - lambda: scalar multiplicative factor for regularization penalty\n",
    "        - alpha: constant used to define sufficinet decrease condition, default set to 0.5\n",
    "        - gamma: constant to scale step size by until condition met, default set to 0.8\n",
    "    Outputs:\n",
    "        - step size\n",
    "    \"\"\"\n",
    "    grad = computegrad(X, y, beta, rho, lamb)  # calculates the gradient at current beta\n",
    "    conditionMet = False # tracks when we find the backtracked step size\n",
    "    while not conditionMet: \n",
    "        if computeobj(X, y, beta - eta*grad, rho, lamb) < (computeobj(X, y, beta, rho, lamb) - alpha*eta*np.linalg.norm(grad)**2):\n",
    "            conditionMet = True\n",
    "        else:\n",
    "            eta = eta * gamma            \n",
    "    return eta"
   ]
  },
  {
   "cell_type": "markdown",
   "metadata": {},
   "source": [
    "**Train your $l_2^2$-regularized binary logistic regression with ρ-logistic loss with ρ = 2 and ε = 10−3\n",
    "on the the Spam dataset for the λ = 1. Report your misclassification error for this value of λ.**"
   ]
  },
  {
   "cell_type": "code",
   "execution_count": 7,
   "metadata": {},
   "outputs": [],
   "source": [
    "# set constants\n",
    "rho = 2\n",
    "epsilon = 0.001\n",
    "lamb = 1\n",
    "\n",
    "# calculate starting step size for training X values\n",
    "n = len(X_train)\n",
    "eq = (1/n * X_train.T.dot(X_train))\n",
    "eigenVals = eigh(eq)[0]\n",
    "initialStepSize = 1 / (max(eigenVals) + lamb)\n",
    "\n",
    "# train algorithm\n",
    "trainBetas, trainObjs = myrhologistic(X_train, y_train, initialStepSize, epsilon, rho, lamb)"
   ]
  },
  {
   "cell_type": "code",
   "execution_count": 8,
   "metadata": {},
   "outputs": [
    {
     "data": {
      "image/png": "[encoded data removed]",
      "text/plain": [
       "<Figure size 432x288 with 1 Axes>"
      ]
     },
     "metadata": {
      "needs_background": "light"
     },
     "output_type": "display_data"
    }
   ],
   "source": [
    "# plot objective values to verify they are decreasing properly\n",
    "plt.plot(trainObjs, color = \"purple\")\n",
    "plt.ylabel(\"Objective values\")\n",
    "plt.xlabel(\"Iterations\")\n",
    "plt.title(\"Objective Value vs Iteration Counter\")\n",
    "plt.show()"
   ]
  },
  {
   "cell_type": "markdown",
   "metadata": {},
   "source": [
    "Here we see the objective value is decreasing as the number of iterations increase as we would expect. The function looks like it converges around 13 iterations which is pretty quick and is consistant with the large lambda value."
   ]
  },
  {
   "cell_type": "code",
   "execution_count": 9,
   "metadata": {},
   "outputs": [],
   "source": [
    "def calcMisclassificationError(X, y, betas):\n",
    "    \"\"\"\n",
    "    Calculates the misclassification error for a binary response variable\n",
    "    Inputs:\n",
    "        - X: matrix of X values\n",
    "        - y: vector of associated outcomes, binary\n",
    "        - betas: coefficients that correspond to X values\n",
    "    Outputs:\n",
    "        - misclassifications: ratio of incorrect values / total values for all betas\n",
    "    \"\"\"\n",
    "    misclassifications = np.zeros((betas.shape[0], 1))\n",
    "    for b in range(betas.shape[0]):\n",
    "        betaVals = betas[b]\n",
    "        incorrect = 0\n",
    "        for i in range(X.shape[0]):\n",
    "            prediction = np.sum(np.dot(X[i], betaVals))\n",
    "            if(prediction > 0): # maps the 0 and 1 values to -1 and 1\n",
    "                prediction = 1\n",
    "            else:\n",
    "                prediction = -1\n",
    "            if(prediction != y[i]):\n",
    "                incorrect +=1\n",
    "        misclassifications[b,:] = (incorrect / X.shape[0])\n",
    "    return misclassifications"
   ]
  },
  {
   "cell_type": "code",
   "execution_count": 10,
   "metadata": {},
   "outputs": [
    {
     "data": {
      "image/png": "[encoded data removed]",
      "text/plain": [
       "<Figure size 432x288 with 1 Axes>"
      ]
     },
     "metadata": {
      "needs_background": "light"
     },
     "output_type": "display_data"
    }
   ],
   "source": [
    "# calculate misclassification error\n",
    "trainMisclassification = calcMisclassificationError(X_train, y_train, trainBetas)\n",
    "\n",
    "# plot misclassification error\n",
    "plt.plot(trainMisclassification, color = \"red\")\n",
    "plt.ylabel(\"Misclassification Rate\")\n",
    "plt.xlabel(\"Iterations\")\n",
    "plt.title(\"Training Data Misclassification Rates vs Iteration Counter\")\n",
    "plt.show()"
   ]
  },
  {
   "cell_type": "markdown",
   "metadata": {},
   "source": [
    "The misclassification rate lowers as the number of iterations increases which is also expected behavior since our function should be optimizing for the ideal beta coefficients for our function. The rate seems to even out around .1, which is 10% misclassification. This seems reasonable, especially considering we are using a non-optimized lambda value of 1."
   ]
  },
  {
   "cell_type": "markdown",
   "metadata": {},
   "source": [
    "**Write a function *crossval* that implements leave-one-out cross-validation and hold-out crossvalidation. You may either write a function that implements each variant separately depending on the case, or write a general cross-validation function that can be instantiated in each case.**"
   ]
  },
  {
   "cell_type": "code",
   "execution_count": 11,
   "metadata": {},
   "outputs": [],
   "source": [
    "def leaveOneOutCrossValidation(X, y, lambdas, epsilon, rho):\n",
    "    \"\"\"\n",
    "    Finds optimal value of lambda from input options using leave one out cross validation method\n",
    "    Inputs:\n",
    "        - X: x-data used to train model\n",
    "        - y: y-data used to train model\n",
    "        - lambdas: array of lambda values to try as optimal value\n",
    "        - epsilon: target accuracy for stopping criteria of logistic regression\n",
    "        - rho: value of rho parameter to train logistic loss model with\n",
    "    Outputs:\n",
    "        - optimized lambda value chosen from input array\n",
    "    \"\"\"\n",
    "    optimizedLamb = 0\n",
    "    misclassificationRate = 1 # set this at max\n",
    "    for lamb in lambdas:\n",
    "        # calculates Beta values once per lambda since they should not vary much with one row missing each iteration\n",
    "        n = len(X)\n",
    "        eq = (1/n * X.T.dot(X))\n",
    "        eigenVals = eigh(eq)[0]\n",
    "        initialStepSize = 1 / (max(eigenVals) + lamb) # gets initial step size for each value of lambda\n",
    "        # trains model to get coefficients with all data together\n",
    "        modelBetas, modelObjs = myrhologistic(X, y, initialStepSize, epsilon, rho, lamb)\n",
    "        scores = []\n",
    "        for i in range(len(X)):  \n",
    "            xRow = X[i]\n",
    "            yRow = y[i][0]\n",
    "            prediction = np.sum(np.dot(xRow, modelBetas[-1]))\n",
    "            score = 1\n",
    "            if(prediction > 0): # maps the 0 and 1 values to -1 and 1\n",
    "                prediction = 1\n",
    "            else:\n",
    "                prediction = -1\n",
    "            if(prediction == yRow):\n",
    "                score = 0\n",
    "            scores.append(score)\n",
    "        if(mean((scores)) < misclassificationRate):\n",
    "            misclassificationRate = mean((scores))\n",
    "            optimizedLamb = lamb\n",
    "    return optimizedLamb"
   ]
  },
  {
   "cell_type": "markdown",
   "metadata": {},
   "source": [
    "I optimized the leave-one-out method by using the same betas for all leave one out combinations. The coefficients are recalculated for each lambda value as they will have a strong impact in this. Since n is large in both cases where I call this function in this assignment, I am using the assumption that removing one row of data would not change the beta values by much.  \n",
    "\n",
    "I attempted to not make this adjustment but after running my code on AWS for almost an entire day and having it still not complete, I made this alteration in the interst of time and cost. However, I ran small subsets of the data with the betas being recalculated each iteration and my results were consistant. My main takeaway from this, as we would expect, is that leave one out cross validation is not a great method for large sample sizes."
   ]
  },
  {
   "cell_type": "code",
   "execution_count": 12,
   "metadata": {},
   "outputs": [],
   "source": [
    "def holdOutCrossValidation(X, y, lambdas, epsilon, rho):\n",
    "    \"\"\"\n",
    "    Finds optimal value of lambda from input options using hold out cross validation method\n",
    "    Inputs:\n",
    "        - X: x-data used to train model\n",
    "        - y: y-data used to train model\n",
    "        - lambdas: array of lambda values to try as optimal\n",
    "        - epsilon: target accuracy for stopping criteria of logistic regression\n",
    "        - rho: value of rho parameter to train logistic loss model with\n",
    "    Outputs:\n",
    "        - optimized lambda value chosen from input array\n",
    "    \"\"\"\n",
    "    X_train, X_test, y_train, y_test = train_test_split(X, y, test_size=0.2) # 80%/20% split\n",
    "    optimizedLamb = 0\n",
    "    misclassificationRate = 1 # set this at max\n",
    "    for lamb in lambdas:  \n",
    "        n = len(X_train)\n",
    "        eq = (1/n * X_train.T.dot(X_train))\n",
    "        eigenVals = eigh(eq)[0]\n",
    "        initialStepSize = 1 / (max(eigenVals) + lamb)\n",
    "        modelBetas, modelObjs = myrhologistic(X_train, y_train, initialStepSize, epsilon, rho, lamb)\n",
    "        modelMisclassification = calcMisclassificationError(X_test, y_test, modelBetas)\n",
    "        if(modelMisclassification[-1] < misclassificationRate):\n",
    "            misclassificationRate = modelMisclassification[-1]\n",
    "            optimizedLamb = lamb\n",
    "    return optimizedLamb"
   ]
  },
  {
   "cell_type": "markdown",
   "metadata": {},
   "source": [
    "**Find the optimal value of λ using leave-one-out cross-validation. Find the optimal value of λ\n",
    "using hold-out cross-validation with a 80%/20% split for the training set/testing set. Report\n",
    "your misclassification errors for the two values of λ found.**"
   ]
  },
  {
   "cell_type": "code",
   "execution_count": 13,
   "metadata": {},
   "outputs": [
    {
     "name": "stdout",
     "output_type": "stream",
     "text": [
      "Optimal value of lambda from leave-one-out cross validation: 1e-06\n"
     ]
    }
   ],
   "source": [
    "# leave one out cross validation\n",
    "lambdas = [0.000001, 0.00001, 0.0001, 0.001, 0.01, 0.1, 1, 10, 100, 1000]\n",
    "lOOLamb = leaveOneOutCrossValidation(X_train, y_train, lambdas, 0.001, 2)\n",
    "\n",
    "print(\"Optimal value of lambda from leave-one-out cross validation:\", lOOLamb)\n",
    "\n",
    "# find starting step size for new lambda from leave one out cross validation\n",
    "n = len(X_train)\n",
    "eq = (1/n * X_train.T.dot(X_train))\n",
    "eigenVals = eigh(eq)[0]\n",
    "lOOInitialStepSize = 1 / (max(eigenVals) + lOOLamb)\n",
    "\n",
    "# train algorithm\n",
    "lOOBetas, lOOObjs = myrhologistic(X_train, y_train, lOOInitialStepSize, epsilon, rho, lOOLamb)"
   ]
  },
  {
   "cell_type": "code",
   "execution_count": 14,
   "metadata": {},
   "outputs": [
    {
     "name": "stdout",
     "output_type": "stream",
     "text": [
      "Optimal value of lambda from hold-out cross validation: 1e-06\n"
     ]
    }
   ],
   "source": [
    "# hold out cross validation\n",
    "lambdas = [0.000001, 0.00001, 0.0001, 0.001, 0.01, 0.1, 1, 10, 100, 1000]\n",
    "hOLamb = holdOutCrossValidation(X_train, y_train, lambdas, 0.001, 2)\n",
    "\n",
    "print(\"Optimal value of lambda from hold-out cross validation:\", hOLamb)\n",
    "\n",
    "# find starting step size for new lambda from hold out cross validation\n",
    "n = len(X_train)\n",
    "eq = (1/n * X_train.T.dot(X_train))\n",
    "eigenVals = eigh(eq)[0]\n",
    "hOInitialStepSize = 1 / (max(eigenVals) + hOLamb)\n",
    "\n",
    "# train algorithm\n",
    "hOBetas, hOObjs = myrhologistic(X_train, y_train, hOInitialStepSize, epsilon, rho, hOLamb)"
   ]
  },
  {
   "cell_type": "code",
   "execution_count": 15,
   "metadata": {},
   "outputs": [
    {
     "data": {
      "image/png": "[encoded data removed]",
      "text/plain": [
       "<Figure size 432x288 with 1 Axes>"
      ]
     },
     "metadata": {
      "needs_background": "light"
     },
     "output_type": "display_data"
    }
   ],
   "source": [
    "# plot objective values\n",
    "plt.plot(lOOObjs, color = \"red\")\n",
    "plt.plot(hOObjs, color = \"purple\")\n",
    "plt.ylabel(\"Objective values\")\n",
    "plt.xlabel(\"Iterations\")\n",
    "plt.title(\"Objective Value vs Iteration Counter with Optimized Lambdas\")\n",
    "plt.legend([\"Lambda from Leave One Out Cross Validation\", \"Lambda from Hold Out Cross Validation\"])\n",
    "plt.show()"
   ]
  },
  {
   "cell_type": "markdown",
   "metadata": {},
   "source": [
    "The lambda from hold out cross validation converges in less iterations than that found from the leave one out method which is consistant with the hold-out method seelcting a larger lambda value. The lambda from the leave one out method also reaches a slightly lower final objective value but they decrease at very similar rates."
   ]
  },
  {
   "cell_type": "code",
   "execution_count": 16,
   "metadata": {},
   "outputs": [
    {
     "data": {
      "image/png": "[encoded data removed]",
      "text/plain": [
       "<Figure size 432x288 with 1 Axes>"
      ]
     },
     "metadata": {
      "needs_background": "light"
     },
     "output_type": "display_data"
    }
   ],
   "source": [
    "# calculate misclassification error on training set\n",
    "lOOMisclassification = calcMisclassificationError(X_train, y_train, lOOBetas)\n",
    "hOMisclassification = calcMisclassificationError(X_train, y_train, hOBetas)\n",
    "        \n",
    "# plot misclassification curves\n",
    "plt.plot(lOOMisclassification, color = \"red\")\n",
    "plt.plot(hOMisclassification, color = \"purple\")\n",
    "plt.ylabel(\"Misclassification Rate\")\n",
    "plt.xlabel(\"Iterations\")\n",
    "plt.title(\"Training Data Misclassification Rates vs Iteration Counter with Optimal Lambda\")\n",
    "plt.legend([\"Lambda from Leave One Out Cross Validation\", \"Lambda from Hold Out Cross Validation\"])\n",
    "plt.show()"
   ]
  },
  {
   "cell_type": "markdown",
   "metadata": {},
   "source": [
    "The misclassification rates are almost identical for the models trained with the lambda values found using the leave one out vs the hold out cross validation methods. This makes me confident that the method of choice for choosing the best lambda value will not have huge impact on my algorithm going forward."
   ]
  },
  {
   "cell_type": "markdown",
   "metadata": {},
   "source": [
    "### Data Competition Project"
   ]
  },
  {
   "cell_type": "code",
   "execution_count": 17,
   "metadata": {},
   "outputs": [
    {
     "name": "stdout",
     "output_type": "stream",
     "text": [
      "Number of images in x_train: 1000\n",
      "Dimension of features: 4096\n"
     ]
    }
   ],
   "source": [
    "# read in Kaggle image data\n",
    "data_dir = \"../Kaggle/data_competition1_files\"\n",
    "\n",
    "x_train_unfiltered = np.load(os.path.join(data_dir, 'train_features.npy'))\n",
    "y_train_unfiltered = np.load(os.path.join(data_dir, 'train_labels.npy'))\n",
    "x_test_unfiltered = np.load(os.path.join(data_dir, 'val_features.npy'))\n",
    "y_test_unfiltered = np.load(os.path.join(data_dir, 'val_labels.npy'))\n",
    "\n",
    "kaggleTest = np.load(os.path.join(data_dir, 'test_features.npy'))\n",
    "\n",
    "# filter testing data to two classes: 4, 7\n",
    "x_train = np.zeros((1000, x_train_unfiltered.shape[1]))\n",
    "y_train = np.zeros((1000, 1))\n",
    "index = 0\n",
    "for i in range(y_train_unfiltered.shape[0]):\n",
    "    if(y_train_unfiltered[i] == 4 or y_train_unfiltered[i] == 7):\n",
    "        x_train[index, :] = x_train_unfiltered[i].T\n",
    "        y_train[index, :] = y_train_unfiltered[i]\n",
    "        index += 1\n",
    "\n",
    "y_train[y_train == 4] = -1\n",
    "y_train[y_train == 7] = 1\n",
    "\n",
    "# filter testing data to two classes: 4, 7\n",
    "x_test = np.zeros((200, x_test_unfiltered.shape[1]))\n",
    "y_test = np.zeros((200, 1))\n",
    "index = 0\n",
    "\n",
    "for i in range(y_test_unfiltered.shape[0]):\n",
    "    if(y_test_unfiltered[i] == 4 or y_test_unfiltered[i] == 7):\n",
    "        x_test[index, :] = x_test_unfiltered[i].T\n",
    "        y_test[index, :] = y_test_unfiltered[i]\n",
    "        index += 1\n",
    "\n",
    "# reset y data to -1 and 1 to fit machine learning standards\n",
    "y_test[y_test == 4] = -1\n",
    "y_test[y_test == 7] = 1\n",
    "\n",
    "# check dimensions\n",
    "print(\"Number of images in x_train:\", x_train.shape[0])\n",
    "print(\"Dimension of features:\", x_train.shape[1])\n",
    "\n",
    "# standardize x values\n",
    "xScaler = preprocessing.StandardScaler()\n",
    "X_train = xScaler.fit_transform(x_train)\n",
    "X_test = xScaler.transform(x_test)"
   ]
  },
  {
   "cell_type": "markdown",
   "metadata": {},
   "source": [
    "**Pick two classes of your choice from the dataset. Train a classifier using $l_2^2$-regularized binary\n",
    "logistic regression with ρ-logistic loss on the training set using your own accelerated gradient\n",
    "algorithm with ρ = 2, ε = 10−3, and λ = 1. Be sure to use the features you previously generated with the provided script rather than the raw image features. Plot, with different colors, the misclassification error on the training set and on the validation set vs iterations.**"
   ]
  },
  {
   "cell_type": "code",
   "execution_count": 18,
   "metadata": {},
   "outputs": [],
   "source": [
    "# set constants\n",
    "rho = 2\n",
    "epsilon = .001\n",
    "lamb = 1\n",
    "\n",
    "# calculate starting step size for training data\n",
    "n = len(X_train)\n",
    "eq = (1/n * X_train.T.dot(X_train))\n",
    "eigenVals = eigh(eq)[0]\n",
    "kaggleTrainInitialStepSize = 1 / (max(eigenVals) + lamb)\n",
    "\n",
    "# train algorithm with training data\n",
    "kaggleTrainBetas, kaggleTrainObjs = myrhologistic(X_train, y_train, kaggleTrainInitialStepSize, epsilon, rho, lamb)"
   ]
  },
  {
   "cell_type": "code",
   "execution_count": 19,
   "metadata": {},
   "outputs": [],
   "source": [
    "# calculate starting step size for validation data\n",
    "n = len(X_test)\n",
    "eq = (1/n * X_test.T.dot(X_test))\n",
    "eigenVals = eigh(eq)[0]\n",
    "kaggleTestInitialStepSize = 1 / (max(eigenVals) + lamb)\n",
    "\n",
    "# train algorithm with training data\n",
    "kaggleTestBetas, kaggleTestObjs = myrhologistic(X_test, y_test, kaggleTestInitialStepSize, epsilon, rho, lamb)"
   ]
  },
  {
   "cell_type": "code",
   "execution_count": 20,
   "metadata": {},
   "outputs": [
    {
     "data": {
      "image/png": "[encoded data removed]",
      "text/plain": [
       "<Figure size 432x288 with 1 Axes>"
      ]
     },
     "metadata": {
      "needs_background": "light"
     },
     "output_type": "display_data"
    }
   ],
   "source": [
    "# plot objective values to verify they are decreasing properly\n",
    "plt.plot(kaggleTrainObjs, color = \"purple\")\n",
    "plt.plot(kaggleTestObjs, color = \"red\")\n",
    "plt.ylabel(\"Objective values\")\n",
    "plt.xlabel(\"Iterations\")\n",
    "plt.legend([\"Training Data\", \"Validation Data\"])\n",
    "plt.title(\"Objective Values vs Iteration Counter\")\n",
    "plt.show()"
   ]
  },
  {
   "cell_type": "markdown",
   "metadata": {},
   "source": [
    "Here we can see that the objective values for both the training and validation data decrease as the number of iterations increases which is the expected behavior for our data. The validation data gets to a slightly lower objective value which is a good sign that our coefficients are not overfit to the training data. The validation data also runs for many more iterations which I'm guessing could be a product of the initial step size and smaller sample size taking longer to reach the target accuracy since the rest of the constants are the same for both."
   ]
  },
  {
   "cell_type": "code",
   "execution_count": 21,
   "metadata": {},
   "outputs": [],
   "source": [
    "def calcKaggleMisclassificationError(X, y, betas):\n",
    "    \"\"\"\n",
    "    Calculates the misclassification error for a 0-9 response variable\n",
    "    Inputs:\n",
    "        - X: matrix of X values\n",
    "        - y: vector of associated outcomes, 0-9\n",
    "        - betas: coefficients that correspond to X values\n",
    "    Outputs:\n",
    "        - misclassifications: ratio of incorrect values / total values for all betas\n",
    "    \"\"\"\n",
    "    misclassifications = np.zeros((betas.shape[0], 1))\n",
    "    for b in range(betas.shape[0]):\n",
    "        betaVals = betas[b]\n",
    "        incorrect = 0\n",
    "        for i in range(X.shape[0]):\n",
    "            prediction = np.sum(np.dot(X[i], betaVals))\n",
    "            if(prediction > 0):\n",
    "                prediction = 1\n",
    "            else:\n",
    "                prediction = -1\n",
    "            if(prediction != y[i]):\n",
    "                incorrect +=1\n",
    "        misclassifications[b,:] = (incorrect / X.shape[0])\n",
    "    return misclassifications"
   ]
  },
  {
   "cell_type": "code",
   "execution_count": 22,
   "metadata": {},
   "outputs": [
    {
     "data": {
      "image/png": "[encoded data removed]",
      "text/plain": [
       "<Figure size 432x288 with 1 Axes>"
      ]
     },
     "metadata": {
      "needs_background": "light"
     },
     "output_type": "display_data"
    }
   ],
   "source": [
    "# calculate misclassification errors\n",
    "kaggleTrainMisclassification = calcKaggleMisclassificationError(X_train, y_train, kaggleTrainBetas)\n",
    "kaggleTestMisclassification = calcKaggleMisclassificationError(X_test, y_test, kaggleTrainBetas)\n",
    "\n",
    "# plot misclassification error\n",
    "plt.plot(kaggleTrainMisclassification, color = \"purple\")\n",
    "plt.plot(kaggleTestMisclassification, color = \"red\")\n",
    "plt.ylabel(\"Misclassification Rate\")\n",
    "plt.xlabel(\"Iterations\")\n",
    "plt.title(\"Misclassification Rates vs Iteration Counter\")\n",
    "plt.legend([\"Training Data\", \"Validation Data\"])\n",
    "plt.show()"
   ]
  },
  {
   "cell_type": "markdown",
   "metadata": {},
   "source": [
    "Here, the misclassification rates are very suprisingly low for both (likely an effect of having only two classes) the training and validation data and decreases with the number of iterations as we would expect since the beta coefficients will become a better fit with each iteration. The values are also very similar for both train and validation data which is a good sign the model is not over or under fitting."
   ]
  },
  {
   "cell_type": "markdown",
   "metadata": {},
   "source": [
    "**Find the value of the regularization parameter λ using using leave-one-out cross-validation. Find the value of the regularization parameter λ using using hold-out cross-validation. Train a classifier using $l_2^2$-regularized binary logistic regression with ρ-logistic loss on the training set using your own accelerated gradient algorithm with that value of λ found by hold-out cross-validation. Plot, with different colors, the misclassification error on the training set and on the validation set vs. iterations.**"
   ]
  },
  {
   "cell_type": "code",
   "execution_count": 23,
   "metadata": {},
   "outputs": [
    {
     "name": "stdout",
     "output_type": "stream",
     "text": [
      "Optimal value of lambda from leave-one-out cross validation: 1e-06\n"
     ]
    }
   ],
   "source": [
    "# leave one out cross validation\n",
    "lambdas = [0.000001, 0.00001, 0.0001, 0.001, 0.01, 0.1, 1, 10, 100, 1000]\n",
    "lOOLamb = leaveOneOutCrossValidation(X_train, y_train, lambdas, epsilon, rho)\n",
    "\n",
    "print(\"Optimal value of lambda from leave-one-out cross validation:\", lOOLamb)\n",
    "\n",
    "# find starting step size for new lambda from leave one out cross validation\n",
    "n = len(X_train)\n",
    "eq = (1/n * X_train.T.dot(X_train))\n",
    "eigenVals = eigh(eq)[0]\n",
    "lOOInitialStepSize = 1 / (max(eigenVals) + lOOLamb)\n",
    "\n",
    "# train algorithm\n",
    "lOOBetas, lOOObjs = myrhologistic(X_train, y_train, lOOInitialStepSize, epsilon, rho, lOOLamb)"
   ]
  },
  {
   "cell_type": "code",
   "execution_count": null,
   "metadata": {},
   "outputs": [],
   "source": [
    "# hold out cross validation\n",
    "lambdas = [0.0001, 0.001, 0.01, 0.1, 1, 10, 100]\n",
    "hOLamb = holdOutCrossValidation(X_train, y_train, lambdas, epsilon, rho)\n",
    "\n",
    "print(\"Optimal value of lambda from hold-out cross validation:\", hOLamb)\n",
    "\n",
    "\n",
    "# find starting step size for new lambda from hold out cross validation\n",
    "n = len(X_train)\n",
    "eq = (1/n * X_train.T.dot(X_train))\n",
    "eigenVals = eigh(eq)[0]\n",
    "hOInitialStepSize = 1 / (max(eigenVals) + hOLamb)\n",
    "\n",
    "# train algorithm\n",
    "hOBetas, hOObjs = myrhologistic(X_train, y_train, hOInitialStepSize, epsilon, rho, hOLamb)"
   ]
  },
  {
   "cell_type": "code",
   "execution_count": null,
   "metadata": {},
   "outputs": [],
   "source": [
    "# plot objective values\n",
    "plt.plot(lOOObjs, color = \"red\")\n",
    "plt.plot(hOObjs, color = \"purple\")\n",
    "plt.ylabel(\"Objective values\")\n",
    "plt.xlabel(\"Iterations\")\n",
    "plt.title(\"Objective Value vs Iteration Counter\")\n",
    "plt.legend([\"Lambda from Leave One Out Cross Validation\", \"Lambda from Hold Out Cross Validation\"])\n",
    "plt.show()"
   ]
  },
  {
   "cell_type": "markdown",
   "metadata": {},
   "source": [
    "The lambdas found using the hold-out method and leave-one-out method are very similar and exhibit almost identical objective behavior. The model trained with the lambda found with the leave one out method takes a few more iterations to converge but they decrease at an almost identical rate."
   ]
  },
  {
   "cell_type": "code",
   "execution_count": null,
   "metadata": {},
   "outputs": [],
   "source": [
    "# calculate misclassification error on training set\n",
    "hOTrainMisclassification = calcKaggleMisclassificationError(X_train, y_train, hOBetas)\n",
    "hOTestMisclassification = calcKaggleMisclassificationError(X_test, y_test, hOBetas)\n",
    "        \n",
    "# plot misclassification curves\n",
    "plt.plot(hOTrainMisclassification, color = \"red\")\n",
    "plt.plot(hOTestMisclassification, color = \"purple\")\n",
    "plt.ylabel(\"Misclassification Rate\")\n",
    "plt.xlabel(\"Iterations\")\n",
    "plt.title(\"Training Data Misclassification Rates vs Iteration Counter with Optimal Lambda\")\n",
    "plt.legend([\"Train Data\", \"Validation Data\"])\n",
    "plt.show()"
   ]
  },
  {
   "cell_type": "markdown",
   "metadata": {},
   "source": [
    "Here we can see that the model fits the training and validation models very well, with close to 0 misclassification rate. The validation model shows a slighly higher misclassification rate which is expected behavior since the model was not trained with this data."
   ]
  },
  {
   "cell_type": "markdown",
   "metadata": {},
   "source": [
    "**Consider all pairs of classes from the dataset. For each pair of classes, train a classifier using\n",
    "a $l_2^2$-regularized binary logistic regression with ρ-logistic loss on the training set comprising\n",
    "only the data-points for that pair of classes using your own fast gradient algorithm. For each pair of classes, find the value of the regularization parameter λ using hold-out cross-validation on the training set comprising only the data-points for that pair of classes.**"
   ]
  },
  {
   "cell_type": "code",
   "execution_count": null,
   "metadata": {},
   "outputs": [],
   "source": [
    "def getData(label1, label2):\n",
    "    \"\"\"\n",
    "    Gets training and test data from kaggle dataset filtered by 2 specified labels\n",
    "    Inputs:\n",
    "        - label1: first label for filtering kaggle image dataset (0 - 9)\n",
    "        - label2: second label for filtering kaggle image dataset (0 - 9), must be different than label1\n",
    "    Outputs:\n",
    "        - X_train: 75% of filtered x values to use for model training\n",
    "        - X_test: 25% of filtered x values to use for model testing\n",
    "        - y_train: 75% of filtered y values to use for model training\n",
    "        - y_test: 25% of filtered y values to use for model testing\n",
    "    \"\"\"\n",
    "    #filters x training values down to rows with matching input labels\n",
    "    x_train = np.zeros((1000, x_train_unfiltered.shape[1]))\n",
    "    y_train = np.zeros((1000, 1))\n",
    "    index = 0\n",
    "    for i in range(y_train_unfiltered.shape[0]):\n",
    "        if(y_train_unfiltered[i] == label1 or y_train_unfiltered[i] == label2):\n",
    "            x_train[index, :] = x_train_unfiltered[i].T\n",
    "            y_train[index, :] = y_train_unfiltered[i]\n",
    "            index += 1\n",
    "    \n",
    "    # reset train y data to -1 and 1 to fit machine learning standards\n",
    "    y_train[y_train == label1] = -1\n",
    "    y_train[y_train == label2] = 1\n",
    "\n",
    "    #filters x testing values down to rows with matching input labels\n",
    "    x_test = np.zeros((200, x_test_unfiltered.shape[1]))\n",
    "    y_test = np.zeros((200, 1))\n",
    "    index = 0\n",
    "    for i in range(y_test_unfiltered.shape[0]):\n",
    "        if(y_test_unfiltered[i] == label1 or y_test_unfiltered[i] == label1):\n",
    "            x_test[index, :] = x_test_unfiltered[i].T\n",
    "            y_test[index, :] = y_test_unfiltered[i]\n",
    "            index += 1\n",
    "\n",
    "    # reset y data to -1 and 1 to fit machine learning standards\n",
    "    y_test[y_test == label1] = -1\n",
    "    y_test[y_test == label1] = 1\n",
    "\n",
    "    # standardize x values\n",
    "    xScaler = preprocessing.StandardScaler()\n",
    "    X_train = xScaler.fit_transform(x_train)\n",
    "    X_test = xScaler.transform(x_test)\n",
    "    \n",
    "    return X_train, X_test, y_train, y_test"
   ]
  },
  {
   "cell_type": "code",
   "execution_count": null,
   "metadata": {},
   "outputs": [],
   "source": [
    "def getPairwiseLambdas():\n",
    "    \"\"\"\n",
    "    Optimizes lambda values for each pairwise combinations of labels from kaggle image dataset. \n",
    "    Uses hold out cross validation with 20% of the data in the test set.\n",
    "    Outputs:\n",
    "        - lambdas: matrix of optimized lambda value for each pairwise comparasin of 0-9 labels\n",
    "    \"\"\"\n",
    "    lambdas = np.zeros((10, 10))\n",
    "    lambdaVals = [0.0001, 0.001, 0.01, 0.1, 1, 10, 100]\n",
    "    for i in range (0, 10):\n",
    "        for j in range (i + 1, 10):\n",
    "            X_train, X_test, y_train, y_test = getData(i, j)\n",
    "            hOLamb = holdOutCrossValidation(X_train, y_train, lambdaVals, 0.001, 2)\n",
    "            lambdas[i,j] = hOLamb\n",
    "    return lambdas\n",
    "\n",
    "#lambdas = getPairwiseLambdas()\n",
    "# lambda values calculated from running script on AWS and copied over\n",
    "lambdas = np.array([[0.e+00, 1.e+00, 1.e-04, 1.e-04, 1.e-04, 1.e-04, 1.e+00, 1.e-04, 1.e-04, 1.e-04],\n",
    "       [0.e+00, 0.e+00, 1.e-03, 1.e+00, 1.e-02, 1.e-01, 1.e-01, 1.e-02, 1.e+00, 1.e-01],\n",
    "       [0.e+00, 0.e+00, 0.e+00, 1.e-04, 1.e+00, 1.e-04, 1.e-04, 1.e-04, 1.e-04, 1.e-02],\n",
    "       [0.e+00, 0.e+00, 0.e+00, 0.e+00, 1.e+00, 1.e+00, 1.e-01, 1.e-01, 1.e-04, 1.e-04],\n",
    "       [0.e+00, 0.e+00, 0.e+00, 0.e+00, 0.e+00, 1.e-04, 1.e-01, 1.e-04, 1.e+00, 1.e-01],\n",
    "       [0.e+00, 0.e+00, 0.e+00, 0.e+00, 0.e+00, 0.e+00, 1.e-04, 1.e-04, 1.e-04, 1.e-04],\n",
    "       [0.e+00, 0.e+00, 0.e+00, 0.e+00, 0.e+00, 0.e+00, 0.e+00, 1.e-04, 1.e-04, 1.e-04],\n",
    "       [0.e+00, 0.e+00, 0.e+00, 0.e+00, 0.e+00, 0.e+00, 0.e+00, 0.e+00, 1.e+00, 1.e-03],\n",
    "       [0.e+00, 0.e+00, 0.e+00, 0.e+00, 0.e+00, 0.e+00, 0.e+00, 0.e+00, 0.e+00, 1.e+00],\n",
    "       [0.e+00, 0.e+00, 0.e+00, 0.e+00, 0.e+00, 0.e+00, 0.e+00, 0.e+00, 0.e+00, 0.e+00]])"
   ]
  },
  {
   "cell_type": "code",
   "execution_count": null,
   "metadata": {},
   "outputs": [],
   "source": [
    "# calculate ideal betas using grid of lambda values\n",
    "betasForIdealLambdas = []\n",
    "for i in range (0, 10):\n",
    "    for j in range (i + 1, 10):\n",
    "        X_train, X_test, y_train, y_test = getData(i, j)\n",
    "        n = len(X_train)\n",
    "        lamb = lambdas[i, j]\n",
    "        eq = (1/n * X_train.T.dot(X_train))\n",
    "        eigenVals = eigh(eq)[0]\n",
    "        initialStepSize = 1 / (max(eigenVals) + lamb)\n",
    "        betas, objs = myrhologistic(X_train, y_train, initialStepSize, 0.001, 2, lamb)\n",
    "        betasForIdealLambdas.append(betas[-1])"
   ]
  },
  {
   "cell_type": "markdown",
   "metadata": {},
   "source": [
    "**Write a function that for any new data point predicts its label. To do this, you will perform the following: input the data point into each classifier (for each pair of classes) you trained above. Record the class predicted by each classifier. Then your prediction for this data point is the most frequently predicted class. If there is a tie, randomly choose between the tied classes. Report the misclassification error on the validation set and test set. Report the precision/recall on the validation set.**"
   ]
  },
  {
   "cell_type": "code",
   "execution_count": null,
   "metadata": {},
   "outputs": [],
   "source": [
    "def predictLabel(testData, lambdas, betas):\n",
    "    \"\"\"\n",
    "    Predicts a 0-9 label for any row of the kaggle image dataset\n",
    "    Inputs:\n",
    "        - testData: row of data to predict a label for\n",
    "        - lambdas: matrix of lambda values for all pairwise comparasins\n",
    "        - betas: list of optimized beta values for all pairwise comparasins, in order of pairwise comparasins\n",
    "    Outputs:\n",
    "        - most commonly predicted label from all pairwise comparasins\n",
    "    \"\"\"\n",
    "    predictions = []\n",
    "    index = 0\n",
    "    for i in range (0, 10):\n",
    "        for j in range (i + 1, 10):\n",
    "            beta = betasForIdealLambdas[index]\n",
    "            index += 1\n",
    "            prediction = np.sum(np.dot(testData, beta))\n",
    "            if(prediction > 0):\n",
    "                prediction = j\n",
    "            else:\n",
    "                prediction = i\n",
    "            predictions.append(prediction)\n",
    "    # returns most frequent, randomly selects depending on insert order if there is a tie\n",
    "    return Counter(predictions).most_common(1)[0][0]"
   ]
  },
  {
   "cell_type": "code",
   "execution_count": null,
   "metadata": {},
   "outputs": [],
   "source": [
    "# make predictions for Kaggle data competition\n",
    "kaggleTest = np.load(os.path.join(data_dir, 'test_features.npy'))\n",
    "predictions = np.zeros((kaggleTest.shape[0], 2))\n",
    "\n",
    "for i in range(kaggleTest.shape[0]):\n",
    "    prediction = predictLabel(kaggleTest[i], lambdas, betasForIdealLambdas)\n",
    "    predictions[i,:] = [i, prediction]\n",
    "\n",
    "predictions = pd.DataFrame({\"Id\": predictions[:,0], \"Category\": predictions[:,1]})\n",
    "predictions.to_csv(\"kaggleMidterm.csv\", sep=',')"
   ]
  },
  {
   "cell_type": "code",
   "execution_count": null,
   "metadata": {},
   "outputs": [],
   "source": [
    "# makes predictions for validation set\n",
    "y_test_unfiltered = np.load(os.path.join(data_dir, 'val_labels.npy'))\n",
    "y_predictions = np.zeros((y_test_unfiltered.shape[0], 1))\n",
    "\n",
    "for i in range(y_test_unfiltered.shape[0]):\n",
    "    prediction = predictLabel(x_test_unfiltered[i], lambdas, betasForIdealLambdas)\n",
    "    y_predictions[i] = prediction"
   ]
  },
  {
   "cell_type": "code",
   "execution_count": null,
   "metadata": {},
   "outputs": [],
   "source": [
    "# calculate misclassification rate for validation set\n",
    "incorrect = 0\n",
    "for i in range(len(y_predictions)):\n",
    "    if(y_test_unfiltered[i] != y_predictions[i]):\n",
    "        incorrect += 1\n",
    "\n",
    "misclassificationRate = incorrect / len(y_test_unfiltered)\n",
    "misclassificationRate"
   ]
  },
  {
   "cell_type": "markdown",
   "metadata": {},
   "source": [
    "__Misclassification Rate on Validation Data:__    0.26  \n",
    "__Misclassification Rate on Test Data (from Kaggle):__    1 - 0.73 = 0.27  "
   ]
  },
  {
   "cell_type": "markdown",
   "metadata": {},
   "source": [
    "We see that the misclassification rates on both the validation and test data are very similar. This is the behavior we would expect. They are both reasonably higher than we saw above, around 25%, which seems reasonable given that our predicter randomly chooses one if there is a tie so we would certainly expect some error rate."
   ]
  },
  {
   "cell_type": "code",
   "execution_count": null,
   "metadata": {},
   "outputs": [],
   "source": [
    "# report precision recall on validation set!!\n",
    "def calculatePrecisionAndRecall(label, yPrediction, yTrue):\n",
    "    \"\"\"\n",
    "    Calculates the precision and recall scores for kaggle image dataset label predictions\n",
    "    Inputs:\n",
    "        - label: which label (0 - 9) is being examined in this case\n",
    "        - yPrediction: array of y predictions for the data\n",
    "        - yTrue: corresponding array of true y labels for the same data\n",
    "    Outputs:\n",
    "        - Precision: the number of true positives / (true positives + false positives) for the dataset\n",
    "        - Recall: the number of true positives / (true positives + false negatives) for the dataset\n",
    "    \"\"\"\n",
    "    # filters predictions down to just be -1/1 to represent true label value or not\n",
    "    yPrediction = np.array(yPrediction)\n",
    "    yPrediction = np.where(yPrediction != label, -1, yPrediction) \n",
    "    yPrediction = np.where(yPrediction == label, 1, yPrediction) \n",
    "    \n",
    "    # filters true label data down to just be -1/1 to represent true label value or not\n",
    "    yTrue = np.where(yTrue != label, -1, yTrue)\n",
    "    yTrue = np.where(yTrue == label, 1, yTrue)  \n",
    "    \n",
    "    truePositives = 0\n",
    "    falsePositives = 0\n",
    "    falseNegatives = 0\n",
    "    for i in range(len(yPrediction)):\n",
    "        if(yPrediction[i] == 1 and yPrediction[i] == yTrue[i]):\n",
    "            truePositives += 1\n",
    "        elif(yPrediction[i] == 1 and yTrue[i] == -1):\n",
    "            falsePositives += 1\n",
    "        elif(yPrediction[i] == -1 and yTrue[i] == 1):\n",
    "            falseNegatives += 1\n",
    "    \n",
    "    precision = truePositives / (truePositives + falsePositives)\n",
    "    recall = truePositives / (truePositives + falseNegatives)\n",
    "    \n",
    "    return precision, recall\n",
    "\n",
    "precisionLabel0, recallLabel0 = calculatePrecisionAndRecall(0, y_predictions, y_test_unfiltered)\n",
    "precisionLabel1, recallLabel1 = calculatePrecisionAndRecall(1, y_predictions, y_test_unfiltered)\n",
    "precisionLabel2, recallLabel2 = calculatePrecisionAndRecall(2, y_predictions, y_test_unfiltered)\n",
    "precisionLabel3, recallLabel3 = calculatePrecisionAndRecall(3, y_predictions, y_test_unfiltered)\n",
    "precisionLabel4, recallLabel4 = calculatePrecisionAndRecall(4, y_predictions, y_test_unfiltered)\n",
    "precisionLabel5, recallLabel5 = calculatePrecisionAndRecall(5, y_predictions, y_test_unfiltered)\n",
    "precisionLabel6, recallLabel6 = calculatePrecisionAndRecall(6, y_predictions, y_test_unfiltered)\n",
    "precisionLabel7, recallLabel7 = calculatePrecisionAndRecall(7, y_predictions, y_test_unfiltered)\n",
    "precisionLabel8, recallLabel8 = calculatePrecisionAndRecall(8, y_predictions, y_test_unfiltered)\n",
    "precisionLabel9, recallLabel9 = calculatePrecisionAndRecall(9, y_predictions, y_test_unfiltered)"
   ]
  },
  {
   "cell_type": "code",
   "execution_count": null,
   "metadata": {},
   "outputs": [],
   "source": [
    "df = pd.DataFrame({\"Precision\": (precisionLabel0, precisionLabel1, precisionLabel2, precisionLabel3,\n",
    "                    precisionLabel4, precisionLabel5, precisionLabel6, precisionLabel7, precisionLabel8, \n",
    "                    precisionLabel9, ), \"Recall\": (recallLabel0, recallLabel1, recallLabel2, recallLabel3,\n",
    "                    recallLabel4, recallLabel5, recallLabel6, recallLabel7, recallLabel8, recallLabel9)})\n",
    "display(df)"
   ]
  },
  {
   "cell_type": "markdown",
   "metadata": {},
   "source": [
    "The precision and recall scores are fairly similar for all labels. Label 0 has the highest recall, so the lowest number of false negatives in the denominator, while label 3 has the lowest recall and therefore the highest number of false negatives. The precision scores vary less across the labels meaning the number of false positives was more consistent. We may want to adjust our function threshold depending on the goals of the study as sometimes it is better to error on the side of higher precision and other times on the side of higher recall."
   ]
  }
 ],
 "metadata": {
  "kernelspec": {
   "display_name": "Python 3",
   "language": "python",
   "name": "python3"
  },
  "language_info": {
   "codemirror_mode": {
    "name": "ipython",
    "version": 3
   },
   "file_extension": ".py",
   "mimetype": "text/x-python",
   "name": "python",
   "nbconvert_exporter": "python",
   "pygments_lexer": "ipython3",
   "version": "3.7.3"
  }
 },
 "nbformat": 4,
 "nbformat_minor": 2
}
