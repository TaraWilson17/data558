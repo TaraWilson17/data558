{
 "cells": [
  {
   "cell_type": "markdown",
   "metadata": {},
   "source": [
    "## <center> Homework 2 </center>\n",
    "<center> Tara Wilson </center>\n",
    "<center> DATA 558 </center>\n",
    "<center> April 18, 2019 </center>"
   ]
  },
  {
   "cell_type": "code",
   "execution_count": 1,
   "metadata": {},
   "outputs": [],
   "source": [
    "# imports\n",
    "import math\n",
    "import pandas as pd\n",
    "import numpy as np\n",
    "import matplotlib.pyplot as plt\n",
    "from sklearn import preprocessing\n",
    "import warnings\n",
    "warnings.filterwarnings('ignore')\n",
    "from scipy.linalg import eigh\n",
    "from sklearn.linear_model import LogisticRegression\n",
    "from sklearn.model_selection import train_test_split\n",
    "from sklearn.model_selection import GridSearchCV\n",
    "import os\n",
    "import copy \n"
   ]
  },
  {
   "cell_type": "markdown",
   "metadata": {},
   "source": [
    "### Exercise 1"
   ]
  },
  {
   "cell_type": "markdown",
   "metadata": {},
   "source": [
    "In this exercise, you will implement in Python a first version of your own fast gradient algorithm to solve the $l_2^2$-regularized logistic regression problem. Recall from the lectures that the logistic regression problem writes as $$min F(\\beta) := \\frac{1}{n} \\sum_{i=1}^{n} \\log(1 + \\exp(-y_ix_i^T\\beta)) + \\lambda ||\\beta||_2^2$$. We use here the machine learning convention for the labels that is $y_i \\in {-1, 1}$."
   ]
  },
  {
   "cell_type": "markdown",
   "metadata": {},
   "source": [
    "#### 1.1 Fast Gradient\n",
    "**The  fast gradient algorithm is outlined in Algorithm 1. The algorithm requires a subroutine\n",
    "that computes the gradient for any β.**"
   ]
  },
  {
   "cell_type": "markdown",
   "metadata": {},
   "source": [
    "**Assume that _d = 1_ and _n = 1_. The sample is then of size 1 and boils down to just _(x, y)_. The function *F* writes simply as $$F(\\beta) = \\log(1+\\exp(-yx\\beta))+ \\lambda\\beta^2$$  Compute and write down the gradient $\\nabla F$ of F.**"
   ]
  },
  {
   "cell_type": "markdown",
   "metadata": {},
   "source": [
    "We solve for the gradient by finding the derivative of $F(\\beta)$, and I will start by breaking the derivitive into 2 sections:  \n",
    "$h'(\\beta) = \\frac{\\partial}{\\partial \\beta} \\log(1+\\exp(-yx\\beta))$  \n",
    "$g'(\\beta) = \\frac{\\partial}{\\partial \\beta} \\lambda\\beta^2$  \n",
    "\n",
    "We will start with the derivative of h where we will need to apply the chain rule where $g(\\beta) = f(h(j(\\beta)))$:  \n",
    "In our case, $f = log(...)$, $h = 1 + exp(-...)$, and $j = yxb$ and we want to solve for $j(x)*h'(j(x))*f'(h(j(x))$.  \n",
    "\n",
    "Starting with $j(x)$:  \n",
    "$j'(\\beta) = \\frac{\\partial}{\\partial \\beta} yx\\beta = yx$  \n",
    "\n",
    "Now for $h'(j(x))$:  \n",
    "$h'(j(\\beta)) = \\frac{\\partial}{\\partial \\beta} 1 + exp(-yx\\beta) = -exp(-yx\\beta)$\n",
    "\n",
    "For the last term $f'(h(j(x))$ we have:  \n",
    "$f'(h(j(\\beta) = \\frac{\\partial}{\\partial \\beta} log(1+\\exp(-yx\\beta)) = \\frac{1}{1+\\exp(-yx\\beta)}$  \n",
    "\n",
    "Putting this all back together we have the derivative of the first term:  \n",
    "$h'(\\beta) = (yx)(-exp(-yx\\beta))(\\frac {1}{1+ \\exp (-yx \\beta )})$  \n",
    "\n",
    "Finally, solving for the derivative of g:  \n",
    "$g'(\\beta) = \\frac{\\partial}{\\partial \\beta} \\lambda\\beta^2 = 2\\lambda\\beta$  \n",
    "\n",
    "Putting these together we arrive at the gradient of F:  \n",
    "$\\nabla F = \\frac{-yxexp(-yx\\beta)}{1 + exp(-yx\\beta)} + 2\\lambda\\beta$"
   ]
  },
  {
   "cell_type": "markdown",
   "metadata": {},
   "source": [
    "**Assume now that _d > 1_ and _n > 1_. Using the previous result and the linearity of differentiation, compute and write down the gradient $\\nabla F$ of F.** "
   ]
  },
  {
   "cell_type": "markdown",
   "metadata": {},
   "source": [
    "With d > 1 and n > 1,   \n",
    "$F'(\\beta) = \\frac{\\partial}{\\partial \\beta} \\frac{1}{n} \\sum_{i=1}^{n} \\log(1 + \\exp(-y_ix_i^T\\beta)) + \\lambda ||\\beta||_2^2$  \n",
    "\n",
    "Since the $frac{1}{n} \\sum_{i=1}^{n}$ terms are constants in terms of the derivative we can rearrange:  \n",
    "$F'(\\beta) = \\frac{1}{n} \\sum_{i=1}^{n} \\frac{\\partial}{\\partial \\beta} \\log(1 + \\exp(-y_ix_i^T\\beta)) + \\lambda ||\\beta||_2^2$  \n",
    "\n",
    "Again I will start by breaking the derivitive into 2 sections:  \n",
    "$h'(\\beta) = \\frac{\\partial}{\\partial \\beta} \\log(1 + \\exp(-y_ix_i^T\\beta))$  \n",
    "$g'(\\beta) = \\frac{\\partial}{\\partial \\beta} \\lambda ||\\beta||_2^2$  \n",
    "\n",
    "We will start again with the derivative of h where we will need to apply the chain rule where $g(\\beta) = f(h(j(\\beta)))$: \n",
    "In our case, $f = log(...)$, $h = 1 + exp(-...)$, and $j = y_ix_i^T\\beta$ and we want to solve for $j(x)*h'(j(x))*f'(h(j(x))$.  \n",
    "\n",
    "Starting with $j(x)$ and applying the fact that $\\frac{\\partial}{\\partial x} (a^Tx) = a$:  \n",
    "$j'(\\beta) = \\frac{\\partial}{\\partial \\beta} y_ix_i^T\\beta = y_ix_i$  \n",
    "\n",
    "Now for $h'(j(x))$:  \n",
    "$h'(j(\\beta)) = \\frac{\\partial}{\\partial \\beta} 1 + \\exp(-y_ix_i^T\\beta) = -exp(-y_ix_i^T\\beta)$\n",
    "\n",
    "For the last term $f'(h(j(x))$ we have:  \n",
    "$f'(h(j(\\beta) = \\frac{\\partial}{\\partial \\beta} \\log(1 + \\exp(-y_ix_i^T\\beta)) = \\frac{1}{1+\\exp(-y_ix_i^T\\beta)}$  \n",
    "\n",
    "Putting this all back together we have the derivative of the first term:  \n",
    "$h'(\\beta) = (y_ix_i)(-exp(-y_ix_i^T\\beta)(\\frac {1}{1+ \\exp (-y_ix_i^T\\beta)})$  \n",
    "\n",
    "Finally, solving for the derivative of g:  \n",
    "$g'(\\beta) = \\frac{\\partial}{\\partial \\beta} \\lambda ||\\beta||_2^2 = 2\\lambda\\beta$  \n",
    "\n",
    "Putting these together we arrive at the gradient of F:  \n",
    "$\\nabla F = \\frac{-y_ix_iexp(-y_ix_i^T\\beta)}{1 + exp(-y_ix_i^T\\beta)} + 2\\lambda\\beta$  \n",
    "\n",
    "To simplify, we can follow notation that $1-p_i = \\frac{exp(-y_ix_i^T\\beta)}{1 +e xp(-y_ix_i^T\\beta)}$  \n",
    "\n",
    "Subbing this in we get that $\\nabla F = -y_ix_i(1-p_i) + 2\\lambda\\beta$\n",
    "\n",
    "We define P as the diagonal of a matrix made of $(1- p_i)$ terms, and therefore can simplify our final solution:  \n",
    "$\\nabla F = -\\frac{1}{n} XYP + 2\\lambda\\beta$  "
   ]
  },
  {
   "cell_type": "markdown",
   "metadata": {},
   "source": [
    "**Consider the Spam dataset from The Elements of Statistical Learning (You can get it here: https://web.stanford.edu/~hastie/ElemStatLearn/). Standardize the data (i.e., center the features and divide them by their standard deviation, and also change the output labels to +/- 1).**"
   ]
  },
  {
   "cell_type": "code",
   "execution_count": 2,
   "metadata": {},
   "outputs": [],
   "source": [
    "spam = pd.read_csv(\"https://web.stanford.edu/~hastie/ElemStatLearn/datasets/spam.data\", sep=\" \", \n",
    "                   na_values=\"?\", header=None)\n",
    "spam = spam.dropna()\n",
    "X = spam.iloc[:, 0:57]\n",
    "y = spam.iloc[:,-1].replace(0,-1)\n",
    "y = np.array(y).reshape(y.shape[0], 1)\n",
    "\n",
    "# Divide the data into training and test sets. By default, 25% goes into the test set.\n",
    "X, X_test, y, y_test = train_test_split(X, y, random_state=0)\n",
    "\n",
    "\n",
    "# standardizing X by subtracting the mean of the predictors and dividing by their standard deviation\n",
    "scaler = preprocessing.StandardScaler().fit(X)\n",
    "X = scaler.transform(X)\n",
    "X_test = scaler.transform(X_test)"
   ]
  },
  {
   "cell_type": "markdown",
   "metadata": {},
   "source": [
    "**Write a function _computegrad_ that computes and returns $\\nabla F(\\beta)$ for any $\\beta$.**"
   ]
  },
  {
   "cell_type": "code",
   "execution_count": 3,
   "metadata": {},
   "outputs": [],
   "source": [
    "def computegrad(X, y, beta, lamb = 0.05):\n",
    "    \"\"\"\n",
    "    Computes the gradient for the fast gradient algorithm\n",
    "    Inputs:\n",
    "        - X: matrix of X values\n",
    "        - y: vector of associated outcomes\n",
    "        - beta: vector of beta constants\n",
    "        - lambda: scalar multiplicative factor for regularization penalty (optional, defaults to 0.05)\n",
    "    Outputs:\n",
    "        - vector gradient for passed in parameters\n",
    "    \"\"\"\n",
    "    n = len(X) \n",
    "    P = np.zeros((X.shape[0], X.shape[0]))\n",
    "    for i in range(0, X.shape[0]):\n",
    "        xi = X[i,:]\n",
    "        #yi = y[i][0]\n",
    "        yi = y[i]\n",
    "        p = ((np.exp(-yi * (xi).dot(beta))) / (1 + (np.exp(-yi * (xi).dot(beta)))))\n",
    "        P[i,i] = p  \n",
    "    return ((-1/n) * X.T.dot(P).dot(y) + 2*lamb*beta)"
   ]
  },
  {
   "cell_type": "code",
   "execution_count": 4,
   "metadata": {},
   "outputs": [],
   "source": [
    "def computeobj(X, y, beta, lamb = 0.05):\n",
    "    \"\"\"\n",
    "    Computes the objective for ridge regression problem\n",
    "    Inputs:\n",
    "        - X: matrix of X values\n",
    "        - y: vector of associated outcomes\n",
    "        - beta: vector of beta constants\n",
    "        - lambda: scalar multiplicative factor for regularization penalty (optional, defaults to 0.05)\n",
    "    Outputs:\n",
    "        - objective for passed in parameters\n",
    "    \"\"\"\n",
    "    n = len(X)\n",
    "    summation = 0\n",
    "    for i in range(0, X.shape[0]):\n",
    "        xi = X[i,:]\n",
    "        #yi = y[i][0]\n",
    "        yi = y[i]\n",
    "        x = -yi*xi.dot(beta)\n",
    "        if(x > 0):\n",
    "            a = x + 1\n",
    "            logTerm = a + np.log(np.exp(-a) + np.exp(x-a))\n",
    "        else:\n",
    "            logTerm = np.log(1 + np.exp(x))\n",
    "        summation = summation + logTerm\n",
    "    \n",
    "    return ((1/n) * summation + (lamb * np.sum(beta**2)))[0]"
   ]
  },
  {
   "cell_type": "markdown",
   "metadata": {},
   "source": [
    "**Write a function _backtracking_ that implements the backtracking rule.**"
   ]
  },
  {
   "cell_type": "code",
   "execution_count": 5,
   "metadata": {},
   "outputs": [],
   "source": [
    "def backtracking(X, y, beta, eta, alpha = 0.5, gamma=0.8):\n",
    "    \"\"\"\n",
    "    Implements backtracking rule\n",
    "    Inputs:\n",
    "        - X: matrix of X values\n",
    "        - y: vector of associated outcomes\n",
    "        - beta: vector of beta constants\n",
    "        - eta: initial step size\n",
    "        - alpha: constant used to define sufficinet decrease condition\n",
    "        - gamma: constant to scale step size by until condition met         \n",
    "    Outputs:\n",
    "        - step size\n",
    "    \"\"\"\n",
    "    grad = computegrad(X, y, beta)  # Gradient at beta\n",
    "    conditionMet = False\n",
    "    while not conditionMet:    \n",
    "        if computeobj(X, y, beta - eta*grad)< computeobj(X, y, beta) - alpha*eta*np.linalg.norm(grad)**2:\n",
    "            conditionMet = True\n",
    "        else:\n",
    "            eta = eta * gamma            \n",
    "    return eta"
   ]
  },
  {
   "cell_type": "markdown",
   "metadata": {},
   "source": [
    "**Write a function _graddescent_ that implements the gradient descent algorithm with the backtracking rule to tune the step-size. The function _graddescent_ calls _computegrad_ and _backtracking_ as subroutines. The function takes as input the initial point, the initial step-size value, and the target accuracy ε. The stopping criterion is $||\\nabla F|| \\leq \\epsilon$**"
   ]
  },
  {
   "cell_type": "code",
   "execution_count": 6,
   "metadata": {},
   "outputs": [],
   "source": [
    "def graddescent(X, y, stepSize, targetAccuracy = 0.001, lamb = 0.05):\n",
    "    \"\"\"\n",
    "    Implements gradient descent algorithm with backtracking\n",
    "    Inputs:\n",
    "        - X: matrix of X values\n",
    "        - y: vector of associated outcomes\n",
    "        - stepSize: initial step size\n",
    "        - targetAccuracy: target accuracy value for algorithm\n",
    "        - lambda: scalar multiplicative factor for regularization penalty (optional, defaults to 0.05)\n",
    "    Outputs:\n",
    "        - betas: vector of improved betas after final iteration\n",
    "        - objs: vector of objective values for each iteration\n",
    "    \"\"\"\n",
    "    x = X\n",
    "    beta = np.zeros((X.shape[1], 1))\n",
    "    objs = [computeobj(x, y, beta, lamb)]\n",
    "    betas = [beta]\n",
    "    grad = computegrad(x, y, beta, lamb)\n",
    "    t = 0\n",
    "    while (np.linalg.norm(grad) > targetAccuracy):\n",
    "        stepSize = backtracking(x, y, beta, stepSize)\n",
    "        beta = beta - stepSize * grad\n",
    "        betas.append(beta) # saves current beta values\n",
    "        obj = computeobj(x, y, beta, lamb)\n",
    "        objs.append(obj) # saves current objective value\n",
    "        grad = computegrad(x, y, beta, lamb)\n",
    "        t = t + 1\n",
    "    return np.array(betas), np.array(objs)"
   ]
  },
  {
   "cell_type": "markdown",
   "metadata": {},
   "source": [
    "**Write a function _fastgradalgo_ that implements the fast gradient algorithm described in Algorithm 1. The function _fastgradalgo_ calls _computegrad_ and _backtracking_ as subroutines. The function takes as input the initial step-size value for the backtracking rule and the target accuracy ε. The stopping criterion is $||\\nabla F|| \\leq \\epsilon$**"
   ]
  },
  {
   "cell_type": "code",
   "execution_count": 7,
   "metadata": {},
   "outputs": [],
   "source": [
    "def fastgradalgo(X, y, stepSize, targetAccuracy = 0.001, lamb = 0.05):\n",
    "    \"\"\"\n",
    "    Implements fast gradient descent algorithm with backtracking\n",
    "    Inputs:\n",
    "        - X: matrix of X values\n",
    "        - y: vector of associated outcomes\n",
    "        - stepSize: initial step size\n",
    "        - targetAccuracy: target accuracy value for algorithm\n",
    "        - lambda: scalar multiplicative factor for regularization penalty (optional, defaults to 0.05)\n",
    "    Outputs:\n",
    "        - betas: vector of improved betas after final iteration\n",
    "        - objs: vector of objective values for each iteration\n",
    "    \"\"\"\n",
    "    x = X\n",
    "    beta = np.zeros((X.shape[1], 1))\n",
    "    theta = np.zeros((X.shape[1], 1))\n",
    "    objs = [computeobj(x, y, beta, lamb)]\n",
    "    betas = [beta]\n",
    "    #thetas = [theta]\n",
    "    grad = computegrad(x, y, theta, lamb)\n",
    "    t = 0 \n",
    "    while (np.linalg.norm(grad) > targetAccuracy):\n",
    "        stepSize = backtracking(x, y, beta, stepSize)\n",
    "        betaOld = copy.copy(beta)\n",
    "        #betaOld = beta\n",
    "        beta = theta - stepSize * computegrad(x, y, theta, lamb)\n",
    "        theta = beta + (t/(t+3))*(beta - betaOld)\n",
    "        betas.append(beta) # saves current beta values\n",
    "        obj = computeobj(x, y, beta, lamb)\n",
    "        objs.append(obj) # saves current objective value\n",
    "        grad = computegrad(x, y, theta, lamb)\n",
    "        #thetas.append(theta)\n",
    "        t = t + 1\n",
    "    return np.array(betas), np.array(objs)"
   ]
  },
  {
   "cell_type": "markdown",
   "metadata": {},
   "source": [
    "**Use the estimate described in the course to initialize the step-size. Set the target accuracy to $\\epsilon = 10^{-4}$. Run _graddescent_ and _fastgradalgo_ on the training set of the Spam dataset for λ = 0.1. Plot the curve of the objective values $F(\\beta_t)$ for both algorithms versus the iteration counter t (use different colors). What do you observe?**"
   ]
  },
  {
   "cell_type": "code",
   "execution_count": 8,
   "metadata": {},
   "outputs": [
    {
     "data": {
      "image/png": "[encoded data removed]",
      "text/plain": [
       "<Figure size 432x288 with 1 Axes>"
      ]
     },
     "metadata": {
      "needs_background": "light"
     },
     "output_type": "display_data"
    }
   ],
   "source": [
    "# set constants\n",
    "epsilon = 0.0001\n",
    "lamb = 0.1\n",
    "\n",
    "# calculate initial step size\n",
    "n = len(X)\n",
    "eq = (1/n * X.T.dot(X))\n",
    "eigVals = eigh(eq)[0]\n",
    "stepSize = 1 / (max(eigVals) + lamb)\n",
    "\n",
    "# run algorithms\n",
    "gdBeta, gdObjs = graddescent(X, y, stepSize = stepSize, targetAccuracy = epsilon, lamb = lamb)\n",
    "fgBeta, fgObjs = fastgradalgo(X, y, stepSize = stepSize, targetAccuracy = epsilon, lamb = lamb)\n",
    "\n",
    "# plot \n",
    "plt.plot(gdObjs, color = \"red\")\n",
    "plt.plot(fgObjs, color = \"purple\")\n",
    "plt.ylabel(\"Objective values\")\n",
    "plt.xlabel(\"Iterations\")\n",
    "plt.title(\"Objective Value vs Iteration Counter\")\n",
    "plt.legend([\"Gradient Descent\", \"Fast Gradient Algorithm\"])\n",
    "plt.show()"
   ]
  },
  {
   "cell_type": "markdown",
   "metadata": {},
   "source": [
    "**Denote by $\\beta_T$ the final iterate of your fast gradient algorithm. Compare $\\beta_T$ to the $\\beta^*$ found by _scikit-learn_. Compare the objective value for $\\beta_T$ to the one for $\\beta^*$. What do you observe?**"
   ]
  },
  {
   "cell_type": "code",
   "execution_count": 9,
   "metadata": {},
   "outputs": [
    {
     "data": {
      "text/html": [
       "<div>\n",
       "<style scoped>\n",
       "    .dataframe tbody tr th:only-of-type {\n",
       "        vertical-align: middle;\n",
       "    }\n",
       "\n",
       "    .dataframe tbody tr th {\n",
       "        vertical-align: top;\n",
       "    }\n",
       "\n",
       "    .dataframe thead th {\n",
       "        text-align: right;\n",
       "    }\n",
       "</style>\n",
       "<table border=\"1\" class=\"dataframe\">\n",
       "  <thead>\n",
       "    <tr style=\"text-align: right;\">\n",
       "      <th></th>\n",
       "      <th>Beta_T</th>\n",
       "      <th>Beta*</th>\n",
       "      <th>Difference Beta_T - Beta*</th>\n",
       "    </tr>\n",
       "  </thead>\n",
       "  <tbody>\n",
       "    <tr>\n",
       "      <th>0</th>\n",
       "      <td>[0.0296838835539165]</td>\n",
       "      <td>[-0.04478328605071632]</td>\n",
       "      <td>[0.07446716960463282]</td>\n",
       "    </tr>\n",
       "    <tr>\n",
       "      <th>1</th>\n",
       "      <td>[-0.022269283777930245]</td>\n",
       "      <td>[-0.11350791237301494]</td>\n",
       "      <td>[0.09123862859508469]</td>\n",
       "    </tr>\n",
       "    <tr>\n",
       "      <th>2</th>\n",
       "      <td>[0.0866739372015923]</td>\n",
       "      <td>[0.09723828140899204]</td>\n",
       "      <td>[-0.01056434420739974]</td>\n",
       "    </tr>\n",
       "    <tr>\n",
       "      <th>3</th>\n",
       "      <td>[0.058816618172809795]</td>\n",
       "      <td>[0.4912937530941173]</td>\n",
       "      <td>[-0.4324771349213075]</td>\n",
       "    </tr>\n",
       "    <tr>\n",
       "      <th>4</th>\n",
       "      <td>[0.17540317127471478]</td>\n",
       "      <td>[0.43770870232489145]</td>\n",
       "      <td>[-0.2623055310501767]</td>\n",
       "    </tr>\n",
       "    <tr>\n",
       "      <th>5</th>\n",
       "      <td>[0.12131126324429015]</td>\n",
       "      <td>[0.13895824279105973]</td>\n",
       "      <td>[-0.01764697954676958]</td>\n",
       "    </tr>\n",
       "    <tr>\n",
       "      <th>6</th>\n",
       "      <td>[0.2946632634166697]</td>\n",
       "      <td>[1.4440995060485229]</td>\n",
       "      <td>[-1.1494362426318532]</td>\n",
       "    </tr>\n",
       "    <tr>\n",
       "      <th>7</th>\n",
       "      <td>[0.13224707928458088]</td>\n",
       "      <td>[0.2246622972089024]</td>\n",
       "      <td>[-0.09241521792432153]</td>\n",
       "    </tr>\n",
       "    <tr>\n",
       "      <th>8</th>\n",
       "      <td>[0.12260681873269294]</td>\n",
       "      <td>[0.17431265529502485]</td>\n",
       "      <td>[-0.05170583656233191]</td>\n",
       "    </tr>\n",
       "    <tr>\n",
       "      <th>9</th>\n",
       "      <td>[0.05079485625763609]</td>\n",
       "      <td>[0.03205527947668576]</td>\n",
       "      <td>[0.018739576780950333]</td>\n",
       "    </tr>\n",
       "    <tr>\n",
       "      <th>10</th>\n",
       "      <td>[0.13950255325064911]</td>\n",
       "      <td>[0.04371858086675347]</td>\n",
       "      <td>[0.09578397238389565]</td>\n",
       "    </tr>\n",
       "    <tr>\n",
       "      <th>11</th>\n",
       "      <td>[-0.038847048537675004]</td>\n",
       "      <td>[-0.10887308002553271]</td>\n",
       "      <td>[0.07002603148785772]</td>\n",
       "    </tr>\n",
       "    <tr>\n",
       "      <th>12</th>\n",
       "      <td>[0.05655071903590183]</td>\n",
       "      <td>[-0.01854329685267391]</td>\n",
       "      <td>[0.07509401588857574]</td>\n",
       "    </tr>\n",
       "    <tr>\n",
       "      <th>13</th>\n",
       "      <td>[0.032674212099099126]</td>\n",
       "      <td>[0.028284593062168465]</td>\n",
       "      <td>[0.004389619036930661]</td>\n",
       "    </tr>\n",
       "    <tr>\n",
       "      <th>14</th>\n",
       "      <td>[0.10915881669819939]</td>\n",
       "      <td>[0.4459607238057215]</td>\n",
       "      <td>[-0.3368019071075221]</td>\n",
       "    </tr>\n",
       "    <tr>\n",
       "      <th>15</th>\n",
       "      <td>[0.1974573751332206]</td>\n",
       "      <td>[0.46601695615139616]</td>\n",
       "      <td>[-0.26855958101817556]</td>\n",
       "    </tr>\n",
       "    <tr>\n",
       "      <th>16</th>\n",
       "      <td>[0.15749808321649364]</td>\n",
       "      <td>[0.36139063635203983]</td>\n",
       "      <td>[-0.2038925531355462]</td>\n",
       "    </tr>\n",
       "    <tr>\n",
       "      <th>17</th>\n",
       "      <td>[0.11932576525352635]</td>\n",
       "      <td>[0.09407672038079154]</td>\n",
       "      <td>[0.025249044872734813]</td>\n",
       "    </tr>\n",
       "    <tr>\n",
       "      <th>18</th>\n",
       "      <td>[0.11493903134424836]</td>\n",
       "      <td>[0.21368602483660823]</td>\n",
       "      <td>[-0.09874699349235987]</td>\n",
       "    </tr>\n",
       "    <tr>\n",
       "      <th>19</th>\n",
       "      <td>[0.1291975717737287]</td>\n",
       "      <td>[0.7752024564271319]</td>\n",
       "      <td>[-0.6460048846534032]</td>\n",
       "    </tr>\n",
       "    <tr>\n",
       "      <th>20</th>\n",
       "      <td>[0.2358194019246865]</td>\n",
       "      <td>[0.29638304779763525]</td>\n",
       "      <td>[-0.06056364587294874]</td>\n",
       "    </tr>\n",
       "    <tr>\n",
       "      <th>21</th>\n",
       "      <td>[0.10136382891803303]</td>\n",
       "      <td>[0.5465759772585678]</td>\n",
       "      <td>[-0.44521214834053474]</td>\n",
       "    </tr>\n",
       "    <tr>\n",
       "      <th>22</th>\n",
       "      <td>[0.2502125128920384]</td>\n",
       "      <td>[1.4339077203092514]</td>\n",
       "      <td>[-1.183695207417213]</td>\n",
       "    </tr>\n",
       "    <tr>\n",
       "      <th>23</th>\n",
       "      <td>[0.15321801936541665]</td>\n",
       "      <td>[0.34537683205516706]</td>\n",
       "      <td>[-0.1921588126897504]</td>\n",
       "    </tr>\n",
       "    <tr>\n",
       "      <th>24</th>\n",
       "      <td>[-0.14765055502447363]</td>\n",
       "      <td>[-1.1340331658800538]</td>\n",
       "      <td>[0.9863826108555801]</td>\n",
       "    </tr>\n",
       "    <tr>\n",
       "      <th>25</th>\n",
       "      <td>[-0.10449256930957569]</td>\n",
       "      <td>[-0.4272549188577005]</td>\n",
       "      <td>[0.3227623495481248]</td>\n",
       "    </tr>\n",
       "    <tr>\n",
       "      <th>26</th>\n",
       "      <td>[-0.12074601166273666]</td>\n",
       "      <td>[-0.8637694081722892]</td>\n",
       "      <td>[0.7430233965095525]</td>\n",
       "    </tr>\n",
       "    <tr>\n",
       "      <th>27</th>\n",
       "      <td>[-0.03509294427953719]</td>\n",
       "      <td>[0.18721817005199215]</td>\n",
       "      <td>[-0.22231111433152934]</td>\n",
       "    </tr>\n",
       "    <tr>\n",
       "      <th>28</th>\n",
       "      <td>[-0.05008703345454126]</td>\n",
       "      <td>[-0.19406875160184192]</td>\n",
       "      <td>[0.14398171814730065]</td>\n",
       "    </tr>\n",
       "    <tr>\n",
       "      <th>29</th>\n",
       "      <td>[-0.07532263890928904]</td>\n",
       "      <td>[-0.20057831802055118]</td>\n",
       "      <td>[0.12525567911126212]</td>\n",
       "    </tr>\n",
       "    <tr>\n",
       "      <th>30</th>\n",
       "      <td>[-0.0326612207770715]</td>\n",
       "      <td>[-0.11288515583145993]</td>\n",
       "      <td>[0.08022393505438843]</td>\n",
       "    </tr>\n",
       "    <tr>\n",
       "      <th>31</th>\n",
       "      <td>[-0.01349971061471965]</td>\n",
       "      <td>[0.08049701964381055]</td>\n",
       "      <td>[-0.0939967302585302]</td>\n",
       "    </tr>\n",
       "    <tr>\n",
       "      <th>32</th>\n",
       "      <td>[-0.07907973557414487]</td>\n",
       "      <td>[-0.4015432397101494]</td>\n",
       "      <td>[0.3224635041360045]</td>\n",
       "    </tr>\n",
       "    <tr>\n",
       "      <th>33</th>\n",
       "      <td>[-0.01606713786635855]</td>\n",
       "      <td>[-0.043001429093983023]</td>\n",
       "      <td>[0.026934291227624474]</td>\n",
       "    </tr>\n",
       "    <tr>\n",
       "      <th>34</th>\n",
       "      <td>[-0.05663011077202423]</td>\n",
       "      <td>[-0.2230754710945907]</td>\n",
       "      <td>[0.16644536032256646]</td>\n",
       "    </tr>\n",
       "    <tr>\n",
       "      <th>35</th>\n",
       "      <td>[-0.004136527384516195]</td>\n",
       "      <td>[0.28874990989988886]</td>\n",
       "      <td>[-0.29288643728440505]</td>\n",
       "    </tr>\n",
       "    <tr>\n",
       "      <th>36</th>\n",
       "      <td>[-0.08060187947411203]</td>\n",
       "      <td>[-0.08400365509987334]</td>\n",
       "      <td>[0.0034017756257613135]</td>\n",
       "    </tr>\n",
       "    <tr>\n",
       "      <th>37</th>\n",
       "      <td>[-0.022386096990509]</td>\n",
       "      <td>[-0.0021454250421231733]</td>\n",
       "      <td>[-0.020240671948385826]</td>\n",
       "    </tr>\n",
       "    <tr>\n",
       "      <th>38</th>\n",
       "      <td>[-0.057944012180361465]</td>\n",
       "      <td>[-0.17932079218242664]</td>\n",
       "      <td>[0.12137678000206517]</td>\n",
       "    </tr>\n",
       "    <tr>\n",
       "      <th>39</th>\n",
       "      <td>[0.015505646415270935]</td>\n",
       "      <td>[-0.06279740919399446]</td>\n",
       "      <td>[0.0783030556092654]</td>\n",
       "    </tr>\n",
       "    <tr>\n",
       "      <th>40</th>\n",
       "      <td>[-0.05250048990108763]</td>\n",
       "      <td>[-0.19474540317027456]</td>\n",
       "      <td>[0.14224491326918692]</td>\n",
       "    </tr>\n",
       "    <tr>\n",
       "      <th>41</th>\n",
       "      <td>[-0.09656190968972177]</td>\n",
       "      <td>[-0.608241906359702]</td>\n",
       "      <td>[0.5116799966699802]</td>\n",
       "    </tr>\n",
       "    <tr>\n",
       "      <th>42</th>\n",
       "      <td>[-0.0587154639885505]</td>\n",
       "      <td>[-0.09629846194111763]</td>\n",
       "      <td>[0.03758299795256713]</td>\n",
       "    </tr>\n",
       "    <tr>\n",
       "      <th>43</th>\n",
       "      <td>[-0.06652963087808476]</td>\n",
       "      <td>[-0.3539044709369636]</td>\n",
       "      <td>[0.2873748400588788]</td>\n",
       "    </tr>\n",
       "    <tr>\n",
       "      <th>44</th>\n",
       "      <td>[-0.1108656641562263]</td>\n",
       "      <td>[-0.549421925196416]</td>\n",
       "      <td>[0.4385562610401897]</td>\n",
       "    </tr>\n",
       "    <tr>\n",
       "      <th>45</th>\n",
       "      <td>[-0.11036118234815336]</td>\n",
       "      <td>[-0.6770025755368224]</td>\n",
       "      <td>[0.566641393188669]</td>\n",
       "    </tr>\n",
       "    <tr>\n",
       "      <th>46</th>\n",
       "      <td>[-0.04533567623754505]</td>\n",
       "      <td>[-0.15229294565655668]</td>\n",
       "      <td>[0.10695726941901162]</td>\n",
       "    </tr>\n",
       "    <tr>\n",
       "      <th>47</th>\n",
       "      <td>[-0.05977851225762943]</td>\n",
       "      <td>[-0.3838165340081897]</td>\n",
       "      <td>[0.3240380217505603]</td>\n",
       "    </tr>\n",
       "    <tr>\n",
       "      <th>48</th>\n",
       "      <td>[-0.06763022982755997]</td>\n",
       "      <td>[-0.43000600087151275]</td>\n",
       "      <td>[0.3623757710439528]</td>\n",
       "    </tr>\n",
       "    <tr>\n",
       "      <th>49</th>\n",
       "      <td>[-0.03256922697908378]</td>\n",
       "      <td>[-0.0762347876900699]</td>\n",
       "      <td>[0.04366556071098612]</td>\n",
       "    </tr>\n",
       "    <tr>\n",
       "      <th>50</th>\n",
       "      <td>[-0.028081096220753707]</td>\n",
       "      <td>[-0.16128131471888574]</td>\n",
       "      <td>[0.13320021849813202]</td>\n",
       "    </tr>\n",
       "    <tr>\n",
       "      <th>51</th>\n",
       "      <td>[0.1597841258457005]</td>\n",
       "      <td>[0.36312125885277935]</td>\n",
       "      <td>[-0.20333713300707884]</td>\n",
       "    </tr>\n",
       "    <tr>\n",
       "      <th>52</th>\n",
       "      <td>[0.25556418243240026]</td>\n",
       "      <td>[1.5775561323970082]</td>\n",
       "      <td>[-1.321991949964608]</td>\n",
       "    </tr>\n",
       "    <tr>\n",
       "      <th>53</th>\n",
       "      <td>[0.060286061604149926]</td>\n",
       "      <td>[0.584501121436207]</td>\n",
       "      <td>[-0.5242150598320571]</td>\n",
       "    </tr>\n",
       "    <tr>\n",
       "      <th>54</th>\n",
       "      <td>[0.06690207608265676]</td>\n",
       "      <td>[0.3330652681227614]</td>\n",
       "      <td>[-0.26616319204010463]</td>\n",
       "    </tr>\n",
       "    <tr>\n",
       "      <th>55</th>\n",
       "      <td>[0.13370429039713977]</td>\n",
       "      <td>[0.9119281571555021]</td>\n",
       "      <td>[-0.7782238667583623]</td>\n",
       "    </tr>\n",
       "    <tr>\n",
       "      <th>56</th>\n",
       "      <td>[0.1667512146358013]</td>\n",
       "      <td>[0.44198442074720246]</td>\n",
       "      <td>[-0.2752332061114011]</td>\n",
       "    </tr>\n",
       "  </tbody>\n",
       "</table>\n",
       "</div>"
      ],
      "text/plain": [
       "                     Beta_T                     Beta*  \\\n",
       "0      [0.0296838835539165]    [-0.04478328605071632]   \n",
       "1   [-0.022269283777930245]    [-0.11350791237301494]   \n",
       "2      [0.0866739372015923]     [0.09723828140899204]   \n",
       "3    [0.058816618172809795]      [0.4912937530941173]   \n",
       "4     [0.17540317127471478]     [0.43770870232489145]   \n",
       "5     [0.12131126324429015]     [0.13895824279105973]   \n",
       "6      [0.2946632634166697]      [1.4440995060485229]   \n",
       "7     [0.13224707928458088]      [0.2246622972089024]   \n",
       "8     [0.12260681873269294]     [0.17431265529502485]   \n",
       "9     [0.05079485625763609]     [0.03205527947668576]   \n",
       "10    [0.13950255325064911]     [0.04371858086675347]   \n",
       "11  [-0.038847048537675004]    [-0.10887308002553271]   \n",
       "12    [0.05655071903590183]    [-0.01854329685267391]   \n",
       "13   [0.032674212099099126]    [0.028284593062168465]   \n",
       "14    [0.10915881669819939]      [0.4459607238057215]   \n",
       "15     [0.1974573751332206]     [0.46601695615139616]   \n",
       "16    [0.15749808321649364]     [0.36139063635203983]   \n",
       "17    [0.11932576525352635]     [0.09407672038079154]   \n",
       "18    [0.11493903134424836]     [0.21368602483660823]   \n",
       "19     [0.1291975717737287]      [0.7752024564271319]   \n",
       "20     [0.2358194019246865]     [0.29638304779763525]   \n",
       "21    [0.10136382891803303]      [0.5465759772585678]   \n",
       "22     [0.2502125128920384]      [1.4339077203092514]   \n",
       "23    [0.15321801936541665]     [0.34537683205516706]   \n",
       "24   [-0.14765055502447363]     [-1.1340331658800538]   \n",
       "25   [-0.10449256930957569]     [-0.4272549188577005]   \n",
       "26   [-0.12074601166273666]     [-0.8637694081722892]   \n",
       "27   [-0.03509294427953719]     [0.18721817005199215]   \n",
       "28   [-0.05008703345454126]    [-0.19406875160184192]   \n",
       "29   [-0.07532263890928904]    [-0.20057831802055118]   \n",
       "30    [-0.0326612207770715]    [-0.11288515583145993]   \n",
       "31   [-0.01349971061471965]     [0.08049701964381055]   \n",
       "32   [-0.07907973557414487]     [-0.4015432397101494]   \n",
       "33   [-0.01606713786635855]   [-0.043001429093983023]   \n",
       "34   [-0.05663011077202423]     [-0.2230754710945907]   \n",
       "35  [-0.004136527384516195]     [0.28874990989988886]   \n",
       "36   [-0.08060187947411203]    [-0.08400365509987334]   \n",
       "37     [-0.022386096990509]  [-0.0021454250421231733]   \n",
       "38  [-0.057944012180361465]    [-0.17932079218242664]   \n",
       "39   [0.015505646415270935]    [-0.06279740919399446]   \n",
       "40   [-0.05250048990108763]    [-0.19474540317027456]   \n",
       "41   [-0.09656190968972177]      [-0.608241906359702]   \n",
       "42    [-0.0587154639885505]    [-0.09629846194111763]   \n",
       "43   [-0.06652963087808476]     [-0.3539044709369636]   \n",
       "44    [-0.1108656641562263]      [-0.549421925196416]   \n",
       "45   [-0.11036118234815336]     [-0.6770025755368224]   \n",
       "46   [-0.04533567623754505]    [-0.15229294565655668]   \n",
       "47   [-0.05977851225762943]     [-0.3838165340081897]   \n",
       "48   [-0.06763022982755997]    [-0.43000600087151275]   \n",
       "49   [-0.03256922697908378]     [-0.0762347876900699]   \n",
       "50  [-0.028081096220753707]    [-0.16128131471888574]   \n",
       "51     [0.1597841258457005]     [0.36312125885277935]   \n",
       "52    [0.25556418243240026]      [1.5775561323970082]   \n",
       "53   [0.060286061604149926]       [0.584501121436207]   \n",
       "54    [0.06690207608265676]      [0.3330652681227614]   \n",
       "55    [0.13370429039713977]      [0.9119281571555021]   \n",
       "56     [0.1667512146358013]     [0.44198442074720246]   \n",
       "\n",
       "   Difference Beta_T - Beta*  \n",
       "0      [0.07446716960463282]  \n",
       "1      [0.09123862859508469]  \n",
       "2     [-0.01056434420739974]  \n",
       "3      [-0.4324771349213075]  \n",
       "4      [-0.2623055310501767]  \n",
       "5     [-0.01764697954676958]  \n",
       "6      [-1.1494362426318532]  \n",
       "7     [-0.09241521792432153]  \n",
       "8     [-0.05170583656233191]  \n",
       "9     [0.018739576780950333]  \n",
       "10     [0.09578397238389565]  \n",
       "11     [0.07002603148785772]  \n",
       "12     [0.07509401588857574]  \n",
       "13    [0.004389619036930661]  \n",
       "14     [-0.3368019071075221]  \n",
       "15    [-0.26855958101817556]  \n",
       "16     [-0.2038925531355462]  \n",
       "17    [0.025249044872734813]  \n",
       "18    [-0.09874699349235987]  \n",
       "19     [-0.6460048846534032]  \n",
       "20    [-0.06056364587294874]  \n",
       "21    [-0.44521214834053474]  \n",
       "22      [-1.183695207417213]  \n",
       "23     [-0.1921588126897504]  \n",
       "24      [0.9863826108555801]  \n",
       "25      [0.3227623495481248]  \n",
       "26      [0.7430233965095525]  \n",
       "27    [-0.22231111433152934]  \n",
       "28     [0.14398171814730065]  \n",
       "29     [0.12525567911126212]  \n",
       "30     [0.08022393505438843]  \n",
       "31     [-0.0939967302585302]  \n",
       "32      [0.3224635041360045]  \n",
       "33    [0.026934291227624474]  \n",
       "34     [0.16644536032256646]  \n",
       "35    [-0.29288643728440505]  \n",
       "36   [0.0034017756257613135]  \n",
       "37   [-0.020240671948385826]  \n",
       "38     [0.12137678000206517]  \n",
       "39      [0.0783030556092654]  \n",
       "40     [0.14224491326918692]  \n",
       "41      [0.5116799966699802]  \n",
       "42     [0.03758299795256713]  \n",
       "43      [0.2873748400588788]  \n",
       "44      [0.4385562610401897]  \n",
       "45       [0.566641393188669]  \n",
       "46     [0.10695726941901162]  \n",
       "47      [0.3240380217505603]  \n",
       "48      [0.3623757710439528]  \n",
       "49     [0.04366556071098612]  \n",
       "50     [0.13320021849813202]  \n",
       "51    [-0.20333713300707884]  \n",
       "52      [-1.321991949964608]  \n",
       "53     [-0.5242150598320571]  \n",
       "54    [-0.26616319204010463]  \n",
       "55     [-0.7782238667583623]  \n",
       "56     [-0.2752332061114011]  "
      ]
     },
     "metadata": {},
     "output_type": "display_data"
    }
   ],
   "source": [
    "betaT = fgBeta[-1]\n",
    "\n",
    "model = LogisticRegression(penalty='l2', dual=False, C=1/lamb, tol=epsilon, fit_intercept=False, solver='saga')\n",
    "model = model.fit(X, y)\n",
    "betaStar = model.coef_\n",
    "\n",
    "betaT\n",
    "betaStar = betaStar[0].reshape(57,1)\n",
    "betaDiff = betaT - betaStar\n",
    "\n",
    "df = pd.DataFrame({\"Beta_T\":betaT.tolist(), \"Beta*\":betaStar.tolist(), \"Difference Beta_T - Beta*\":betaDiff.tolist()})\n",
    "display(df)"
   ]
  },
  {
   "cell_type": "code",
   "execution_count": 10,
   "metadata": {},
   "outputs": [
    {
     "data": {
      "text/html": [
       "<div>\n",
       "<style scoped>\n",
       "    .dataframe tbody tr th:only-of-type {\n",
       "        vertical-align: middle;\n",
       "    }\n",
       "\n",
       "    .dataframe tbody tr th {\n",
       "        vertical-align: top;\n",
       "    }\n",
       "\n",
       "    .dataframe thead th {\n",
       "        text-align: right;\n",
       "    }\n",
       "</style>\n",
       "<table border=\"1\" class=\"dataframe\">\n",
       "  <thead>\n",
       "    <tr style=\"text-align: right;\">\n",
       "      <th></th>\n",
       "      <th>Objective</th>\n",
       "    </tr>\n",
       "  </thead>\n",
       "  <tbody>\n",
       "    <tr>\n",
       "      <th>Beta*</th>\n",
       "      <td>1.724822</td>\n",
       "    </tr>\n",
       "    <tr>\n",
       "      <th>Beta_T</th>\n",
       "      <td>0.450686</td>\n",
       "    </tr>\n",
       "  </tbody>\n",
       "</table>\n",
       "</div>"
      ],
      "text/plain": [
       "        Objective\n",
       "Beta*    1.724822\n",
       "Beta_T   0.450686"
      ]
     },
     "metadata": {},
     "output_type": "display_data"
    }
   ],
   "source": [
    "objBetaT = fgObjs[-1]\n",
    "objBetaStar = computeobj(X, y, betaStar.reshape(57, 1), lamb = 0.1)\n",
    "\n",
    "df = pd.DataFrame([[objBetaStar], [objBetaT]], index = [\"Beta*\", \"Beta_T\"], columns=[\"Objective\"])\n",
    "display(df)"
   ]
  },
  {
   "cell_type": "markdown",
   "metadata": {},
   "source": [
    "Again, the value from our model may be an overfitting as we see a lower value for the objective calculated by our fast gradient algorithm than the one by skikit learn Logistic Regression function. There may be parameters that are "
   ]
  },
  {
   "cell_type": "markdown",
   "metadata": {},
   "source": [
    "**Run cross-validation on the training set of the Spam dataset using _scikit-learn_ to find the optimal value of λ. Run _graddescent_ and _fastgradalgo_ to optimize the objective with that value of λ. Plot the curve of the objective values $F(\\beta_t)$ for both algorithms versus the iteration counter t. Plot the misclassification error on the training set for both algorithms versus the iteration counter t. Plot the misclassification error on the test set for both algorithms versus the iteration counter t. What do you observe?**"
   ]
  },
  {
   "cell_type": "code",
   "execution_count": 11,
   "metadata": {},
   "outputs": [
    {
     "data": {
      "text/plain": [
       "0.05"
      ]
     },
     "execution_count": 11,
     "metadata": {},
     "output_type": "execute_result"
    }
   ],
   "source": [
    "#cross validation to find best lambda\n",
    "param_grid = {'C': [0.001, 0.05, 0.01, .5, 0.1, .5, 1, 5, 10, 50, 100, 500, 1000] }\n",
    "clf = GridSearchCV(model, param_grid)\n",
    "newLamb = clf.fit(X, y).best_estimator_.get_params()['C']"
   ]
  },
  {
   "cell_type": "code",
   "execution_count": 12,
   "metadata": {},
   "outputs": [
    {
     "data": {
      "image/png": "[encoded data removed]",
      "text/plain": [
       "<Figure size 432x288 with 1 Axes>"
      ]
     },
     "metadata": {
      "needs_background": "light"
     },
     "output_type": "display_data"
    }
   ],
   "source": [
    "# run algorithms\n",
    "newGdBeta, newGdObjs = graddescent(X, y, stepSize = stepSize, targetAccuracy = epsilon, lamb = newLamb)\n",
    "newFgBeta, newFgObjs = fastgradalgo(X, y, stepSize = stepSize, targetAccuracy = epsilon, lamb = newLamb)\n",
    "\n",
    "# plot curves\n",
    "plt.plot(newGdObjs, color = \"red\")\n",
    "plt.plot(newFgObjs, color = \"purple\")\n",
    "plt.ylabel(\"Objective values\")\n",
    "plt.xlabel(\"Iterations\")\n",
    "plt.title(\"Objective Value vs Iteration Counter with Optimal Lambda\")\n",
    "plt.legend([\"Gradient Descent\", \"Fast Gradient Algorithm\"])\n",
    "plt.show()"
   ]
  },
  {
   "cell_type": "code",
   "execution_count": 13,
   "metadata": {},
   "outputs": [],
   "source": [
    "def calcMisclassificationError(X, y, betas):\n",
    "    \"\"\"\n",
    "    Calculates the misclassification error for a binary response variable\n",
    "    Inputs:\n",
    "        - X: matrix of X values\n",
    "        - y: vector of associated outcomes, binary\n",
    "        - betas: coefficients that correspond to X values\n",
    "    Outputs:\n",
    "        - misclassifications: ratio of incorrect values / total values for all betas\n",
    "    \"\"\"\n",
    "    misclassifications = np.zeros((betas.shape[0], 1))\n",
    "    for b in range(betas.shape[0]):\n",
    "        betaVals = betas[b]\n",
    "        incorrect = 0\n",
    "        for i in range(X.shape[0]):\n",
    "            Xi = X[i]\n",
    "            prediction = 0\n",
    "            for j in range(X.shape[1]):\n",
    "                prediction += (Xi[j] * betaVals[j])\n",
    "            if(prediction > 0):\n",
    "                prediction = 1\n",
    "            else:\n",
    "                prediction = -1\n",
    "            if(prediction != y[i]):\n",
    "                incorrect +=1\n",
    "        misclassifications[b,:] = (incorrect / X.shape[0])\n",
    "    return misclassifications"
   ]
  },
  {
   "cell_type": "code",
   "execution_count": 15,
   "metadata": {},
   "outputs": [
    {
     "data": {
      "image/png": "[encoded data removed]",
      "text/plain": [
       "<Figure size 432x288 with 1 Axes>"
      ]
     },
     "metadata": {
      "needs_background": "light"
     },
     "output_type": "display_data"
    }
   ],
   "source": [
    "# plot misclassification error on training set\n",
    "gdTrainMisclassification = calcMisclassificationError(X, y, newGdBeta)\n",
    "fgTrainMisclassification = calcMisclassificationError(X, y, newFgBeta)\n",
    "        \n",
    "# plot curves\n",
    "plt.plot(gdTrainMisclassification, color = \"red\")\n",
    "plt.plot(fgTrainMisclassification, color = \"purple\")\n",
    "plt.ylabel(\"Misclassification Rate\")\n",
    "plt.xlabel(\"Iterations\")\n",
    "plt.title(\"Training Data Misclassification Rates vs Iteration Counter with Optimal Lambda\")\n",
    "plt.legend([\"Gradient Descent\", \"Fast Gradient Algorithm\"])\n",
    "plt.show()"
   ]
  },
  {
   "cell_type": "code",
   "execution_count": 16,
   "metadata": {},
   "outputs": [
    {
     "data": {
      "image/png": "[encoded data removed]",
      "text/plain": [
       "<Figure size 432x288 with 1 Axes>"
      ]
     },
     "metadata": {
      "needs_background": "light"
     },
     "output_type": "display_data"
    }
   ],
   "source": [
    "# plot misclassification error on test set\n",
    "gdTestMisclassification = calcMisclassificationError(X_test, y_test, newGdBeta)\n",
    "fgTestMisclassification = calcMisclassificationError(X_test, y_test, newFgBeta)\n",
    "        \n",
    "# plot curves\n",
    "plt.plot(gdTestMisclassification, color = \"red\")\n",
    "plt.plot(fgTestMisclassification, color = \"purple\")\n",
    "plt.ylabel(\"Misclassification Rate\")\n",
    "plt.xlabel(\"Iterations\")\n",
    "plt.title(\"Test Data Misclassification Rates vs Iteration Counter with Optimal Lambda\")\n",
    "plt.legend([\"Gradient Descent\", \"Fast Gradient Algorithm\"])\n",
    "plt.show()"
   ]
  },
  {
   "cell_type": "markdown",
   "metadata": {},
   "source": [
    "TALK ABOUT THIS!!!\n",
    "\n",
    "Lambda (λ) controls the trade-off between allowing the model to increase it's complexity as much as it wants with trying to keep it simple. For example, if λ is very low or 0, the model will have enough power to increase it's complexity (overfit) by assigning big values to the weights for each parameter. If, in the other hand, we increase the value of λ, the model will tend to underfit, as the model will become too simple. (https://www.kaggle.com/joparga3/2-tuning-parameters-for-logistic-regression)"
   ]
  },
  {
   "cell_type": "markdown",
   "metadata": {},
   "source": [
    "### Exercise 2"
   ]
  },
  {
   "cell_type": "markdown",
   "metadata": {},
   "source": [
    "**Suppose we estimate the regression coefficients in a logistic regression model by minimizing $$F(\\beta) := \\frac{1}{n} \\sum_{i=1}^{n} \\log(1 + \\exp(-y_ix_i^T\\beta)) + \\lambda ||\\beta||_2^2$$ for a particular value of $\\lambda$. For parts (a) through (e), indicate which of (i) through (v) is correct. Justify your answer.**"
   ]
  },
  {
   "cell_type": "markdown",
   "metadata": {},
   "source": [
    "**(a)  As we increase $\\lambda$ from 0, the misclassification error on the test set will:  \n",
    "(i) Increase initially, and then eventually start decreasing in an inverted U shape.  \n",
    "(ii) Decrease initially, and then eventually start increasing in a U shape.  \n",
    "(iii) Steadily increase.  \n",
    "(iv) Steadily decrease.  \n",
    "(v) Remain constant**"
   ]
  },
  {
   "cell_type": "markdown",
   "metadata": {},
   "source": [
    "As lambda increases from zero we would expect case ii, where the misclassification error on the test set will decrease initially and then start increasing in a U shape.\n",
    "\n",
    "ii. look at equation on slide 8, there is an ideal lambda value for which the model is general enough and then it gets too general and the misclassification error gets higher  \n",
    "\n",
    "bias variaince tradeoff and switches at local min"
   ]
  },
  {
   "cell_type": "markdown",
   "metadata": {},
   "source": [
    "**(b)  Repeat (a) for the misclassification error on the training set.**"
   ]
  },
  {
   "cell_type": "markdown",
   "metadata": {},
   "source": [
    "As lambda increases from zero we would expect case i, where the misclassification error on the training set will increase initially and then eventually start decreasing in an inverted U shape.\n",
    "\n",
    "i. this is penalizing betas and if they are already optimized this will then:  \n",
    "\n",
    "Betas are already fit for this data so as your increase lambda the error will increase since worse fit for the training data exactly"
   ]
  },
  {
   "cell_type": "markdown",
   "metadata": {},
   "source": [
    "### Exercise 3"
   ]
  },
  {
   "cell_type": "markdown",
   "metadata": {},
   "source": [
    "**(a) The fitting and testing times on both the CPU and GPU versions. You can find these in the output.**"
   ]
  },
  {
   "cell_type": "code",
   "execution_count": 17,
   "metadata": {},
   "outputs": [
    {
     "data": {
      "text/html": [
       "<div>\n",
       "<style scoped>\n",
       "    .dataframe tbody tr th:only-of-type {\n",
       "        vertical-align: middle;\n",
       "    }\n",
       "\n",
       "    .dataframe tbody tr th {\n",
       "        vertical-align: top;\n",
       "    }\n",
       "\n",
       "    .dataframe thead th {\n",
       "        text-align: right;\n",
       "    }\n",
       "</style>\n",
       "<table border=\"1\" class=\"dataframe\">\n",
       "  <thead>\n",
       "    <tr style=\"text-align: right;\">\n",
       "      <th></th>\n",
       "      <th>GPU</th>\n",
       "      <th>CPU</th>\n",
       "    </tr>\n",
       "  </thead>\n",
       "  <tbody>\n",
       "    <tr>\n",
       "      <th>Fitting Time</th>\n",
       "      <td>9.029633</td>\n",
       "      <td>1.102070</td>\n",
       "    </tr>\n",
       "    <tr>\n",
       "      <th>Testing Time</th>\n",
       "      <td>44.250862</td>\n",
       "      <td>982.011376</td>\n",
       "    </tr>\n",
       "  </tbody>\n",
       "</table>\n",
       "</div>"
      ],
      "text/plain": [
       "                    GPU         CPU\n",
       "Fitting Time   9.029633    1.102070\n",
       "Testing Time  44.250862  982.011376"
      ]
     },
     "metadata": {},
     "output_type": "display_data"
    }
   ],
   "source": [
    "df = pd.DataFrame({\"GPU\": (9.029633, 44.250862), \"CPU\": (1.102070, 982.011376)})\n",
    "df.rename(index={0:\"Fitting Time\", 1:\"Testing Time\"}, inplace = True)\n",
    "display(df)"
   ]
  },
  {
   "cell_type": "markdown",
   "metadata": {},
   "source": [
    "**The url from the previous step (Check to make sure you successfully made it public!)**"
   ]
  },
  {
   "cell_type": "markdown",
   "metadata": {},
   "source": [
    "My output file can be found here: https://s3.amazonaws.com/stat558-twilson/data558_astronomyoutput.txt"
   ]
  },
  {
   "cell_type": "markdown",
   "metadata": {},
   "source": [
    "**A statement of any problems you encountered during this exercise and how you overcame them (or if you didn’t).**"
   ]
  },
  {
   "cell_type": "markdown",
   "metadata": {},
   "source": [
    "I got stuck in a few places, mainly with the unfamiliar Ubuntu file system and the AWS commands but was able to resolve them by searching Stack Overflow and similar sources for guidance."
   ]
  },
  {
   "cell_type": "markdown",
   "metadata": {},
   "source": [
    "**How long it took you to complete this exercise (for our reference–we’re not grading you on how long it took).**"
   ]
  },
  {
   "cell_type": "markdown",
   "metadata": {},
   "source": [
    "It took me around 3 hours, but that includes time to familiarize myself with Ubuntu shell, AWS Console, etc.\n",
    "\n",
    "It took me another 3 hours to get AWS to run for Exercise 4 to get the feature files generated as the steps were a bit different and I was unfamiliar with the preset up environments on the Machine Learning AMI."
   ]
  },
  {
   "cell_type": "markdown",
   "metadata": {},
   "source": [
    "### Exercise 4"
   ]
  },
  {
   "cell_type": "markdown",
   "metadata": {},
   "source": [
    "**Download the data for the Kaggle competition. Run the script `extract_features.py` to extract features from the images. This script was written in Python 3 and depends on the library PyTorch.**"
   ]
  },
  {
   "cell_type": "markdown",
   "metadata": {},
   "source": [
    "**Pick two classes of your choice from the dataset. Train an $l_2^2$-regularized logistic regression classifier on the training set using your own fast gradient algorithm with $\\lambda = 1$.Be sure to use the features you generated above rather than the raw image features. Plot, with different colors, the _misclassification error_ on the training set and on the validation set vs iterations**"
   ]
  },
  {
   "cell_type": "code",
   "execution_count": 33,
   "metadata": {},
   "outputs": [
    {
     "name": "stdout",
     "output_type": "stream",
     "text": [
      "Number of images in x_train: 1000\n",
      "Dimension of features: 4096\n"
     ]
    }
   ],
   "source": [
    "data_dir = \"../Kaggle/data_competition1_files\"\n",
    "\n",
    "x_train_unfiltered = np.load(os.path.join(data_dir, 'train_features.npy'))\n",
    "y_train_unfiltered = np.load(os.path.join(data_dir, 'train_labels.npy'))\n",
    "x_test_unfiltered = np.load(os.path.join(data_dir, 'val_features.npy'))\n",
    "y_test_unfiltered = np.load(os.path.join(data_dir, 'val_labels.npy'))\n",
    "\n",
    "kaggleTest = np.load(os.path.join(data_dir, 'test_features.npy'))\n",
    "\n",
    "# filter testing data to two classes: 4, 7\n",
    "x_train = np.zeros((1000, x_train_unfiltered.shape[1]))\n",
    "y_train = np.zeros((1000, 1))\n",
    "index = 0\n",
    "for i in range(y_train_unfiltered.shape[0]):\n",
    "    if(y_train_unfiltered[i] == 4 or y_train_unfiltered[i] == 7):\n",
    "        x_train[index, :] = x_train_unfiltered[i].T\n",
    "        y_train[index, :] = y_train_unfiltered[i]\n",
    "        index += 1\n",
    "\n",
    "# filter testing data to two classes: 4, 7\n",
    "x_test = np.zeros((200, x_test_unfiltered.shape[1]))\n",
    "y_test = np.zeros((200, 1))\n",
    "index = 0\n",
    "for i in range(y_test_unfiltered.shape[0]):\n",
    "    if(y_test_unfiltered[i] == 4 or y_test_unfiltered[i] == 7):\n",
    "        x_test[index, :] = x_test_unfiltered[i].T\n",
    "        y_test[index, :] = y_test_unfiltered[i]\n",
    "        index += 1\n",
    "\n",
    "# check dimensions\n",
    "print(\"Number of images in x_train:\", x_train.shape[0])\n",
    "print(\"Dimension of features:\", x_train.shape[1])\n",
    "\n",
    "# standardize x values\n",
    "xScaler = preprocessing.StandardScaler()\n",
    "X_train = xScaler.fit_transform(x_train)\n",
    "X_test = xScaler.transform(x_test)"
   ]
  },
  {
   "cell_type": "code",
   "execution_count": 34,
   "metadata": {},
   "outputs": [],
   "source": [
    "def calcKaggleMisclassificationError(X, y, betas):\n",
    "    \"\"\"\n",
    "    Calculates the misclassification error for a 0-9 response variable\n",
    "    Inputs:\n",
    "        - X: matrix of X values\n",
    "        - y: vector of associated outcomes, 0-9\n",
    "        - betas: coefficients that correspond to X values\n",
    "    Outputs:\n",
    "        - misclassifications: ratio of incorrect values / total values for all betas\n",
    "    \"\"\"\n",
    "    misclassifications = np.zeros((betas.shape[0], 1))\n",
    "    for b in range(betas.shape[0]):\n",
    "        betaVals = betas[b]\n",
    "        incorrect = 0\n",
    "        for i in range(X.shape[0]):\n",
    "            Xi = X[i]\n",
    "            prediction = 0\n",
    "            for j in range(X.shape[1]):\n",
    "                prediction += (Xi[j] * betaVals[j])\n",
    "            prediction = math.floor(prediction)\n",
    "            if(prediction != y[i]):\n",
    "                incorrect +=1\n",
    "        misclassifications[b,:] = (incorrect / X.shape[0])\n",
    "    return misclassifications"
   ]
  },
  {
   "cell_type": "code",
   "execution_count": null,
   "metadata": {},
   "outputs": [],
   "source": [
    "lamb = 1.0\n",
    "\n",
    "trainBeta, trainObjs = fastgradalgo(x_train, y_train, stepSize = stepSize, targetAccuracy = epsilon, lamb = lamb)\n",
    "valBeta, valObjs = fastgradalgo(x_test, y_test, stepSize = stepSize, targetAccuracy = epsilon, lamb = lamb)"
   ]
  },
  {
   "cell_type": "code",
   "execution_count": null,
   "metadata": {},
   "outputs": [],
   "source": [
    "# plot misclassification error on training set\n",
    "trainMisclassification = calcKaggleMisclassificationError(x_train, y_train, trainBeta)\n",
    "valMisclassification = calcKaggleMisclassificationError(x_test, y_test, valBeta)\n",
    "        \n",
    "# plot curves\n",
    "plt.plot(gdTrainMisclassification, color = \"red\")\n",
    "plt.plot(fgTrainMisclassification, color = \"purple\")\n",
    "plt.ylabel(\"Misclassification Rate\")\n",
    "plt.xlabel(\"Iterations\")\n",
    "plt.title(\"Training Data Misclassification Rates vs Iteration Counter with Optimal Lambda\")\n",
    "plt.legend([\"Gradient Descent\", \"Fast Gradient Algorithm\"])\n",
    "plt.show()"
   ]
  },
  {
   "cell_type": "markdown",
   "metadata": {},
   "source": [
    "**Find the value of the regularization parameter $\\lambda$ using cross-validation; you may use scikit-learn’s built-in functions for this purpose. Train an $l_2^2$-regularized logistic regression classifier on the training set using your own fast gradient algorithm with that value of $\\lambda$ found by cross-validation. Plot, with different colors, the _misclassification error_ on the training set and on the validation set vs iterations.**"
   ]
  },
  {
   "cell_type": "code",
   "execution_count": null,
   "metadata": {},
   "outputs": [],
   "source": [
    "model = LogisticRegression(penalty='l2', dual=False, C=1/lamb, tol=epsilon, fit_intercept=False, solver='saga')\n",
    "model = model.fit(x_train, y_train)\n",
    "\n",
    "#cross validation to find best lambda\n",
    "param_grid = {'C': [0.001, 0.05, 0.01, .5, 0.1, .5, 1, 5, 10, 50, 100, 500, 1000] }\n",
    "clf = GridSearchCV(model, param_grid)\n",
    "newLamb = clf.fit(x_train, y_train).best_estimator_.get_params()['C']"
   ]
  },
  {
   "cell_type": "code",
   "execution_count": null,
   "metadata": {},
   "outputs": [],
   "source": [
    "newTrainBeta, newTrainObjs = fastgradalgo(x_train, y_train, stepSize = stepSize, targetAccuracy = epsilon, lamb = newLamb)\n",
    "newValBeta, newValObjs = fastgradalgo(x_test, y_test, stepSize = stepSize, targetAccuracy = epsilon, lamb = newLamb)"
   ]
  },
  {
   "cell_type": "code",
   "execution_count": null,
   "metadata": {},
   "outputs": [],
   "source": [
    "# plot misclassification error on training set\n",
    "newTrainMisclassification = calcKaggleMisclassificationError(x_train, y_train, newTrainBeta)\n",
    "newValMisclassification = calcKaggleMisclassificationError(x_test, y_test, newValBeta)\n",
    "        \n",
    "# plot curves\n",
    "plt.plot(gdTrainMisclassification, color = \"red\")\n",
    "plt.plot(fgTrainMisclassification, color = \"purple\")\n",
    "plt.ylabel(\"Misclassification Rate\")\n",
    "plt.xlabel(\"Iterations\")\n",
    "plt.title(\"Training Data Misclassification Rates vs Iteration Counter with Optimal Lambda\")\n",
    "plt.legend([\"Gradient Descent\", \"Fast Gradient Algorithm\"])\n",
    "plt.show()"
   ]
  },
  {
   "cell_type": "markdown",
   "metadata": {},
   "source": [
    "### Exercise 5"
   ]
  },
  {
   "cell_type": "markdown",
   "metadata": {},
   "source": [
    "**It is well-known that ridge regression tends to give similar coefficient values to correlated variables, whereas the lasso may give quite different coefficient values to correlated variables. We will now explore this property in a very simple setting.   \n",
    "Suppose that $n=2, p =2, x_{11}=x_{12}=x_{21}=x_{22}$. Furthermore, suppose that $y_1+y_2=0$ and $x_{11}+x_{21}=0$ and $x_{12}+x_{22}=0$, so that the estimate for the intercept in a least squares, ridge regression, or lasso model is zero: $\\hat{\\beta_0}=0$**"
   ]
  },
  {
   "cell_type": "markdown",
   "metadata": {},
   "source": [
    "**(a) Write out the ridge regression optimization problem in this setting.**"
   ]
  },
  {
   "cell_type": "code",
   "execution_count": null,
   "metadata": {},
   "outputs": [],
   "source": []
  },
  {
   "cell_type": "markdown",
   "metadata": {},
   "source": [
    "**(b) Argue that in this setting, the ridge coefficient estimates satisfy $\\beta_1 = \\beta_2$**"
   ]
  },
  {
   "cell_type": "code",
   "execution_count": null,
   "metadata": {},
   "outputs": [],
   "source": []
  }
 ],
 "metadata": {
  "kernelspec": {
   "display_name": "Python 3",
   "language": "python",
   "name": "python3"
  },
  "language_info": {
   "codemirror_mode": {
    "name": "ipython",
    "version": 3
   },
   "file_extension": ".py",
   "mimetype": "text/x-python",
   "name": "python",
   "nbconvert_exporter": "python",
   "pygments_lexer": "ipython3",
   "version": "3.7.3"
  }
 },
 "nbformat": 4,
 "nbformat_minor": 2
}
