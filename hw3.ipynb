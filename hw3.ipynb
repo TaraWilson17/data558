{
 "cells": [
  {
   "cell_type": "markdown",
   "metadata": {},
   "source": [
    "## <center> Homework 2 </center>\n",
    "<center> Tara Wilson </center>\n",
    "<center> DATA 558 </center>\n",
    "<center> April 18, 2019 </center>"
   ]
  },
  {
   "cell_type": "code",
   "execution_count": 1,
   "metadata": {},
   "outputs": [],
   "source": [
    "# imports\n",
    "import math\n",
    "import pandas as pd\n",
    "import numpy as np\n",
    "import matplotlib.pyplot as plt\n",
    "from sklearn import preprocessing\n",
    "import warnings\n",
    "warnings.filterwarnings('ignore')\n",
    "from scipy.linalg import eigh\n",
    "from sklearn.linear_model import LogisticRegression\n",
    "from sklearn.model_selection import train_test_split\n",
    "from sklearn.model_selection import GridSearchCV\n"
   ]
  },
  {
   "cell_type": "markdown",
   "metadata": {},
   "source": [
    "### Exercise 1"
   ]
  },
  {
   "cell_type": "markdown",
   "metadata": {},
   "source": [
    "In this exercise, you will implement in Python a first version of your own fast gradient algorithm to solve the $l_2^2$-regularized logistic regression problem. Recall from the lectures that the logistic regression problem writes as $$min F(\\beta) := \\frac{1}{n} \\sum_{i=1}^{n} \\log(1 + \\exp(-y_ix_i^T\\beta)) + \\lambda ||\\beta||_2^2$$. We use here the machine learning convention for the labels that is $y_i \\in {-1, 1}$."
   ]
  },
  {
   "cell_type": "markdown",
   "metadata": {},
   "source": [
    "#### 1.1 Fast Gradient\n",
    "**The  fast gradient algorithm is outlined in Algorithm 1. The algorithm requires a subroutine\n",
    "that computes the gradient for any β.**"
   ]
  },
  {
   "cell_type": "markdown",
   "metadata": {},
   "source": [
    "**Assume that _d = 1_ and _n = 1_. The sample is then of size 1 and boils down to just _(x, y)_. The function *F* writes simply as $$F(\\beta) = \\log(1+\\exp(-yx\\beta))+ \\lambda\\beta^2$$  Compute and write down the gradient $\\nabla F$ of F.**"
   ]
  },
  {
   "cell_type": "markdown",
   "metadata": {},
   "source": []
  },
  {
   "cell_type": "markdown",
   "metadata": {},
   "source": [
    "**Assume now that _d > 1_ and _n > 1_. Using the previous result and the linearity of differentiation, compute and write down the gradient $\\nabla F$ of F.** "
   ]
  },
  {
   "cell_type": "markdown",
   "metadata": {},
   "source": []
  },
  {
   "cell_type": "markdown",
   "metadata": {},
   "source": [
    "**Consider the Spam dataset from The Elements of Statistical Learning (You can get it here: https://web.stanford.edu/~hastie/ElemStatLearn/). Standardize the data (i.e., center the features and divide them by their standard deviation, and also change the output labels to +/- 1).**"
   ]
  },
  {
   "cell_type": "code",
   "execution_count": 52,
   "metadata": {},
   "outputs": [],
   "source": [
    "spam = pd.read_csv(\"https://web.stanford.edu/~hastie/ElemStatLearn/datasets/spam.data\", sep=\" \", \n",
    "                   na_values=\"?\", header=None)\n",
    "spam = spam.dropna()\n",
    "X = spam.iloc[:, 0:57]\n",
    "y = spam.iloc[:,-1].replace(0,-1)\n",
    "y = np.array(y).reshape(y.shape[0], 1)\n",
    "\n",
    "# Divide the data into training and test sets. By default, 25% goes into the test set.\n",
    "X, X_test, y, y_test = train_test_split(X, y, random_state=0)\n",
    "\n",
    "\n",
    "# standardizing X by subtracting the mean of the predictors and dividing by their standard deviation\n",
    "scaler = preprocessing.StandardScaler().fit(X)\n",
    "X = scaler.transform(X)\n",
    "X_test = scaler.transform(X_test)"
   ]
  },
  {
   "cell_type": "markdown",
   "metadata": {},
   "source": [
    "**Write a function _computegrad_ that computes and returns $\\nabla F(\\beta)$ for any $\\beta$.**"
   ]
  },
  {
   "cell_type": "code",
   "execution_count": 3,
   "metadata": {},
   "outputs": [],
   "source": [
    "def computegrad(X, y, beta, lamb = 0.05):\n",
    "    \"\"\"\n",
    "    Computes the gradient for the fast gradient algorithm\n",
    "    Inputs:\n",
    "        - X: matrix of X values\n",
    "        - y: vector of associated outcomes\n",
    "        - beta: vector of beta constants\n",
    "        - lambda: scalar multiplicative factor for regularization penalty (optional, defaults to 0.05)\n",
    "    Outputs:\n",
    "        - vector gradient for passed in parameters\n",
    "    \"\"\"\n",
    "    n = len(X) \n",
    "    P = np.zeros((X.shape[0], X.shape[0]))\n",
    "    for i in range(0, X.shape[0]):\n",
    "        xi = X[i,:]\n",
    "        yi = y[i][0]\n",
    "        #yi = y[i]\n",
    "        p = ((np.exp(-yi * (xi).dot(beta))) / (1 + (np.exp(-yi * (xi).dot(beta)))))\n",
    "        P[i,i] = p  \n",
    "    return ((-1/n) * X.T.dot(P).dot(y) + 2*lamb*beta)"
   ]
  },
  {
   "cell_type": "code",
   "execution_count": 4,
   "metadata": {},
   "outputs": [],
   "source": [
    "def computeobj(X, y, beta, lamb = 0.05):\n",
    "    \"\"\"\n",
    "    Computes the objective for ridge regression problem\n",
    "    Inputs:\n",
    "        - X: matrix of X values\n",
    "        - y: vector of associated outcomes\n",
    "        - beta: vector of beta constants\n",
    "        - lambda: scalar multiplicative factor for regularization penalty (optional, defaults to 0.05)\n",
    "    Outputs:\n",
    "        - objective for passed in parameters\n",
    "    \"\"\"\n",
    "    n = len(X)\n",
    "    summation = 0\n",
    "    for i in range(0, X.shape[0]):\n",
    "        xi = X[i,:]\n",
    "        #yi = y[i][0]\n",
    "        yi = y[i]\n",
    "        x = -yi*xi.dot(beta)\n",
    "        if(x > 0):\n",
    "            a = x + 1\n",
    "            logTerm = a + np.log(np.exp(-a) + np.exp(x-a))\n",
    "        else:\n",
    "            logTerm = np.log(1 + np.exp(x))\n",
    "        summation = summation + logTerm\n",
    "    \n",
    "    return ((1/n) * summation + (lamb * np.sum(beta**2)))[0]"
   ]
  },
  {
   "cell_type": "markdown",
   "metadata": {},
   "source": [
    "**Write a function _backtracking_ that implements the backtracking rule.**"
   ]
  },
  {
   "cell_type": "code",
   "execution_count": 10,
   "metadata": {},
   "outputs": [],
   "source": [
    "def backtracking(X, y, beta, eta, alpha = 0.5, gamma=0.8):\n",
    "    \"\"\"\n",
    "    Implements backtracking rule\n",
    "    Inputs:\n",
    "        - X: matrix of X values\n",
    "        - y: vector of associated outcomes\n",
    "        - beta: vector of beta constants\n",
    "        - eta: initial step size\n",
    "        - alpha: constant used to define sufficinet decrease condition\n",
    "        - gamma: constant to scale step size by until condition met         \n",
    "    Outputs:\n",
    "        - step size\n",
    "    \"\"\"\n",
    "    grad = computegrad(X, y, beta)  # Gradient at beta\n",
    "    conditionMet = False\n",
    "    while not conditionMet:    \n",
    "        if computeobj(X, y, beta - eta*grad)< computeobj(X, y, beta) - alpha*eta*np.linalg.norm(grad)**2:\n",
    "            conditionMet = True\n",
    "        else:\n",
    "            eta = eta * gamma            \n",
    "    return eta"
   ]
  },
  {
   "cell_type": "markdown",
   "metadata": {},
   "source": [
    "**Write a function _graddescent_ that implements the gradient descent algorithm with the backtracking rule to tune the step-size. The function _graddescent_ calls _computegrad_ and _backtracking_ as subroutines. The function takes as input the initial point, the initial step-size value, and the target accuracy ε. The stopping criterion is $||\\nabla F|| \\leq \\epsilon$**"
   ]
  },
  {
   "cell_type": "code",
   "execution_count": 11,
   "metadata": {},
   "outputs": [],
   "source": [
    "def graddescent(X, y, stepSize, targetAccuracy = 0.001, lamb = 0.05):\n",
    "    \"\"\"\n",
    "    Implements gradient descent algorithm with backtracking\n",
    "    Inputs:\n",
    "        - X: matrix of X values\n",
    "        - y: vector of associated outcomes\n",
    "        - stepSize: initial step size\n",
    "        - targetAccuracy: target accuracy value for algorithm\n",
    "        - lambda: scalar multiplicative factor for regularization penalty (optional, defaults to 0.05)\n",
    "    Outputs:\n",
    "        - betas: vector of improved betas after final iteration\n",
    "        - objs: vector of objective values for each iteration\n",
    "    \"\"\"\n",
    "    x = X\n",
    "    beta = np.zeros((X.shape[1], 1))\n",
    "    objs = [computeobj(x, y, beta, lamb)]\n",
    "    betas = [beta]\n",
    "    grad = computegrad(x, y, beta, lamb)\n",
    "    t = 0\n",
    "    while (np.linalg.norm(grad) > targetAccuracy):\n",
    "        stepSize = backtracking(x, y, beta, stepSize)\n",
    "        beta = beta - stepSize * grad\n",
    "        betas.append(beta) # saves current beta values\n",
    "        obj = computeobj(x, y, beta, lamb)\n",
    "        objs.append(obj) # saves current objective value\n",
    "        grad = computegrad(x, y, beta, lamb)\n",
    "        t = t + 1\n",
    "    return np.array(betas), np.array(objs)"
   ]
  },
  {
   "cell_type": "markdown",
   "metadata": {},
   "source": [
    "**Write a function _fastgradalgo_ that implements the fast gradient algorithm described in Algorithm 1. The function _fastgradalgo_ calls _computegrad_ and _backtracking_ as subroutines. The function takes as input the initial step-size value for the backtracking rule and the target accuracy ε. The stopping criterion is $||\\nabla F|| \\leq \\epsilon$**"
   ]
  },
  {
   "cell_type": "code",
   "execution_count": 12,
   "metadata": {},
   "outputs": [],
   "source": [
    "def fastgradalgo(X, y, stepSize, targetAccuracy = 0.001, lamb = 0.05):\n",
    "    \"\"\"\n",
    "    Implements fast gradient descent algorithm with backtracking\n",
    "    Inputs:\n",
    "        - X: matrix of X values\n",
    "        - y: vector of associated outcomes\n",
    "        - stepSize: initial step size\n",
    "        - targetAccuracy: target accuracy value for algorithm\n",
    "        - lambda: scalar multiplicative factor for regularization penalty (optional, defaults to 0.05)\n",
    "    Outputs:\n",
    "        - betas: vector of improved betas after final iteration\n",
    "        - objs: vector of objective values for each iteration\n",
    "    \"\"\"\n",
    "    x = X\n",
    "    beta = np.zeros((X.shape[1], 1))\n",
    "    theta = np.zeros((X.shape[1], 1))\n",
    "    objs = [computeobj(x, y, beta, lamb)]\n",
    "    betas = [beta]\n",
    "    #thetas = [theta]\n",
    "    grad = computegrad(x, y, theta, lamb)\n",
    "    t = 0 \n",
    "    while (np.linalg.norm(grad) > targetAccuracy):\n",
    "        stepSize = backtracking(x, y, beta, stepSize)\n",
    "        betaOld = beta\n",
    "        beta = theta - stepSize * computegrad(x, y, theta, lamb)\n",
    "        theta = beta + (t/(t+3))*(beta - betaOld)\n",
    "        betas.append(beta) # saves current beta values\n",
    "        obj = computeobj(x, y, beta, lamb)\n",
    "        objs.append(obj) # saves current objective value\n",
    "        grad = computegrad(x, y, theta, lamb)\n",
    "        #thetas.append(theta)\n",
    "        t = t + 1\n",
    "    return np.array(betas), np.array(objs)"
   ]
  },
  {
   "cell_type": "markdown",
   "metadata": {},
   "source": [
    "**Use the estimate described in the course to initialize the step-size. Set the target accuracy to $\\epsilon = 10^{-4}$. Run _graddescent_ and _fastgradalgo_ on the training set of the Spam dataset for λ = 0.1. Plot the curve of the objective values $F(\\beta_t)$ for both algorithms versus the iteration counter t (use different colors). What do you observe?**"
   ]
  },
  {
   "cell_type": "code",
   "execution_count": 13,
   "metadata": {},
   "outputs": [
    {
     "data": {
      "image/png": "[encoded data removed]",
      "text/plain": [
       "<Figure size 432x288 with 1 Axes>"
      ]
     },
     "metadata": {
      "needs_background": "light"
     },
     "output_type": "display_data"
    }
   ],
   "source": [
    "# set constants\n",
    "epsilon = 0.0001\n",
    "lamb = 0.1\n",
    "\n",
    "# calculate initial step size\n",
    "n = len(X)\n",
    "eq = (1/n * X.T.dot(X))\n",
    "eigVals = eigh(eq)[0]\n",
    "stepSize = 1 / (max(eigVals) + lamb)\n",
    "\n",
    "# run algorithms\n",
    "gdBeta, gdObjs = graddescent(X, y, stepSize = stepSize, targetAccuracy = epsilon, lamb = lamb)\n",
    "fgBeta, fgObjs = fastgradalgo(X, y, stepSize = stepSize, targetAccuracy = epsilon, lamb = lamb)\n",
    "\n",
    "# plot \n",
    "plt.plot(gdObjs, color = \"red\")\n",
    "plt.plot(fgObjs, color = \"purple\")\n",
    "plt.ylabel(\"Objective values\")\n",
    "plt.xlabel(\"Iterations\")\n",
    "plt.title(\"Objective Value vs Iteration Counter\")\n",
    "plt.legend([\"Gradient Descent\", \"Fast Gradient Algorithm\"])\n",
    "plt.show()"
   ]
  },
  {
   "cell_type": "markdown",
   "metadata": {},
   "source": [
    "**Denote by $\\beta_T$ the final iterate of your fast gradient algorithm. Compare $\\beta_T$ to the $\\beta^*$ found by _scikit-learn_. Compare the objective value for $\\beta_T$ to the one for $\\beta^*$. What do you observe?**"
   ]
  },
  {
   "cell_type": "code",
   "execution_count": 37,
   "metadata": {},
   "outputs": [
    {
     "data": {
      "text/html": [
       "<div>\n",
       "<style scoped>\n",
       "    .dataframe tbody tr th:only-of-type {\n",
       "        vertical-align: middle;\n",
       "    }\n",
       "\n",
       "    .dataframe tbody tr th {\n",
       "        vertical-align: top;\n",
       "    }\n",
       "\n",
       "    .dataframe thead th {\n",
       "        text-align: right;\n",
       "    }\n",
       "</style>\n",
       "<table border=\"1\" class=\"dataframe\">\n",
       "  <thead>\n",
       "    <tr style=\"text-align: right;\">\n",
       "      <th></th>\n",
       "      <th>Beta_T</th>\n",
       "      <th>Beta*</th>\n",
       "      <th>Difference Beta_T - Beta*</th>\n",
       "    </tr>\n",
       "  </thead>\n",
       "  <tbody>\n",
       "    <tr>\n",
       "      <th>0</th>\n",
       "      <td>[0.0296838835539165]</td>\n",
       "      <td>[-0.04469692253313419]</td>\n",
       "      <td>[0.0743808060870507]</td>\n",
       "    </tr>\n",
       "    <tr>\n",
       "      <th>1</th>\n",
       "      <td>[-0.022269283777930245]</td>\n",
       "      <td>[-0.11361059504569675]</td>\n",
       "      <td>[0.0913413112677665]</td>\n",
       "    </tr>\n",
       "    <tr>\n",
       "      <th>2</th>\n",
       "      <td>[0.0866739372015923]</td>\n",
       "      <td>[0.09690999446359508]</td>\n",
       "      <td>[-0.010236057262002773]</td>\n",
       "    </tr>\n",
       "    <tr>\n",
       "      <th>3</th>\n",
       "      <td>[0.058816618172809795]</td>\n",
       "      <td>[0.4875582765158724]</td>\n",
       "      <td>[-0.4287416583430626]</td>\n",
       "    </tr>\n",
       "    <tr>\n",
       "      <th>4</th>\n",
       "      <td>[0.17540317127471478]</td>\n",
       "      <td>[0.43779879832206053]</td>\n",
       "      <td>[-0.26239562704734576]</td>\n",
       "    </tr>\n",
       "    <tr>\n",
       "      <th>5</th>\n",
       "      <td>[0.12131126324429015]</td>\n",
       "      <td>[0.13892748281422265]</td>\n",
       "      <td>[-0.017616219569932506]</td>\n",
       "    </tr>\n",
       "    <tr>\n",
       "      <th>6</th>\n",
       "      <td>[0.2946632634166697]</td>\n",
       "      <td>[1.4385463309899271]</td>\n",
       "      <td>[-1.1438830675732574]</td>\n",
       "    </tr>\n",
       "    <tr>\n",
       "      <th>7</th>\n",
       "      <td>[0.13224707928458088]</td>\n",
       "      <td>[0.2245899417875963]</td>\n",
       "      <td>[-0.09234286250301543]</td>\n",
       "    </tr>\n",
       "    <tr>\n",
       "      <th>8</th>\n",
       "      <td>[0.12260681873269294]</td>\n",
       "      <td>[0.17398688453783778]</td>\n",
       "      <td>[-0.05138006580514484]</td>\n",
       "    </tr>\n",
       "    <tr>\n",
       "      <th>9</th>\n",
       "      <td>[0.05079485625763609]</td>\n",
       "      <td>[0.03227530908493829]</td>\n",
       "      <td>[0.018519547172697805]</td>\n",
       "    </tr>\n",
       "    <tr>\n",
       "      <th>10</th>\n",
       "      <td>[0.13950255325064911]</td>\n",
       "      <td>[0.04387509862007601]</td>\n",
       "      <td>[0.0956274546305731]</td>\n",
       "    </tr>\n",
       "    <tr>\n",
       "      <th>11</th>\n",
       "      <td>[-0.038847048537675004]</td>\n",
       "      <td>[-0.10934868071217294]</td>\n",
       "      <td>[0.07050163217449792]</td>\n",
       "    </tr>\n",
       "    <tr>\n",
       "      <th>12</th>\n",
       "      <td>[0.05655071903590183]</td>\n",
       "      <td>[-0.018811760590307]</td>\n",
       "      <td>[0.07536247962620883]</td>\n",
       "    </tr>\n",
       "    <tr>\n",
       "      <th>13</th>\n",
       "      <td>[0.032674212099099126]</td>\n",
       "      <td>[0.028063150376995444]</td>\n",
       "      <td>[0.004611061722103682]</td>\n",
       "    </tr>\n",
       "    <tr>\n",
       "      <th>14</th>\n",
       "      <td>[0.10915881669819939]</td>\n",
       "      <td>[0.45037305357333285]</td>\n",
       "      <td>[-0.34121423687513347]</td>\n",
       "    </tr>\n",
       "    <tr>\n",
       "      <th>15</th>\n",
       "      <td>[0.1974573751332206]</td>\n",
       "      <td>[0.4656425114471866]</td>\n",
       "      <td>[-0.268185136313966]</td>\n",
       "    </tr>\n",
       "    <tr>\n",
       "      <th>16</th>\n",
       "      <td>[0.15749808321649364]</td>\n",
       "      <td>[0.36099353544749735]</td>\n",
       "      <td>[-0.2034954522310037]</td>\n",
       "    </tr>\n",
       "    <tr>\n",
       "      <th>17</th>\n",
       "      <td>[0.11932576525352635]</td>\n",
       "      <td>[0.0938879291022867]</td>\n",
       "      <td>[0.02543783615123965]</td>\n",
       "    </tr>\n",
       "    <tr>\n",
       "      <th>18</th>\n",
       "      <td>[0.11493903134424836]</td>\n",
       "      <td>[0.2139460455628431]</td>\n",
       "      <td>[-0.09900701421859474]</td>\n",
       "    </tr>\n",
       "    <tr>\n",
       "      <th>19</th>\n",
       "      <td>[0.1291975717737287]</td>\n",
       "      <td>[0.7831213932330361]</td>\n",
       "      <td>[-0.6539238214593074]</td>\n",
       "    </tr>\n",
       "    <tr>\n",
       "      <th>20</th>\n",
       "      <td>[0.2358194019246865]</td>\n",
       "      <td>[0.29627788420619505]</td>\n",
       "      <td>[-0.060458482281508547]</td>\n",
       "    </tr>\n",
       "    <tr>\n",
       "      <th>21</th>\n",
       "      <td>[0.10136382891803303]</td>\n",
       "      <td>[0.5502578686710242]</td>\n",
       "      <td>[-0.4488940397529912]</td>\n",
       "    </tr>\n",
       "    <tr>\n",
       "      <th>22</th>\n",
       "      <td>[0.2502125128920384]</td>\n",
       "      <td>[1.4277177017046487]</td>\n",
       "      <td>[-1.1775051888126105]</td>\n",
       "    </tr>\n",
       "    <tr>\n",
       "      <th>23</th>\n",
       "      <td>[0.15321801936541665]</td>\n",
       "      <td>[0.3451168308186003]</td>\n",
       "      <td>[-0.19189881145318363]</td>\n",
       "    </tr>\n",
       "    <tr>\n",
       "      <th>24</th>\n",
       "      <td>[-0.14765055502447363]</td>\n",
       "      <td>[-1.1301395438186563]</td>\n",
       "      <td>[0.9824889887941827]</td>\n",
       "    </tr>\n",
       "    <tr>\n",
       "      <th>25</th>\n",
       "      <td>[-0.10449256930957569]</td>\n",
       "      <td>[-0.4293126930146473]</td>\n",
       "      <td>[0.32482012370507163]</td>\n",
       "    </tr>\n",
       "    <tr>\n",
       "      <th>26</th>\n",
       "      <td>[-0.12074601166273666]</td>\n",
       "      <td>[-0.860151083388336]</td>\n",
       "      <td>[0.7394050717255993]</td>\n",
       "    </tr>\n",
       "    <tr>\n",
       "      <th>27</th>\n",
       "      <td>[-0.03509294427953719]</td>\n",
       "      <td>[0.1866795558535291]</td>\n",
       "      <td>[-0.2217725001330663]</td>\n",
       "    </tr>\n",
       "    <tr>\n",
       "      <th>28</th>\n",
       "      <td>[-0.05008703345454126]</td>\n",
       "      <td>[-0.19237112522248148]</td>\n",
       "      <td>[0.1422840917679402]</td>\n",
       "    </tr>\n",
       "    <tr>\n",
       "      <th>29</th>\n",
       "      <td>[-0.07532263890928904]</td>\n",
       "      <td>[-0.19829282182847535]</td>\n",
       "      <td>[0.12297018291918631]</td>\n",
       "    </tr>\n",
       "    <tr>\n",
       "      <th>30</th>\n",
       "      <td>[-0.0326612207770715]</td>\n",
       "      <td>[-0.11030507891778182]</td>\n",
       "      <td>[0.07764385814071031]</td>\n",
       "    </tr>\n",
       "    <tr>\n",
       "      <th>31</th>\n",
       "      <td>[-0.01349971061471965]</td>\n",
       "      <td>[0.07715786546614722]</td>\n",
       "      <td>[-0.09065757608086687]</td>\n",
       "    </tr>\n",
       "    <tr>\n",
       "      <th>32</th>\n",
       "      <td>[-0.07907973557414487]</td>\n",
       "      <td>[-0.4025442623019846]</td>\n",
       "      <td>[0.3234645267278397]</td>\n",
       "    </tr>\n",
       "    <tr>\n",
       "      <th>33</th>\n",
       "      <td>[-0.01606713786635855]</td>\n",
       "      <td>[-0.043243001760747184]</td>\n",
       "      <td>[0.027175863894388634]</td>\n",
       "    </tr>\n",
       "    <tr>\n",
       "      <th>34</th>\n",
       "      <td>[-0.05663011077202423]</td>\n",
       "      <td>[-0.22270551320810061]</td>\n",
       "      <td>[0.16607540243607638]</td>\n",
       "    </tr>\n",
       "    <tr>\n",
       "      <th>35</th>\n",
       "      <td>[-0.004136527384516195]</td>\n",
       "      <td>[0.2878674430021392]</td>\n",
       "      <td>[-0.2920039703866554]</td>\n",
       "    </tr>\n",
       "    <tr>\n",
       "      <th>36</th>\n",
       "      <td>[-0.08060187947411203]</td>\n",
       "      <td>[-0.08433342882081668]</td>\n",
       "      <td>[0.0037315493467046518]</td>\n",
       "    </tr>\n",
       "    <tr>\n",
       "      <th>37</th>\n",
       "      <td>[-0.022386096990509]</td>\n",
       "      <td>[-0.0017099851749627917]</td>\n",
       "      <td>[-0.020676111815546207]</td>\n",
       "    </tr>\n",
       "    <tr>\n",
       "      <th>38</th>\n",
       "      <td>[-0.057944012180361465]</td>\n",
       "      <td>[-0.17919558003657693]</td>\n",
       "      <td>[0.12125156785621546]</td>\n",
       "    </tr>\n",
       "    <tr>\n",
       "      <th>39</th>\n",
       "      <td>[0.015505646415270935]</td>\n",
       "      <td>[-0.06325650634495451]</td>\n",
       "      <td>[0.07876215276022545]</td>\n",
       "    </tr>\n",
       "    <tr>\n",
       "      <th>40</th>\n",
       "      <td>[-0.05250048990108763]</td>\n",
       "      <td>[-0.1907972647549831]</td>\n",
       "      <td>[0.13829677485389547]</td>\n",
       "    </tr>\n",
       "    <tr>\n",
       "      <th>41</th>\n",
       "      <td>[-0.09656190968972177]</td>\n",
       "      <td>[-0.6100560017134963]</td>\n",
       "      <td>[0.5134940920237745]</td>\n",
       "    </tr>\n",
       "    <tr>\n",
       "      <th>42</th>\n",
       "      <td>[-0.0587154639885505]</td>\n",
       "      <td>[-0.0972321702121846]</td>\n",
       "      <td>[0.038516706223634095]</td>\n",
       "    </tr>\n",
       "    <tr>\n",
       "      <th>43</th>\n",
       "      <td>[-0.06652963087808476]</td>\n",
       "      <td>[-0.35285702418589554]</td>\n",
       "      <td>[0.28632739330781076]</td>\n",
       "    </tr>\n",
       "    <tr>\n",
       "      <th>44</th>\n",
       "      <td>[-0.1108656641562263]</td>\n",
       "      <td>[-0.5501798013330907]</td>\n",
       "      <td>[0.43931413717686446]</td>\n",
       "    </tr>\n",
       "    <tr>\n",
       "      <th>45</th>\n",
       "      <td>[-0.11036118234815336]</td>\n",
       "      <td>[-0.6788778797445559]</td>\n",
       "      <td>[0.5685166973964025]</td>\n",
       "    </tr>\n",
       "    <tr>\n",
       "      <th>46</th>\n",
       "      <td>[-0.04533567623754505]</td>\n",
       "      <td>[-0.15210928704564974]</td>\n",
       "      <td>[0.10677361080810469]</td>\n",
       "    </tr>\n",
       "    <tr>\n",
       "      <th>47</th>\n",
       "      <td>[-0.05977851225762943]</td>\n",
       "      <td>[-0.3827224926691202]</td>\n",
       "      <td>[0.32294398041149075]</td>\n",
       "    </tr>\n",
       "    <tr>\n",
       "      <th>48</th>\n",
       "      <td>[-0.06763022982755997]</td>\n",
       "      <td>[-0.4306434762003247]</td>\n",
       "      <td>[0.3630132463727648]</td>\n",
       "    </tr>\n",
       "    <tr>\n",
       "      <th>49</th>\n",
       "      <td>[-0.03256922697908378]</td>\n",
       "      <td>[-0.07580971679058725]</td>\n",
       "      <td>[0.04324048981150347]</td>\n",
       "    </tr>\n",
       "    <tr>\n",
       "      <th>50</th>\n",
       "      <td>[-0.028081096220753707]</td>\n",
       "      <td>[-0.16133934350771542]</td>\n",
       "      <td>[0.13325824728696173]</td>\n",
       "    </tr>\n",
       "    <tr>\n",
       "      <th>51</th>\n",
       "      <td>[0.1597841258457005]</td>\n",
       "      <td>[0.3630221996818857]</td>\n",
       "      <td>[-0.2032380738361852]</td>\n",
       "    </tr>\n",
       "    <tr>\n",
       "      <th>52</th>\n",
       "      <td>[0.25556418243240026]</td>\n",
       "      <td>[1.5817193707629016]</td>\n",
       "      <td>[-1.3261551883305014]</td>\n",
       "    </tr>\n",
       "    <tr>\n",
       "      <th>53</th>\n",
       "      <td>[0.060286061604149926]</td>\n",
       "      <td>[0.562112808387389]</td>\n",
       "      <td>[-0.501826746783239]</td>\n",
       "    </tr>\n",
       "    <tr>\n",
       "      <th>54</th>\n",
       "      <td>[0.06690207608265676]</td>\n",
       "      <td>[0.3294284378916943]</td>\n",
       "      <td>[-0.26252636180903755]</td>\n",
       "    </tr>\n",
       "    <tr>\n",
       "      <th>55</th>\n",
       "      <td>[0.13370429039713977]</td>\n",
       "      <td>[0.9236627234327401]</td>\n",
       "      <td>[-0.7899584330356004]</td>\n",
       "    </tr>\n",
       "    <tr>\n",
       "      <th>56</th>\n",
       "      <td>[0.1667512146358013]</td>\n",
       "      <td>[0.4404605646913808]</td>\n",
       "      <td>[-0.2737093500555795]</td>\n",
       "    </tr>\n",
       "  </tbody>\n",
       "</table>\n",
       "</div>"
      ],
      "text/plain": [
       "                     Beta_T                     Beta*  \\\n",
       "0      [0.0296838835539165]    [-0.04469692253313419]   \n",
       "1   [-0.022269283777930245]    [-0.11361059504569675]   \n",
       "2      [0.0866739372015923]     [0.09690999446359508]   \n",
       "3    [0.058816618172809795]      [0.4875582765158724]   \n",
       "4     [0.17540317127471478]     [0.43779879832206053]   \n",
       "5     [0.12131126324429015]     [0.13892748281422265]   \n",
       "6      [0.2946632634166697]      [1.4385463309899271]   \n",
       "7     [0.13224707928458088]      [0.2245899417875963]   \n",
       "8     [0.12260681873269294]     [0.17398688453783778]   \n",
       "9     [0.05079485625763609]     [0.03227530908493829]   \n",
       "10    [0.13950255325064911]     [0.04387509862007601]   \n",
       "11  [-0.038847048537675004]    [-0.10934868071217294]   \n",
       "12    [0.05655071903590183]      [-0.018811760590307]   \n",
       "13   [0.032674212099099126]    [0.028063150376995444]   \n",
       "14    [0.10915881669819939]     [0.45037305357333285]   \n",
       "15     [0.1974573751332206]      [0.4656425114471866]   \n",
       "16    [0.15749808321649364]     [0.36099353544749735]   \n",
       "17    [0.11932576525352635]      [0.0938879291022867]   \n",
       "18    [0.11493903134424836]      [0.2139460455628431]   \n",
       "19     [0.1291975717737287]      [0.7831213932330361]   \n",
       "20     [0.2358194019246865]     [0.29627788420619505]   \n",
       "21    [0.10136382891803303]      [0.5502578686710242]   \n",
       "22     [0.2502125128920384]      [1.4277177017046487]   \n",
       "23    [0.15321801936541665]      [0.3451168308186003]   \n",
       "24   [-0.14765055502447363]     [-1.1301395438186563]   \n",
       "25   [-0.10449256930957569]     [-0.4293126930146473]   \n",
       "26   [-0.12074601166273666]      [-0.860151083388336]   \n",
       "27   [-0.03509294427953719]      [0.1866795558535291]   \n",
       "28   [-0.05008703345454126]    [-0.19237112522248148]   \n",
       "29   [-0.07532263890928904]    [-0.19829282182847535]   \n",
       "30    [-0.0326612207770715]    [-0.11030507891778182]   \n",
       "31   [-0.01349971061471965]     [0.07715786546614722]   \n",
       "32   [-0.07907973557414487]     [-0.4025442623019846]   \n",
       "33   [-0.01606713786635855]   [-0.043243001760747184]   \n",
       "34   [-0.05663011077202423]    [-0.22270551320810061]   \n",
       "35  [-0.004136527384516195]      [0.2878674430021392]   \n",
       "36   [-0.08060187947411203]    [-0.08433342882081668]   \n",
       "37     [-0.022386096990509]  [-0.0017099851749627917]   \n",
       "38  [-0.057944012180361465]    [-0.17919558003657693]   \n",
       "39   [0.015505646415270935]    [-0.06325650634495451]   \n",
       "40   [-0.05250048990108763]     [-0.1907972647549831]   \n",
       "41   [-0.09656190968972177]     [-0.6100560017134963]   \n",
       "42    [-0.0587154639885505]     [-0.0972321702121846]   \n",
       "43   [-0.06652963087808476]    [-0.35285702418589554]   \n",
       "44    [-0.1108656641562263]     [-0.5501798013330907]   \n",
       "45   [-0.11036118234815336]     [-0.6788778797445559]   \n",
       "46   [-0.04533567623754505]    [-0.15210928704564974]   \n",
       "47   [-0.05977851225762943]     [-0.3827224926691202]   \n",
       "48   [-0.06763022982755997]     [-0.4306434762003247]   \n",
       "49   [-0.03256922697908378]    [-0.07580971679058725]   \n",
       "50  [-0.028081096220753707]    [-0.16133934350771542]   \n",
       "51     [0.1597841258457005]      [0.3630221996818857]   \n",
       "52    [0.25556418243240026]      [1.5817193707629016]   \n",
       "53   [0.060286061604149926]       [0.562112808387389]   \n",
       "54    [0.06690207608265676]      [0.3294284378916943]   \n",
       "55    [0.13370429039713977]      [0.9236627234327401]   \n",
       "56     [0.1667512146358013]      [0.4404605646913808]   \n",
       "\n",
       "   Difference Beta_T - Beta*  \n",
       "0       [0.0743808060870507]  \n",
       "1       [0.0913413112677665]  \n",
       "2    [-0.010236057262002773]  \n",
       "3      [-0.4287416583430626]  \n",
       "4     [-0.26239562704734576]  \n",
       "5    [-0.017616219569932506]  \n",
       "6      [-1.1438830675732574]  \n",
       "7     [-0.09234286250301543]  \n",
       "8     [-0.05138006580514484]  \n",
       "9     [0.018519547172697805]  \n",
       "10      [0.0956274546305731]  \n",
       "11     [0.07050163217449792]  \n",
       "12     [0.07536247962620883]  \n",
       "13    [0.004611061722103682]  \n",
       "14    [-0.34121423687513347]  \n",
       "15      [-0.268185136313966]  \n",
       "16     [-0.2034954522310037]  \n",
       "17     [0.02543783615123965]  \n",
       "18    [-0.09900701421859474]  \n",
       "19     [-0.6539238214593074]  \n",
       "20   [-0.060458482281508547]  \n",
       "21     [-0.4488940397529912]  \n",
       "22     [-1.1775051888126105]  \n",
       "23    [-0.19189881145318363]  \n",
       "24      [0.9824889887941827]  \n",
       "25     [0.32482012370507163]  \n",
       "26      [0.7394050717255993]  \n",
       "27     [-0.2217725001330663]  \n",
       "28      [0.1422840917679402]  \n",
       "29     [0.12297018291918631]  \n",
       "30     [0.07764385814071031]  \n",
       "31    [-0.09065757608086687]  \n",
       "32      [0.3234645267278397]  \n",
       "33    [0.027175863894388634]  \n",
       "34     [0.16607540243607638]  \n",
       "35     [-0.2920039703866554]  \n",
       "36   [0.0037315493467046518]  \n",
       "37   [-0.020676111815546207]  \n",
       "38     [0.12125156785621546]  \n",
       "39     [0.07876215276022545]  \n",
       "40     [0.13829677485389547]  \n",
       "41      [0.5134940920237745]  \n",
       "42    [0.038516706223634095]  \n",
       "43     [0.28632739330781076]  \n",
       "44     [0.43931413717686446]  \n",
       "45      [0.5685166973964025]  \n",
       "46     [0.10677361080810469]  \n",
       "47     [0.32294398041149075]  \n",
       "48      [0.3630132463727648]  \n",
       "49     [0.04324048981150347]  \n",
       "50     [0.13325824728696173]  \n",
       "51     [-0.2032380738361852]  \n",
       "52     [-1.3261551883305014]  \n",
       "53      [-0.501826746783239]  \n",
       "54    [-0.26252636180903755]  \n",
       "55     [-0.7899584330356004]  \n",
       "56     [-0.2737093500555795]  "
      ]
     },
     "metadata": {},
     "output_type": "display_data"
    }
   ],
   "source": [
    "betaT = fgBeta[-1]\n",
    "\n",
    "model = LogisticRegression(penalty='l2', dual=False, C=1/lamb, tol=epsilon, fit_intercept=False, solver='saga')\n",
    "model = model.fit(X, y)\n",
    "betaStar = model.coef_\n",
    "\n",
    "betaT\n",
    "betaStar = betaStar[0].reshape(57,1)\n",
    "betaDiff = betaT - betaStar\n",
    "\n",
    "df = pd.DataFrame({\"Beta_T\":betaT.tolist(), \"Beta*\":betaStar.tolist(), \"Difference Beta_T - Beta*\":betaDiff.tolist()})\n",
    "display(df)"
   ]
  },
  {
   "cell_type": "code",
   "execution_count": 38,
   "metadata": {},
   "outputs": [
    {
     "data": {
      "text/html": [
       "<div>\n",
       "<style scoped>\n",
       "    .dataframe tbody tr th:only-of-type {\n",
       "        vertical-align: middle;\n",
       "    }\n",
       "\n",
       "    .dataframe tbody tr th {\n",
       "        vertical-align: top;\n",
       "    }\n",
       "\n",
       "    .dataframe thead th {\n",
       "        text-align: right;\n",
       "    }\n",
       "</style>\n",
       "<table border=\"1\" class=\"dataframe\">\n",
       "  <thead>\n",
       "    <tr style=\"text-align: right;\">\n",
       "      <th></th>\n",
       "      <th>Objective</th>\n",
       "    </tr>\n",
       "  </thead>\n",
       "  <tbody>\n",
       "    <tr>\n",
       "      <th>Beta*</th>\n",
       "      <td>1.722303</td>\n",
       "    </tr>\n",
       "    <tr>\n",
       "      <th>Beta_T</th>\n",
       "      <td>0.450686</td>\n",
       "    </tr>\n",
       "  </tbody>\n",
       "</table>\n",
       "</div>"
      ],
      "text/plain": [
       "        Objective\n",
       "Beta*    1.722303\n",
       "Beta_T   0.450686"
      ]
     },
     "metadata": {},
     "output_type": "display_data"
    }
   ],
   "source": [
    "objBetaT = fgObjs[-1]\n",
    "objBetaStar = computeobj(X, y, betaStar.reshape(57, 1), lamb = 0.1)\n",
    "\n",
    "df = pd.DataFrame([[objBetaStar], [objBetaT]], index = [\"Beta*\", \"Beta_T\"], columns=[\"Objective\"])\n",
    "display(df)"
   ]
  },
  {
   "cell_type": "markdown",
   "metadata": {},
   "source": [
    "Talk about this!!!"
   ]
  },
  {
   "cell_type": "markdown",
   "metadata": {},
   "source": [
    "**Run cross-validation on the training set of the Spam dataset using _scikit-learn_ to find the optimal value of λ. Run _graddescent_ and _fastgradalgo_ to optimize the objective with that value of λ. Plot the curve of the objective values $F(\\beta_t)$ for both algorithms versus the iteration counter t. Plot the misclassification error on the training set for both algorithms versus the iteration counter t. Plot the misclassification error on the test set for both algorithms versus the iteration counter t. What do you observe?**"
   ]
  },
  {
   "cell_type": "code",
   "execution_count": 62,
   "metadata": {},
   "outputs": [],
   "source": [
    "#cross validation to find best lambda\n",
    "param_grid = {'C': [0.001, 0.05, 0.01, .5, 0.1, .5, 1, 5, 10, 50, 100, 500, 1000] }\n",
    "clf = GridSearchCV(model, param_grid)\n",
    "newLamb = clf.fit(X, y).best_estimator_.get_params()['C']\n",
    "#score = clf.fit(X, y).best_score_"
   ]
  },
  {
   "cell_type": "code",
   "execution_count": 63,
   "metadata": {},
   "outputs": [
    {
     "data": {
      "text/plain": [
       "0.05"
      ]
     },
     "execution_count": 63,
     "metadata": {},
     "output_type": "execute_result"
    }
   ],
   "source": [
    "newLamb"
   ]
  },
  {
   "cell_type": "code",
   "execution_count": 64,
   "metadata": {},
   "outputs": [
    {
     "data": {
      "image/png": "[encoded data removed]",
      "text/plain": [
       "<Figure size 432x288 with 1 Axes>"
      ]
     },
     "metadata": {
      "needs_background": "light"
     },
     "output_type": "display_data"
    }
   ],
   "source": [
    "# run algorithms\n",
    "newGdBeta, newGdObjs = graddescent(X, y, stepSize = stepSize, targetAccuracy = epsilon, lamb = newLamb)\n",
    "newFgBeta, newFgObjs = fastgradalgo(X, y, stepSize = stepSize, targetAccuracy = epsilon, lamb = newLamb)\n",
    "\n",
    "# plot curves\n",
    "plt.plot(newGdObjs, color = \"red\")\n",
    "plt.plot(newFgObjs, color = \"purple\")\n",
    "plt.ylabel(\"Objective values\")\n",
    "plt.xlabel(\"Iterations\")\n",
    "plt.title(\"Objective Value vs Iteration Counter with Optimal Lambda\")\n",
    "plt.legend([\"Gradient Descent\", \"Fast Gradient Algorithm\"])\n",
    "plt.show()"
   ]
  },
  {
   "cell_type": "code",
   "execution_count": 61,
   "metadata": {},
   "outputs": [
    {
     "data": {
      "text/plain": [
       "[<matplotlib.lines.Line2D at 0x174154b4a90>]"
      ]
     },
     "execution_count": 61,
     "metadata": {},
     "output_type": "execute_result"
    },
    {
     "data": {
      "image/png": "[encoded data removed]",
      "text/plain": [
       "<Figure size 432x288 with 1 Axes>"
      ]
     },
     "metadata": {
      "needs_background": "light"
     },
     "output_type": "display_data"
    }
   ],
   "source": [
    "# plot missclassification error on training set\n",
    "from sklearn.model_selection import cross_val_score\n",
    "cvScore = cross_val_score(graddescent(X, y, stepSize = stepSize, targetAccuracy = epsilon, lamb = newLamb), X, y, scoring= \"accuracy\", cv=5)\n",
    "cvScore"
   ]
  },
  {
   "cell_type": "code",
   "execution_count": null,
   "metadata": {},
   "outputs": [],
   "source": [
    "# plot misclassification error on test set\n"
   ]
  },
  {
   "cell_type": "markdown",
   "metadata": {},
   "source": [
    "TALK ABOUT THIS!!!\n",
    "\n",
    "Lambda (λ) controls the trade-off between allowing the model to increase it's complexity as much as it wants with trying to keep it simple. For example, if λ is very low or 0, the model will have enough power to increase it's complexity (overfit) by assigning big values to the weights for each parameter. If, in the other hand, we increase the value of λ, the model will tend to underfit, as the model will become too simple. (https://www.kaggle.com/joparga3/2-tuning-parameters-for-logistic-regression)"
   ]
  },
  {
   "cell_type": "markdown",
   "metadata": {},
   "source": [
    "### Exercise 2"
   ]
  },
  {
   "cell_type": "markdown",
   "metadata": {},
   "source": [
    "**Suppose we estimate the regression coefficients in a logistic regression model by minimizing $$F(\\beta) := \\frac{1}{n} \\sum_{i=1}^{n} \\log(1 + \\exp(-y_ix_i^T\\beta)) + \\lambda ||\\beta||_2^2$$ for a particular value of $\\lambda$. For parts (a) through (e), indicate which of (i) through (v) is correct. Justify your answer.**"
   ]
  },
  {
   "cell_type": "markdown",
   "metadata": {},
   "source": [
    "**(a)  As we increase $\\lambda$ from 0, the misclassification error on the test set will:  \n",
    "(i) Increase initially, and then eventually start decreasing in an inverted U shape.  \n",
    "(ii) Decrease initially, and then eventually start increasing in a U shape.  \n",
    "(iii) Steadily increase.  \n",
    "(iv) Steadily decrease.  \n",
    "(v) Remain constant**"
   ]
  },
  {
   "cell_type": "markdown",
   "metadata": {},
   "source": [
    "ii. look at equation on slide 8, there is an ideal lambda value for which the model is general enough and then it gets too general and the misclassification error gets higher  \n",
    "\n",
    "bias variaince tradeoff and switches at local min"
   ]
  },
  {
   "cell_type": "markdown",
   "metadata": {},
   "source": [
    "**(b)  Repeat (a) for the misclassification error on the training set.**"
   ]
  },
  {
   "cell_type": "markdown",
   "metadata": {},
   "source": [
    "i. this is penalizing betas and if they are already optimized this will then:  \n",
    "\n",
    "Betas are already fit for this data so as your increase lambda the error will increase since worse fit for the training data exactly"
   ]
  },
  {
   "cell_type": "markdown",
   "metadata": {},
   "source": [
    "### Exercise 3"
   ]
  },
  {
   "cell_type": "markdown",
   "metadata": {},
   "source": [
    "**(a) The fitting and testing times on both the CPU and GPU versions. You can find these in the output.**"
   ]
  },
  {
   "cell_type": "code",
   "execution_count": null,
   "metadata": {},
   "outputs": [],
   "source": [
    "df = pd.DataFrame({\"GPU\": (9.029633, 44.250862), \"CPU\": (1.102070, 982.011376)})\n",
    "df.rename(index={0:\"Fitting Time\", 1:\"Testing Time\"}, inplace = True)\n",
    "display(df)"
   ]
  },
  {
   "cell_type": "markdown",
   "metadata": {},
   "source": [
    "**The url from the previous step (Check to make sure you successfully made it public!)**"
   ]
  },
  {
   "cell_type": "markdown",
   "metadata": {},
   "source": [
    "My output file can be found here: https://s3.amazonaws.com/stat558-twilson/data558_astronomyoutput.txt"
   ]
  },
  {
   "cell_type": "markdown",
   "metadata": {},
   "source": [
    "**A statement of any problems you encountered during this exercise and how you overcame them (or if you didn’t).**"
   ]
  },
  {
   "cell_type": "markdown",
   "metadata": {},
   "source": [
    "I got stuck in a few places, mainly with the unfamiliar Ubuntu file system and the AWS commands but was able to resolve them by searching Stack Overflow and similar sources for guidance."
   ]
  },
  {
   "cell_type": "markdown",
   "metadata": {},
   "source": [
    "**How long it took you to complete this exercise (for our reference–we’re not grading you on how long it took).**"
   ]
  },
  {
   "cell_type": "markdown",
   "metadata": {},
   "source": [
    "It took me around 3 hours, but that includes time to familiarize myself with Ubuntu shell, AWS Console, etc."
   ]
  },
  {
   "cell_type": "markdown",
   "metadata": {},
   "source": [
    "### Exercise 4"
   ]
  },
  {
   "cell_type": "markdown",
   "metadata": {},
   "source": [
    "**Download the data for the Kaggle competition. Run the script `extract_features.py` to extract features from the images. This script was written in Python 3 and depends on the library PyTorch.**"
   ]
  },
  {
   "cell_type": "markdown",
   "metadata": {},
   "source": [
    "**Pick two classes of your choice from the dataset. Train an $l_2^2$-regularized logistic regression classifier on the training set using your own fast gradient algorithm with $\\lambda = 1$.Be sure to use the features you generated above rather than the raw image features. Plot, with different colors, the _misclassification error_ on the training set and on the validation set vs iterations**"
   ]
  },
  {
   "cell_type": "code",
   "execution_count": null,
   "metadata": {},
   "outputs": [],
   "source": []
  },
  {
   "cell_type": "markdown",
   "metadata": {},
   "source": [
    "**Find the value of the regularization parameter $\\lambda$ using cross-validation; you may use scikit-learn’s built-in functions for this purpose. Train an $l_2^2$-regularized logistic regression classifier on the training set using your own fast gradient algorithm with that value of $\\lambda$ found by cross-validation. Plot, with different colors, the _misclassification error_ on the training set and on the validation set vs iterations.**"
   ]
  },
  {
   "cell_type": "code",
   "execution_count": null,
   "metadata": {},
   "outputs": [],
   "source": []
  },
  {
   "cell_type": "markdown",
   "metadata": {},
   "source": [
    "### Exercise 5"
   ]
  },
  {
   "cell_type": "markdown",
   "metadata": {},
   "source": [
    "**It is well-known that ridge regression tends to give similar coefficient values to correlated variables, whereas the lasso may give quite different coefficient values to correlated variables. We will now explore this property in a very simple setting.   \n",
    "Suppose that $n=2, p =2, x_{11}=x_{12}=x_{21}=x_{22}$. Furthermore, suppose that $y_1+y_2=0$ and $x_{11}+x_{21}=0$ and $x_{12}+x_{22}=0$, so that the estimate for the intercept in a least squares, ridge regression, or lasso model is zero: $\\hat{\\beta_0}=0$**"
   ]
  },
  {
   "cell_type": "markdown",
   "metadata": {},
   "source": [
    "**(a) Write out the ridge regression optimization problem in this setting.**"
   ]
  },
  {
   "cell_type": "code",
   "execution_count": null,
   "metadata": {},
   "outputs": [],
   "source": []
  },
  {
   "cell_type": "markdown",
   "metadata": {},
   "source": [
    "**(b) Argue that in this setting, the ridge coefficient estimates satisfy $\\beta_1 = \\beta_2$**"
   ]
  },
  {
   "cell_type": "code",
   "execution_count": null,
   "metadata": {},
   "outputs": [],
   "source": []
  }
 ],
 "metadata": {
  "kernelspec": {
   "display_name": "Python 3",
   "language": "python",
   "name": "python3"
  },
  "language_info": {
   "codemirror_mode": {
    "name": "ipython",
    "version": 3
   },
   "file_extension": ".py",
   "mimetype": "text/x-python",
   "name": "python",
   "nbconvert_exporter": "python",
   "pygments_lexer": "ipython3",
   "version": "3.7.3"
  }
 },
 "nbformat": 4,
 "nbformat_minor": 2
}
