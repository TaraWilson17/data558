{
 "cells": [
  {
   "cell_type": "markdown",
   "metadata": {},
   "source": [
    "## <center> Homework 6 </center>\n",
    "<center> Tara Wilson </center>\n",
    "<center> DATA 558 </center>\n",
    "<center> May 17, 2019 </center>"
   ]
  },
  {
   "cell_type": "code",
   "execution_count": 1,
   "metadata": {},
   "outputs": [],
   "source": [
    "# imports\n",
    "import numpy as np\n",
    "import pandas as pd\n",
    "from sklearn.decomposition import PCA\n",
    "import os\n",
    "from sklearn import preprocessing\n",
    "from sklearn.model_selection import GridSearchCV\n",
    "import matplotlib.pyplot as plt\n",
    "from sklearn.linear_model import LogisticRegression\n",
    "from sklearn.model_selection import train_test_split\n",
    "from sklearn import linear_model\n",
    "from scipy.linalg import eigh\n",
    "from IPython.display import Image\n",
    "from numpy.linalg import inv\n",
    "import random\n",
    "import copy \n",
    "from sklearn.linear_model import Lasso\n",
    "import warnings\n",
    "warnings.filterwarnings('ignore')"
   ]
  },
  {
   "cell_type": "markdown",
   "metadata": {},
   "source": [
    "### Exercise 1"
   ]
  },
  {
   "cell_type": "markdown",
   "metadata": {},
   "source": [
    "**In this exercise, you will implement in Python a first version of your own coordinate descent algorithm to solve the LASSO problem, that is the $l_1$-regularized least-squares regression problem.**  \n",
    "\n",
    "**Recall from the lectures that the LASSO problem writes as**:  \n",
    "$min F(\\beta) := \\frac {1}{n} \\sum_{i=1}^{n} (y_i - x_i^T \\beta)^2 + \\lambda ||\\beta||_1$  \n",
    "\n",
    "#### Coordinate Descent  \n",
    "\n",
    "**The coordinate descent algorithm is outlined in Algorithm 1. The algorithm requires a subroutine that performs the partial minimization of the objective for any coordinate $\\beta_j$.**"
   ]
  },
  {
   "cell_type": "markdown",
   "metadata": {},
   "source": [
    "**Assume that d = 1 and n = 1. The sample is then of size 1 and boils down to just $(x, y)$; the learning parameter β is then a scalar. The function F writes simply as**  \n",
    "$F(\\beta) = (y - x\\beta)^2 + \\lambda |\\beta|$.  \n",
    "**The solution to the minimization problem $min F(\\beta)$ is given in Slide 71 of the Week 5 Lecture. Write a function that computes the formula\n",
    "of the solution of this minimization problem.**"
   ]
  },
  {
   "cell_type": "markdown",
   "metadata": {},
   "source": [
    "Coordinate minimization for lasso with n = 1 and d = 1:  \n",
    "\n",
    "$\\beta_j = argmin (y - x\\beta)^2 + \\lambda |\\beta|$  \n",
    "\n",
    "The derivative of this then gives us:  \n",
    "$\\beta = -2x(y - x\\beta) +- \\lambda$\n",
    "\n",
    "With the following cases:  \n",
    "$\\begin{equation}\n",
    "\\beta (c) = \\begin{cases}\n",
    "    +1 \\text{    if    } \\beta > 0 \\\\  \n",
    "    -1 \\text{    if    } \\beta < 0 \\\\  \n",
    "    [-1, 1] \\text{    if    } \\beta = 0  \n",
    "    \\end{cases}\n",
    "\\end{equation}$"
   ]
  },
  {
   "cell_type": "code",
   "execution_count": 2,
   "metadata": {},
   "outputs": [],
   "source": [
    "def minimizeBetaSimpleCase(x, y, lamb, beta):\n",
    "    \"\"\"\n",
    "    Computes the solution to the minimization problem for lasso\n",
    "    Inputs:\n",
    "        - x: x value for minimization problem\n",
    "        - y: corresponding y value for minimization problem\n",
    "        - lamb: lambda value for regularization term\n",
    "        - beta: corresponding beta value\n",
    "    Outputs:\n",
    "        - beta(c), the minimization of the lasso problem\n",
    "    \"\"\"\n",
    "    firstTerm = -2 * x *(y - x * beta)\n",
    "    if (beta > 0):\n",
    "        return firstTerm + lamb\n",
    "    elif (beta < 0):\n",
    "        return firstTerm - lamb\n",
    "    else:\n",
    "        # randomly pick -1 or 1\n",
    "        sign = random.randint(0, 1)\n",
    "        if (sign == 1):\n",
    "            return firstTerm + lamb\n",
    "        else:\n",
    "            return firstTerm - lamb"
   ]
  },
  {
   "cell_type": "markdown",
   "metadata": {},
   "source": [
    "**Assume now that d > 1 and n > 1. The full minimization problem now writes as**  \n",
    "  \n",
    "$F(\\beta) := \\frac {1}{n} \\sum_{i=1}^{n} (y_i - x_i^T \\beta)^2 + \\lambda ||\\beta||_1$  \n",
    "\n",
    "**Coordinate descent proceeds by sequential partial minimization with respect to each coordinate βj, that by solving partial minimization problems of form**  \n",
    "  \n",
    "$min \\frac{1}{n} \\sum_{i=1}^{n} (y_i - ({\\beta_1x_{i,1} + ... + \\beta_jx_{i,j} + ... + \\beta_dx_{i,d}}))^2 + \\lambda (|\\beta_1| + ... + |\\beta_j| + ... + |\\beta_d|)$   \n",
    "\n",
    "**Write a function that computes the formula of the solution of this partial minimization problem with respect to $\\beta_j$ for any j = 1, . . . , d.**"
   ]
  },
  {
   "cell_type": "markdown",
   "metadata": {},
   "source": [
    "Coordinate minimization for lasso with n > 1 and d > 1:  \n",
    "\n",
    "$\\beta_j = argmin \\frac {1}{n} \\sum_{i=1}^{n} (\\beta^T x_i - y_i)^2 + \\lambda ||\\beta||_1$  \n",
    "\n",
    "Then:  \n",
    "$\\begin{equation}\n",
    "\\beta_j (c_j) = \\begin{cases}\n",
    "    \\frac{c_j + \\lambda}{a_j} \\text{    if    } c_j < -\\lambda \\\\  \n",
    "    0 \\text{    if    } c_j \\in [\\lambda, -\\lambda] \\\\  \n",
    "    \\frac{c_j - \\lambda}{a_j} \\text{    if    } c_j > \\lambda   \n",
    "    \\end{cases}\n",
    "\\end{equation}$\n",
    "\n",
    "Where:  \n",
    "$a_j = \\frac{2}{n} \\sum_{i=1}^{n} x_{i,j}^2$  \n",
    "$c_j = \\frac{2}{n} \\sum_{i=1}^{n} x_{i,j} (y_i - \\beta^T_{-j} x_{i,-j}$  \n",
    "and $\\beta_{-j}$ is $\\beta$ without component $j$ and similarly for $x_{i,-j}$\n"
   ]
  },
  {
   "cell_type": "code",
   "execution_count": 3,
   "metadata": {},
   "outputs": [],
   "source": [
    "def minimizeBeta(X, y, jIndex, lamb, betas):\n",
    "    \"\"\"\n",
    "    Computes the solution to the minimization problem for lasso\n",
    "    Inputs:\n",
    "        - X: matrix of X values for minimization problem\n",
    "        - y: corresponding y values for minimization problem\n",
    "        - jIndex: index j to minimize with respect to, j is any value in 1, ..., d\n",
    "        - lamb: lambda value for regularization term\n",
    "        - beta: corresponding beta value\n",
    "    Outputs:\n",
    "        - beta_j(c_j), the minimization of the lasso problem\n",
    "    \"\"\"\n",
    "    betasMinusJ = np.delete(copy.copy(betas), jIndex)\n",
    "    aj = 0\n",
    "    cj = 0\n",
    "    n = len(X)\n",
    "    for i in range(0, n):\n",
    "        xi = X[i, :]\n",
    "        xIMinusJ = np.delete(xi, jIndex)     \n",
    "        aj += (X[i, jIndex])**2\n",
    "        cj += (X[i, jIndex])*(y[i] - betasMinusJ.T.dot(xIMinusJ))\n",
    "    aj = (2/n) * aj\n",
    "    cj = (2/n) * cj\n",
    "    if (cj < -lamb):\n",
    "        return ((cj + lamb)/ aj)\n",
    "    elif (cj > lamb):\n",
    "        return ((cj - lamb)/ aj)\n",
    "    else:\n",
    "        return 0"
   ]
  },
  {
   "cell_type": "markdown",
   "metadata": {},
   "source": [
    "**Consider the `Hitters` dataset from [1].  Standardize\n",
    "the data, i.e., center the features and divide them by their standard deviation, and center the outputs. For any categorical variables you should first convert them to indicator variables and then perform the standardization.**"
   ]
  },
  {
   "cell_type": "code",
   "execution_count": 4,
   "metadata": {},
   "outputs": [
    {
     "data": {
      "text/html": [
       "<div>\n",
       "<style scoped>\n",
       "    .dataframe tbody tr th:only-of-type {\n",
       "        vertical-align: middle;\n",
       "    }\n",
       "\n",
       "    .dataframe tbody tr th {\n",
       "        vertical-align: top;\n",
       "    }\n",
       "\n",
       "    .dataframe thead th {\n",
       "        text-align: right;\n",
       "    }\n",
       "</style>\n",
       "<table border=\"1\" class=\"dataframe\">\n",
       "  <thead>\n",
       "    <tr style=\"text-align: right;\">\n",
       "      <th></th>\n",
       "      <th>AtBat</th>\n",
       "      <th>Hits</th>\n",
       "      <th>HmRun</th>\n",
       "      <th>Runs</th>\n",
       "      <th>RBI</th>\n",
       "      <th>Walks</th>\n",
       "      <th>Years</th>\n",
       "      <th>CAtBat</th>\n",
       "      <th>CHits</th>\n",
       "      <th>CHmRun</th>\n",
       "      <th>...</th>\n",
       "      <th>PutOuts</th>\n",
       "      <th>Assists</th>\n",
       "      <th>Errors</th>\n",
       "      <th>Salary</th>\n",
       "      <th>League_A</th>\n",
       "      <th>League_N</th>\n",
       "      <th>Division_E</th>\n",
       "      <th>Division_W</th>\n",
       "      <th>NewLeague_A</th>\n",
       "      <th>NewLeague_N</th>\n",
       "    </tr>\n",
       "  </thead>\n",
       "  <tbody>\n",
       "    <tr>\n",
       "      <th>1</th>\n",
       "      <td>315</td>\n",
       "      <td>81</td>\n",
       "      <td>7</td>\n",
       "      <td>24</td>\n",
       "      <td>38</td>\n",
       "      <td>39</td>\n",
       "      <td>14</td>\n",
       "      <td>3449</td>\n",
       "      <td>835</td>\n",
       "      <td>69</td>\n",
       "      <td>...</td>\n",
       "      <td>632</td>\n",
       "      <td>43</td>\n",
       "      <td>10</td>\n",
       "      <td>475.0</td>\n",
       "      <td>0</td>\n",
       "      <td>1</td>\n",
       "      <td>0</td>\n",
       "      <td>1</td>\n",
       "      <td>0</td>\n",
       "      <td>1</td>\n",
       "    </tr>\n",
       "    <tr>\n",
       "      <th>2</th>\n",
       "      <td>479</td>\n",
       "      <td>130</td>\n",
       "      <td>18</td>\n",
       "      <td>66</td>\n",
       "      <td>72</td>\n",
       "      <td>76</td>\n",
       "      <td>3</td>\n",
       "      <td>1624</td>\n",
       "      <td>457</td>\n",
       "      <td>63</td>\n",
       "      <td>...</td>\n",
       "      <td>880</td>\n",
       "      <td>82</td>\n",
       "      <td>14</td>\n",
       "      <td>480.0</td>\n",
       "      <td>1</td>\n",
       "      <td>0</td>\n",
       "      <td>0</td>\n",
       "      <td>1</td>\n",
       "      <td>1</td>\n",
       "      <td>0</td>\n",
       "    </tr>\n",
       "    <tr>\n",
       "      <th>3</th>\n",
       "      <td>496</td>\n",
       "      <td>141</td>\n",
       "      <td>20</td>\n",
       "      <td>65</td>\n",
       "      <td>78</td>\n",
       "      <td>37</td>\n",
       "      <td>11</td>\n",
       "      <td>5628</td>\n",
       "      <td>1575</td>\n",
       "      <td>225</td>\n",
       "      <td>...</td>\n",
       "      <td>200</td>\n",
       "      <td>11</td>\n",
       "      <td>3</td>\n",
       "      <td>500.0</td>\n",
       "      <td>0</td>\n",
       "      <td>1</td>\n",
       "      <td>1</td>\n",
       "      <td>0</td>\n",
       "      <td>0</td>\n",
       "      <td>1</td>\n",
       "    </tr>\n",
       "    <tr>\n",
       "      <th>4</th>\n",
       "      <td>321</td>\n",
       "      <td>87</td>\n",
       "      <td>10</td>\n",
       "      <td>39</td>\n",
       "      <td>42</td>\n",
       "      <td>30</td>\n",
       "      <td>2</td>\n",
       "      <td>396</td>\n",
       "      <td>101</td>\n",
       "      <td>12</td>\n",
       "      <td>...</td>\n",
       "      <td>805</td>\n",
       "      <td>40</td>\n",
       "      <td>4</td>\n",
       "      <td>91.5</td>\n",
       "      <td>0</td>\n",
       "      <td>1</td>\n",
       "      <td>1</td>\n",
       "      <td>0</td>\n",
       "      <td>0</td>\n",
       "      <td>1</td>\n",
       "    </tr>\n",
       "    <tr>\n",
       "      <th>5</th>\n",
       "      <td>594</td>\n",
       "      <td>169</td>\n",
       "      <td>4</td>\n",
       "      <td>74</td>\n",
       "      <td>51</td>\n",
       "      <td>35</td>\n",
       "      <td>11</td>\n",
       "      <td>4408</td>\n",
       "      <td>1133</td>\n",
       "      <td>19</td>\n",
       "      <td>...</td>\n",
       "      <td>282</td>\n",
       "      <td>421</td>\n",
       "      <td>25</td>\n",
       "      <td>750.0</td>\n",
       "      <td>1</td>\n",
       "      <td>0</td>\n",
       "      <td>0</td>\n",
       "      <td>1</td>\n",
       "      <td>1</td>\n",
       "      <td>0</td>\n",
       "    </tr>\n",
       "  </tbody>\n",
       "</table>\n",
       "<p>5 rows × 23 columns</p>\n",
       "</div>"
      ],
      "text/plain": [
       "   AtBat  Hits  HmRun  Runs  RBI  Walks  Years  CAtBat  CHits  CHmRun  ...  \\\n",
       "1    315    81      7    24   38     39     14    3449    835      69  ...   \n",
       "2    479   130     18    66   72     76      3    1624    457      63  ...   \n",
       "3    496   141     20    65   78     37     11    5628   1575     225  ...   \n",
       "4    321    87     10    39   42     30      2     396    101      12  ...   \n",
       "5    594   169      4    74   51     35     11    4408   1133      19  ...   \n",
       "\n",
       "   PutOuts  Assists  Errors  Salary  League_A  League_N  Division_E  \\\n",
       "1      632       43      10   475.0         0         1           0   \n",
       "2      880       82      14   480.0         1         0           0   \n",
       "3      200       11       3   500.0         0         1           1   \n",
       "4      805       40       4    91.5         0         1           1   \n",
       "5      282      421      25   750.0         1         0           0   \n",
       "\n",
       "   Division_W  NewLeague_A  NewLeague_N  \n",
       "1           1            0            1  \n",
       "2           1            1            0  \n",
       "3           0            0            1  \n",
       "4           0            0            1  \n",
       "5           1            1            0  \n",
       "\n",
       "[5 rows x 23 columns]"
      ]
     },
     "execution_count": 4,
     "metadata": {},
     "output_type": "execute_result"
    }
   ],
   "source": [
    "# read in Hitters data\n",
    "hitters = pd.read_csv(\"https://raw.githubusercontent.com/selva86/datasets/master/Hitters.csv\", sep=\",\", header=0)\n",
    "hitters = hitters.dropna()\n",
    "\n",
    "# Categorical Variables = League, Division, and NewLeague\n",
    "dataTypes = hitters.dtypes\n",
    "\n",
    "# Converts categorical data columns to indicator variables\n",
    "hitters = pd.get_dummies(hitters, columns=[\"League\", \"Division\", \"NewLeague\"], prefix = [\"League\", \"Division\", \"NewLeague\"])\n",
    "hitters.head()"
   ]
  },
  {
   "cell_type": "code",
   "execution_count": 5,
   "metadata": {},
   "outputs": [],
   "source": [
    "# seperate X and y\n",
    "X = hitters.drop(\"Salary\", axis=1)\n",
    "y = hitters[\"Salary\"]\n",
    "\n",
    "# Divide the data into training and test sets. By default, 25% goes into the test set.\n",
    "X_train, X_test, y_train, y_test = train_test_split(X, y, random_state=0)"
   ]
  },
  {
   "cell_type": "code",
   "execution_count": 6,
   "metadata": {},
   "outputs": [
    {
     "name": "stdout",
     "output_type": "stream",
     "text": [
      "Shape of X_train:  (197, 22)\n",
      "Shape of X_test:  (66, 22)\n",
      "Shape of y_train:  (197, 1)\n",
      "Shape of y_test:  (66, 1)\n"
     ]
    }
   ],
   "source": [
    "#converting data into arrays\n",
    "X_train = np.array(X_train)\n",
    "X_test = np.array(X_test)\n",
    "y_train = np.array(y_train).reshape(197, 1)\n",
    "y_test = np.array(y_test).reshape(66, 1)\n",
    "\n",
    "# standardizing X by subtracting the mean of the predictors and dividing by their standard deviation\n",
    "scaler = preprocessing.StandardScaler().fit(X_train)\n",
    "X_train = scaler.transform(X_train)\n",
    "X_test = scaler.transform(X_test)\n",
    "\n",
    "# standardizing Y by subtracting the mean of the predictors and dividing by their standard deviation\n",
    "scaler = preprocessing.StandardScaler().fit(y_train)\n",
    "y_train = scaler.transform(y_train)\n",
    "y_test = scaler.transform(y_test)\n",
    "\n",
    "print(\"Shape of X_train: \", X_train.shape)\n",
    "print(\"Shape of X_test: \", X_test.shape)\n",
    "print(\"Shape of y_train: \", y_train.shape)\n",
    "print(\"Shape of y_test: \", y_test.shape)"
   ]
  },
  {
   "cell_type": "markdown",
   "metadata": {},
   "source": [
    "**Write a function *computeobj* that computes and returns $F(\\beta)$ for any $\\beta$**"
   ]
  },
  {
   "cell_type": "code",
   "execution_count": 7,
   "metadata": {},
   "outputs": [],
   "source": [
    "def computeobj(X, y, beta, lamb):\n",
    "    \"\"\"\n",
    "    Computes the objective for the l1-regularized least-squares regression problem\n",
    "    Inputs:\n",
    "        - X: matrix of X values\n",
    "        - y: vector of associated outcomes\n",
    "        - beta: vector of beta constants\n",
    "        - lambda: scalar multiplicative factor for regularization penalty\n",
    "    Outputs:\n",
    "        - objective for passed in parameters\n",
    "    \"\"\"\n",
    "    n = len(X)\n",
    "    summation = 0\n",
    "    for i in range(0, n):\n",
    "        xi = X[i,:]\n",
    "        yi = y[i]\n",
    "        iTerm = (yi - xi.T.dot(beta))**2\n",
    "        summation = summation + iTerm\n",
    "    return (((1/n) * summation) + lamb * np.linalg.norm(beta, ord=1))"
   ]
  },
  {
   "cell_type": "markdown",
   "metadata": {},
   "source": [
    "**Write a function *cycliccoorddescent* that implements the *cyclic coordinate descent* algorithm. The cyclic coordinate descent algorithm proceeds sequentially. At each iteration, the algorithm increments the index $j_t$ of the coordinate to minimize over. Then the algorithm performs partial minimization with respect to the coordinate $\\beta_{jt}$ corresponding to that index. After updating the coordinate $\\beta_{jt}$, the algorithm proceeds to the next iteration. The function takes as input the initial point and the maximum number of iterations. The stopping criterion is the maximum number of iterations.**"
   ]
  },
  {
   "cell_type": "code",
   "execution_count": 8,
   "metadata": {},
   "outputs": [],
   "source": [
    "def cycliccoorddescent(X, y, beta, lamb, maxIter):\n",
    "    \"\"\"\n",
    "    Implements the cyclic corrdinate descent algorithm, proceeds sequentially\n",
    "    Inputs:\n",
    "        - X: matrix of X values\n",
    "        - y: vector of associated outcomes\n",
    "        - beta: coefficients, weights for each feature\n",
    "        - lambda: scalar multiplicative factor for regularization penalty\n",
    "        - maxIter: number of iterations for the algorithm\n",
    "    Outputs:\n",
    "        - betas: vector of improved betas after each iteration\n",
    "        - objs: vector of objective values for each iteration \n",
    "    \"\"\"\n",
    "    objs = [computeobj(X, y, beta, lamb)]\n",
    "    betas = [beta]\n",
    "    t = 0\n",
    "    while (t < maxIter):\n",
    "        for j in range(0, X.shape[1]):\n",
    "            beta[j] = minimizeBeta(X, y, j, lamb, copy.deepcopy(beta))\n",
    "            betas.append(copy.deepcopy(beta)) # saves current beta values\n",
    "            obj = computeobj(X, y, beta, lamb)\n",
    "            objs.append(obj) # saves current objective value\n",
    "            t += 1\n",
    "    return np.array(betas), np.array(objs)"
   ]
  },
  {
   "cell_type": "markdown",
   "metadata": {},
   "source": [
    "**Write a function *pickcoord* that samples uniformly from the set {1, . . . , d}.**"
   ]
  },
  {
   "cell_type": "code",
   "execution_count": 9,
   "metadata": {},
   "outputs": [],
   "source": [
    "def pickcoord(d):\n",
    "    \"\"\"\n",
    "    Uniformly selects a value from the set {1, ..., d}\n",
    "    Inputs:\n",
    "        - d: the maximum value to uniformly select from\n",
    "    Outputs:\n",
    "        - a random integer between 1 and d\n",
    "    \"\"\"\n",
    "    return random.randint(1, d)"
   ]
  },
  {
   "cell_type": "markdown",
   "metadata": {},
   "source": [
    "**Write a function *randcoorddescent* that implements the *randomized coordinate descent* algorithm. The randomized coordinate descent algorithm proceeds as follows. At each iteration, the algorithm samples the index $j_t$ of the coordinate to minimize over. Then the algorithm performs partial minimization with respect to the coordinate $\\beta_{jt}$ corresponding to that index. After updating the coordinate $\\beta_{jt}$, the algorithm proceeds to the next iteration. The function takes as input the initial point and the maximum number of iterations. The stopping criterion is the maximum number of iterations.**"
   ]
  },
  {
   "cell_type": "code",
   "execution_count": 10,
   "metadata": {},
   "outputs": [],
   "source": [
    "def randcoorddescent(X, y, beta, lamb, maxIter):\n",
    "    \"\"\"\n",
    "    Implements the randomized corrdinate descent algorithm, proceeds randomly\n",
    "    Inputs:\n",
    "        - X: matrix of X values\n",
    "        - y: vector of associated outcomes\n",
    "        - beta: coefficients, weights for each feature\n",
    "        - lambda: scalar multiplicative factor for regularization penalty\n",
    "        - maxIter: number of iterations for the algorithm\n",
    "    Outputs:\n",
    "        - betas: vector of improved betas after each iteration\n",
    "        - objs: vector of objective values for each iteration \n",
    "    \"\"\"\n",
    "    objs = [computeobj(X, y, beta, lamb)]\n",
    "    betas = []\n",
    "    betas.append(beta)\n",
    "    t = 0\n",
    "    while (t < maxIter):\n",
    "        j = pickcoord(X.shape[1]) - 1 # subtract one to scale for 0-based indexing\n",
    "        beta[j] = minimizeBeta(X, y, j, lamb, copy.deepcopy(beta))\n",
    "        betas.append(copy.deepcopy(beta)) # saves current beta values\n",
    "        obj = computeobj(X, y, beta, lamb)\n",
    "        objs.append(obj) # saves current objective value\n",
    "        t += 1\n",
    "    return np.array(betas), np.array(objs)"
   ]
  },
  {
   "cell_type": "markdown",
   "metadata": {},
   "source": [
    "**Set the maximum number of iterations to 1000. In the remainder, the iteration counter iter refers here to $\\frac{t}{d}$, that is the effective number of passes over all coordinates. Run cross-validation on the training set of the `Hitters` dataset using scikit-learn to find the optimal value of λ. Run *cycliccoorddescent* and *randcoorddescent* on the training set of the Hitters dataset for that value of λ found by cross-validation. Plot the curves of the objective values $F(\\beta_t)$ for both algorithms versus the iteration counter iter (use different colors). What do you observe?**"
   ]
  },
  {
   "cell_type": "code",
   "execution_count": 11,
   "metadata": {},
   "outputs": [
    {
     "data": {
      "image/png": "[encoded data removed]",
      "text/plain": [
       "<Figure size 432x288 with 1 Axes>"
      ]
     },
     "metadata": {
      "needs_background": "light"
     },
     "output_type": "display_data"
    }
   ],
   "source": [
    "# find optimal lambda with lasso model cross validation\n",
    "lasso = Lasso(alpha = 1, random_state=0, max_iter=1000)\n",
    "alphas = [0.000001, 0.00001, 0.0001, 0.001, 0.01, 0.1, 1, 10, 100, 1000, 10000]\n",
    "param_grid = {'alpha': alphas}\n",
    "clf = GridSearchCV(lasso, param_grid, cv=5)\n",
    "clf = clf.fit(X_train, y_train)\n",
    "\n",
    "# plot mean test score for the possible lambdas\n",
    "plt.plot(alphas, clf.cv_results_['mean_test_score'], 'o-')\n",
    "plt.xlabel(\"alphas\")\n",
    "plt.ylabel(\"Mean Test Score\")\n",
    "plt.xscale(\"log\")\n",
    "plt.show()"
   ]
  },
  {
   "cell_type": "markdown",
   "metadata": {},
   "source": [
    "Here we see the ideal value of alpha, 2 times the lambda value, with the highest mean test score is around 0.01. Another interesting takeaway is that there is a huge drop for the values 1 and over in terms of the mean test score. High values of lambda mean the penaltization term is large so this makes sense as the model would not perform as well on the training data specifically."
   ]
  },
  {
   "cell_type": "code",
   "execution_count": 12,
   "metadata": {},
   "outputs": [],
   "source": [
    "# set constants\n",
    "lamb = clf.best_params_[\"alpha\"] / 2 # note: 2 * lambda = alpha\n",
    "maxIter = 1000\n",
    "\n",
    "# call coordinate descent methods with betas as 0's\n",
    "cyclicBetas, cyclicObjs = cycliccoorddescent(X_train, y_train, np.zeros((X.shape[1], 1)), lamb, maxIter)\n",
    "randBetas, randObjs = randcoorddescent(X_train, y_train, np.zeros((X.shape[1], 1)), lamb, maxIter)"
   ]
  },
  {
   "cell_type": "code",
   "execution_count": 13,
   "metadata": {},
   "outputs": [
    {
     "data": {
      "image/png": "[encoded data removed]",
      "text/plain": [
       "<Figure size 432x288 with 1 Axes>"
      ]
     },
     "metadata": {
      "needs_background": "light"
     },
     "output_type": "display_data"
    }
   ],
   "source": [
    "# plot objective values to verify they are decreasing properly\n",
    "plt.plot(cyclicObjs, color = \"purple\")\n",
    "plt.plot(randObjs, color = \"red\")\n",
    "plt.ylabel(\"Objective values\")\n",
    "plt.xlabel(\"Iterations\")\n",
    "plt.legend([\"Cyclic Descent\", \"Random Descent\"])\n",
    "plt.title(\"Objective Value vs Iteration Counter\")\n",
    "plt.show()"
   ]
  },
  {
   "cell_type": "markdown",
   "metadata": {},
   "source": [
    "Here we can see that the objective values for both the cyclic and random descent methods are decreasing with increasing iterations as we would expect. The random descent seems to reach a lower objective quicker but the 2 methods end up with very similar values after around 400 iterations."
   ]
  },
  {
   "cell_type": "markdown",
   "metadata": {},
   "source": [
    "**Denote by $\\beta_T$ the final iterates of your coordinate descent algorithms for that value of λ. Compute $\\beta^*$ found by *scikit-learn* for that value of λ. Plot the curves of the fraction of correct non-zero coefficients (with respect to $\\beta^*$) for both algorithms versus the iteration counter iter (use different colors). What do you observe? Plot the curves of the fraction of correct zero coefficients for both algorithms (with respect to $\\beta^*$) versus the iteration counter `iter` (use different colors). What do you observe?**"
   ]
  },
  {
   "cell_type": "code",
   "execution_count": 14,
   "metadata": {},
   "outputs": [],
   "source": [
    "# calculate beta star from scikit learn\n",
    "from sklearn import linear_model\n",
    "lasso = linear_model.Lasso(alpha=lamb * 2, fit_intercept=False, max_iter=1000)\n",
    "betaStar = lasso.fit(X_train, y_train).coef_"
   ]
  },
  {
   "cell_type": "code",
   "execution_count": 15,
   "metadata": {},
   "outputs": [
    {
     "data": {
      "text/html": [
       "<div>\n",
       "<style scoped>\n",
       "    .dataframe tbody tr th:only-of-type {\n",
       "        vertical-align: middle;\n",
       "    }\n",
       "\n",
       "    .dataframe tbody tr th {\n",
       "        vertical-align: top;\n",
       "    }\n",
       "\n",
       "    .dataframe thead th {\n",
       "        text-align: right;\n",
       "    }\n",
       "</style>\n",
       "<table border=\"1\" class=\"dataframe\">\n",
       "  <thead>\n",
       "    <tr style=\"text-align: right;\">\n",
       "      <th></th>\n",
       "      <th>Beta* (SkLearn)</th>\n",
       "      <th>Betas (Random)</th>\n",
       "      <th>Betas (Cyclic)</th>\n",
       "    </tr>\n",
       "  </thead>\n",
       "  <tbody>\n",
       "    <tr>\n",
       "      <th>0</th>\n",
       "      <td>-3.135327e-01</td>\n",
       "      <td>-0.425339</td>\n",
       "      <td>-6.215424e-01</td>\n",
       "    </tr>\n",
       "    <tr>\n",
       "      <th>1</th>\n",
       "      <td>3.946085e-01</td>\n",
       "      <td>0.429175</td>\n",
       "      <td>6.083025e-01</td>\n",
       "    </tr>\n",
       "    <tr>\n",
       "      <th>2</th>\n",
       "      <td>8.130887e-02</td>\n",
       "      <td>0.094962</td>\n",
       "      <td>1.387110e-01</td>\n",
       "    </tr>\n",
       "    <tr>\n",
       "      <th>3</th>\n",
       "      <td>-0.000000e+00</td>\n",
       "      <td>-0.023820</td>\n",
       "      <td>-4.259059e-02</td>\n",
       "    </tr>\n",
       "    <tr>\n",
       "      <th>4</th>\n",
       "      <td>8.023963e-03</td>\n",
       "      <td>0.042979</td>\n",
       "      <td>4.005279e-03</td>\n",
       "    </tr>\n",
       "    <tr>\n",
       "      <th>5</th>\n",
       "      <td>2.206673e-01</td>\n",
       "      <td>0.269826</td>\n",
       "      <td>3.187064e-01</td>\n",
       "    </tr>\n",
       "    <tr>\n",
       "      <th>6</th>\n",
       "      <td>-5.480162e-02</td>\n",
       "      <td>-0.137890</td>\n",
       "      <td>-1.719008e-01</td>\n",
       "    </tr>\n",
       "    <tr>\n",
       "      <th>7</th>\n",
       "      <td>-0.000000e+00</td>\n",
       "      <td>0.148589</td>\n",
       "      <td>2.099858e-01</td>\n",
       "    </tr>\n",
       "    <tr>\n",
       "      <th>8</th>\n",
       "      <td>3.913706e-01</td>\n",
       "      <td>0.375042</td>\n",
       "      <td>5.828619e-01</td>\n",
       "    </tr>\n",
       "    <tr>\n",
       "      <th>9</th>\n",
       "      <td>-0.000000e+00</td>\n",
       "      <td>-0.013988</td>\n",
       "      <td>4.837960e-02</td>\n",
       "    </tr>\n",
       "    <tr>\n",
       "      <th>10</th>\n",
       "      <td>2.907331e-01</td>\n",
       "      <td>0.334140</td>\n",
       "      <td>2.152831e-01</td>\n",
       "    </tr>\n",
       "    <tr>\n",
       "      <th>11</th>\n",
       "      <td>0.000000e+00</td>\n",
       "      <td>-0.002113</td>\n",
       "      <td>-1.308898e-01</td>\n",
       "    </tr>\n",
       "    <tr>\n",
       "      <th>12</th>\n",
       "      <td>-2.454168e-01</td>\n",
       "      <td>-0.345196</td>\n",
       "      <td>-4.013892e-01</td>\n",
       "    </tr>\n",
       "    <tr>\n",
       "      <th>13</th>\n",
       "      <td>1.291125e-01</td>\n",
       "      <td>0.141682</td>\n",
       "      <td>1.441124e-01</td>\n",
       "    </tr>\n",
       "    <tr>\n",
       "      <th>14</th>\n",
       "      <td>2.504664e-02</td>\n",
       "      <td>0.063700</td>\n",
       "      <td>7.828729e-02</td>\n",
       "    </tr>\n",
       "    <tr>\n",
       "      <th>15</th>\n",
       "      <td>-5.135329e-02</td>\n",
       "      <td>-0.084939</td>\n",
       "      <td>-8.335153e-02</td>\n",
       "    </tr>\n",
       "    <tr>\n",
       "      <th>16</th>\n",
       "      <td>-2.327767e-02</td>\n",
       "      <td>-0.000292</td>\n",
       "      <td>-2.699155e-02</td>\n",
       "    </tr>\n",
       "    <tr>\n",
       "      <th>17</th>\n",
       "      <td>1.465269e-17</td>\n",
       "      <td>0.030667</td>\n",
       "      <td>2.306749e-15</td>\n",
       "    </tr>\n",
       "    <tr>\n",
       "      <th>18</th>\n",
       "      <td>1.204258e-01</td>\n",
       "      <td>0.130351</td>\n",
       "      <td>1.341586e-01</td>\n",
       "    </tr>\n",
       "    <tr>\n",
       "      <th>19</th>\n",
       "      <td>-2.503356e-15</td>\n",
       "      <td>-0.002723</td>\n",
       "      <td>-2.094028e-14</td>\n",
       "    </tr>\n",
       "    <tr>\n",
       "      <th>20</th>\n",
       "      <td>-0.000000e+00</td>\n",
       "      <td>0.002084</td>\n",
       "      <td>4.653102e-03</td>\n",
       "    </tr>\n",
       "    <tr>\n",
       "      <th>21</th>\n",
       "      <td>0.000000e+00</td>\n",
       "      <td>-0.000728</td>\n",
       "      <td>-8.413409e-17</td>\n",
       "    </tr>\n",
       "  </tbody>\n",
       "</table>\n",
       "</div>"
      ],
      "text/plain": [
       "    Beta* (SkLearn)  Betas (Random)  Betas (Cyclic)\n",
       "0     -3.135327e-01       -0.425339   -6.215424e-01\n",
       "1      3.946085e-01        0.429175    6.083025e-01\n",
       "2      8.130887e-02        0.094962    1.387110e-01\n",
       "3     -0.000000e+00       -0.023820   -4.259059e-02\n",
       "4      8.023963e-03        0.042979    4.005279e-03\n",
       "5      2.206673e-01        0.269826    3.187064e-01\n",
       "6     -5.480162e-02       -0.137890   -1.719008e-01\n",
       "7     -0.000000e+00        0.148589    2.099858e-01\n",
       "8      3.913706e-01        0.375042    5.828619e-01\n",
       "9     -0.000000e+00       -0.013988    4.837960e-02\n",
       "10     2.907331e-01        0.334140    2.152831e-01\n",
       "11     0.000000e+00       -0.002113   -1.308898e-01\n",
       "12    -2.454168e-01       -0.345196   -4.013892e-01\n",
       "13     1.291125e-01        0.141682    1.441124e-01\n",
       "14     2.504664e-02        0.063700    7.828729e-02\n",
       "15    -5.135329e-02       -0.084939   -8.335153e-02\n",
       "16    -2.327767e-02       -0.000292   -2.699155e-02\n",
       "17     1.465269e-17        0.030667    2.306749e-15\n",
       "18     1.204258e-01        0.130351    1.341586e-01\n",
       "19    -2.503356e-15       -0.002723   -2.094028e-14\n",
       "20    -0.000000e+00        0.002084    4.653102e-03\n",
       "21     0.000000e+00       -0.000728   -8.413409e-17"
      ]
     },
     "metadata": {},
     "output_type": "display_data"
    }
   ],
   "source": [
    "df = pd.DataFrame({\"Beta* (SkLearn)\":betaStar, \"Betas (Random)\":randBetas[-1].reshape(22,), \"Betas (Cyclic)\":cyclicBetas[-1].reshape(22,)})\n",
    "display(df)"
   ]
  },
  {
   "cell_type": "code",
   "execution_count": 16,
   "metadata": {},
   "outputs": [],
   "source": [
    "def fractionCorrectZero(betaStar, betas):\n",
    "    \"\"\"\n",
    "    Calculates the number of correct zero coefficients\n",
    "    Inputs:\n",
    "        - betaStar: beta values from scikit learn to compare to\n",
    "        - betas: matrix of beta values\n",
    "    Outputs:\n",
    "        - number of correct 0 coefficients / 0 coefficients in beta star for each iteration's beta values\n",
    "    \"\"\"\n",
    "    fractionZero = []\n",
    "    # gets count of zero values in beta star\n",
    "    unique, counts = np.unique(betaStar, return_counts=True)\n",
    "    count0BetaStar = dict(zip(unique, counts))[0]\n",
    "    for beta in betas:\n",
    "        count = 0\n",
    "        for i in range(0, len(beta)):\n",
    "            if(beta[i] == 0 and betaStar[i] == 0):\n",
    "                count += 1\n",
    "        fractionZero.append(count / count0BetaStar)\n",
    "    return fractionZero"
   ]
  },
  {
   "cell_type": "code",
   "execution_count": 17,
   "metadata": {},
   "outputs": [],
   "source": [
    "def fractionCorrectNonZero(betaStar, betas):\n",
    "    \"\"\"\n",
    "    Calculates the number of correct non-zero coefficients\n",
    "    Inputs:\n",
    "        - betaStar: beta values from scikit learn to compare to\n",
    "        - betas: matrix of beta values\n",
    "    Outputs:\n",
    "        - number of correct non-0 coefficients / non-0 coefficients in beta star for each iteration's beta values\n",
    "    \"\"\"\n",
    "    fractionNonZero = []\n",
    "    # gets count of non-0 values in beta star\n",
    "    unique, counts = np.unique(betaStar, return_counts=True)\n",
    "    count0BetaStar = dict(zip(unique, counts))[0]\n",
    "    countNon0BetaStar = len(betaStar) - count0BetaStar\n",
    "    for beta in betas:\n",
    "        count = 0\n",
    "        for i in range(0, len(beta)):\n",
    "            if(beta[i] != 0 and betaStar[i] != 0):\n",
    "                count += 1\n",
    "        fractionNonZero.append(count / countNon0BetaStar)\n",
    "    return fractionNonZero"
   ]
  },
  {
   "cell_type": "code",
   "execution_count": 18,
   "metadata": {},
   "outputs": [],
   "source": [
    "# calculate fraction of correct zero coefficients, compared to Beta*\n",
    "randFractionZero = fractionCorrectZero(betaStar, randBetas[1:])\n",
    "cyclicFractionZero = fractionCorrectZero(betaStar, cyclicBetas[1:])\n",
    "\n",
    "# calculate fraction of correct non-zero coefficients, compared to Beta*\n",
    "randFractionNonZero = fractionCorrectNonZero(betaStar, randBetas[1:])\n",
    "cyclicFractionNonZero = fractionCorrectNonZero(betaStar, cyclicBetas[1:])"
   ]
  },
  {
   "cell_type": "code",
   "execution_count": 19,
   "metadata": {},
   "outputs": [
    {
     "data": {
      "image/png": "[encoded data removed]",
      "text/plain": [
       "<Figure size 432x288 with 1 Axes>"
      ]
     },
     "metadata": {
      "needs_background": "light"
     },
     "output_type": "display_data"
    }
   ],
   "source": [
    "# plot fraction of non-0 betas per iteration\n",
    "plt.plot(cyclicFractionZero, color = \"purple\")\n",
    "plt.plot(randFractionZero, color = \"red\")\n",
    "plt.ylabel(\"Fraction of Correct Zero Coefficients\")\n",
    "plt.xlabel(\"Iterations\")\n",
    "plt.legend([\"Cyclic Descent\", \"Random Descent\"])\n",
    "plt.show()"
   ]
  },
  {
   "cell_type": "code",
   "execution_count": 20,
   "metadata": {},
   "outputs": [
    {
     "data": {
      "image/png": "[encoded data removed]",
      "text/plain": [
       "<Figure size 432x288 with 1 Axes>"
      ]
     },
     "metadata": {
      "needs_background": "light"
     },
     "output_type": "display_data"
    }
   ],
   "source": [
    "# plot fraction of non-0 betas per iteration\n",
    "plt.plot(cyclicFractionNonZero, color = \"purple\")\n",
    "plt.plot(randFractionNonZero, color = \"red\")\n",
    "plt.ylabel(\"Fraction of Correct Non-Zero Coefficients\")\n",
    "plt.xlabel(\"Iterations\")\n",
    "plt.legend([\"Cyclic Descent\", \"Random Descent\"])\n",
    "plt.show()"
   ]
  },
  {
   "cell_type": "markdown",
   "metadata": {},
   "source": [
    "The cyclic and random coordinate descent methods do not identify as many 0 values for beta as the scikit learn Lasso model does for the same value of lambda. There is much more variation with the random implementation than the cyclic descent which is expected behavior, but the two methods produce similar conclusions. Since both methods start at the point with all the beta coefficients set to 0, the fraction of 0 coefficients decreases with iterations while the fraction of correct non-0 coefficients increases rapidly. Running the same algorithm with a higher value of lambda pushes more coefficients to 0 and therefore gives a higher fraction of correct 0 coefficients."
   ]
  },
  {
   "cell_type": "markdown",
   "metadata": {},
   "source": [
    "### Exercise 2"
   ]
  },
  {
   "cell_type": "markdown",
   "metadata": {},
   "source": [
    "**In this problem you will generate simulated data and then perform PCA on the data. You will use your own normalized Oja algorithm for PCA. Note that “first two principal component score vectors” refers to the results from projecting the original data to a two-dimensional space with PCA.**"
   ]
  },
  {
   "cell_type": "markdown",
   "metadata": {},
   "source": [
    "**(a) Generate a simulated data set with 30 observations in each of three classes (i.e. 90 observations total), and 60 features. Hint: There are a number of functions in numpy that you can use to generate data. One example is the `numpy.random.normal()` function; `numpy.random.uniform()` is another option. Be sure to add a mean shift to the observations in each class so that there are three distinct classes.**"
   ]
  },
  {
   "cell_type": "code",
   "execution_count": 21,
   "metadata": {},
   "outputs": [],
   "source": [
    "# generate random samples\n",
    "x1 = np.random.normal(loc=10.0, scale=5.0, size=[30, 60])\n",
    "x2 = np.random.normal(loc=20.0, scale=5.0, size=[30, 60])\n",
    "x3 = np.random.normal(loc=-10.0, scale=5.0, size=[30, 60])\n",
    "\n",
    "X = np.vstack((x1, x2, x3))"
   ]
  },
  {
   "cell_type": "markdown",
   "metadata": {},
   "source": [
    "**(b) Run *your own normalized Oja algorithm* on the 90 observations. This algorithm was discussed in the week 8 lecture. Plot the first two principal component score vectors. Compare your results to the ones obtained with scikit-learn’s PCA algorithm. Use a different color to indicate the observations in each of the three classes. If the three\n",
    "classes appear separated in this plot, then you’re done. If not, then return to part (a) and modify the simulation so that there is greater separation between the three classes.**"
   ]
  },
  {
   "cell_type": "code",
   "execution_count": 22,
   "metadata": {},
   "outputs": [],
   "source": [
    "def oja(X, eta, maxIter):\n",
    "    \"\"\"\n",
    "    Implements the Oja algorithm per week 7 slide #69\n",
    "    Inputs:\n",
    "        - X: matrix of X values\n",
    "        - eta: chosen scaler\n",
    "        - maxIter: maximum number of iterations for the algorithm\n",
    "    Outputs:\n",
    "        - eigenVector: final correspondingeigenvector\n",
    "    \"\"\"\n",
    "    index = random.randint(0, X.shape[1] - 1)\n",
    "    eigenVect = copy.copy(index)\n",
    "    t = 0\n",
    "    while(t < maxIter):\n",
    "        eigenVect = eigenVect + eta * X.T.dot(X).dot(eigenVect)\n",
    "        eigenVect = eigenVect / np.linalg.norm(eigenVect)\n",
    "        t += 1\n",
    "    return eigenVect"
   ]
  },
  {
   "cell_type": "code",
   "execution_count": 23,
   "metadata": {},
   "outputs": [
    {
     "name": "stdout",
     "output_type": "stream",
     "text": [
      "Eigenvector:  [[0.01759331 0.01803699 0.01753386 ... 0.01711438 0.01822664 0.01740601]\n",
      " [0.01803696 0.01849182 0.017976   ... 0.01754595 0.01868626 0.01784494]\n",
      " [0.01753386 0.01797604 0.01747461 ... 0.01705655 0.01816506 0.0173472 ]\n",
      " ...\n",
      " [0.01711441 0.01754601 0.01705658 ... 0.01664852 0.0177305  0.01693221]\n",
      " [0.0182266  0.01868624 0.01816501 ... 0.01773043 0.01888273 0.01803256]\n",
      " [0.01740603 0.01784498 0.01734721 ... 0.01693219 0.01803262 0.01722072]]\n",
      "Eigenvecter norm, should be 1:  1.0\n"
     ]
    }
   ],
   "source": [
    "# calculate first two principal component score vectors with Oja\n",
    "eigenvect = oja(X, 0.8, 1000)\n",
    "print(\"Eigenvector: \", eigenvect.T)\n",
    "print(\"Eigenvecter norm, should be 1: \", np.linalg.norm(eigenvect))"
   ]
  },
  {
   "cell_type": "code",
   "execution_count": 24,
   "metadata": {},
   "outputs": [],
   "source": [
    "# calculate projection for first principal component\n",
    "xProjection = eigenvect.T.dot(X.T)[0:1]"
   ]
  },
  {
   "cell_type": "code",
   "execution_count": 25,
   "metadata": {},
   "outputs": [
    {
     "name": "stdout",
     "output_type": "stream",
     "text": [
      "Second Prinicipal Componet Eigenvector:  [[0.00352589 0.00322649 0.00825388 ... 0.01168014 0.00387076 0.00444382]\n",
      " [0.0032265  0.00295253 0.00755303 ... 0.01068837 0.00354209 0.00406649]\n",
      " [0.00825367 0.00755282 0.01932133 ... 0.02734179 0.00906098 0.01040244]\n",
      " ...\n",
      " [0.01167979 0.01068801 0.02734164 ... 0.03869141 0.01282221 0.0147205 ]\n",
      " [0.00387075 0.00354206 0.00906117 ... 0.01282255 0.00424935 0.00487846]\n",
      " [0.00444378 0.00406644 0.0104026  ... 0.01472081 0.00487843 0.00560067]]\n",
      "Eigenvecter norm, should be 1:  0.9999999999999999\n"
     ]
    }
   ],
   "source": [
    "# calculate second principal component\n",
    "B = X - X.dot(eigenvect.dot(eigenvect))\n",
    "eigenvect2 = oja(B, 0.8, 1000)\n",
    "print(\"Second Prinicipal Componet Eigenvector: \", eigenvect2.T)\n",
    "print(\"Eigenvecter norm, should be 1: \", np.linalg.norm(eigenvect2))\n",
    "\n",
    "# calculate projection for second principal component\n",
    "xProjection2 = eigenvect2.T.dot(X.T)[0:1]"
   ]
  },
  {
   "cell_type": "code",
   "execution_count": 52,
   "metadata": {},
   "outputs": [
    {
     "data": {
      "image/png": "[encoded data removed]",
      "text/plain": [
       "<Figure size 432x288 with 1 Axes>"
      ]
     },
     "metadata": {
      "needs_background": "light"
     },
     "output_type": "display_data"
    }
   ],
   "source": [
    "# plot Oja algorithm first two principal components\n",
    "plt.plot(xProjection[:, 0:30], xProjection2[:, 0:30], 'o', color=\"purple\")\n",
    "plt.plot(xProjection[:, 30:60], xProjection2[:, 30:60], 'o', color=\"teal\")\n",
    "plt.plot(xProjection[:, 60:90], xProjection2[:, 60:90], 'o', color=\"magenta\")\n",
    "plt.xlabel(\"First Principal Component\")\n",
    "plt.ylabel(\"Second Principal Component\")\n",
    "plt.legend([\"Mean 10 Samples\", \"Mean 20 Samples\", \"Mean -10 Samples\"])\n",
    "plt.title(\"First two principal component score vectors from Oja\")\n",
    "plt.show()"
   ]
  },
  {
   "cell_type": "code",
   "execution_count": 27,
   "metadata": {},
   "outputs": [
    {
     "data": {
      "text/plain": [
       "PCA(copy=True, iterated_power='auto', n_components=60, random_state=None,\n",
       "  svd_solver='auto', tol=0.0, whiten=False)"
      ]
     },
     "execution_count": 27,
     "metadata": {},
     "output_type": "execute_result"
    }
   ],
   "source": [
    "# scikit learn PCA to get components\n",
    "pca = PCA(n_components=60)\n",
    "pca.fit(X)"
   ]
  },
  {
   "cell_type": "code",
   "execution_count": 28,
   "metadata": {},
   "outputs": [
    {
     "data": {
      "image/png": "[encoded data removed]",
      "text/plain": [
       "<Figure size 432x288 with 1 Axes>"
      ]
     },
     "metadata": {
      "needs_background": "light"
     },
     "output_type": "display_data"
    }
   ],
   "source": [
    "# add scikit learn PCA to plot\n",
    "pcaProj1 = -pca.components_[0].T.dot(X.T)\n",
    "pcaProj2 = -pca.components_[1].T.dot(X.T)\n",
    "\n",
    "plt.plot(pcaProj1[0:30], pcaProj2[0:30], 'o', color=\"purple\")\n",
    "plt.plot(pcaProj1[30:60], pcaProj2[30:60], 'o', color=\"teal\")\n",
    "plt.plot(pcaProj1[60:90], pcaProj2[60:90], 'o', color=\"magenta\")\n",
    "plt.xlabel(\"First Principal Component\")\n",
    "plt.ylabel(\"Second Principal Component\")\n",
    "plt.legend([\"Mean 10 Samples\", \"Mean 20 Samples\", \"Mean -10 Samples\"])\n",
    "plt.title(\"First two principal component score vectors from scikit learn\")\n",
    "plt.show()"
   ]
  },
  {
   "cell_type": "markdown",
   "metadata": {},
   "source": [
    "The plot produced by my Oja algorithm is very close to that produced by scikit's PCA. The 3 classes are seperated as they should be."
   ]
  },
  {
   "cell_type": "markdown",
   "metadata": {},
   "source": [
    "### Exercise 3"
   ]
  },
  {
   "cell_type": "markdown",
   "metadata": {},
   "source": [
    "**In this exercise, we will generate simulated data, and will then use this data to fit a lasso model. You should use Scikit-learn in this exercise for fitting the lasso model and performing cross-validation.**"
   ]
  },
  {
   "cell_type": "markdown",
   "metadata": {},
   "source": [
    "**(a) Use the `numpy.random.normal()` function to generate a predictor X of length n = 100, as well as a noise vector $\\epsilon$ of length n = 100.**"
   ]
  },
  {
   "cell_type": "code",
   "execution_count": 29,
   "metadata": {},
   "outputs": [],
   "source": [
    "# generate X values\n",
    "X = np.random.normal(loc=0, scale=1, size=[100, 1])\n",
    "\n",
    "# generate noise vector\n",
    "epsilon = np.random.normal(loc=0, scale=1, size=[100, 1])"
   ]
  },
  {
   "cell_type": "markdown",
   "metadata": {},
   "source": [
    "**(b) Generate a response vector Y of length n = 100 according to the model  \n",
    "$Y = \\beta_0 + \\beta_1 X + \\beta_2 X^2 + \\beta_3 X^3 + \\epsilon$  \n",
    "where $\\beta_0$, $\\beta_1$, $\\beta_2$, and $\\beta_3$ are constants of your choice. Here superscripts denote powers of X.**"
   ]
  },
  {
   "cell_type": "code",
   "execution_count": 30,
   "metadata": {},
   "outputs": [
    {
     "name": "stdout",
     "output_type": "stream",
     "text": [
      "Shape of response vector y:  (100, 1)\n"
     ]
    }
   ],
   "source": [
    "# choose values for constants\n",
    "beta0 = 0.17\n",
    "beta1 = 0.63\n",
    "beta2 = -0.95\n",
    "beta3 = -.33\n",
    "\n",
    "# fit lasso modal\n",
    "Yb = beta0 + beta1 * X + beta2 * (X**2) + beta3 * (X**3) + epsilon\n",
    "\n",
    "print(\"Shape of response vector y: \", Yb.shape)"
   ]
  },
  {
   "cell_type": "markdown",
   "metadata": {},
   "source": [
    "**(c) Now fit a lasso model to the simulated data, using $X$, $X^2$, ..., $X^{10}$ as predictors. Use cross-validation to select the optimal value of λ. Create plots of the cross-validation error as a function of λ. Report the resulting coefficient estimates, and discuss the results obtained.**"
   ]
  },
  {
   "cell_type": "code",
   "execution_count": 31,
   "metadata": {},
   "outputs": [
    {
     "data": {
      "text/html": [
       "<div>\n",
       "<style scoped>\n",
       "    .dataframe tbody tr th:only-of-type {\n",
       "        vertical-align: middle;\n",
       "    }\n",
       "\n",
       "    .dataframe tbody tr th {\n",
       "        vertical-align: top;\n",
       "    }\n",
       "\n",
       "    .dataframe thead th {\n",
       "        text-align: right;\n",
       "    }\n",
       "</style>\n",
       "<table border=\"1\" class=\"dataframe\">\n",
       "  <thead>\n",
       "    <tr style=\"text-align: right;\">\n",
       "      <th></th>\n",
       "      <th>Coefficient from Lasso</th>\n",
       "    </tr>\n",
       "  </thead>\n",
       "  <tbody>\n",
       "    <tr>\n",
       "      <th>X</th>\n",
       "      <td>-0.768990</td>\n",
       "    </tr>\n",
       "    <tr>\n",
       "      <th>X**2</th>\n",
       "      <td>-1.091201</td>\n",
       "    </tr>\n",
       "    <tr>\n",
       "      <th>X**3</th>\n",
       "      <td>-1.091201</td>\n",
       "    </tr>\n",
       "    <tr>\n",
       "      <th>X**4</th>\n",
       "      <td>-0.185464</td>\n",
       "    </tr>\n",
       "    <tr>\n",
       "      <th>X**5</th>\n",
       "      <td>-0.057971</td>\n",
       "    </tr>\n",
       "    <tr>\n",
       "      <th>X**6</th>\n",
       "      <td>-0.028001</td>\n",
       "    </tr>\n",
       "    <tr>\n",
       "      <th>X**7</th>\n",
       "      <td>-0.009040</td>\n",
       "    </tr>\n",
       "    <tr>\n",
       "      <th>X**8</th>\n",
       "      <td>-0.004050</td>\n",
       "    </tr>\n",
       "    <tr>\n",
       "      <th>X**9</th>\n",
       "      <td>-0.001329</td>\n",
       "    </tr>\n",
       "    <tr>\n",
       "      <th>X**10</th>\n",
       "      <td>-0.000570</td>\n",
       "    </tr>\n",
       "  </tbody>\n",
       "</table>\n",
       "</div>"
      ],
      "text/plain": [
       "       Coefficient from Lasso\n",
       "X                   -0.768990\n",
       "X**2                -1.091201\n",
       "X**3                -1.091201\n",
       "X**4                -0.185464\n",
       "X**5                -0.057971\n",
       "X**6                -0.028001\n",
       "X**7                -0.009040\n",
       "X**8                -0.004050\n",
       "X**9                -0.001329\n",
       "X**10               -0.000570"
      ]
     },
     "metadata": {},
     "output_type": "display_data"
    }
   ],
   "source": [
    "clf = linear_model.Lasso(alpha = 0.1 / 2, fit_intercept = True, max_iter=1000)\n",
    "\n",
    "xCoef = clf.fit(X, Yb).coef_\n",
    "x2Coef = clf.fit(X**2, Yb).coef_\n",
    "x3Coef = clf.fit(X**2, Yb).coef_\n",
    "x4Coef = clf.fit(X**4, Yb).coef_\n",
    "x5Coef = clf.fit(X**5, Yb).coef_\n",
    "x6Coef = clf.fit(X**6, Yb).coef_\n",
    "x7Coef = clf.fit(X**7, Yb).coef_\n",
    "x8Coef = clf.fit(X**8, Yb).coef_\n",
    "x9Coef = clf.fit(X**9, Yb).coef_\n",
    "x10Coef = clf.fit(X**10, Yb).coef_\n",
    "\n",
    "df = pd.DataFrame([xCoef, x2Coef, x3Coef, x4Coef, x5Coef, x6Coef, x7Coef, x8Coef, x9Coef, x10Coef],\n",
    "                 index = [\"X\", \"X**2\", \"X**3\", \"X**4\", \"X**5\", \"X**6\", \"X**7\", \"X**8\", \"X**9\", \"X**10\"],\n",
    "                 columns = [\"Coefficient from Lasso\"])\n",
    "display(df)"
   ]
  },
  {
   "cell_type": "markdown",
   "metadata": {},
   "source": [
    "When running the model on all powers of X seperately, we see that the higher powers have lower coefficients which is expected since they are not directly included in the response variable and this could be set to 0 by Lasso."
   ]
  },
  {
   "cell_type": "code",
   "execution_count": 32,
   "metadata": {},
   "outputs": [
    {
     "data": {
      "text/html": [
       "<div>\n",
       "<style scoped>\n",
       "    .dataframe tbody tr th:only-of-type {\n",
       "        vertical-align: middle;\n",
       "    }\n",
       "\n",
       "    .dataframe tbody tr th {\n",
       "        vertical-align: top;\n",
       "    }\n",
       "\n",
       "    .dataframe thead th {\n",
       "        text-align: right;\n",
       "    }\n",
       "</style>\n",
       "<table border=\"1\" class=\"dataframe\">\n",
       "  <thead>\n",
       "    <tr style=\"text-align: right;\">\n",
       "      <th></th>\n",
       "      <th>0</th>\n",
       "      <th>1</th>\n",
       "      <th>2</th>\n",
       "      <th>3</th>\n",
       "      <th>4</th>\n",
       "      <th>5</th>\n",
       "      <th>6</th>\n",
       "      <th>7</th>\n",
       "      <th>8</th>\n",
       "      <th>9</th>\n",
       "    </tr>\n",
       "  </thead>\n",
       "  <tbody>\n",
       "    <tr>\n",
       "      <th>0</th>\n",
       "      <td>0.147819</td>\n",
       "      <td>-0.449672</td>\n",
       "      <td>-0.0</td>\n",
       "      <td>-0.34563</td>\n",
       "      <td>-0.075982</td>\n",
       "      <td>0.055516</td>\n",
       "      <td>0.006634</td>\n",
       "      <td>0.002575</td>\n",
       "      <td>-0.000166</td>\n",
       "      <td>-0.00069</td>\n",
       "    </tr>\n",
       "  </tbody>\n",
       "</table>\n",
       "</div>"
      ],
      "text/plain": [
       "          0         1    2        3         4         5         6         7  \\\n",
       "0  0.147819 -0.449672 -0.0 -0.34563 -0.075982  0.055516  0.006634  0.002575   \n",
       "\n",
       "          8        9  \n",
       "0 -0.000166 -0.00069  "
      ]
     },
     "metadata": {},
     "output_type": "display_data"
    }
   ],
   "source": [
    "xAll = np.hstack((X, X**2, X**3, X**4, X**5, X**6, X**7, X**8, X**9, X**10))\n",
    "\n",
    "xAllCoef = clf.fit(xAll, Yb).coef_\n",
    "\n",
    "df = pd.DataFrame([xAllCoef])\n",
    "display(df)"
   ]
  },
  {
   "cell_type": "markdown",
   "metadata": {},
   "source": [
    "When running the powers of X all together we get a different result where now the power of 3 has a coefficient of 0. This is interesting because I thought it would have higher weights as it is included in the calculation of Y. The highest weight here is from $X^2$ which makes since it has the largest magnitude coefficient when producing Y. I am guessing this variability is a result of the noise being included in the model.  \n",
    "\n",
    "The betas from the lasso model are also fairly different than those I picked for the y-response. I chose $\\beta_1$ = 0.63 and the lasso model gives me 0.1478. For $\\beta_2$ I selected -0.95, and the model outputs -0.44 which is fairly close. For $\\beta_3$ I selected -0.33 and the model outputed 0 which is an interesting result as that means $X^3$ is not selected for the predictor model.  "
   ]
  },
  {
   "cell_type": "code",
   "execution_count": 33,
   "metadata": {},
   "outputs": [
    {
     "data": {
      "image/png": "[encoded data removed]",
      "text/plain": [
       "<Figure size 432x288 with 1 Axes>"
      ]
     },
     "metadata": {
      "needs_background": "light"
     },
     "output_type": "display_data"
    }
   ],
   "source": [
    "lasso = Lasso(alpha = 0.1 / 2, random_state=0, max_iter=1000)\n",
    "alphas = [0.000001, 0.00001, 0.0001, 0.001, 0.01, 0.1, 1, 10, 100, 1000, 10000, 100000, 1000000]\n",
    "param_grid = {'alpha': alphas}\n",
    "clf = GridSearchCV(lasso, param_grid, cv=5)\n",
    "clfX = clf.fit(X, Yb).cv_results_['mean_test_score']\n",
    "clfX2 = clf.fit(X**2, Yb).cv_results_['mean_test_score']\n",
    "clfX3 = clf.fit(X**3, Yb).cv_results_['mean_test_score']\n",
    "clfX4 = clf.fit(X**4, Yb).cv_results_['mean_test_score']\n",
    "clfX5 = clf.fit(X**5, Yb).cv_results_['mean_test_score']\n",
    "clfX6 = clf.fit(X**6, Yb).cv_results_['mean_test_score']\n",
    "clfX7 = clf.fit(X**7, Yb).cv_results_['mean_test_score']\n",
    "clfX8 = clf.fit(X**8, Yb).cv_results_['mean_test_score']\n",
    "clfX9 = clf.fit(X**9, Yb).cv_results_['mean_test_score']\n",
    "clfX10 = clf.fit(X**10, Yb).cv_results_['mean_test_score']\n",
    "\n",
    "\n",
    "plt.plot(alphas, clfX, '-', color=\"red\")\n",
    "plt.plot(alphas, clfX2, '-', color=\"orange\")\n",
    "plt.plot(alphas, clfX3, '-', color=\"yellow\")\n",
    "plt.plot(alphas, clfX4, '-', color=\"green\")\n",
    "plt.plot(alphas, clfX5, '-', color=\"blue\")\n",
    "plt.plot(alphas, clfX6, '-', color=\"purple\")\n",
    "plt.plot(alphas, clfX7, '-', color=\"magenta\")\n",
    "plt.plot(alphas, clfX8, '-', color=\"black\")\n",
    "plt.plot(alphas, clfX9, '-', color=\"brown\")\n",
    "plt.plot(alphas, clfX10, '-', color=\"gray\")\n",
    "plt.xlabel(\"Lambdas\")\n",
    "plt.ylabel(\"Mean Test Score\")\n",
    "plt.xscale(\"log\")\n",
    "plt.legend([\"X\", \"X**2\", \"X**3\", \"X**4\", \"X**5\", \"X**6\", \"X**7\", \"X**8\", \"X**9\", \"X**10\"])\n",
    "plt.show()"
   ]
  },
  {
   "cell_type": "code",
   "execution_count": 34,
   "metadata": {},
   "outputs": [
    {
     "data": {
      "image/png": "[encoded data removed]",
      "text/plain": [
       "<Figure size 432x288 with 1 Axes>"
      ]
     },
     "metadata": {
      "needs_background": "light"
     },
     "output_type": "display_data"
    }
   ],
   "source": [
    "clfXAll = clf.fit(xAll, Yb).cv_results_['mean_test_score']\n",
    "\n",
    "plt.plot(alphas, clfXAll, '-o', color=\"red\")\n",
    "plt.xlabel(\"alphas\")\n",
    "plt.ylabel(\"Mean Test Score\")\n",
    "plt.xscale(\"log\")\n",
    "plt.show()"
   ]
  },
  {
   "cell_type": "markdown",
   "metadata": {},
   "source": [
    "Here we see that the optimal alpha value, the one that produces the highest mean test score, is right around the lowest alpha value. We again see a huge dip in test score at 1 and then a leveling out for the higher alpha values. The lower values of alpha consistently produce better mean test scores which makes sense since the regularization term is therefore smaller and the model fits the data it is being trained on better."
   ]
  },
  {
   "cell_type": "markdown",
   "metadata": {},
   "source": [
    "**(d) Now generate a response vector Y according to the model  \n",
    "$Y = \\beta_0 + \\beta_7 X^7 + \\epsilon$  \n",
    "and fit a lasso model. Discuss the results obtained.**"
   ]
  },
  {
   "cell_type": "code",
   "execution_count": 35,
   "metadata": {},
   "outputs": [
    {
     "data": {
      "text/html": [
       "<div>\n",
       "<style scoped>\n",
       "    .dataframe tbody tr th:only-of-type {\n",
       "        vertical-align: middle;\n",
       "    }\n",
       "\n",
       "    .dataframe tbody tr th {\n",
       "        vertical-align: top;\n",
       "    }\n",
       "\n",
       "    .dataframe thead th {\n",
       "        text-align: right;\n",
       "    }\n",
       "</style>\n",
       "<table border=\"1\" class=\"dataframe\">\n",
       "  <thead>\n",
       "    <tr style=\"text-align: right;\">\n",
       "      <th></th>\n",
       "      <th>Coefficient from Lasso</th>\n",
       "    </tr>\n",
       "  </thead>\n",
       "  <tbody>\n",
       "    <tr>\n",
       "      <th>X</th>\n",
       "      <td>4.593166</td>\n",
       "    </tr>\n",
       "    <tr>\n",
       "      <th>X**2</th>\n",
       "      <td>1.614224</td>\n",
       "    </tr>\n",
       "    <tr>\n",
       "      <th>X**3</th>\n",
       "      <td>1.614224</td>\n",
       "    </tr>\n",
       "    <tr>\n",
       "      <th>X**4</th>\n",
       "      <td>0.360403</td>\n",
       "    </tr>\n",
       "    <tr>\n",
       "      <th>X**5</th>\n",
       "      <td>0.365727</td>\n",
       "    </tr>\n",
       "    <tr>\n",
       "      <th>X**6</th>\n",
       "      <td>0.066832</td>\n",
       "    </tr>\n",
       "    <tr>\n",
       "      <th>X**7</th>\n",
       "      <td>0.059650</td>\n",
       "    </tr>\n",
       "    <tr>\n",
       "      <th>X**8</th>\n",
       "      <td>0.011397</td>\n",
       "    </tr>\n",
       "    <tr>\n",
       "      <th>X**9</th>\n",
       "      <td>0.008962</td>\n",
       "    </tr>\n",
       "    <tr>\n",
       "      <th>X**10</th>\n",
       "      <td>0.001837</td>\n",
       "    </tr>\n",
       "  </tbody>\n",
       "</table>\n",
       "</div>"
      ],
      "text/plain": [
       "       Coefficient from Lasso\n",
       "X                    4.593166\n",
       "X**2                 1.614224\n",
       "X**3                 1.614224\n",
       "X**4                 0.360403\n",
       "X**5                 0.365727\n",
       "X**6                 0.066832\n",
       "X**7                 0.059650\n",
       "X**8                 0.011397\n",
       "X**9                 0.008962\n",
       "X**10                0.001837"
      ]
     },
     "metadata": {},
     "output_type": "display_data"
    }
   ],
   "source": [
    "beta7 = 0.06\n",
    "Yd = beta0 + beta7 * (X**7) + epsilon\n",
    "\n",
    "clf = linear_model.Lasso(alpha = 0.01 / 2, fit_intercept = True, max_iter=1000)\n",
    "\n",
    "xCoef = clf.fit(X, Yd).coef_\n",
    "x2Coef = clf.fit(X**2, Yd).coef_\n",
    "x3Coef = clf.fit(X**2, Yd).coef_\n",
    "x4Coef = clf.fit(X**4, Yd).coef_\n",
    "x5Coef = clf.fit(X**5, Yd).coef_\n",
    "x6Coef = clf.fit(X**6, Yd).coef_\n",
    "x7Coef = clf.fit(X**7, Yd).coef_\n",
    "x8Coef = clf.fit(X**8, Yd).coef_\n",
    "x9Coef = clf.fit(X**9, Yd).coef_\n",
    "x10Coef = clf.fit(X**10, Yd).coef_\n",
    "\n",
    "df = pd.DataFrame([xCoef, x2Coef, x3Coef, x4Coef, x5Coef, x6Coef, x7Coef, x8Coef, x9Coef, x10Coef],\n",
    "                 index = [\"X\", \"X**2\", \"X**3\", \"X**4\", \"X**5\", \"X**6\", \"X**7\", \"X**8\", \"X**9\", \"X**10\"],\n",
    "                 columns = [\"Coefficient from Lasso\"])\n",
    "display(df)"
   ]
  },
  {
   "cell_type": "markdown",
   "metadata": {},
   "source": [
    "The coefficients for the smaller terms are now much larger when fit independently. The beta for X is very large, especially in comparasin to the others. This is interesting since in this model there are less X terms "
   ]
  },
  {
   "cell_type": "code",
   "execution_count": 36,
   "metadata": {},
   "outputs": [
    {
     "data": {
      "text/html": [
       "<div>\n",
       "<style scoped>\n",
       "    .dataframe tbody tr th:only-of-type {\n",
       "        vertical-align: middle;\n",
       "    }\n",
       "\n",
       "    .dataframe tbody tr th {\n",
       "        vertical-align: top;\n",
       "    }\n",
       "\n",
       "    .dataframe thead th {\n",
       "        text-align: right;\n",
       "    }\n",
       "</style>\n",
       "<table border=\"1\" class=\"dataframe\">\n",
       "  <thead>\n",
       "    <tr style=\"text-align: right;\">\n",
       "      <th></th>\n",
       "      <th>0</th>\n",
       "      <th>1</th>\n",
       "      <th>2</th>\n",
       "      <th>3</th>\n",
       "      <th>4</th>\n",
       "      <th>5</th>\n",
       "      <th>6</th>\n",
       "      <th>7</th>\n",
       "      <th>8</th>\n",
       "      <th>9</th>\n",
       "    </tr>\n",
       "  </thead>\n",
       "  <tbody>\n",
       "    <tr>\n",
       "      <th>0</th>\n",
       "      <td>0.390623</td>\n",
       "      <td>0.03253</td>\n",
       "      <td>-0.72892</td>\n",
       "      <td>-0.142035</td>\n",
       "      <td>0.277039</td>\n",
       "      <td>0.034625</td>\n",
       "      <td>0.025093</td>\n",
       "      <td>-0.000203</td>\n",
       "      <td>0.001196</td>\n",
       "      <td>-0.000244</td>\n",
       "    </tr>\n",
       "  </tbody>\n",
       "</table>\n",
       "</div>"
      ],
      "text/plain": [
       "          0        1        2         3         4         5         6  \\\n",
       "0  0.390623  0.03253 -0.72892 -0.142035  0.277039  0.034625  0.025093   \n",
       "\n",
       "          7         8         9  \n",
       "0 -0.000203  0.001196 -0.000244  "
      ]
     },
     "metadata": {},
     "output_type": "display_data"
    }
   ],
   "source": [
    "xAll = np.hstack((X, X**2, X**3, X**4, X**5, X**6, X**7, X**8, X**9, X**10))\n",
    "\n",
    "xAllCoef = clf.fit(xAll, Yd).coef_\n",
    "\n",
    "df = pd.DataFrame([xAllCoef])\n",
    "display(df)"
   ]
  },
  {
   "cell_type": "markdown",
   "metadata": {},
   "source": [
    "Now none of the coefficients are 0. Therefore, the Lasso model selects all powers of X as features that go into the model. \n",
    "\n",
    "In this case, the highest coefficient value is $X^3$. Since the coefficients for $\\beta_7$ is so small in magnitude this seems reasonable. The higher powers of X have lower coefficients. $X^3$, $X^4$, $X^8$ and $X^10$ all have negative coefficients. This is a result of the random generation of the input data.  \n",
    "\n",
    "For $\\beta_7$ I selected 0.06, and the model is outputting 0.025 which is relatively close in value. However, the rest of the powers have non-0 coefficients which is interesting since only one power of X is included in the response calculation. Again, I am guessing this is an effect of the noise being of the same magnitude as X, and the intercept is acting as if the data is non-standardized since if it was there would be no intercept."
   ]
  },
  {
   "cell_type": "code",
   "execution_count": 37,
   "metadata": {},
   "outputs": [
    {
     "data": {
      "image/png": "[encoded data removed]",
      "text/plain": [
       "<Figure size 432x288 with 1 Axes>"
      ]
     },
     "metadata": {
      "needs_background": "light"
     },
     "output_type": "display_data"
    }
   ],
   "source": [
    "lasso = Lasso(alpha = 0.1 / 2, random_state=0, max_iter=1000)\n",
    "alphas = [0.000001, 0.00001, 0.0001, 0.001, 0.01, 0.1, 1, 10, 100, 1000, 10000, 100000, 1000000]\n",
    "param_grid = {'alpha': alphas}\n",
    "clf = GridSearchCV(lasso, param_grid, cv=5)\n",
    "clfX = clf.fit(X, Yd).cv_results_['mean_test_score']\n",
    "clfX2 = clf.fit(X**2, Yd).cv_results_['mean_test_score']\n",
    "clfX3 = clf.fit(X**3, Yd).cv_results_['mean_test_score']\n",
    "clfX4 = clf.fit(X**4, Yd).cv_results_['mean_test_score']\n",
    "clfX5 = clf.fit(X**5, Yd).cv_results_['mean_test_score']\n",
    "clfX6 = clf.fit(X**6, Yd).cv_results_['mean_test_score']\n",
    "clfX7 = clf.fit(X**7, Yd).cv_results_['mean_test_score']\n",
    "clfX8 = clf.fit(X**8, Yd).cv_results_['mean_test_score']\n",
    "clfX9 = clf.fit(X**9, Yd).cv_results_['mean_test_score']\n",
    "clfX10 = clf.fit(X**10, Yd).cv_results_['mean_test_score']\n",
    "\n",
    "plt.plot(alphas, clfX, '-', color=\"red\")\n",
    "plt.plot(alphas, clfX2, '-', color=\"orange\")\n",
    "plt.plot(alphas, clfX3, '-', color=\"yellow\")\n",
    "plt.plot(alphas, clfX4, '-', color=\"green\")\n",
    "plt.plot(alphas, clfX5, '-', color=\"blue\")\n",
    "plt.plot(alphas, clfX6, '-', color=\"purple\")\n",
    "plt.plot(alphas, clfX7, '-', color=\"magenta\")\n",
    "plt.plot(alphas, clfX8, '-', color=\"black\")\n",
    "plt.plot(alphas, clfX9, '-', color=\"brown\")\n",
    "plt.plot(alphas, clfX10, '-', color=\"gray\")\n",
    "plt.xlabel(\"Lambdas\")\n",
    "plt.ylabel(\"Mean Test Score\")\n",
    "plt.xscale(\"log\")\n",
    "plt.legend([\"X\", \"X**2\", \"X**3\", \"X**4\", \"X**5\", \"X**6\", \"X**7\", \"X**8\", \"X**9\", \"X**10\"])\n",
    "plt.show()"
   ]
  },
  {
   "cell_type": "code",
   "execution_count": 38,
   "metadata": {},
   "outputs": [
    {
     "data": {
      "image/png": "[encoded data removed]",
      "text/plain": [
       "<Figure size 432x288 with 1 Axes>"
      ]
     },
     "metadata": {
      "needs_background": "light"
     },
     "output_type": "display_data"
    }
   ],
   "source": [
    "clfXAll = clf.fit(xAll, Yd).cv_results_['mean_test_score']\n",
    "\n",
    "plt.plot(alphas, clfXAll, 'o-', color=\"red\")\n",
    "plt.xlabel(\"alpha\")\n",
    "plt.ylabel(\"Mean Test Score\")\n",
    "plt.xscale(\"log\")\n",
    "plt.show()"
   ]
  },
  {
   "cell_type": "markdown",
   "metadata": {},
   "source": [
    "Again we see a similar trend with the higher values of alpha leading to higher mean test scores, with the best score around 0.1 and the higher values performing poorly. Again, this makes sense since the higher the regularization term the more coefficients will be pushed to 0 and the model may become oversimplified and not perform well.  "
   ]
  },
  {
   "cell_type": "markdown",
   "metadata": {},
   "source": [
    "### Exercise 4"
   ]
  },
  {
   "cell_type": "markdown",
   "metadata": {},
   "source": [
    "**Read the announcement “Data Competition 2” on Canvas. Convert each image into a feature vector using the provided extract features.py script. We strongly recommend you perform this task on AWS.**"
   ]
  },
  {
   "cell_type": "markdown",
   "metadata": {},
   "source": [
    "**Pick two classes of your choice from the dataset. Train an $l^2_2$-regularized logistic regression classifier on the training set using your own fast gradient algorithm with λ = 1. Plot, with different colors, the *misclassification error* on the training set and on the validation set vs iterations.**\n"
   ]
  },
  {
   "cell_type": "code",
   "execution_count": 39,
   "metadata": {},
   "outputs": [
    {
     "name": "stdout",
     "output_type": "stream",
     "text": [
      "Number of images in x train: 1200\n",
      "Dimension of features: 4096\n"
     ]
    }
   ],
   "source": [
    "data_dir = \"../Kaggle/data558spring2019-competition2\"\n",
    "\n",
    "x_train_unfiltered = np.load(os.path.join(data_dir, 'train_features.npy'))\n",
    "y_train_unfiltered = np.load(os.path.join(data_dir, 'train_labels.npy'))\n",
    "x_test_unfiltered = np.load(os.path.join(data_dir, 'val_features.npy'))\n",
    "y_test_unfiltered = np.load(os.path.join(data_dir, 'val_labels.npy'))\n",
    "\n",
    "# filter testing data to two classes: 4, 7\n",
    "x_train = np.zeros((1000, x_train_unfiltered.shape[1]))\n",
    "y_train = np.zeros((1000, 1))\n",
    "index = 0\n",
    "for i in range(y_train_unfiltered.shape[0]):\n",
    "    if(y_train_unfiltered[i] == 4 or y_train_unfiltered[i] == 7):\n",
    "        x_train[index, :] = x_train_unfiltered[i].T\n",
    "        y_train[index, :] = y_train_unfiltered[i]\n",
    "        index += 1\n",
    "\n",
    "y_train[y_train == 4] = -1\n",
    "y_train[y_train == 7] = 1\n",
    "\n",
    "# filter testing data to two classes: 4, 7\n",
    "x_test = np.zeros((200, x_test_unfiltered.shape[1]))\n",
    "y_test = np.zeros((200, 1))\n",
    "index = 0\n",
    "for i in range(y_test_unfiltered.shape[0]):\n",
    "    if(y_test_unfiltered[i] == 4 or y_test_unfiltered[i] == 7):\n",
    "        x_test[index, :] = x_test_unfiltered[i].T\n",
    "        y_test[index, :] = y_test_unfiltered[i]\n",
    "        index += 1\n",
    "\n",
    "# reset y data to -1 and 1 to fit machine learning standards\n",
    "y_test[y_test == 4] = -1\n",
    "y_test[y_test == 7] = 1\n",
    "\n",
    "# combine test and validation data for this exercise\n",
    "xTrain = np.vstack((x_test, x_train))\n",
    "yTrain = np.vstack((y_test, y_train))\n",
    "xScaler = preprocessing.StandardScaler()\n",
    "XTrain = xScaler.fit_transform(xTrain)\n",
    "\n",
    "# check dimensions\n",
    "print(\"Number of images in x train:\", xTrain.shape[0])\n",
    "print(\"Dimension of features:\", xTrain.shape[1])"
   ]
  },
  {
   "cell_type": "code",
   "execution_count": 40,
   "metadata": {},
   "outputs": [],
   "source": [
    "def fastgradalgo(X, y, stepSize, targetAccuracy = 0.001, lamb = 0.05):\n",
    "    \"\"\"\n",
    "    Implements fast gradient descent algorithm with backtracking\n",
    "    Inputs:\n",
    "        - X: matrix of X values\n",
    "        - y: vector of associated outcomes\n",
    "        - stepSize: initial step size\n",
    "        - targetAccuracy: target accuracy value for algorithm\n",
    "        - lambda: scalar multiplicative factor for regularization penalty (optional, defaults to 0.05)\n",
    "    Outputs:\n",
    "        - betas: vector of improved betas after final iteration\n",
    "        - objs: vector of objective values for each iteration\n",
    "    \"\"\"\n",
    "    x = X\n",
    "    beta = np.zeros((X.shape[1], 1))\n",
    "    theta = np.zeros((X.shape[1], 1))\n",
    "    objs = [computeobj(x, y, beta, lamb)]\n",
    "    betas = [beta]\n",
    "    grad = computegrad(x, y, theta, lamb)\n",
    "    t = 0  # tracks iterations\n",
    "    while (np.linalg.norm(grad) > targetAccuracy):\n",
    "        stepSize = backtracking(x, y, beta, stepSize)\n",
    "        betaOld = beta\n",
    "        beta = theta - stepSize * computegrad(x, y, theta, lamb)\n",
    "        theta = beta + (t/(t+3))*(beta - betaOld)\n",
    "        betas.append(beta) # saves current beta values\n",
    "        obj = computeobj(x, y, beta, lamb)\n",
    "        objs.append(obj) # saves current objective value\n",
    "        grad = computegrad(x, y, theta, lamb)\n",
    "        t = t + 1\n",
    "    return np.array(betas), np.array(objs)"
   ]
  },
  {
   "cell_type": "code",
   "execution_count": 41,
   "metadata": {},
   "outputs": [],
   "source": [
    "def graddescent(X, y, stepSize, targetAccuracy = 0.001, lamb = 0.05):\n",
    "    \"\"\"\n",
    "    Implements gradient descent algorithm with backtracking\n",
    "    Inputs:\n",
    "        - X: matrix of X values\n",
    "        - y: vector of associated outcomes\n",
    "        - stepSize: initial step size\n",
    "        - targetAccuracy: target accuracy value for algorithm\n",
    "        - lambda: scalar multiplicative factor for regularization penalty (optional, defaults to 0.05)\n",
    "    Outputs:\n",
    "        - betas: vector of improved betas after final iteration\n",
    "        - objs: vector of objective values for each iteration\n",
    "    \"\"\"\n",
    "    x = X\n",
    "    beta = np.zeros((X.shape[1], 1))\n",
    "    objs = [computeobj(x, y, beta, lamb)]\n",
    "    betas = [beta]\n",
    "    grad = computegrad(x, y, beta, lamb)\n",
    "    while (np.linalg.norm(grad) > targetAccuracy):\n",
    "        stepSize = backtracking(x, y, beta, stepSize)\n",
    "        beta = beta - stepSize * grad\n",
    "        betas.append(beta) # saves current beta values\n",
    "        obj = computeobj(x, y, beta, lamb)\n",
    "        objs.append(obj) # saves current objective value\n",
    "        grad = computegrad(x, y, beta, lamb)\n",
    "    return np.array(betas), np.array(objs)"
   ]
  },
  {
   "cell_type": "code",
   "execution_count": 42,
   "metadata": {},
   "outputs": [],
   "source": [
    "def backtracking(X, y, beta, eta, alpha = 0.5, gamma=0.8):\n",
    "    \"\"\"\n",
    "    Implements backtracking rule\n",
    "    Inputs:\n",
    "        - X: matrix of X values\n",
    "        - y: vector of associated outcomes\n",
    "        - beta: vector of beta constants\n",
    "        - eta: initial step size\n",
    "        - alpha: constant used to define sufficinet decrease condition\n",
    "        - gamma: constant to scale step size by until condition met         \n",
    "    Outputs:\n",
    "        - step size\n",
    "    \"\"\"\n",
    "    grad = computegrad(X, y, beta)  # calculates the gradient at current beta\n",
    "    conditionMet = False # tracks when we find the backtracked step size\n",
    "    while not conditionMet:    \n",
    "        if computeobj(X, y, beta - eta*grad) < computeobj(X, y, beta) - alpha*eta*np.linalg.norm(grad)**2:\n",
    "            conditionMet = True\n",
    "        else:\n",
    "            eta = eta * gamma            \n",
    "    return eta"
   ]
  },
  {
   "cell_type": "code",
   "execution_count": 43,
   "metadata": {},
   "outputs": [],
   "source": [
    "def computeobj(X, y, beta, lamb = 0.05):\n",
    "    \"\"\"\n",
    "    Computes the objective for ridge regression problem\n",
    "    Inputs:\n",
    "        - X: matrix of X values\n",
    "        - y: vector of associated outcomes\n",
    "        - beta: vector of beta constants\n",
    "        - lambda: scalar multiplicative factor for regularization penalty (optional, defaults to 0.05)\n",
    "    Outputs:\n",
    "        - objective for passed in parameters\n",
    "    \"\"\"\n",
    "    n = len(X)\n",
    "    summation = 0\n",
    "    for i in range(0, X.shape[0]):\n",
    "        xi = X[i,:]\n",
    "        yi = y[i]\n",
    "        x = -yi*xi.dot(beta)\n",
    "        if(x > 0): # avoids over or under flow errors\n",
    "            a = x + 1\n",
    "            logTerm = a + np.log(np.exp(-a) + np.exp(x-a))\n",
    "        else:\n",
    "            logTerm = np.log(1 + np.exp(x))\n",
    "        summation = summation + logTerm\n",
    "    return ((1/n) * summation + (lamb * np.sum(beta**2)))[0]"
   ]
  },
  {
   "cell_type": "code",
   "execution_count": 44,
   "metadata": {},
   "outputs": [],
   "source": [
    "def computegrad(X, y, beta, lamb = 0.05):\n",
    "    \"\"\"\n",
    "    Computes the gradient for the fast gradient algorithm\n",
    "    Inputs:\n",
    "        - X: matrix of X values\n",
    "        - y: vector of associated outcomes\n",
    "        - beta: vector of beta constants\n",
    "        - lambda: scalar multiplicative factor for regularization penalty (optional, defaults to 0.05)\n",
    "    Outputs:\n",
    "        - vector gradient for passed in parameters\n",
    "    \"\"\"\n",
    "    n = len(X) \n",
    "    P = np.zeros((X.shape[0], X.shape[0]))\n",
    "    for i in range(0, X.shape[0]):\n",
    "        xi = X[i,:]\n",
    "        yi = y[i]\n",
    "        p = ((np.exp(-yi * (xi).dot(beta))) / (1 + (np.exp(-yi * (xi).dot(beta)))))\n",
    "        P[i,i] = p  \n",
    "    return ((-1/n) * X.T.dot(P).dot(y) + 2*lamb*beta)"
   ]
  },
  {
   "cell_type": "code",
   "execution_count": 45,
   "metadata": {},
   "outputs": [],
   "source": [
    "def calcKaggleMisclassificationError(X, y, betas):\n",
    "    \"\"\"\n",
    "    Calculates the misclassification error for a 0-9 response variable\n",
    "    Inputs:\n",
    "        - X: matrix of X values\n",
    "        - y: vector of associated outcomes, 0-9\n",
    "        - betas: coefficients that correspond to X values\n",
    "    Outputs:\n",
    "        - misclassifications: ratio of incorrect values / total values for all betas\n",
    "    \"\"\"\n",
    "    misclassifications = np.zeros((betas.shape[0], 1))\n",
    "    for b in range(betas.shape[0]):\n",
    "        betaVals = betas[b]\n",
    "        incorrect = 0\n",
    "        for i in range(X.shape[0]):\n",
    "            prediction = np.sum(np.dot(X[i], betaVals))\n",
    "            if(prediction > 0):\n",
    "                prediction = 1\n",
    "            else:\n",
    "                prediction = -1\n",
    "            if(prediction != y[i]):\n",
    "                incorrect +=1\n",
    "        misclassifications[b,:] = (incorrect / X.shape[0])\n",
    "    return misclassifications"
   ]
  },
  {
   "cell_type": "code",
   "execution_count": 46,
   "metadata": {},
   "outputs": [],
   "source": [
    "# set constants\n",
    "lamb = 1.0\n",
    "epsilon = 0.03\n",
    "\n",
    "# calculate initial step size for training data\n",
    "n = len(x_train)\n",
    "eq = (1/n * x_train.T.dot(x_train))\n",
    "eigVals = eigh(eq)[0]\n",
    "trainStepSize = 1 / (max(eigVals) + lamb)\n",
    "\n",
    "# run fast gradient algorithm for training data\n",
    "trainBeta, trainObjs = fastgradalgo(x_train, y_train, stepSize = trainStepSize, targetAccuracy = epsilon, lamb = lamb)\n",
    "\n",
    "# calculate initial step size for test data\n",
    "n = len(x_test)\n",
    "eq = (1/n * x_test.T.dot(x_test))\n",
    "eigVals = eigh(eq)[0]\n",
    "valStepSize = 1 / (max(eigVals) + lamb)\n",
    "\n",
    "# run fast gradient algorithm for test data\n",
    "valBeta, valObjs = fastgradalgo(x_test, y_test, stepSize = valStepSize, targetAccuracy = epsilon, lamb = lamb)"
   ]
  },
  {
   "cell_type": "code",
   "execution_count": 47,
   "metadata": {},
   "outputs": [
    {
     "data": {
      "image/png": "[encoded data removed]",
      "text/plain": [
       "<Figure size 432x288 with 1 Axes>"
      ]
     },
     "metadata": {
      "needs_background": "light"
     },
     "output_type": "display_data"
    }
   ],
   "source": [
    "# calculate misclassification error on test and training set\n",
    "trainMisclassification = calcKaggleMisclassificationError(x_train, y_train, trainBeta)\n",
    "valMisclassification = calcKaggleMisclassificationError(x_test, y_test, valBeta)\n",
    "        \n",
    "# plot misclassification curves for test and training\n",
    "plt.plot(trainMisclassification, color = \"red\")\n",
    "plt.plot(valMisclassification, color = \"purple\")\n",
    "plt.ylabel(\"Misclassification Rate\")\n",
    "plt.xlabel(\"Iterations\")\n",
    "plt.title(\"Training Data Misclassification Rates vs Iteration Counter\")\n",
    "plt.legend([\"Training\", \"Validation\"])\n",
    "plt.show()"
   ]
  },
  {
   "cell_type": "markdown",
   "metadata": {},
   "source": [
    "**Find the value of the regularization parameter λ using cross-validation; you may use scikit-learn’s built-in functions for this purpose. Train an $l_2^2$-regularized logistic regression classifier on the training set using your own fast gradient algorithm with that value of λ found by cross-validation. Plot, with different colors, the *misclassification error* on the training set and on the validation set vs iterations.**\n"
   ]
  },
  {
   "cell_type": "code",
   "execution_count": 48,
   "metadata": {},
   "outputs": [
    {
     "name": "stdout",
     "output_type": "stream",
     "text": [
      "New value for lambda:  5e-06\n"
     ]
    }
   ],
   "source": [
    "# get scikitlearn model\n",
    "model = LogisticRegression(penalty='l2', dual=False, C=1/(n*lamb), tol=epsilon, fit_intercept=False, solver=\"liblinear\")\n",
    "model = model.fit(x_train, y_train)\n",
    "\n",
    "#cross validation to find best lambda\n",
    "param_grid = {'C': [0.001, 0.05, 0.01, .5, 0.1, .5, 1, 5, 10, 50, 100, 500, 1000] }\n",
    "clf = GridSearchCV(model, param_grid)\n",
    "newLamb = 1/ n*(clf.fit(x_train, y_train).best_estimator_.get_params()['C'])\n",
    "print(\"New value for lambda: \", newLamb)"
   ]
  },
  {
   "cell_type": "code",
   "execution_count": 49,
   "metadata": {},
   "outputs": [],
   "source": [
    "# calculate initial step size for training data\n",
    "n = len(x_train)\n",
    "eq = (1/n * x_train.T.dot(x_train))\n",
    "eigVals = eigh(eq)[0]\n",
    "trainStepSize = 1 / (max(eigVals) + newLamb)\n",
    "\n",
    "# run fast gradient algorithm for training data\n",
    "newTrainBeta, newTrainObjs = fastgradalgo(x_train, y_train, stepSize = trainStepSize, targetAccuracy = epsilon, lamb = newLamb)\n",
    "\n",
    "# calculate initial step size for test data\n",
    "n = len(x_test)\n",
    "eq = (1/n * x_test.T.dot(x_test))\n",
    "eigVals = eigh(eq)[0]\n",
    "valStepSize = 1 / (max(eigVals) + newLamb)\n",
    "\n",
    "# run fast gradient algorithm for test data\n",
    "newValBeta, newValObjs = fastgradalgo(x_test, y_test, stepSize = valStepSize, targetAccuracy = epsilon, lamb = newLamb)"
   ]
  },
  {
   "cell_type": "code",
   "execution_count": 50,
   "metadata": {},
   "outputs": [
    {
     "data": {
      "image/png": "[encoded data removed]",
      "text/plain": [
       "<Figure size 432x288 with 1 Axes>"
      ]
     },
     "metadata": {
      "needs_background": "light"
     },
     "output_type": "display_data"
    }
   ],
   "source": [
    "# calculate misclassification error on training and test set\n",
    "newTrainMisclassification = calcKaggleMisclassificationError(x_train, y_train, newTrainBeta)\n",
    "newValMisclassification = calcKaggleMisclassificationError(x_test, y_test, newValBeta)\n",
    "        \n",
    "# plot misclassification curves from new lambda value\n",
    "plt.plot(newTrainMisclassification, color = \"red\")\n",
    "plt.plot(newValMisclassification, color = \"purple\")\n",
    "plt.ylabel(\"Misclassification Rate\")\n",
    "plt.xlabel(\"Iterations\")\n",
    "plt.title(\"Training Data Misclassification Rates vs Iteration Counter with Optimal Lambda\")\n",
    "plt.legend([\"Training\", \"Validation\"])\n",
    "plt.show()"
   ]
  },
  {
   "cell_type": "code",
   "execution_count": 51,
   "metadata": {},
   "outputs": [],
   "source": [
    "# create kaggle submission\n",
    "kaggleTest = np.load(os.path.join(data_dir, 'test_features.npy'))\n",
    "betaVals = newTrainBeta[-1]\n",
    "\n",
    "predictions = np.zeros((kaggleTest.shape[0], 2))\n",
    "\n",
    "for i in range(kaggleTest.shape[0]):\n",
    "    prediction = np.sum(np.dot(kaggleTest[i], betaVals))\n",
    "    if(prediction >= 0):\n",
    "        prediction = 7\n",
    "    else:\n",
    "        prediction = 4\n",
    "    predictions[i,:] = [i, prediction]\n",
    "\n",
    "predictions = pd.DataFrame({\"Id\": predictions[:,0], \"Category\": predictions[:,1]})\n",
    "predictions.to_csv(\"kaggle.csv\", sep=',')"
   ]
  }
 ],
 "metadata": {
  "kernelspec": {
   "display_name": "Python 3",
   "language": "python",
   "name": "python3"
  },
  "language_info": {
   "codemirror_mode": {
    "name": "ipython",
    "version": 3
   },
   "file_extension": ".py",
   "mimetype": "text/x-python",
   "name": "python",
   "nbconvert_exporter": "python",
   "pygments_lexer": "ipython3",
   "version": "3.7.3"
  }
 },
 "nbformat": 4,
 "nbformat_minor": 2
}
