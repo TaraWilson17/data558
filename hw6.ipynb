{
 "cells": [
  {
   "cell_type": "markdown",
   "metadata": {},
   "source": [
    "## <center> Homework 6 </center>\n",
    "<center> Tara Wilson </center>\n",
    "<center> DATA 558 </center>\n",
    "<center> May 17, 2019 </center>"
   ]
  },
  {
   "cell_type": "code",
   "execution_count": 2,
   "metadata": {},
   "outputs": [],
   "source": [
    "# imports\n",
    "import numpy as np\n",
    "import pandas as pd\n",
    "from sklearn.decomposition import PCA\n",
    "import os\n",
    "from sklearn import preprocessing\n",
    "from sklearn.model_selection import GridSearchCV\n",
    "import matplotlib.pyplot as plt\n",
    "from sklearn.linear_model import LogisticRegression\n",
    "from sklearn.model_selection import train_test_split\n",
    "from scipy.linalg import eigh\n",
    "from IPython.display import Image\n",
    "from numpy.linalg import inv\n",
    "import random\n",
    "import warnings\n",
    "warnings.filterwarnings('ignore')"
   ]
  },
  {
   "cell_type": "markdown",
   "metadata": {},
   "source": [
    "### Exercise 1"
   ]
  },
  {
   "cell_type": "markdown",
   "metadata": {},
   "source": [
    "**In this exercise, you will implement in Python a first version of your own coordinate descent algorithm to solve the LASSO problem, that is the $l_1$-regularized least-squares regression problem.**  \n",
    "\n",
    "**Recall from the lectures that the LASSO problem writes as**:  \n",
    "$min F(\\beta) := \\frac {1}{n} \\sum_{i=1}^{n} (y_i - x_i^T \\beta)^2 + \\lambda ||\\beta||_1$  \n",
    "\n",
    "#### Coordinate Descent  \n",
    "\n",
    "**The coordinate descent algorithm is outlined in Algorithm 1. The algorithm requires a subroutine that performs the partial minimization of the objective for any coordinate $\\beta_j$.**"
   ]
  },
  {
   "cell_type": "markdown",
   "metadata": {},
   "source": [
    "**Assume that d = 1 and n = 1. The sample is then of size 1 and boils down to just $(x, y)$; the learning parameter β is then a scalar. The function F writes simply as**  \n",
    "$F(\\beta) = (y - x\\beta)^2 + \\lambda |\\beta|$.  \n",
    "**The solution to the minimization problem $min F(\\beta)$ is given in Slide 71 of the Week 5 Lecture. Write a function that computes the formula\n",
    "of the solution of this minimization problem.**"
   ]
  },
  {
   "cell_type": "markdown",
   "metadata": {},
   "source": [
    "Coordinate minimization for lasso with n = 1 and d = 1:  \n",
    "\n",
    "$\\beta_j = argmin (y - x\\beta)^2 + \\lambda |\\beta|$  \n",
    "\n",
    "The derivative of this then gives us:  \n",
    "$\\beta_j = -2x(y - x\\beta) +- \\lambda$\n",
    "\n",
    "With the following cases:  \n",
    "$\\begin{equation}\n",
    "\\beta_j (c_j) = \\begin{cases}\n",
    "    +1 \\text{    if    } \\beta_j > 0 \\\\  \n",
    "    -1 \\text{    if    } \\beta_j < 0 \\\\  \n",
    "    [-1, 1] \\text{    if    } \\beta_j = 0  \n",
    "    \\end{cases}\n",
    "\\end{equation}$"
   ]
  },
  {
   "cell_type": "code",
   "execution_count": 29,
   "metadata": {},
   "outputs": [],
   "source": [
    "def minimizeBetaSimpleCase(x, y, lamb, beta):\n",
    "    firstTerm = -2 * x *(y - x * beta)\n",
    "    # should this be the derivative??????????\n",
    "    if (beta > 0):\n",
    "        return firstTerm + lamb\n",
    "    elif (beta < 0):\n",
    "        return firstTerm - lamb\n",
    "    else:\n",
    "        # randomly pick -1 or 1\n",
    "        sign = random.randint(0, 1)\n",
    "        if (sign == 1):\n",
    "            return firstTerm + lamb\n",
    "        else:\n",
    "            return firstTerm - lamb\n",
    "    \n",
    "#minimizeBetaSimpleCase(np.array((3, 2)), 1, .1, 3)"
   ]
  },
  {
   "cell_type": "markdown",
   "metadata": {},
   "source": [
    "**Assume now that d > 1 and n > 1. The full minimization problem now writes as**  \n",
    "  \n",
    "$F(\\beta) := \\frac {1}{n} \\sum_{i=1}^{n} (y_i - x_i^T \\beta)^2 + \\lambda ||\\beta||_1$  \n",
    "\n",
    "**Coordinate descent proceeds by sequential partial minimization with respect to each coordinate βj, that by solving partial minimization problems of form**  \n",
    "  \n",
    "$min \\frac{1}{n} \\sum_{i=1}^{n} (y_i - ({\\beta_1x_{i,1} + ... + \\beta_jx_{i,j} + ... + \\beta_dx_{i,d}}))^2 + \\lambda (|\\beta_1| + ... + |\\beta_j| + ... + |\\beta_d|)$   \n",
    "\n",
    "**Write a function that computes the formula of the solution of this partial minimization problem with respect to $\\beta_j$ for any j = 1, . . . , d.**"
   ]
  },
  {
   "cell_type": "markdown",
   "metadata": {},
   "source": [
    "Coordinate minimization for lasso with n > 1 and d > 1:  \n",
    "\n",
    "$\\beta_j = argmin \\frac {1}{n} \\sum_{i=1}^{n} (\\beta^T x_i - y_i)^2 + \\lambda ||\\beta||_1$  \n",
    "\n",
    "Then:  \n",
    "$\\begin{equation}\n",
    "\\beta_j (c_j) = \\begin{cases}\n",
    "    \\frac{c_j + \\lambda}{a_j} \\text{    if    } c_j < -\\lambda \\\\  \n",
    "    0 \\text{    if    } c_j \\in [\\lambda, -\\lambda] \\\\  \n",
    "    \\frac{c_j - \\lambda}{a_j} \\text{    if    } c_j > \\lambda   \n",
    "    \\end{cases}\n",
    "\\end{equation}$\n",
    "\n",
    "Where:  \n",
    "$a_j = \\frac{2}{n} \\sum_{i=1}^{n} x_{i,j}^2$  \n",
    "$c_j = \\frac{2}{n} \\sum_{i=1}^{n} x_{i,j} (y_i - \\beta^T_{-j} x_{i,-j}$  \n",
    "and $\\beta_{-j}$ is $\\beta$ without component $j$ and similarly for $x_{i,-j}$\n"
   ]
  },
  {
   "cell_type": "code",
   "execution_count": 30,
   "metadata": {},
   "outputs": [],
   "source": [
    "def minimizeBeta(X, y, jIndex, lamb, betas):\n",
    "    betaJ = betas[jIndex]\n",
    "    xJ = X[jIndex]\n",
    "    betasMinusJ = np.delete(betas, jIndex)\n",
    "    aj = 0\n",
    "    cj = 0\n",
    "    n = len(X)\n",
    "    for i in range(0, n):\n",
    "        xi = X[i, :]\n",
    "        xIMinusJ = np.delete(xi, jIndex)     \n",
    "        aj += (X[i, jIndex])**2\n",
    "        cj += (X[i, jIndex])*(y[i] - betasMinusJ.T.dot(xIMinusJ))\n",
    "    aj = (2/n) * aj\n",
    "    cj = (2/n) * cj\n",
    "    if (cj < -lamb):\n",
    "        return ((cj + lamb)/ aj)\n",
    "    elif (cj > lamb):\n",
    "        return ((cj - lamb)/ aj)\n",
    "    else:\n",
    "        return 0"
   ]
  },
  {
   "cell_type": "markdown",
   "metadata": {},
   "source": [
    "**Consider the `Hitters` dataset from [1].  Standardize\n",
    "the data, i.e., center the features and divide them by their standard deviation, and center the outputs. For any categorical variables you should first convert them to indicator variables and then perform the standardization.**"
   ]
  },
  {
   "cell_type": "code",
   "execution_count": 31,
   "metadata": {},
   "outputs": [
    {
     "data": {
      "text/html": [
       "<div>\n",
       "<style scoped>\n",
       "    .dataframe tbody tr th:only-of-type {\n",
       "        vertical-align: middle;\n",
       "    }\n",
       "\n",
       "    .dataframe tbody tr th {\n",
       "        vertical-align: top;\n",
       "    }\n",
       "\n",
       "    .dataframe thead th {\n",
       "        text-align: right;\n",
       "    }\n",
       "</style>\n",
       "<table border=\"1\" class=\"dataframe\">\n",
       "  <thead>\n",
       "    <tr style=\"text-align: right;\">\n",
       "      <th></th>\n",
       "      <th>AtBat</th>\n",
       "      <th>Hits</th>\n",
       "      <th>HmRun</th>\n",
       "      <th>Runs</th>\n",
       "      <th>RBI</th>\n",
       "      <th>Walks</th>\n",
       "      <th>Years</th>\n",
       "      <th>CAtBat</th>\n",
       "      <th>CHits</th>\n",
       "      <th>CHmRun</th>\n",
       "      <th>...</th>\n",
       "      <th>PutOuts</th>\n",
       "      <th>Assists</th>\n",
       "      <th>Errors</th>\n",
       "      <th>Salary</th>\n",
       "      <th>League_A</th>\n",
       "      <th>League_N</th>\n",
       "      <th>Division_E</th>\n",
       "      <th>Division_W</th>\n",
       "      <th>NewLeague_A</th>\n",
       "      <th>NewLeague_N</th>\n",
       "    </tr>\n",
       "  </thead>\n",
       "  <tbody>\n",
       "    <tr>\n",
       "      <th>1</th>\n",
       "      <td>315</td>\n",
       "      <td>81</td>\n",
       "      <td>7</td>\n",
       "      <td>24</td>\n",
       "      <td>38</td>\n",
       "      <td>39</td>\n",
       "      <td>14</td>\n",
       "      <td>3449</td>\n",
       "      <td>835</td>\n",
       "      <td>69</td>\n",
       "      <td>...</td>\n",
       "      <td>632</td>\n",
       "      <td>43</td>\n",
       "      <td>10</td>\n",
       "      <td>475.0</td>\n",
       "      <td>0</td>\n",
       "      <td>1</td>\n",
       "      <td>0</td>\n",
       "      <td>1</td>\n",
       "      <td>0</td>\n",
       "      <td>1</td>\n",
       "    </tr>\n",
       "    <tr>\n",
       "      <th>2</th>\n",
       "      <td>479</td>\n",
       "      <td>130</td>\n",
       "      <td>18</td>\n",
       "      <td>66</td>\n",
       "      <td>72</td>\n",
       "      <td>76</td>\n",
       "      <td>3</td>\n",
       "      <td>1624</td>\n",
       "      <td>457</td>\n",
       "      <td>63</td>\n",
       "      <td>...</td>\n",
       "      <td>880</td>\n",
       "      <td>82</td>\n",
       "      <td>14</td>\n",
       "      <td>480.0</td>\n",
       "      <td>1</td>\n",
       "      <td>0</td>\n",
       "      <td>0</td>\n",
       "      <td>1</td>\n",
       "      <td>1</td>\n",
       "      <td>0</td>\n",
       "    </tr>\n",
       "    <tr>\n",
       "      <th>3</th>\n",
       "      <td>496</td>\n",
       "      <td>141</td>\n",
       "      <td>20</td>\n",
       "      <td>65</td>\n",
       "      <td>78</td>\n",
       "      <td>37</td>\n",
       "      <td>11</td>\n",
       "      <td>5628</td>\n",
       "      <td>1575</td>\n",
       "      <td>225</td>\n",
       "      <td>...</td>\n",
       "      <td>200</td>\n",
       "      <td>11</td>\n",
       "      <td>3</td>\n",
       "      <td>500.0</td>\n",
       "      <td>0</td>\n",
       "      <td>1</td>\n",
       "      <td>1</td>\n",
       "      <td>0</td>\n",
       "      <td>0</td>\n",
       "      <td>1</td>\n",
       "    </tr>\n",
       "    <tr>\n",
       "      <th>4</th>\n",
       "      <td>321</td>\n",
       "      <td>87</td>\n",
       "      <td>10</td>\n",
       "      <td>39</td>\n",
       "      <td>42</td>\n",
       "      <td>30</td>\n",
       "      <td>2</td>\n",
       "      <td>396</td>\n",
       "      <td>101</td>\n",
       "      <td>12</td>\n",
       "      <td>...</td>\n",
       "      <td>805</td>\n",
       "      <td>40</td>\n",
       "      <td>4</td>\n",
       "      <td>91.5</td>\n",
       "      <td>0</td>\n",
       "      <td>1</td>\n",
       "      <td>1</td>\n",
       "      <td>0</td>\n",
       "      <td>0</td>\n",
       "      <td>1</td>\n",
       "    </tr>\n",
       "    <tr>\n",
       "      <th>5</th>\n",
       "      <td>594</td>\n",
       "      <td>169</td>\n",
       "      <td>4</td>\n",
       "      <td>74</td>\n",
       "      <td>51</td>\n",
       "      <td>35</td>\n",
       "      <td>11</td>\n",
       "      <td>4408</td>\n",
       "      <td>1133</td>\n",
       "      <td>19</td>\n",
       "      <td>...</td>\n",
       "      <td>282</td>\n",
       "      <td>421</td>\n",
       "      <td>25</td>\n",
       "      <td>750.0</td>\n",
       "      <td>1</td>\n",
       "      <td>0</td>\n",
       "      <td>0</td>\n",
       "      <td>1</td>\n",
       "      <td>1</td>\n",
       "      <td>0</td>\n",
       "    </tr>\n",
       "  </tbody>\n",
       "</table>\n",
       "<p>5 rows × 23 columns</p>\n",
       "</div>"
      ],
      "text/plain": [
       "   AtBat  Hits  HmRun  Runs  RBI  Walks  Years  CAtBat  CHits  CHmRun  ...  \\\n",
       "1    315    81      7    24   38     39     14    3449    835      69  ...   \n",
       "2    479   130     18    66   72     76      3    1624    457      63  ...   \n",
       "3    496   141     20    65   78     37     11    5628   1575     225  ...   \n",
       "4    321    87     10    39   42     30      2     396    101      12  ...   \n",
       "5    594   169      4    74   51     35     11    4408   1133      19  ...   \n",
       "\n",
       "   PutOuts  Assists  Errors  Salary  League_A  League_N  Division_E  \\\n",
       "1      632       43      10   475.0         0         1           0   \n",
       "2      880       82      14   480.0         1         0           0   \n",
       "3      200       11       3   500.0         0         1           1   \n",
       "4      805       40       4    91.5         0         1           1   \n",
       "5      282      421      25   750.0         1         0           0   \n",
       "\n",
       "   Division_W  NewLeague_A  NewLeague_N  \n",
       "1           1            0            1  \n",
       "2           1            1            0  \n",
       "3           0            0            1  \n",
       "4           0            0            1  \n",
       "5           1            1            0  \n",
       "\n",
       "[5 rows x 23 columns]"
      ]
     },
     "execution_count": 31,
     "metadata": {},
     "output_type": "execute_result"
    }
   ],
   "source": [
    "# read in Hitters data\n",
    "hitters = pd.read_csv(\"https://raw.githubusercontent.com/selva86/datasets/master/Hitters.csv\", sep=\",\", header=0)\n",
    "hitters = hitters.dropna()\n",
    "\n",
    "# Categorical Variables = League, Division, and NewLeague\n",
    "dataTypes = hitters.dtypes\n",
    "\n",
    "# Converts categorical data columns to indicator variables\n",
    "hitters = pd.get_dummies(hitters, columns=[\"League\", \"Division\", \"NewLeague\"], prefix = [\"League\", \"Division\", \"NewLeague\"])\n",
    "hitters.head()"
   ]
  },
  {
   "cell_type": "code",
   "execution_count": 32,
   "metadata": {},
   "outputs": [],
   "source": [
    "# seperate X and y\n",
    "X = hitters.drop(\"Salary\", axis=1)\n",
    "#X = pd.get_dummies(X, drop_first=True)\n",
    "y = hitters[\"Salary\"]\n",
    "\n",
    "# Divide the data into training and test sets. By default, 25% goes into the test set.\n",
    "X_train, X_test, y_train, y_test = train_test_split(X, y, random_state=0)"
   ]
  },
  {
   "cell_type": "code",
   "execution_count": 33,
   "metadata": {},
   "outputs": [
    {
     "name": "stdout",
     "output_type": "stream",
     "text": [
      "Shape of X_train:  (197, 22)\n",
      "Shape of X_test:  (66, 22)\n",
      "Shape of y_train:  (197, 1)\n",
      "Shape of y_test:  (66, 1)\n"
     ]
    }
   ],
   "source": [
    "#converting data into arrays\n",
    "X_train = np.array(X_train)\n",
    "X_test = np.array(X_test)\n",
    "y_train = np.array(y_train).reshape(197, 1)\n",
    "y_test = np.array(y_test).reshape(66, 1)\n",
    "\n",
    "# standardizing X by subtracting the mean of the predictors and dividing by their standard deviation\n",
    "scaler = preprocessing.StandardScaler().fit(X_train)\n",
    "X_train = scaler.transform(X_train)\n",
    "X_test = scaler.transform(X_test)\n",
    "\n",
    "# standardizing Y by subtracting the mean of the predictors and dividing by their standard deviation\n",
    "scaler = preprocessing.StandardScaler().fit(y_train)\n",
    "y_train = scaler.transform(y_train)\n",
    "y_test = scaler.transform(y_test)\n",
    "\n",
    "print(\"Shape of X_train: \", X_train.shape)\n",
    "print(\"Shape of X_test: \", X_test.shape)\n",
    "print(\"Shape of y_train: \", y_train.shape)\n",
    "print(\"Shape of y_test: \", y_test.shape)"
   ]
  },
  {
   "cell_type": "markdown",
   "metadata": {},
   "source": [
    "**Write a function *computeobj* that computes and returns $F(\\beta)$ for any $\\beta$**"
   ]
  },
  {
   "cell_type": "code",
   "execution_count": 34,
   "metadata": {},
   "outputs": [],
   "source": [
    "def computeobj(X, y, beta, lamb):\n",
    "    \"\"\"\n",
    "    Computes the objective for the l1-regularized least-squares regression problem\n",
    "    Inputs:\n",
    "        - X: matrix of X values\n",
    "        - y: vector of associated outcomes\n",
    "        - beta: vector of beta constants\n",
    "        - lambda: scalar multiplicative factor for regularization penalty\n",
    "    Outputs:\n",
    "        - objective for passed in parameters\n",
    "    \"\"\"\n",
    "    n = len(X)\n",
    "    summation = 0\n",
    "    for i in range(0, n):\n",
    "        xi = X[i,:]\n",
    "        yi = y[i]\n",
    "        iTerm = (yi - xi.T.dot(beta))**2\n",
    "        summation = summation + iTerm\n",
    "    return (((1/n) * summation) + lamb * np.linalg.norm(beta, ord=1))"
   ]
  },
  {
   "cell_type": "markdown",
   "metadata": {},
   "source": [
    "**Write a function *cycliccoorddescent* that implements the *cyclic coordinate descent* algorithm. The cyclic coordinate descent algorithm proceeds sequentially. At each iteration, the algorithm increments the index $j_t$ of the coordinate to minimize over. Then the algorithm performs partial minimization with respect to the coordinate $\\beta_{jt}$ corresponding to that index. After updating the coordinate $\\beta_{jt}$, the algorithm proceeds to the next iteration. The function takes as input the initial point and the maximum number of iterations. The stopping criterion is the maximum number of iterations.**"
   ]
  },
  {
   "cell_type": "code",
   "execution_count": 35,
   "metadata": {},
   "outputs": [],
   "source": [
    "def cycliccoorddescent(X, y, beta, lamb, maxIter):\n",
    "    \"\"\"\n",
    "    \"\"\"\n",
    "    objs = [computeobj(X, y, beta, lamb)]\n",
    "    betas = [beta]\n",
    "    t = 0\n",
    "    while (t < maxIter):\n",
    "        for j in range(0, X.shape[1]):\n",
    "            beta[j] = minimizeBeta(X, y, j, lamb, beta)\n",
    "            betas.append(beta) # saves current beta values\n",
    "            obj = computeobj(X, y, beta, lamb)\n",
    "            objs.append(obj) # saves current objective value\n",
    "            t += 1\n",
    "    return np.array(betas), np.array(objs)"
   ]
  },
  {
   "cell_type": "markdown",
   "metadata": {},
   "source": [
    "**Write a function *pickcoord* that samples uniformly from the set {1, . . . , d}.**"
   ]
  },
  {
   "cell_type": "code",
   "execution_count": 36,
   "metadata": {},
   "outputs": [],
   "source": [
    "def pickcoord(d):\n",
    "    \"\"\"\n",
    "    Uniformly selects a value from the set {1, ..., d}\n",
    "    Inputs:\n",
    "        - d: the maximum value to uniformly select from\n",
    "    Outputs:\n",
    "        - a random integer between 1 and d\n",
    "    \"\"\"\n",
    "    return random.randint(1, d)"
   ]
  },
  {
   "cell_type": "markdown",
   "metadata": {},
   "source": [
    "**Write a function *randcoorddescent* that implements the *randomized coordinate descent* algorithm. The randomized coordinate descent algorithm proceeds as follows. At each iteration, the algorithm samples the index $j_t$ of the coordinate to minimize over. Then the algorithm performs partial minimization with respect to the coordinate $\\beta_{jt}$ corresponding to that index. After updating the coordinate $\\beta_{jt}$, the algorithm proceeds to the next iteration. The function takes as input the initial point and the maximum number of iterations. The stopping criterion is the maximum number of iterations.**"
   ]
  },
  {
   "cell_type": "code",
   "execution_count": 37,
   "metadata": {},
   "outputs": [],
   "source": [
    "def randcoorddescent(X, y, beta, lamb, maxIter):\n",
    "    \"\"\"\n",
    "    \"\"\"\n",
    "    objs = [computeobj(X, y, beta, lamb)]\n",
    "    betas = [beta]\n",
    "    t = 0\n",
    "    while (t < maxIter):\n",
    "        j = pickcoord(X.shape[1]) - 1 # subtract one to scale for 0-based indexing\n",
    "        beta[j] = minimizeBeta(X, y, j, lamb, beta)\n",
    "        betas.append(beta) # saves current beta values\n",
    "        obj = computeobj(X, y, beta, lamb)\n",
    "        objs.append(obj) # saves current objective value\n",
    "        t += 1\n",
    "    return np.array(betas), np.array(objs)"
   ]
  },
  {
   "cell_type": "markdown",
   "metadata": {},
   "source": [
    "**Set the maximum number of iterations to 1000. In the remainder, the iteration counter iter refers here to $\\frac{t}{d}$, that is the effective number of passes over all coordinates. Run cross-validation on the training set of the `Hitters` dataset using scikit-learn to find the optimal value of λ. Run *cycliccoorddescent* and *randcoorddescent* on the training set of the Hitters dataset for that value of λ found by cross-validation. Plot the curves of the objective values $F(\\beta_t)$ for both algorithms versus the iteration counter iter (use different colors). What do you observe?**"
   ]
  },
  {
   "cell_type": "code",
   "execution_count": 50,
   "metadata": {},
   "outputs": [
    {
     "data": {
      "text/plain": [
       "{'cv': 5,\n",
       " 'error_score': 'raise-deprecating',\n",
       " 'estimator__alpha': 1.2,\n",
       " 'estimator__copy_X': True,\n",
       " 'estimator__fit_intercept': True,\n",
       " 'estimator__max_iter': 1000,\n",
       " 'estimator__normalize': False,\n",
       " 'estimator__positive': False,\n",
       " 'estimator__precompute': False,\n",
       " 'estimator__random_state': 0,\n",
       " 'estimator__selection': 'cyclic',\n",
       " 'estimator__tol': 0.0001,\n",
       " 'estimator__warm_start': False,\n",
       " 'estimator': Lasso(alpha=1.2, copy_X=True, fit_intercept=True, max_iter=1000,\n",
       "    normalize=False, positive=False, precompute=False, random_state=0,\n",
       "    selection='cyclic', tol=0.0001, warm_start=False),\n",
       " 'fit_params': None,\n",
       " 'iid': 'warn',\n",
       " 'n_jobs': None,\n",
       " 'param_grid': {'alpha': [0.001,\n",
       "   0.05,\n",
       "   0.01,\n",
       "   0.5,\n",
       "   0.1,\n",
       "   0.5,\n",
       "   1,\n",
       "   5,\n",
       "   10,\n",
       "   50,\n",
       "   100,\n",
       "   500,\n",
       "   1000]},\n",
       " 'pre_dispatch': '2*n_jobs',\n",
       " 'refit': True,\n",
       " 'return_train_score': 'warn',\n",
       " 'scoring': None,\n",
       " 'verbose': 0}"
      ]
     },
     "execution_count": 50,
     "metadata": {},
     "output_type": "execute_result"
    }
   ],
   "source": [
    "from sklearn.linear_model import LassoCV\n",
    "from sklearn.linear_model import Lasso\n",
    "from sklearn.model_selection import GridSearchCV\n",
    "\n",
    "\n",
    "lasso = Lasso(alpha = 1.2, random_state=0, max_iter=1000)\n",
    "lasso.fit(X_train, y_train)\n",
    "param_grid = {'alpha': [0.001, 0.05, 0.01, .5, 0.1, .5, 1, 5, 10, 50, 100, 500, 1000] }\n",
    "clf = GridSearchCV(lasso, param_grid, cv=5, refit=True)\n",
    "newLamb = clf.fit(X_train, y_train).get_params()\n",
    "newLamb"
   ]
  },
  {
   "cell_type": "code",
   "execution_count": 54,
   "metadata": {},
   "outputs": [],
   "source": [
    "# set constants\n",
    "lamb = .01 # figure this out!!!!!\n",
    "maxIter = 1000\n",
    "\n",
    "cyclicBetas, cyclicObjs = cycliccoorddescent(X_train, y_train, np.zeros((X.shape[1], 1)), lamb, maxIter)\n",
    "randBetas, randObjs = randcoorddescent(X_train, y_train, np.zeros((X.shape[1], 1)), lamb, maxIter)"
   ]
  },
  {
   "cell_type": "code",
   "execution_count": 55,
   "metadata": {},
   "outputs": [
    {
     "data": {
      "image/png": "[encoded data removed]",
      "text/plain": [
       "<Figure size 432x288 with 1 Axes>"
      ]
     },
     "metadata": {
      "needs_background": "light"
     },
     "output_type": "display_data"
    }
   ],
   "source": [
    "# plot objective values to verify they are decreasing properly\n",
    "plt.plot(cyclicObjs, color = \"purple\")\n",
    "plt.plot(randObjs, color = \"red\")\n",
    "plt.ylabel(\"Objective values\")\n",
    "plt.xlabel(\"Iterations\")\n",
    "plt.legend([\"Cyclic Descent\", \"Random Descent\"])\n",
    "plt.title(\"Objective Value vs Iteration Counter\")\n",
    "plt.show()"
   ]
  },
  {
   "cell_type": "markdown",
   "metadata": {},
   "source": [
    "TALK ABOUT THIS!!!"
   ]
  },
  {
   "cell_type": "markdown",
   "metadata": {},
   "source": [
    "**Denote by $\\beta_T$ the final iterates of your coordinate descent algorithms for that value of λ. Compute $\\beta^*$ found by *scikit-learn* for that value of λ. Plot the curves of the fraction of correct non-zero coefficients (with respect to $\\beta^*$) for both algorithms versus the iteration counter iter (use different colors). What do you observe? Plot the curves of the fraction of correct zero coefficients for both algorithms (with respect to $\\beta^*$) versus the iteration counter `iter` (use different colors). What do you observe?**"
   ]
  },
  {
   "cell_type": "code",
   "execution_count": 93,
   "metadata": {},
   "outputs": [],
   "source": [
    "# ThiS IS WRONG FIX THIS!!!!!!!!!\n",
    "def fractionNonZero(betas):\n",
    "    fractionNonZero = []\n",
    "    for beta in betas:\n",
    "        count = len(beta)\n",
    "        for val in beta:\n",
    "            if(val == 0):\n",
    "                count -= 1\n",
    "        fractionNonZero.append(count / len(beta))\n",
    "    return fractionNonZero"
   ]
  },
  {
   "cell_type": "code",
   "execution_count": 94,
   "metadata": {},
   "outputs": [],
   "source": [
    "randFractionNonZero = fractionNonZero(randBetas)\n",
    "cyclicFractionNonZero = fractionNonZero(cyclicBetas)"
   ]
  },
  {
   "cell_type": "code",
   "execution_count": 96,
   "metadata": {},
   "outputs": [
    {
     "data": {
      "image/png": "[encoded data removed]",
      "text/plain": [
       "<Figure size 432x288 with 1 Axes>"
      ]
     },
     "metadata": {
      "needs_background": "light"
     },
     "output_type": "display_data"
    }
   ],
   "source": [
    "# plot fraction of non-0 betas per iteration\n",
    "plt.plot(cyclicFractionNonZero, color = \"purple\")\n",
    "plt.plot(randFractionNonZero, color = \"red\")\n",
    "plt.ylabel(\"F\")\n",
    "plt.xlabel(\"Iterations\")\n",
    "plt.legend([\"Cyclic Descent\", \"Random Descent\"])\n",
    "plt.title(\"Objective Value vs Iteration Counter\")\n",
    "plt.show()"
   ]
  },
  {
   "cell_type": "markdown",
   "metadata": {},
   "source": [
    "### Exercise 2"
   ]
  },
  {
   "cell_type": "markdown",
   "metadata": {},
   "source": [
    "**In this problem you will generate simulated data and then perform PCA on the data. You will use your own normalized Oja algorithm for PCA. Note that “first two principal component score vectors” refers to the results from projecting the original data to a two-dimensional space with PCA.**"
   ]
  },
  {
   "cell_type": "markdown",
   "metadata": {},
   "source": [
    "**(a) Generate a simulated data set with 30 observations in each of three classes (i.e. 90 observations total), and 60 features. Hint: There are a number of functions in numpy that you can use to generate data. One example is the `numpy.random.normal()` function; `numpy.random.uniform()` is another option. Be sure to add a mean shift to the observations in each class so that there are three distinct classes.**"
   ]
  },
  {
   "cell_type": "code",
   "execution_count": 62,
   "metadata": {},
   "outputs": [],
   "source": [
    "# generate random samples\n",
    "x1 = np.random.normal(loc=10.0, scale=5.0, size=[30, 60])\n",
    "x2 = np.random.normal(loc=20.0, scale=5.0, size=[30, 60])\n",
    "x3 = np.random.normal(loc=-10.0, scale=5.0, size=[30, 60])\n",
    "\n",
    "X = np.vstack((x1, x2, x3))"
   ]
  },
  {
   "cell_type": "markdown",
   "metadata": {},
   "source": [
    "**(b) Run *your own normalized Oja algorithm* on the 90 observations. This algorithm was discussed in the week 8 lecture. Plot the first two principal component score vectors. Compare your results to the ones obtained with scikit-learn’s PCA algorithm. Use a different color to indicate the observations in each of the three classes. If the three\n",
    "classes appear separated in this plot, then you’re done. If not, then return to part (a) and modify the simulation so that there is greater separation between the three classes.**"
   ]
  },
  {
   "cell_type": "code",
   "execution_count": null,
   "metadata": {},
   "outputs": [],
   "source": [
    "def oja(X, eta):\n",
    "    eigenVals, eigenVectors = np.linalg.eig(X)\n",
    "    # standardize??\n",
    "    # pick randomly eigenvector w^(0) so that ||w^(0)||_2 = 1\n",
    "    #Iterate:\n",
    "        # Update w^t+1 = w^t + eta * x_t * x_t^T*w^T\n",
    "        # Normalize file:///C:/Users/wwtar/Downloads/data558_s19_week7.pdf pg 69"
   ]
  },
  {
   "cell_type": "code",
   "execution_count": null,
   "metadata": {},
   "outputs": [],
   "source": [
    "# calculate first two principal component score vectors with Oja\n"
   ]
  },
  {
   "cell_type": "code",
   "execution_count": null,
   "metadata": {},
   "outputs": [],
   "source": [
    "# plot Oja algorithm first two principal components\n"
   ]
  },
  {
   "cell_type": "code",
   "execution_count": 63,
   "metadata": {},
   "outputs": [
    {
     "data": {
      "text/plain": [
       "PCA(copy=True, iterated_power='auto', n_components=60, random_state=None,\n",
       "  svd_solver='auto', tol=0.0, whiten=False)"
      ]
     },
     "execution_count": 63,
     "metadata": {},
     "output_type": "execute_result"
    }
   ],
   "source": [
    "# scikit learn PCA to get components\n",
    "pca = PCA(n_components=60)\n",
    "pca.fit(X)"
   ]
  },
  {
   "cell_type": "code",
   "execution_count": 64,
   "metadata": {},
   "outputs": [
    {
     "data": {
      "image/png": "[encoded data removed]",
      "text/plain": [
       "<Figure size 432x288 with 1 Axes>"
      ]
     },
     "metadata": {
      "needs_background": "light"
     },
     "output_type": "display_data"
    }
   ],
   "source": [
    "# add scikit learn PCA to plot\n",
    "pcaProj1 = -pca.components_[0].T.dot(X.T)\n",
    "pcaProj2 = -pca.components_[1].T.dot(X.T)\n",
    "\n",
    "plt.plot(pcaProj1[0:30], pcaProj2[0:30], 'o', color=\"purple\")\n",
    "plt.plot(pcaProj1[30:60], pcaProj2[30:60], 'o', color=\"teal\")\n",
    "plt.plot(pcaProj1[60:90], pcaProj2[60:90], 'o', color=\"magenta\")\n",
    "\n",
    "plt.xlabel(\"First Principal Component\")\n",
    "plt.ylabel(\"Second Principal Component\")\n",
    "plt.legend([\"Mean 10 Samples\", \"Mean 20 Samples\", \"Mean -10 Samples\"])\n",
    "plt.title(\"First two principal component score vectors from scikit learn\")\n",
    "plt.show()"
   ]
  },
  {
   "cell_type": "markdown",
   "metadata": {},
   "source": [
    "TALK ABOUT ThiS"
   ]
  },
  {
   "cell_type": "markdown",
   "metadata": {},
   "source": [
    "### Exercise 3"
   ]
  },
  {
   "cell_type": "markdown",
   "metadata": {},
   "source": [
    "**In this exercise, we will generate simulated data, and will then use this data to fit a lasso model. You should use Scikit-learn in this exercise for fitting the lasso model and performing cross-validation.**"
   ]
  },
  {
   "cell_type": "markdown",
   "metadata": {},
   "source": [
    "**(a) Use the `numpy.random.normal()` function to generate a predictor X of length n = 100, as well as a noise vector $\\epsilon$ of length n = 100.**"
   ]
  },
  {
   "cell_type": "code",
   "execution_count": 52,
   "metadata": {},
   "outputs": [],
   "source": [
    "# generate X values\n",
    "X = np.random.normal(loc=0, scale=1, size=[100, 1])\n",
    "\n",
    "# generate noise vector\n",
    "epsilon = np.random.normal(loc=0, scale=1, size=[100, 1])"
   ]
  },
  {
   "cell_type": "markdown",
   "metadata": {},
   "source": [
    "**(b) Generate a response vector Y of length n = 100 according to the model  \n",
    "$Y = \\beta_0 + \\beta_1 X + \\beta_2 X^2 + \\beta_3 X^3 + \\epsilon$  \n",
    "where $\\beta_0$, $\\beta_1$, $\\beta_2$, and $\\beta_3$ are constants of your choice. Here superscripts denote powers of X.**"
   ]
  },
  {
   "cell_type": "code",
   "execution_count": 53,
   "metadata": {},
   "outputs": [
    {
     "name": "stdout",
     "output_type": "stream",
     "text": [
      "Shape of response vector y:  (100, 1)\n"
     ]
    }
   ],
   "source": [
    "# choose values for constants\n",
    "beta0 = 0.17\n",
    "beta1 = 0.63\n",
    "beta2 = -0.95\n",
    "beta3 = -.33\n",
    "\n",
    "# fit lasso modal\n",
    "Y = beta0 + beta1 * X + beta2 * (X**2) + beta3 * (X**3) + epsilon\n",
    "\n",
    "print(\"Shape of response vector y: \", Y.shape)"
   ]
  },
  {
   "cell_type": "markdown",
   "metadata": {},
   "source": [
    "**(c) Now fit a lasso model to the simulated data, using $X$, $X^2$, ..., $X^{10}$ as predictors. Use cross-validation to select the optimal value of λ. Create plots of the cross-validation error as a function of λ. Report the resulting coefficient estimates, and discuss the results obtained.**"
   ]
  },
  {
   "cell_type": "code",
   "execution_count": 60,
   "metadata": {},
   "outputs": [
    {
     "data": {
      "text/plain": [
       "array([-0.])"
      ]
     },
     "execution_count": 60,
     "metadata": {},
     "output_type": "execute_result"
    }
   ],
   "source": [
    "from sklearn import linear_model\n",
    "clf = linear_model.Lasso(alpha = 0.1, fit_intercept = True, max_iter=1000)\n",
    "clf.fit(X, Y)\n",
    "\n",
    "clf.coef_"
   ]
  },
  {
   "cell_type": "markdown",
   "metadata": {},
   "source": [
    "**(d) Now generate a response vector Y according to the model  \n",
    "$Y = \\beta_0 + \\beta_7 X^7 + \\epsilon$  \n",
    "and fit a lasso model. Discuss the results obtained.**"
   ]
  },
  {
   "cell_type": "code",
   "execution_count": null,
   "metadata": {},
   "outputs": [],
   "source": []
  },
  {
   "cell_type": "markdown",
   "metadata": {},
   "source": [
    "TALK ABOUT THIS!!!"
   ]
  },
  {
   "cell_type": "markdown",
   "metadata": {},
   "source": [
    "### Exercise 4"
   ]
  },
  {
   "cell_type": "markdown",
   "metadata": {},
   "source": [
    "**Read the announcement “Data Competition 2” on Canvas. Convert each image into a feature vector using the provided extract features.py script. We strongly recommend you perform this task on AWS.**"
   ]
  },
  {
   "cell_type": "markdown",
   "metadata": {},
   "source": [
    "**Pick two classes of your choice from the dataset. Train an $l^2_2$-regularized logistic regression classifier on the training set using your own fast gradient algorithm with λ = 1. Plot, with different colors, the *misclassification error* on the training set and on the validation set vs iterations.**\n"
   ]
  },
  {
   "cell_type": "code",
   "execution_count": 3,
   "metadata": {},
   "outputs": [
    {
     "name": "stdout",
     "output_type": "stream",
     "text": [
      "Number of images in x train: 1200\n",
      "Dimension of features: 4096\n"
     ]
    }
   ],
   "source": [
    "data_dir = \"../Kaggle/data558spring2019-competition2\"\n",
    "\n",
    "x_train_unfiltered = np.load(os.path.join(data_dir, 'train_features.npy'))\n",
    "y_train_unfiltered = np.load(os.path.join(data_dir, 'train_labels.npy'))\n",
    "x_test_unfiltered = np.load(os.path.join(data_dir, 'val_features.npy'))\n",
    "y_test_unfiltered = np.load(os.path.join(data_dir, 'val_labels.npy'))\n",
    "\n",
    "# filter testing data to two classes: 4, 7\n",
    "x_train = np.zeros((1000, x_train_unfiltered.shape[1]))\n",
    "y_train = np.zeros((1000, 1))\n",
    "index = 0\n",
    "for i in range(y_train_unfiltered.shape[0]):\n",
    "    if(y_train_unfiltered[i] == 4 or y_train_unfiltered[i] == 7):\n",
    "        x_train[index, :] = x_train_unfiltered[i].T\n",
    "        y_train[index, :] = y_train_unfiltered[i]\n",
    "        index += 1\n",
    "\n",
    "y_train[y_train == 4] = -1\n",
    "y_train[y_train == 7] = 1\n",
    "\n",
    "# filter testing data to two classes: 4, 7\n",
    "x_test = np.zeros((200, x_test_unfiltered.shape[1]))\n",
    "y_test = np.zeros((200, 1))\n",
    "index = 0\n",
    "for i in range(y_test_unfiltered.shape[0]):\n",
    "    if(y_test_unfiltered[i] == 4 or y_test_unfiltered[i] == 7):\n",
    "        x_test[index, :] = x_test_unfiltered[i].T\n",
    "        y_test[index, :] = y_test_unfiltered[i]\n",
    "        index += 1\n",
    "\n",
    "# reset y data to -1 and 1 to fit machine learning standards\n",
    "y_test[y_test == 4] = -1\n",
    "y_test[y_test == 7] = 1\n",
    "\n",
    "# combine test and validation data for this exercise\n",
    "xTrain = np.vstack((x_test, x_train))\n",
    "yTrain = np.vstack((y_test, y_train))\n",
    "xScaler = preprocessing.StandardScaler()\n",
    "XTrain = xScaler.fit_transform(xTrain)\n",
    "\n",
    "# check dimensions\n",
    "print(\"Number of images in x train:\", xTrain.shape[0])\n",
    "print(\"Dimension of features:\", xTrain.shape[1])"
   ]
  },
  {
   "cell_type": "code",
   "execution_count": 11,
   "metadata": {},
   "outputs": [],
   "source": [
    "def fastgradalgo(X, y, stepSize, targetAccuracy = 0.001, lamb = 0.05):\n",
    "    \"\"\"\n",
    "    Implements fast gradient descent algorithm with backtracking\n",
    "    Inputs:\n",
    "        - X: matrix of X values\n",
    "        - y: vector of associated outcomes\n",
    "        - stepSize: initial step size\n",
    "        - targetAccuracy: target accuracy value for algorithm\n",
    "        - lambda: scalar multiplicative factor for regularization penalty (optional, defaults to 0.05)\n",
    "    Outputs:\n",
    "        - betas: vector of improved betas after final iteration\n",
    "        - objs: vector of objective values for each iteration\n",
    "    \"\"\"\n",
    "    x = X\n",
    "    beta = np.zeros((X.shape[1], 1))\n",
    "    theta = np.zeros((X.shape[1], 1))\n",
    "    objs = [computeobj(x, y, beta, lamb)]\n",
    "    betas = [beta]\n",
    "    grad = computegrad(x, y, theta, lamb)\n",
    "    t = 0  # tracks iterations\n",
    "    while (np.linalg.norm(grad) > targetAccuracy):\n",
    "        stepSize = backtracking(x, y, beta, stepSize)\n",
    "        betaOld = beta\n",
    "        beta = theta - stepSize * computegrad(x, y, theta, lamb)\n",
    "        theta = beta + (t/(t+3))*(beta - betaOld)\n",
    "        betas.append(beta) # saves current beta values\n",
    "        obj = computeobj(x, y, beta, lamb)\n",
    "        objs.append(obj) # saves current objective value\n",
    "        grad = computegrad(x, y, theta, lamb)\n",
    "        t = t + 1\n",
    "    return np.array(betas), np.array(objs)"
   ]
  },
  {
   "cell_type": "code",
   "execution_count": 12,
   "metadata": {},
   "outputs": [],
   "source": [
    "def graddescent(X, y, stepSize, targetAccuracy = 0.001, lamb = 0.05):\n",
    "    \"\"\"\n",
    "    Implements gradient descent algorithm with backtracking\n",
    "    Inputs:\n",
    "        - X: matrix of X values\n",
    "        - y: vector of associated outcomes\n",
    "        - stepSize: initial step size\n",
    "        - targetAccuracy: target accuracy value for algorithm\n",
    "        - lambda: scalar multiplicative factor for regularization penalty (optional, defaults to 0.05)\n",
    "    Outputs:\n",
    "        - betas: vector of improved betas after final iteration\n",
    "        - objs: vector of objective values for each iteration\n",
    "    \"\"\"\n",
    "    x = X\n",
    "    beta = np.zeros((X.shape[1], 1))\n",
    "    objs = [computeobj(x, y, beta, lamb)]\n",
    "    betas = [beta]\n",
    "    grad = computegrad(x, y, beta, lamb)\n",
    "    while (np.linalg.norm(grad) > targetAccuracy):\n",
    "        stepSize = backtracking(x, y, beta, stepSize)\n",
    "        beta = beta - stepSize * grad\n",
    "        betas.append(beta) # saves current beta values\n",
    "        obj = computeobj(x, y, beta, lamb)\n",
    "        objs.append(obj) # saves current objective value\n",
    "        grad = computegrad(x, y, beta, lamb)\n",
    "    return np.array(betas), np.array(objs)"
   ]
  },
  {
   "cell_type": "code",
   "execution_count": 13,
   "metadata": {},
   "outputs": [],
   "source": [
    "def backtracking(X, y, beta, eta, alpha = 0.5, gamma=0.8):\n",
    "    \"\"\"\n",
    "    Implements backtracking rule\n",
    "    Inputs:\n",
    "        - X: matrix of X values\n",
    "        - y: vector of associated outcomes\n",
    "        - beta: vector of beta constants\n",
    "        - eta: initial step size\n",
    "        - alpha: constant used to define sufficinet decrease condition\n",
    "        - gamma: constant to scale step size by until condition met         \n",
    "    Outputs:\n",
    "        - step size\n",
    "    \"\"\"\n",
    "    grad = computegrad(X, y, beta)  # calculates the gradient at current beta\n",
    "    conditionMet = False # tracks when we find the backtracked step size\n",
    "    while not conditionMet:    \n",
    "        if computeobj(X, y, beta - eta*grad) < computeobj(X, y, beta) - alpha*eta*np.linalg.norm(grad)**2:\n",
    "            conditionMet = True\n",
    "        else:\n",
    "            eta = eta * gamma            \n",
    "    return eta"
   ]
  },
  {
   "cell_type": "code",
   "execution_count": 14,
   "metadata": {},
   "outputs": [],
   "source": [
    "def computeobj(X, y, beta, lamb = 0.05):\n",
    "    \"\"\"\n",
    "    Computes the objective for ridge regression problem\n",
    "    Inputs:\n",
    "        - X: matrix of X values\n",
    "        - y: vector of associated outcomes\n",
    "        - beta: vector of beta constants\n",
    "        - lambda: scalar multiplicative factor for regularization penalty (optional, defaults to 0.05)\n",
    "    Outputs:\n",
    "        - objective for passed in parameters\n",
    "    \"\"\"\n",
    "    n = len(X)\n",
    "    summation = 0\n",
    "    for i in range(0, X.shape[0]):\n",
    "        xi = X[i,:]\n",
    "        yi = y[i]\n",
    "        x = -yi*xi.dot(beta)\n",
    "        if(x > 0): # avoids over or under flow errors\n",
    "            a = x + 1\n",
    "            logTerm = a + np.log(np.exp(-a) + np.exp(x-a))\n",
    "        else:\n",
    "            logTerm = np.log(1 + np.exp(x))\n",
    "        summation = summation + logTerm\n",
    "    return ((1/n) * summation + (lamb * np.sum(beta**2)))[0]"
   ]
  },
  {
   "cell_type": "code",
   "execution_count": 15,
   "metadata": {},
   "outputs": [],
   "source": [
    "def computegrad(X, y, beta, lamb = 0.05):\n",
    "    \"\"\"\n",
    "    Computes the gradient for the fast gradient algorithm\n",
    "    Inputs:\n",
    "        - X: matrix of X values\n",
    "        - y: vector of associated outcomes\n",
    "        - beta: vector of beta constants\n",
    "        - lambda: scalar multiplicative factor for regularization penalty (optional, defaults to 0.05)\n",
    "    Outputs:\n",
    "        - vector gradient for passed in parameters\n",
    "    \"\"\"\n",
    "    n = len(X) \n",
    "    P = np.zeros((X.shape[0], X.shape[0]))\n",
    "    for i in range(0, X.shape[0]):\n",
    "        xi = X[i,:]\n",
    "        yi = y[i]\n",
    "        p = ((np.exp(-yi * (xi).dot(beta))) / (1 + (np.exp(-yi * (xi).dot(beta)))))\n",
    "        P[i,i] = p  \n",
    "    return ((-1/n) * X.T.dot(P).dot(y) + 2*lamb*beta)"
   ]
  },
  {
   "cell_type": "code",
   "execution_count": 16,
   "metadata": {},
   "outputs": [],
   "source": [
    "def calcKaggleMisclassificationError(X, y, betas):\n",
    "    \"\"\"\n",
    "    Calculates the misclassification error for a 0-9 response variable\n",
    "    Inputs:\n",
    "        - X: matrix of X values\n",
    "        - y: vector of associated outcomes, 0-9\n",
    "        - betas: coefficients that correspond to X values\n",
    "    Outputs:\n",
    "        - misclassifications: ratio of incorrect values / total values for all betas\n",
    "    \"\"\"\n",
    "    misclassifications = np.zeros((betas.shape[0], 1))\n",
    "    for b in range(betas.shape[0]):\n",
    "        betaVals = betas[b]\n",
    "        incorrect = 0\n",
    "        for i in range(X.shape[0]):\n",
    "            prediction = np.sum(np.dot(X[i], betaVals))\n",
    "            if(prediction > 0):\n",
    "                prediction = 1\n",
    "            else:\n",
    "                prediction = -1\n",
    "            if(prediction != y[i]):\n",
    "                incorrect +=1\n",
    "        misclassifications[b,:] = (incorrect / X.shape[0])\n",
    "    return misclassifications"
   ]
  },
  {
   "cell_type": "code",
   "execution_count": 17,
   "metadata": {},
   "outputs": [],
   "source": [
    "# set constants\n",
    "lamb = 1.0\n",
    "epsilon = 0.03\n",
    "\n",
    "# calculate initial step size for training data\n",
    "n = len(x_train)\n",
    "eq = (1/n * x_train.T.dot(x_train))\n",
    "eigVals = eigh(eq)[0]\n",
    "trainStepSize = 1 / (max(eigVals) + lamb)\n",
    "\n",
    "# run fast gradient algorithm for training data\n",
    "trainBeta, trainObjs = fastgradalgo(x_train, y_train, stepSize = trainStepSize, targetAccuracy = epsilon, lamb = lamb)\n",
    "\n",
    "# calculate initial step size for test data\n",
    "n = len(x_test)\n",
    "eq = (1/n * x_test.T.dot(x_test))\n",
    "eigVals = eigh(eq)[0]\n",
    "valStepSize = 1 / (max(eigVals) + lamb)\n",
    "\n",
    "# run fast gradient algorithm for test data\n",
    "valBeta, valObjs = fastgradalgo(x_test, y_test, stepSize = valStepSize, targetAccuracy = epsilon, lamb = lamb)"
   ]
  },
  {
   "cell_type": "code",
   "execution_count": 18,
   "metadata": {},
   "outputs": [
    {
     "data": {
      "image/png": "[encoded data removed]",
      "text/plain": [
       "<Figure size 432x288 with 1 Axes>"
      ]
     },
     "metadata": {
      "needs_background": "light"
     },
     "output_type": "display_data"
    }
   ],
   "source": [
    "# calculate misclassification error on test and training set\n",
    "trainMisclassification = calcKaggleMisclassificationError(x_train, y_train, trainBeta)\n",
    "valMisclassification = calcKaggleMisclassificationError(x_test, y_test, valBeta)\n",
    "        \n",
    "# plot misclassification curves for test and training\n",
    "plt.plot(trainMisclassification, color = \"red\")\n",
    "plt.plot(valMisclassification, color = \"purple\")\n",
    "plt.ylabel(\"Misclassification Rate\")\n",
    "plt.xlabel(\"Iterations\")\n",
    "plt.title(\"Training Data Misclassification Rates vs Iteration Counter\")\n",
    "plt.legend([\"Training\", \"Validation\"])\n",
    "plt.show()"
   ]
  },
  {
   "cell_type": "markdown",
   "metadata": {},
   "source": [
    "**Find the value of the regularization parameter λ using cross-validation; you may use scikit-learn’s built-in functions for this purpose. Train an $l_2^2$-regularized logistic regression classifier on the training set using your own fast gradient algorithm with that value of λ found by cross-validation. Plot, with different colors, the *misclassification error* on the training set and on the validation set vs iterations.**\n"
   ]
  },
  {
   "cell_type": "code",
   "execution_count": 20,
   "metadata": {},
   "outputs": [
    {
     "name": "stdout",
     "output_type": "stream",
     "text": [
      "New value for lambda:  5e-06\n"
     ]
    }
   ],
   "source": [
    "# get scikitlearn model\n",
    "model = LogisticRegression(penalty='l2', dual=False, C=1/(n*lamb), tol=epsilon, fit_intercept=False, solver=\"liblinear\")\n",
    "model = model.fit(x_train, y_train)\n",
    "\n",
    "#cross validation to find best lambda\n",
    "param_grid = {'C': [0.001, 0.05, 0.01, .5, 0.1, .5, 1, 5, 10, 50, 100, 500, 1000] }\n",
    "clf = GridSearchCV(model, param_grid)\n",
    "newLamb = 1/ n*(clf.fit(x_train, y_train).best_estimator_.get_params()['C'])\n",
    "print(\"New value for lambda: \", newLamb)"
   ]
  },
  {
   "cell_type": "code",
   "execution_count": 24,
   "metadata": {},
   "outputs": [],
   "source": [
    "# calculate initial step size for training data\n",
    "n = len(x_train)\n",
    "eq = (1/n * x_train.T.dot(x_train))\n",
    "eigVals = eigh(eq)[0]\n",
    "trainStepSize = 1 / (max(eigVals) + newLamb)\n",
    "\n",
    "# run fast gradient algorithm for training data\n",
    "newTrainBeta, newTrainObjs = fastgradalgo(x_train, y_train, stepSize = trainStepSize, targetAccuracy = epsilon, lamb = newLamb)\n",
    "\n",
    "# calculate initial step size for test data\n",
    "n = len(x_test)\n",
    "eq = (1/n * x_test.T.dot(x_test))\n",
    "eigVals = eigh(eq)[0]\n",
    "valStepSize = 1 / (max(eigVals) + newLamb)\n",
    "\n",
    "# run fast gradient algorithm for test data\n",
    "newValBeta, newValObjs = fastgradalgo(x_test, y_test, stepSize = valStepSize, targetAccuracy = epsilon, lamb = newLamb)"
   ]
  },
  {
   "cell_type": "code",
   "execution_count": 25,
   "metadata": {},
   "outputs": [
    {
     "data": {
      "image/png": "[encoded data removed]",
      "text/plain": [
       "<Figure size 432x288 with 1 Axes>"
      ]
     },
     "metadata": {
      "needs_background": "light"
     },
     "output_type": "display_data"
    }
   ],
   "source": [
    "# calculate misclassification error on training and test set\n",
    "newTrainMisclassification = calcKaggleMisclassificationError(x_train, y_train, newTrainBeta)\n",
    "newValMisclassification = calcKaggleMisclassificationError(x_test, y_test, newValBeta)\n",
    "        \n",
    "# plot misclassification curves from new lambda value\n",
    "plt.plot(newTrainMisclassification, color = \"red\")\n",
    "plt.plot(newValMisclassification, color = \"purple\")\n",
    "plt.ylabel(\"Misclassification Rate\")\n",
    "plt.xlabel(\"Iterations\")\n",
    "plt.title(\"Training Data Misclassification Rates vs Iteration Counter with Optimal Lambda\")\n",
    "plt.legend([\"Training\", \"Validation\"])\n",
    "plt.show()"
   ]
  },
  {
   "cell_type": "code",
   "execution_count": 27,
   "metadata": {},
   "outputs": [],
   "source": [
    "# create kaggle submission\n",
    "kaggleTest = np.load(os.path.join(data_dir, 'test_features.npy'))\n",
    "betaVals = newTrainBeta[-1]\n",
    "\n",
    "predictions = np.zeros((kaggleTest.shape[0], 2))\n",
    "\n",
    "for i in range(kaggleTest.shape[0]):\n",
    "    prediction = np.sum(np.dot(kaggleTest[i], betaVals))\n",
    "    if(prediction >= 0):\n",
    "        prediction = 7\n",
    "    else:\n",
    "        prediction = 4\n",
    "    predictions[i,:] = [i, prediction]\n",
    "\n",
    "predictions = pd.DataFrame({\"Id\": predictions[:,0], \"Category\": predictions[:,1]})\n",
    "predictions.to_csv(\"kaggle.csv\", sep=',')"
   ]
  }
 ],
 "metadata": {
  "kernelspec": {
   "display_name": "Python 3",
   "language": "python",
   "name": "python3"
  },
  "language_info": {
   "codemirror_mode": {
    "name": "ipython",
    "version": 3
   },
   "file_extension": ".py",
   "mimetype": "text/x-python",
   "name": "python",
   "nbconvert_exporter": "python",
   "pygments_lexer": "ipython3",
   "version": "3.7.3"
  }
 },
 "nbformat": 4,
 "nbformat_minor": 2
}
