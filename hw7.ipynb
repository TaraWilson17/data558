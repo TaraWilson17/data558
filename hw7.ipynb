{
 "cells": [
  {
   "cell_type": "markdown",
   "metadata": {},
   "source": [
    "## <center> Homework 7 </center>\n",
    "<center> Tara Wilson </center>\n",
    "<center> DATA 558 </center>\n",
    "<center> May 25, 2019 </center>"
   ]
  },
  {
   "cell_type": "code",
   "execution_count": 1,
   "metadata": {},
   "outputs": [],
   "source": [
    "# imports\n",
    "import numpy as np\n",
    "import pandas as pd\n",
    "import os\n",
    "from sklearn import preprocessing\n",
    "from sklearn.model_selection import GridSearchCV\n",
    "import matplotlib.pyplot as plt\n",
    "from sklearn.linear_model import LogisticRegression\n",
    "from sklearn.model_selection import train_test_split\n",
    "from sklearn import linear_model\n",
    "from numpy.linalg import inv\n",
    "import scipy.linalg\n",
    "import random\n",
    "import copy \n",
    "from sklearn.svm import SVC\n",
    "from sklearn.datasets import load_digits\n",
    "from sklearn.svm import LinearSVC\n",
    "from collections import Counter\n",
    "import warnings\n",
    "warnings.filterwarnings('ignore')"
   ]
  },
  {
   "cell_type": "markdown",
   "metadata": {},
   "source": [
    "### Exercise 1"
   ]
  },
  {
   "cell_type": "markdown",
   "metadata": {},
   "source": [
    "**Study Lab #7 and do exercises therin**  "
   ]
  },
  {
   "cell_type": "markdown",
   "metadata": {},
   "source": [
    "See seperate submission attachment."
   ]
  },
  {
   "cell_type": "markdown",
   "metadata": {},
   "source": [
    "### Exercise 2"
   ]
  },
  {
   "cell_type": "markdown",
   "metadata": {},
   "source": [
    "**In this problem you will implement in Python a first version of your own kernerl support vector machine with the smoothed hinge loss.**  \n",
    "\n",
    "The kernel support vector maching with the smoothed hinge loss writes as\n",
    "$min F(\\alpha) := \\frac {1}{n} \\sum_{i=1}^{n} l_{hh}(y_i,(K\\alpha)_i) + \\lambda \\alpha^T K \\alpha$    \n",
    "\n",
    "where $K(\\alpha)_i$ is the *i*th entry in the vector $K\\alpha$,  \n",
    "\n",
    "$\\begin{equation}\n",
    "l_{hh}(y, t) := \\begin{cases}\n",
    "    0 \\text{    if    } yt > 1 + h \\\\  \n",
    "    \\frac{(1+h-yt)^2}{4h} \\text{    if    } |1 - yt| \\leq h \\\\  \n",
    "    1 - yt \\text{    if    } yt < 1 - h  \n",
    "    \\end{cases}\n",
    "\\end{equation}$  \n",
    "\n",
    "and h = 0.5"
   ]
  },
  {
   "cell_type": "markdown",
   "metadata": {},
   "source": [
    "**Compute the gradient $\\nabla(\\alpha)$ of F**"
   ]
  },
  {
   "cell_type": "markdown",
   "metadata": {},
   "source": [
    "To solve for the gradient of F we will need to calculate the derivative:  \n",
    "$\\nabla F(\\alpha) = \\frac{1}{n} \\sum_{i=1}^{n} \\frac{\\partial}{\\partial \\alpha} l_{hh}(y_i, (K\\alpha)_i) + \\frac{\\partial}{\\partial \\alpha} \\lambda \\alpha^T K \\alpha$  \n",
    "\n",
    "I will break this in to two terms:  \n",
    "$g'(\\alpha) = \\frac{\\partial}{\\partial \\alpha} l_{hh}(y_i, (K\\alpha)_i)$  \n",
    "$h'(\\alpha) = \\frac{\\partial}{\\partial \\alpha} \\lambda \\alpha^T K \\alpha$ \n",
    "\n",
    "First, solving for $g'(\\alpha)$, we have several cases:  \n",
    "$\\begin{equation}\n",
    "l_{hh}(y_i, (K\\alpha)_i) := \\begin{cases}\n",
    "    0 \\text{    if    } y_i(K\\alpha)_i > 1 + h \\\\  \n",
    "    \\frac{(1+h-y_i(K\\alpha)_i)^2}{4h} \\text{    if    } |1 - y_i(K\\alpha)_i| \\leq h \\\\  \n",
    "    1 - y_i(K\\alpha)_i \\text{    if    } y_i(K\\alpha)_i < 1 - h  \n",
    "    \\end{cases}\n",
    "\\end{equation}$  \n",
    "\n",
    "We can solve for the derivative of each of these cases.  \n",
    "\n",
    "First, we know that $\\frac{\\partial}{\\partial \\alpha} 0 = 0$  \n",
    "\n",
    "Next, we solve for $\\frac{\\partial}{\\partial \\alpha} \\frac{(1+h-y_i(K\\alpha)_i)^2}{4h}$  \n",
    "We must use the division rule $\\frac {a(x)}{b(x)} = a(x)b'(x) - a'(x)b(x)$:  \n",
    "$\\frac{\\partial}{\\partial \\alpha} \\frac{(1+h-y_i(K\\alpha)_i)^2}{4h} = (1 + h - y_i(K\\alpha)_i)^2 * 0 - \\frac{1}{4h} 2(1+h - y_i(K\\alpha)_i)(-y_iK_i) = \\frac{-y_iK_i(1 + h - y_i(K\\alpha)_i)}{2h}$ \n",
    "\n",
    "Finally, we solve for $\\frac{\\partial}{\\partial \\alpha} 1 - y_i(K\\alpha)_i = -y_i K_i$  \n",
    "\n",
    "Now, solving for $h'(\\alpha)$:  \n",
    "$h'(\\alpha) = \\frac{\\partial}{\\partial \\alpha} \\lambda \\alpha^T K \\alpha$  \n",
    "We can pull out $\\lambda$ as it is a constant with respect to $\\alpha$:  \n",
    "$h'(\\beta) = \\lambda \\frac{\\partial}{\\partial \\alpha} \\alpha^T K \\alpha$  \n",
    "Applying the formula $\\frac{\\partial}{\\partial x} x^TAx = (A + A^T)x$ with $A = K$ and $x = \\alpha$ we get:  \n",
    "$h'(\\alpha) = \\lambda (K + K^T) \\alpha$  \n",
    "\n",
    "We can combine these terms and reach the final gradient:\n",
    "$\\frac{1}{n} \\sum_{i=1}^{n} l'_{hh}(y_i, K\\alpha)_i) + \\lambda (K + K^T) \\alpha$ with the following cases:  \n",
    "\n",
    "$\\begin{equation}\n",
    "l'_{hh}(y_i, (K\\alpha)_i) := \\begin{cases}\n",
    "    0 \\text{  if  } y_i(K\\alpha)_i > 1 + h \\\\  \n",
    "    \\\\\n",
    "    \\frac{-y_iK_i(1 + h - y_i(K\\alpha)_i)}{2h} \\text{  if}   |1 - y_i(K\\alpha)_i| \\leq h \\\\ \n",
    "    \\\\\n",
    "    -y_i K_i \\text{  if  } y_i(K\\alpha)_i < 1 - h  \n",
    "    \\end{cases}\n",
    "\\end{equation}$  "
   ]
  },
  {
   "cell_type": "markdown",
   "metadata": {},
   "source": [
    "**Write a function _computegram_ that computes, for any set of datapoints $x_1, . . . , x_n$, the kernel matrix K**"
   ]
  },
  {
   "cell_type": "code",
   "execution_count": 2,
   "metadata": {},
   "outputs": [],
   "source": [
    "def computePolynomialKernel(x, y, b, power):\n",
    "    \"\"\"\n",
    "    Inputs:\n",
    "        - x: first value to use for kernel calculation\n",
    "        - y: second value to use for kernel calculation\n",
    "        - b: constant for polynomial kernel calculation\n",
    "        - power: degree for polynomial kernel\n",
    "    Outputs:\n",
    "        - polynomial value for kernel\n",
    "    \"\"\"\n",
    "    return (x.T.dot(y) + b)** power"
   ]
  },
  {
   "cell_type": "code",
   "execution_count": 40,
   "metadata": {},
   "outputs": [],
   "source": [
    "def computegram(X, type, b = 1, power = 1, bandwidth = 1):\n",
    "    \"\"\"\n",
    "    Inputs:\n",
    "        - X: input data of which to calculate the kernel from\n",
    "        - type: type of kernel, \"polynomial\" for polynomial kernel, any other value for RBF kernel\n",
    "        - b: constant for polynomial kernel calculation (optional, defaults to 1)\n",
    "        - power: degree for polynomial kernel calculation (optional, defualts to 1)\n",
    "        - bandwidth: sigma for RBF kernel calculation (optional, defaults to 1)\n",
    "    Outputs:\n",
    "        - kernel matrix of specified type\n",
    "    \"\"\"\n",
    "    K = np.zeros((len(X), len(X)))\n",
    "    for i in range(len(X)):\n",
    "        for j in range(len(X)):\n",
    "            if(type == \"polynomial\"):\n",
    "                K[i,j] = computePolynomialKernel(X[i], X[j], b, power)\n",
    "            else:\n",
    "                K[i,j] = computeGaussianKernel(X[i], X[j], bandwidth)\n",
    "    return K"
   ]
  },
  {
   "cell_type": "markdown",
   "metadata": {},
   "source": [
    "**Write a function _kerneleval_ that computes, for any set of datapoints $x_1, . . . , x_n$ and a new datapoint $x^*$, the vector of kernel evaluations $[k(x_1,x^*), ..., k(x_n, x^*)]^T$**"
   ]
  },
  {
   "cell_type": "code",
   "execution_count": 51,
   "metadata": {},
   "outputs": [],
   "source": [
    "def kerneleval(X, xStar, type, b = 1, power = 1, bandwidth = 1):\n",
    "    K = np.zeros((len(X), 1))\n",
    "    for i in range(len(X)):\n",
    "        if(type == \"polynomial\"):\n",
    "            K[i] = computePolynomialKernel(X[i], xStar, b, power)\n",
    "        else:\n",
    "            K[i] = computeGaussianKernel(X[i], xStar, bandwidth)\n",
    "    return K"
   ]
  },
  {
   "cell_type": "markdown",
   "metadata": {},
   "source": [
    "**Consider the `Digits` dataset (http://scikit-learn.org/stable/modules/generated/sklearn.datasets.load_digits.html). Download and standardize the data, if you have not done so already**"
   ]
  },
  {
   "cell_type": "code",
   "execution_count": 5,
   "metadata": {},
   "outputs": [
    {
     "name": "stdout",
     "output_type": "stream",
     "text": [
      "Shape of the digits X data: (1797, 64)\n",
      "Shape of the digits y data: (1797, 1)\n"
     ]
    }
   ],
   "source": [
    "# download the data\n",
    "XDigits, yDigits = load_digits(return_X_y = True)\n",
    "yDigits = yDigits.reshape((len(yDigits), 1))\n",
    "print(\"Shape of the digits X data:\", XDigits.shape)\n",
    "print(\"Shape of the digits y data:\", yDigits.shape)"
   ]
  },
  {
   "cell_type": "code",
   "execution_count": 6,
   "metadata": {},
   "outputs": [],
   "source": [
    "# standardize X data\n",
    "scaler = preprocessing.StandardScaler().fit(XDigits)\n",
    "XDigits = scaler.transform(XDigits)"
   ]
  },
  {
   "cell_type": "code",
   "execution_count": 7,
   "metadata": {},
   "outputs": [],
   "source": [
    "# filter data down to 2 classes\n",
    "X_digits_train = np.zeros((360, XDigits.shape[1]))\n",
    "y_digits_train = np.zeros((360, 1))\n",
    "\n",
    "index = 0\n",
    "count = 0\n",
    "for i in range(0, yDigits.shape[0]):\n",
    "    if(yDigits[i] == 4 or yDigits[i] == 7):\n",
    "        count +=1\n",
    "        X_digits_train[index, :] = XDigits[i].T\n",
    "        y_digits_train[index, :] = yDigits[i]\n",
    "        index += 1\n",
    "\n",
    "# standardize y values to machine learning standard        \n",
    "y_digits_train[y_digits_train == 4] = -1\n",
    "y_digits_train[y_digits_train == 7] = 1\n",
    "\n",
    "X_digits_train, X_digits_test, y_digits_train, y_digits_test = train_test_split(X_digits_train, y_digits_train, random_state=0)"
   ]
  },
  {
   "cell_type": "markdown",
   "metadata": {},
   "source": [
    "**Write a function _mysvm_ that implements the fast gradient algorithm to train the kernel support vector machine with the smoothed hinge loss. The function takes as input the initial step-size value for the backtracking rule and a stopping criterion based on the norm of the gradient**"
   ]
  },
  {
   "cell_type": "code",
   "execution_count": 8,
   "metadata": {},
   "outputs": [],
   "source": [
    "def computegrad(K, y, alpha, lam, h):\n",
    "    \"\"\"\n",
    "    Inputs:\n",
    "    - beta: Vector to be optimized\n",
    "    - K: Gram matrix consisting of evaluations of the kernel k(x_i, x_j) for i,j=1,...,n\n",
    "    - y: Labels y_1,...,y_n corresponding to x_1,...,x_n\n",
    "    - lam: Penalty parameter lambda\n",
    "    Output:\n",
    "    - Value of the gradient at beta\n",
    "    \"\"\"\n",
    "    n = len(K)\n",
    "    summation = 0\n",
    "    for i in range(0, n):\n",
    "        iTerm = y[i]*(K[i].dot(alpha))\n",
    "        if iTerm < 1 - h:\n",
    "            summation += -y[i]*K[i]\n",
    "        elif(iTerm > 1 + h):\n",
    "            summation += 0\n",
    "        else:\n",
    "            summation += (-y[i]*K[i]*(1 + h - y[i]*K[i].dot(alpha)))/(2*h)\n",
    "    if(np.sum(summation) != 0):\n",
    "        summation = summation.reshape(summation.shape[0], 1)\n",
    "        return ((1/n) * summation + (lam * (K + K.T).dot(alpha)).reshape(summation.shape[0],1))\n",
    "    else:\n",
    "        return np.zeros((len(K),1))"
   ]
  },
  {
   "cell_type": "code",
   "execution_count": 9,
   "metadata": {},
   "outputs": [],
   "source": [
    "def computeobj(K, y, alpha, lam, h):\n",
    "    \"\"\"\n",
    "    Inputs:\n",
    "    - beta: Vector to be optimized\n",
    "    - K: Gram matrix consisting of evaluations of the kernel k(x_i, x_j) for i,j=1,...,n\n",
    "    - y: Labels y_1,...,y_n corresponding to x_1,...,x_n\n",
    "    - lam: Penalty parameter lambda\n",
    "    Output:\n",
    "    - Value of the objective function at beta\n",
    "    \"\"\"\n",
    "    n = len(K)\n",
    "    summation = 0\n",
    "    Kalpha = K.dot(alpha)\n",
    "    for i in range(0, n):\n",
    "        ka_i = Kalpha[i]\n",
    "        yt = y[i] * (ka_i)\n",
    "        sumTerm = 0\n",
    "        if(yt > 1 + h):\n",
    "            sumTerm = 0\n",
    "        elif(yt < 1 - h):\n",
    "            sumTerm = 1 - yt\n",
    "        else:\n",
    "            sumTerm = (1 + h - yt)**2/(4*h)\n",
    "        summation += sumTerm\n",
    "    return (((1/n) * summation) + lam * alpha.T.dot(K).dot(alpha))"
   ]
  },
  {
   "cell_type": "code",
   "execution_count": 10,
   "metadata": {},
   "outputs": [],
   "source": [
    "def mysvm(K, y, alpha, h, lamb, stepSize, maxIter, targetAccuracy):\n",
    "    \"\"\"\n",
    "    Implements accelerated gradient descent algorithm with backtracking for SVM kernel\n",
    "    Inputs:\n",
    "        - K: aquare kernel for a matrix of X values\n",
    "        - y: vector of associated outcomes\n",
    "        - alpha: initial point\n",
    "        - h: constant for smoothed hinge loss minimization function\n",
    "        - lamb: scalar multiplicative factor for regularization penalty      \n",
    "        - stepSize: initial step size\n",
    "        - maxIter: maximum number of iterations\n",
    "        - targetAccuracy: target accuracy value for algorithm\n",
    "    Outputs:\n",
    "        - alphas: vector of improved weights after each iteration\n",
    "        - objs: vector of objective values for each iteration\n",
    "    \"\"\"\n",
    "    theta = np.zeros((K.shape[1], 1))\n",
    "    objs = [computeobj(K, y, alpha, lamb, h)]\n",
    "    alphas = [alpha]\n",
    "    grad = computegrad(K, y, alpha, lamb, h)\n",
    "    t = 0\n",
    "    while (np.linalg.norm(grad) > targetAccuracy and t < maxIter):\n",
    "        stepSize = backtracking(K, y, alpha, stepSize, lamb, h)\n",
    "        alphaOld = copy.copy(alpha)\n",
    "        alpha = theta - stepSize * computegrad(K, y, alpha, lamb, h)\n",
    "        theta = alpha + (t/(t+3))*(alpha - alphaOld)\n",
    "        alphas.append(alpha) # saves current beta values\n",
    "        obj = computeobj(K, y, alpha, lamb, h)\n",
    "        objs.append(obj) # saves current objective value\n",
    "        grad = computegrad(K, y, alpha, lamb, h)\n",
    "        t += 1\n",
    "    return np.array(alphas), np.array(objs)"
   ]
  },
  {
   "cell_type": "code",
   "execution_count": 11,
   "metadata": {},
   "outputs": [],
   "source": [
    "def backtracking(K, y, beta, eta, lamb, h, alpha = 0.5, gamma=0.8, max_iter=500):\n",
    "    \"\"\"\n",
    "    Implements backtracking rule\n",
    "    Inputs:\n",
    "        - X: matrix of X values\n",
    "        - y: vector of associated outcomes\n",
    "        - beta: vector of beta constants\n",
    "        - eta: initial step size\n",
    "        - rho: value of rho-logistic loss parameter\n",
    "        - lambda: scalar multiplicative factor for regularization penalty\n",
    "        - alpha: constant used to define sufficinet decrease condition, default set to 0.5\n",
    "        - gamma: constant to scale step size by until condition met, default set to 0.8\n",
    "    Outputs:\n",
    "        - step size\n",
    "    \"\"\"\n",
    "    grad = computegrad(K, y, beta, lamb, h)  # calculates the gradient at current beta\n",
    "    conditionMet = False # tracks when we find the backtracked step size\n",
    "    iter = 0\n",
    "    while iter < max_iter and not conditionMet: \n",
    "        if computeobj(K, y, beta - eta*grad, lamb, h) < (computeobj(K, y, beta, lamb, h) - alpha*eta*np.linalg.norm(grad)**2):\n",
    "            conditionMet = True\n",
    "        else:\n",
    "            eta = eta * gamma \n",
    "        iter += 1\n",
    "    return eta"
   ]
  },
  {
   "cell_type": "markdown",
   "metadata": {},
   "source": [
    "**Train your kernel support vector machine with the smoothed hinge loss and the polynomial kernel of order 7 on the the `Digits` dataset, tuning the regularization parameter λ using cross-validation. The *p*th order polynomial kernel is given by $k(x, y) = (x^Ty+b)^P$. You may take b = 1.**"
   ]
  },
  {
   "cell_type": "code",
   "execution_count": 12,
   "metadata": {},
   "outputs": [
    {
     "name": "stdout",
     "output_type": "stream",
     "text": [
      "Lambda found via cross validation: 1e-05\n"
     ]
    }
   ],
   "source": [
    "#set constants\n",
    "b = 1\n",
    "power = 7\n",
    "h = 0.5\n",
    "maxIter = 5000\n",
    "epsilon = 0.0001\n",
    "initialPoint = np.zeros((len(X_digits_train), 1))\n",
    "\n",
    "# cross validation to tune lambda\n",
    "svc = SVC(C = 1, kernel = \"poly\", degree=7, coef0 = b, gamma = 1, tol = epsilon, max_iter=maxIter)\n",
    "C = [0.00001, 0.0001, 0.001, 0.01, 0.1, 1, 10, 100, 1000]\n",
    "param_grid = {'C': C}\n",
    "clf = GridSearchCV(svc, param_grid, cv=5)\n",
    "clf = clf.fit(X_digits_train, y_digits_train)\n",
    "lamb = clf.best_params_[\"C\"]\n",
    "print(\"Lambda found via cross validation:\", lamb)\n",
    "\n",
    "#calculate Kernel matrix\n",
    "K = computegram(X_digits_train, \"polynomial\", b, power)\n",
    "\n",
    "# calculate initial step size\n",
    "eta = 1 / scipy.linalg.eigh(2 / len(K) * np.dot(K, K) + 2 * lamb * K, eigvals=(len(K) - 1, len(K) - 1), eigvals_only=True)[0]\n",
    "\n",
    "alphas, objs = mysvm(K, y_digits_train, initialPoint, h, lamb, eta, maxIter, epsilon)"
   ]
  },
  {
   "cell_type": "code",
   "execution_count": 13,
   "metadata": {},
   "outputs": [
    {
     "data": {
      "image/png": "[encoded data removed]",
      "text/plain": [
       "<Figure size 432x288 with 1 Axes>"
      ]
     },
     "metadata": {
      "needs_background": "light"
     },
     "output_type": "display_data"
    }
   ],
   "source": [
    "plt.plot(objs.reshape(-1, 1), color = \"blue\")\n",
    "plt.ylabel(\"Objective values\")\n",
    "plt.xlabel(\"Iterations\")\n",
    "plt.title(\"Objective Value vs Iteration Counter\")\n",
    "plt.show()"
   ]
  },
  {
   "cell_type": "markdown",
   "metadata": {},
   "source": [
    "**Compare the performance of kernel SVMs with different kernels (polynomial kernels with different orders, Gaussian RBF with different bandwidths, etc.).**"
   ]
  },
  {
   "cell_type": "code",
   "execution_count": 14,
   "metadata": {},
   "outputs": [],
   "source": [
    "def computeGaussianKernel(x, y, bandwidth):\n",
    "    return np.exp(-(1/(2*(bandwidth**2))) * np.linalg.norm(x - y)**2)"
   ]
  },
  {
   "cell_type": "code",
   "execution_count": 15,
   "metadata": {},
   "outputs": [],
   "source": [
    "# Standardize step size for different kernels\n",
    "eta = 1\n",
    "\n",
    "K_poly_9 = computegram(X_digits_train, \"polynomial\", b=b, power=9)\n",
    "K_poly_9_alphas, K_poly_9_objs = mysvm(K_poly_9, y_digits_train, np.zeros((len(X_digits_train), 1)), h, lamb, eta, maxIter, epsilon)\n",
    "\n",
    "K_poly_1 = computegram(X_digits_train, \"polynomial\", b=b, power=1)\n",
    "K_poly_1_alphas, K_poly_1_objs = mysvm(K_poly_1, y_digits_train, np.zeros((len(X_digits_train), 1)), h, lamb, eta, maxIter, epsilon)\n",
    "\n",
    "K_poly_3 = computegram(X_digits_train, \"polynomial\", b=b, power=3)\n",
    "K_poly_3_alphas, K_poly_3_objs = mysvm(K_poly_3, y_digits_train, np.zeros((len(X_digits_train), 1)), h, lamb, eta, maxIter, epsilon)\n",
    "\n",
    "K_poly_5 = computegram(X_digits_train, \"polynomial\", b=b, power=5)\n",
    "K_poly_5_alphas, K_poly_5_objs = mysvm(K_poly_5, y_digits_train, np.zeros((len(X_digits_train), 1)), h, lamb, eta, maxIter, epsilon)\n",
    "\n",
    "K_RBF_1 = computegram(X_digits_train, \"RBF\", bandwidth=1)\n",
    "K_RBF_1_alphas, K_RBF_1_objs = mysvm(K_RBF_1, y_digits_train, np.zeros((len(X_digits_train), 1)), h, lamb, eta, maxIter, epsilon)\n",
    "\n",
    "K_RBF_3 = computegram(X_digits_train, \"RBF\", bandwidth=3)\n",
    "K_RBF_3_alphas, K_RBF_3_objs = mysvm(K_RBF_3, y_digits_train, np.zeros((len(X_digits_train), 1)), h, lamb, eta, maxIter, epsilon)\n",
    "\n",
    "K_RBF_5 = computegram(X_digits_train, \"RBF\", bandwidth=5)\n",
    "K_RBF_5_alphas, K_RBF_5_objs = mysvm(K_RBF_5, y_digits_train, np.zeros((len(X_digits_train), 1)), h, lamb, eta, maxIter, epsilon)\n",
    "\n",
    "K_RBF_7 = computegram(X_digits_train, \"RBF\", bandwidth=7)\n",
    "K_RBF_7_alphas, K_RBF_7_objs = mysvm(K_RBF_7, y_digits_train, np.zeros((len(X_digits_train), 1)), h, lamb, eta, maxIter, epsilon)\n",
    "\n",
    "K_RBF_9 = computegram(X_digits_train, \"RBF\", bandwidth=9)\n",
    "K_RBF_9_alphas, K_RBF_9_objs = mysvm(K_RBF_9, y_digits_train, np.zeros((len(X_digits_train), 1)), h, lamb, eta, maxIter, epsilon)"
   ]
  },
  {
   "cell_type": "code",
   "execution_count": 16,
   "metadata": {},
   "outputs": [
    {
     "data": {
      "image/png": "[encoded data removed]",
      "text/plain": [
       "<Figure size 432x288 with 1 Axes>"
      ]
     },
     "metadata": {
      "needs_background": "light"
     },
     "output_type": "display_data"
    }
   ],
   "source": [
    "plt.plot(K_poly_1_objs.reshape(-1, 1), color = \"red\")\n",
    "plt.plot(K_poly_3_objs.reshape(-1, 1), color = \"green\")\n",
    "plt.plot(K_poly_5_objs.reshape(-1, 1), color = \"orange\")\n",
    "plt.plot(objs.reshape(-1, 1), color = \"blue\")\n",
    "plt.plot(K_poly_9_objs.reshape(-1, 1), color = \"purple\")\n",
    "\n",
    "plt.plot(K_RBF_1_objs.reshape(-1, 1), color = \"yellow\")\n",
    "plt.plot(K_RBF_3_objs.reshape(-1, 1), color = \"pink\")\n",
    "plt.plot(K_RBF_5_objs.reshape(-1, 1), color = \"gray\")\n",
    "plt.plot(K_RBF_7_objs.reshape(-1, 1), color = \"black\")\n",
    "plt.plot(K_RBF_9_objs.reshape(-1, 1), color = \"brown\")\n",
    "\n",
    "plt.ylabel(\"Objective values\")\n",
    "plt.xlabel(\"Iterations\")\n",
    "plt.title(\"Objective Value vs Iteration Counter\")\n",
    "plt.legend([\"Poly 1\", \"Poly 3\", \"Poly 5\", \"Poly 7\", \"Poly 9\", \"RBF 1\", \"RBF 3\", \"RBF 5\", \"RBF 7\", \"RBF 9\"])\n",
    "plt.show()"
   ]
  },
  {
   "cell_type": "code",
   "execution_count": 17,
   "metadata": {},
   "outputs": [],
   "source": [
    "def misclassification_error(alpha, X_train, X_test, y_test, type, bandwidth = 1, power = 1):\n",
    "    \"\"\"\n",
    "    \n",
    "    \"\"\"\n",
    "    y_pred = []\n",
    "    for i in range(0, len(X_test)):\n",
    "        if(type == \"polynomial\"):\n",
    "            kernel = kerneleval(X_train, X_test[i], \"polynomial\", power=power)\n",
    "        else:\n",
    "            kernel = kerneleval(X_train, X_test[i], \"RBF\", bandwidth=bandwidth)\n",
    "        if(kernel.T.dot(alpha) > 0):\n",
    "            prediction = 1\n",
    "        else:\n",
    "            prediction = -1\n",
    "        y_pred.append(prediction)\n",
    "    return np.mean(np.array(y_pred).reshape(-1, 1) != y_test)"
   ]
  },
  {
   "cell_type": "code",
   "execution_count": 52,
   "metadata": {},
   "outputs": [],
   "source": [
    "K_poly_1_misclass = misclassification_error(K_poly_1_alphas[-1], X_digits_train, X_digits_test, y_digits_test, \"polynomial\", power=1)\n",
    "K_poly_3_misclass = misclassification_error(K_poly_3_alphas[-1], X_digits_train, X_digits_test, y_digits_test, \"polynomial\", power=3)\n",
    "K_poly_5_misclass = misclassification_error(K_poly_5_alphas[-1], X_digits_train, X_digits_test, y_digits_test, \"polynomial\", power=5)\n",
    "K_poly_7_misclass = misclassification_error(alphas[-1], X_digits_train, X_digits_test, y_digits_test, \"polynomial\", power=7)\n",
    "K_poly_9_misclass = misclassification_error(K_poly_9_alphas[-1], X_digits_train, X_digits_test, y_digits_test, \"polynomial\", power=9)\n",
    "K_RBF_1_misclass = misclassification_error(K_RBF_1_alphas[-1], X_digits_train, X_digits_test, y_digits_test, \"RBF\", bandwidth=1)\n",
    "K_RBF_3_misclass = misclassification_error(K_RBF_3_alphas[-1], X_digits_train, X_digits_test, y_digits_test, \"RBF\", bandwidth=3)\n",
    "K_RBF_5_misclass = misclassification_error(K_RBF_5_alphas[-1], X_digits_train, X_digits_test, y_digits_test, \"RBF\", bandwidth=5)\n",
    "K_RBF_7_misclass = misclassification_error(K_RBF_7_alphas[-1], X_digits_train, X_digits_test, y_digits_test, \"RBF\", bandwidth=7)\n",
    "K_RBF_9_misclass = misclassification_error(K_RBF_9_alphas[-1], X_digits_train, X_digits_test, y_digits_test, \"RBF\", bandwidth=9)"
   ]
  },
  {
   "cell_type": "code",
   "execution_count": 53,
   "metadata": {},
   "outputs": [
    {
     "data": {
      "text/html": [
       "<div>\n",
       "<style scoped>\n",
       "    .dataframe tbody tr th:only-of-type {\n",
       "        vertical-align: middle;\n",
       "    }\n",
       "\n",
       "    .dataframe tbody tr th {\n",
       "        vertical-align: top;\n",
       "    }\n",
       "\n",
       "    .dataframe thead th {\n",
       "        text-align: right;\n",
       "    }\n",
       "</style>\n",
       "<table border=\"1\" class=\"dataframe\">\n",
       "  <thead>\n",
       "    <tr style=\"text-align: right;\">\n",
       "      <th></th>\n",
       "      <th>Power/Bandwidth 1</th>\n",
       "      <th>Power/Bandwidth 3</th>\n",
       "      <th>Power/Bandwidth 5</th>\n",
       "      <th>Power/Bandwidth 7</th>\n",
       "      <th>Power/Bandwidth 9</th>\n",
       "    </tr>\n",
       "  </thead>\n",
       "  <tbody>\n",
       "    <tr>\n",
       "      <th>Polnomial Kenel</th>\n",
       "      <td>0.022222</td>\n",
       "      <td>0.022222</td>\n",
       "      <td>0.022222</td>\n",
       "      <td>0.133333</td>\n",
       "      <td>0.022222</td>\n",
       "    </tr>\n",
       "    <tr>\n",
       "      <th>RBF</th>\n",
       "      <td>0.011111</td>\n",
       "      <td>0.011111</td>\n",
       "      <td>0.011111</td>\n",
       "      <td>0.011111</td>\n",
       "      <td>0.000000</td>\n",
       "    </tr>\n",
       "  </tbody>\n",
       "</table>\n",
       "</div>"
      ],
      "text/plain": [
       "                 Power/Bandwidth 1  Power/Bandwidth 3  Power/Bandwidth 5  \\\n",
       "Polnomial Kenel           0.022222           0.022222           0.022222   \n",
       "RBF                       0.011111           0.011111           0.011111   \n",
       "\n",
       "                 Power/Bandwidth 7  Power/Bandwidth 9  \n",
       "Polnomial Kenel           0.133333           0.022222  \n",
       "RBF                       0.011111           0.000000  "
      ]
     },
     "metadata": {},
     "output_type": "display_data"
    }
   ],
   "source": [
    "#display misclassification rates\n",
    "df = pd.DataFrame({\"Power/Bandwidth 1\": (K_poly_1_misclass, K_RBF_1_misclass), \"Power/Bandwidth 3\": (K_poly_3_misclass, K_RBF_3_misclass),\n",
    "                \"Power/Bandwidth 5\": (K_poly_5_misclass, K_RBF_5_misclass), \"Power/Bandwidth 7\": (K_poly_7_misclass, K_RBF_7_misclass),\n",
    "                \"Power/Bandwidth 9\": (K_poly_9_misclass, K_RBF_9_misclass)})\n",
    "df.rename(index={0:\"Polnomial Kenel\", 1:\"RBF\"}, inplace = True)\n",
    "display(df)"
   ]
  },
  {
   "cell_type": "markdown",
   "metadata": {},
   "source": [
    "TALK ABOUT THIS!"
   ]
  },
  {
   "cell_type": "markdown",
   "metadata": {},
   "source": [
    "### Exercise 3: Data Competition Project"
   ]
  },
  {
   "cell_type": "markdown",
   "metadata": {},
   "source": [
    "**In this exercise, you are going to train support vector machines (SVMs) using the data competition 2 project dataset (with 100 classes). You will consider here all classes in the dataset. You may work on this exercise on your own computer first. Note, however, that you need AWS to run the experiments for this entire exercise.**"
   ]
  },
  {
   "cell_type": "code",
   "execution_count": 20,
   "metadata": {},
   "outputs": [
    {
     "name": "stdout",
     "output_type": "stream",
     "text": [
      "Dimension of X_train: (50000, 4096)\n",
      "Dimension of y_train: (50000, 1)\n",
      "Dimension of X_test: (10000, 4096)\n",
      "Dimension of y_test: (10000, 1)\n"
     ]
    }
   ],
   "source": [
    "data_dir = \"../Kaggle/data558spring2019-competition2\"\n",
    "\n",
    "X_train = np.load(os.path.join(data_dir, 'train_features.npy'))\n",
    "y_train = np.load(os.path.join(data_dir, 'train_labels.npy')).reshape(-1, 1)\n",
    "X_test = np.load(os.path.join(data_dir, 'val_features.npy'))\n",
    "y_test = np.load(os.path.join(data_dir, 'val_labels.npy')).reshape(-1, 1)\n",
    "\n",
    "kaggle = np.load(os.path.join(data_dir, 'test_features.npy'))\n",
    "\n",
    "# standardize X data\n",
    "scaler = preprocessing.StandardScaler().fit(X_train)\n",
    "X_train = scaler.transform(X_train)\n",
    "X_test = scaler.transform(X_test)\n",
    "kaggle = scaler.transform(kaggle)\n",
    "\n",
    "print(\"Dimension of X_train:\", X_train.shape)\n",
    "print(\"Dimension of y_train:\", y_train.shape)\n",
    "print(\"Dimension of X_test:\", X_test.shape)\n",
    "print(\"Dimension of y_test:\", y_test.shape)"
   ]
  },
  {
   "cell_type": "markdown",
   "metadata": {},
   "source": [
    "**In a one-vs-one fashion, for each pair of classes, train a linear SVM classifier using scikitlearn’s function `LinearSVC`, with the default value for the regularization parameter. Compute the *multi-class misclassification error* obtained using these classifiers trained\n",
    "in a one-vs-one fashion**"
   ]
  },
  {
   "cell_type": "code",
   "execution_count": 21,
   "metadata": {},
   "outputs": [],
   "source": [
    "def getData(label1, label2):\n",
    "    \"\"\"\n",
    "    Gets training and test data from kaggle dataset filtered by 2 specified labels\n",
    "    Inputs:\n",
    "        - label1: first label for filtering kaggle image dataset (0 - 99)\n",
    "        - label2: second label for filtering kaggle image dataset (0 - 99), must be different than label1\n",
    "    Outputs:\n",
    "        - X_train: filtered x values to use for model training\n",
    "        - y_train: filtered y values to use for model training\n",
    "    \"\"\"\n",
    "    #filters x training values down to rows with matching input labels\n",
    "    x_train_filtered = np.zeros((1000, X_train.shape[1]))\n",
    "    y_train_filtered = np.zeros((1000, 1))\n",
    "    index = 0\n",
    "    for i in range(y_train.shape[0]):\n",
    "        if(y_train[i] == label1 or y_train[i] == label2):\n",
    "            x_train_filtered[index, :] = X_train[i].T\n",
    "            y_train_filtered[index, :] = y_train[i]\n",
    "            index += 1\n",
    "    \n",
    "    # reset train y data to -1 and 1 to fit machine learning standards\n",
    "    y_train_filtered[y_train_filtered == label1] = -1\n",
    "    y_train_filtered[y_train_filtered == label2] = 1\n",
    "\n",
    "    # standardize x values\n",
    "    xScaler = preprocessing.StandardScaler()\n",
    "    X_train_filtered = xScaler.fit_transform(x_train_filtered)\n",
    "    \n",
    "    return X_train_filtered, y_train_filtered"
   ]
  },
  {
   "cell_type": "code",
   "execution_count": 42,
   "metadata": {
    "scrolled": true
   },
   "outputs": [],
   "source": [
    "def oneVsOneSVM(X, y, test):\n",
    "    predictions = []\n",
    "    for i in range(0,100):\n",
    "        for j in range(i + 1, 100):\n",
    "            X_train_OneVsOne, y_train_OneVsOne = getData(i, j)\n",
    "            clf = LinearSVC(random_state=0, tol=.001, max_iter=100, fit_intercept=False).fit(X_train_OneVsOne, y_train_OneVsOne)\n",
    "            prediction = clf.predict(test)\n",
    "            predictionVect = []\n",
    "            for pred in prediction:\n",
    "                if(pred == -1):\n",
    "                    predictionVect.append(i)\n",
    "                else:\n",
    "                    predictionVect.append(j)\n",
    "            predictions.append(predictionVect)\n",
    "    return predictions"
   ]
  },
  {
   "cell_type": "code",
   "execution_count": null,
   "metadata": {},
   "outputs": [],
   "source": [
    "def averagePredictions(predictions):\n",
    "    finalPredictions = []\n",
    "    for i in range(0, len(X_test)):\n",
    "        preds = []\n",
    "        for prediction in predictions:\n",
    "            if(prediction[i] != -1):\n",
    "                preds.append(prediction[i])\n",
    "        if(len(preds) > 0):\n",
    "            finalPredictionsVal.append(Counter(preds).most_common(1)[0][0])\n",
    "        else:\n",
    "            finalPredictionsVal.append(0)\n",
    "    return finalPredictions"
   ]
  },
  {
   "cell_type": "code",
   "execution_count": null,
   "metadata": {},
   "outputs": [],
   "source": [
    "def calcMultiClassMisclassification(predictions, labels):\n",
    "    misclassification = 0\n",
    "    for i in range(0, len(labels)):\n",
    "    if(labels[i] != predictions[i]):\n",
    "        misclassification += 1\n",
    "    return misclassification / len(labels)"
   ]
  },
  {
   "cell_type": "code",
   "execution_count": null,
   "metadata": {},
   "outputs": [],
   "source": [
    "predictionsValOneVsOne = oneVsOneSVM(X_train, y_train, X_test)\n",
    "yValOneVOnePredictions = averagePredictions(predictionsValOneVsOne)\n",
    "yValOneVOneMisclassification = calcMultiClassMisclassification(yValOneVOnePredictions, y_test)\n",
    "print(\"Multi-class misclassification rate for validation data set with one vs one Linear SVM \", yValOneVOneMisclassification)"
   ]
  },
  {
   "cell_type": "code",
   "execution_count": null,
   "metadata": {},
   "outputs": [],
   "source": [
    "predictionsKaggleOneVsOne = oneVsOneSVM(X_train, y_train, kaggle)\n",
    "kaggleOneVOnePredictions = averagePredictions(predictionsKaggleOneVsOne)\n",
    "\n",
    "# make csv file for Kaggle submission\n",
    "kaggleOneVOnePredictionsDF = pd.DataFrame({\"Category\": kaggleOneVOnePredictions})\n",
    "kaggleOneVOnePredictionsDF.to_csv(\"kaggleHW7ScikitOneVsOneSVM.csv\", sep=',')"
   ]
  },
  {
   "cell_type": "markdown",
   "metadata": {},
   "source": [
    "**In a one-vs-rest fashion, for each class, train a linear SVM classifier using scikit-learn’s function `LinearSVC`, with the default value for $\\lambda_c$. Compute the multi-class misclassification error obtained using these classifiers trained in a one-vs-rest fashion.**"
   ]
  },
  {
   "cell_type": "code",
   "execution_count": 41,
   "metadata": {},
   "outputs": [],
   "source": [
    "def oneVsRestSVM(X, y, test):\n",
    "    predictions = []\n",
    "    for label in np.unique(y):\n",
    "        print(label)\n",
    "        y_temp = copy.deepcopy(y)\n",
    "        y_temp[y_temp == label] = -1\n",
    "        y_temp[y_temp != -1] = 1\n",
    "        clf = LinearSVC(random_state=0, tol=1, max_iter=50, fit_intercept=False).fit(X, y_temp)\n",
    "        prediction = clf.predict(test)\n",
    "        predictionVect = []\n",
    "        for pred in prediction:\n",
    "            if(pred == -1):\n",
    "                predictionVect.append(label)\n",
    "            else:\n",
    "                predictionVect.append(-1)\n",
    "        predictions.append(predictionVect)\n",
    "    return predictions  "
   ]
  },
  {
   "cell_type": "code",
   "execution_count": null,
   "metadata": {},
   "outputs": [],
   "source": [
    "predictionsValOneVRest = oneVsRestSVM(X_train, y_train, X_test)\n",
    "yValOneVRestPredictions = averagePredictions(predictionsValOneVRest)\n",
    "yValOneVRestMisclassification = calcMultiClassMisclassification(yValOneVRestPredictions, y_test)\n",
    "print(\"Multi-class misclassification rate for validation data set with one vs rest Linear SVM \", yValOneVRestMisclassification)"
   ]
  },
  {
   "cell_type": "code",
   "execution_count": null,
   "metadata": {},
   "outputs": [],
   "source": [
    "predictionsKaggleOneVsRest = oneVsRestSVM(X_train, y_train, kaggle)\n",
    "kaggleOneVRestPredictions = averagePredictions(predictionsKaggleOneVsRest)\n",
    "\n",
    "# make csv file for Kaggle submission\n",
    "kaggleOneVRestPredictionsDF = pd.DataFrame({\"Category\": kaggleOneVRestPredictions})\n",
    "kaggleOneVRestPredictionsDF.to_csv(\"kaggleHW7ScikitOneVsRestSVM.csv\", sep=',')"
   ]
  },
  {
   "cell_type": "markdown",
   "metadata": {},
   "source": [
    "**Redo all questions above now using your own code for the linear SVMs from Exercise 1. Make to sure to run preliminary experiments to decide how to set the stopping criterion to a value that allows the experiments to complete in a reasonable amount of time.**"
   ]
  },
  {
   "cell_type": "code",
   "execution_count": 54,
   "metadata": {},
   "outputs": [],
   "source": [
    "def oneVsOneMySVM(X, y, test):\n",
    "    predictions = []\n",
    "    for i in range(0,100):\n",
    "        for j in range(i + 1, 100):\n",
    "            print(i, j)\n",
    "            X_train_OneVsOne, y_train_OneVsOne = getData(i, j)\n",
    "            K = computegram(X_train_OneVsOne, \"polynomial\", b=b, power=1)\n",
    "            alphas, objs = mysvm(K, y_train_OneVsOne, np.zeros((len(X_train_OneVsOne), 1)), 0.5, 1, 1, 1000, 0.0001)\n",
    "            label_predictions = []\n",
    "            for i in range(0, len(test)):\n",
    "                kernel = kerneleval(X_train_OneVsOne, test[i], \"polynomial\", power=1)\n",
    "                if(kernel.T.dot(alphas[-1]) > 0):\n",
    "                    prediction = -1\n",
    "                else:\n",
    "                    prediction = 1\n",
    "                label_predictions.append(prediction)\n",
    "            predictions.append(label_predictions)\n",
    "    return predictions"
   ]
  },
  {
   "cell_type": "code",
   "execution_count": null,
   "metadata": {},
   "outputs": [
    {
     "name": "stdout",
     "output_type": "stream",
     "text": [
      "0 1\n"
     ]
    }
   ],
   "source": [
    "predictionsValOneVsOneMySVM = oneVsOneMySVM(X_train, y_train, X_test)\n",
    "yValOneVOnePredictionsMySVM = averagePredictions(predictionsValOneVsOne)\n",
    "yValOneVOneMisclassificationMySVM = calcMultiClassMisclassification(yValOneVOnePredictionsMySVM, y_test)\n",
    "print(\"Multi-class misclassification rate for validation data set with one vs one Linear SVM \", yValOneVOneMisclassificationMySVM)"
   ]
  },
  {
   "cell_type": "code",
   "execution_count": null,
   "metadata": {},
   "outputs": [],
   "source": [
    "predictionsKaggleOneVsOneMySVM = oneVsOneMySVM(X_train, y_train, kaggle)\n",
    "kaggleOneVOnePredictionsMySVM = averagePredictions(predictionsKaggleOneVsOneMySVM)\n",
    "\n",
    "# make csv file for Kaggle submission\n",
    "kaggleOneVOnePredictionsDFMySVM = pd.DataFrame({\"Category\": kaggleOneVOnePredictionsMySVM})\n",
    "kaggleOneVOnePredictionsDFMySVM.to_csv(\"kaggleHW7ScikitOneVsOneMySVM.csv\", sep=',')"
   ]
  },
  {
   "cell_type": "code",
   "execution_count": 39,
   "metadata": {},
   "outputs": [
    {
     "ename": "MemoryError",
     "evalue": "",
     "output_type": "error",
     "traceback": [
      "\u001b[1;31m---------------------------------------------------------------------------\u001b[0m",
      "\u001b[1;31mMemoryError\u001b[0m                               Traceback (most recent call last)",
      "\u001b[1;32m<ipython-input-39-71e56eca4b07>\u001b[0m in \u001b[0;36m<module>\u001b[1;34m\u001b[0m\n\u001b[0;32m     19\u001b[0m     \u001b[1;32mreturn\u001b[0m \u001b[0mpredictions\u001b[0m\u001b[1;33m\u001b[0m\u001b[1;33m\u001b[0m\u001b[0m\n\u001b[0;32m     20\u001b[0m \u001b[1;33m\u001b[0m\u001b[0m\n\u001b[1;32m---> 21\u001b[1;33m \u001b[0mK_poly_val\u001b[0m \u001b[1;33m=\u001b[0m \u001b[0mcomputegram\u001b[0m\u001b[1;33m(\u001b[0m\u001b[0mX_train\u001b[0m\u001b[1;33m,\u001b[0m \u001b[1;34m\"polynomial\"\u001b[0m\u001b[1;33m,\u001b[0m \u001b[0mb\u001b[0m\u001b[1;33m=\u001b[0m\u001b[0mb\u001b[0m\u001b[1;33m,\u001b[0m \u001b[0mpower\u001b[0m\u001b[1;33m=\u001b[0m\u001b[1;36m1\u001b[0m\u001b[1;33m)\u001b[0m\u001b[1;33m\u001b[0m\u001b[1;33m\u001b[0m\u001b[0m\n\u001b[0m\u001b[0;32m     22\u001b[0m \u001b[0mK_poly_predictions\u001b[0m \u001b[1;33m=\u001b[0m \u001b[0moneVsRestSVM\u001b[0m\u001b[1;33m(\u001b[0m\u001b[0mK_poly_val\u001b[0m\u001b[1;33m,\u001b[0m \u001b[0mX_train\u001b[0m\u001b[1;33m,\u001b[0m \u001b[0my_train\u001b[0m\u001b[1;33m,\u001b[0m \u001b[0mX_test\u001b[0m\u001b[1;33m)\u001b[0m\u001b[1;33m\u001b[0m\u001b[1;33m\u001b[0m\u001b[0m\n",
      "\u001b[1;32m<ipython-input-38-fa79f6a1daea>\u001b[0m in \u001b[0;36mcomputegram\u001b[1;34m(X, type, b, power, bandwidth)\u001b[0m\n\u001b[0;32m     10\u001b[0m         \u001b[1;33m-\u001b[0m \u001b[0mkernel\u001b[0m \u001b[0mmatrix\u001b[0m \u001b[0mof\u001b[0m \u001b[0mspecified\u001b[0m \u001b[0mtype\u001b[0m\u001b[1;33m\u001b[0m\u001b[1;33m\u001b[0m\u001b[0m\n\u001b[0;32m     11\u001b[0m     \"\"\"\n\u001b[1;32m---> 12\u001b[1;33m     \u001b[0mK\u001b[0m \u001b[1;33m=\u001b[0m \u001b[0mnp\u001b[0m\u001b[1;33m.\u001b[0m\u001b[0mempty\u001b[0m\u001b[1;33m(\u001b[0m\u001b[1;33m(\u001b[0m\u001b[0mlen\u001b[0m\u001b[1;33m(\u001b[0m\u001b[0mX\u001b[0m\u001b[1;33m)\u001b[0m\u001b[1;33m,\u001b[0m \u001b[0mlen\u001b[0m\u001b[1;33m(\u001b[0m\u001b[0mX\u001b[0m\u001b[1;33m)\u001b[0m\u001b[1;33m)\u001b[0m\u001b[1;33m)\u001b[0m\u001b[1;33m\u001b[0m\u001b[1;33m\u001b[0m\u001b[0m\n\u001b[0m\u001b[0;32m     13\u001b[0m     \u001b[1;32mfor\u001b[0m \u001b[0mi\u001b[0m \u001b[1;32min\u001b[0m \u001b[0mrange\u001b[0m\u001b[1;33m(\u001b[0m\u001b[0mlen\u001b[0m\u001b[1;33m(\u001b[0m\u001b[0mX\u001b[0m\u001b[1;33m)\u001b[0m\u001b[1;33m)\u001b[0m\u001b[1;33m:\u001b[0m\u001b[1;33m\u001b[0m\u001b[1;33m\u001b[0m\u001b[0m\n\u001b[0;32m     14\u001b[0m         \u001b[1;32mfor\u001b[0m \u001b[0mj\u001b[0m \u001b[1;32min\u001b[0m \u001b[0mrange\u001b[0m\u001b[1;33m(\u001b[0m\u001b[0mlen\u001b[0m\u001b[1;33m(\u001b[0m\u001b[0mX\u001b[0m\u001b[1;33m)\u001b[0m\u001b[1;33m)\u001b[0m\u001b[1;33m:\u001b[0m\u001b[1;33m\u001b[0m\u001b[1;33m\u001b[0m\u001b[0m\n",
      "\u001b[1;31mMemoryError\u001b[0m: "
     ]
    }
   ],
   "source": [
    "def oneVsRestMySVM(X, y, test):\n",
    "    predictions = []\n",
    "    \n",
    "    K = computegram(X_train, \"polynomial\", b=b, power=1)\n",
    "    \n",
    "    for label in np.unique(y):\n",
    "        print(label)\n",
    "        y_temp = copy.deepcopy(y)\n",
    "        y_temp[y_temp == label] = -1\n",
    "        y_temp[y_temp != -1] = 1\n",
    "        alphas, objs = mysvm(K, y_temp, np.zeros((len(K), 1)), 0.5, 1, 1, 1000, 0.0001)\n",
    "        label_predictions = []\n",
    "        for i in range(0, len(test)):\n",
    "            kernel = kerneleval(X, test[i], \"polynomial\", power=1)\n",
    "            if(kernel.T.dot(alphas) > 0):\n",
    "                prediction = -1\n",
    "            else:\n",
    "                prediction = 1\n",
    "            label_predictions.append(prediction)\n",
    "        predictions.append(label_predictions)\n",
    "    return predictions"
   ]
  },
  {
   "cell_type": "code",
   "execution_count": null,
   "metadata": {},
   "outputs": [],
   "source": [
    "K_poly_predictions = oneVsRestMySVM(X_train, y_train, X_test)"
   ]
  },
  {
   "cell_type": "code",
   "execution_count": null,
   "metadata": {},
   "outputs": [],
   "source": []
  }
 ],
 "metadata": {
  "kernelspec": {
   "display_name": "Python 3",
   "language": "python",
   "name": "python3"
  },
  "language_info": {
   "codemirror_mode": {
    "name": "ipython",
    "version": 3
   },
   "file_extension": ".py",
   "mimetype": "text/x-python",
   "name": "python",
   "nbconvert_exporter": "python",
   "pygments_lexer": "ipython3",
   "version": "3.7.3"
  }
 },
 "nbformat": 4,
 "nbformat_minor": 2
}
